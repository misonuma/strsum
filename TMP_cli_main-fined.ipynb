{
 "cells": [
  {
   "cell_type": "code",
   "execution_count": 1,
   "metadata": {},
   "outputs": [],
   "source": [
    "%load_ext autoreload\n",
    "\n",
    "from IPython.display import clear_output"
   ]
  },
  {
   "cell_type": "code",
   "execution_count": 2,
   "metadata": {},
   "outputs": [],
   "source": [
    "%autoreload\n",
    "\n",
    "import os\n",
    "import sys\n",
    "import pdb\n",
    "\n",
    "import numpy as np\n",
    "import cPickle\n",
    "\n",
    "import tensorflow as tf\n",
    "\n",
    "from utils import load_data\n",
    "from model import StrSumModel\n",
    "from run import run"
   ]
  },
  {
   "cell_type": "code",
   "execution_count": 6,
   "metadata": {},
   "outputs": [],
   "source": [
    "def del_all_flags(FLAGS):\n",
    "    flags_dict = FLAGS._flags()    \n",
    "    keys_list = [keys for keys in flags_dict]    \n",
    "    for keys in keys_list:\n",
    "        FLAGS.__delattr__(keys)\n",
    "\n",
    "del_all_flags(tf.flags.FLAGS)"
   ]
  },
  {
   "cell_type": "markdown",
   "metadata": {},
   "source": [
    "# cli.py"
   ]
  },
  {
   "cell_type": "code",
   "execution_count": 7,
   "metadata": {},
   "outputs": [],
   "source": [
    "flags = tf.app.flags\n",
    "\n",
    "flags.DEFINE_string('visible_gpu', '3', 'visible_gpu')\n",
    "\n",
    "dataname = 'sports_fined.pkl'\n",
    "flags.DEFINE_string('datapath', os.path.join('data', dataname), 'datapath')\n",
    "modeldir = 'model_fined'\n",
    "modelname = 'sports'\n",
    "flags.DEFINE_string('modeldir', modeldir, 'modeldir')\n",
    "flags.DEFINE_string('modelpath', os.path.join(modeldir, 'sports'), 'modeldir')\n",
    "\n",
    "flags.DEFINE_bool('discourserank', True, 'discourserank')\n",
    "flags.DEFINE_float('damp', 0.9, 'damping factor of discourserank')\n",
    "\n",
    "flags.DEFINE_integer('epochs', 1000, 'epochs')\n",
    "flags.DEFINE_integer('log_period', 500, 'log_period')\n",
    "\n",
    "flags.DEFINE_string('opt', 'Adagrad', 'optimizer')\n",
    "flags.DEFINE_float('lr', 0.1, 'lr')\n",
    "flags.DEFINE_float('norm', 1e-4, 'norm')\n",
    "flags.DEFINE_float('grad_clip', 10.0, 'grad_clip')\n",
    "flags.DEFINE_float('keep_prob', 0.95, 'keep_prob')\n",
    "flags.DEFINE_float('length_penalty_weight', 0.0, 'length_penalty_weight')\n",
    "\n",
    "flags.DEFINE_integer('dim_hidden', 256, 'dim_output')\n",
    "flags.DEFINE_integer('dim_str', 128, 'dim_output')\n",
    "flags.DEFINE_integer('dim_sent', 384, 'dim_sent')\n",
    "\n",
    "flags.DEFINE_integer('beam_width', 10, 'beam_width')\n",
    "flags.DEFINE_integer('batch_size', 8, 'batch_size')\n",
    "\n",
    "flags.DEFINE_string('f', '', 'kernel')"
   ]
  },
  {
   "cell_type": "code",
   "execution_count": 8,
   "metadata": {},
   "outputs": [],
   "source": [
    "config = flags.FLAGS\n",
    "os.environ['CUDA_VISIBLE_DEVICES'] = config.visible_gpu"
   ]
  },
  {
   "cell_type": "markdown",
   "metadata": {},
   "source": [
    "# main.py "
   ]
  },
  {
   "cell_type": "code",
   "execution_count": 9,
   "metadata": {},
   "outputs": [],
   "source": [
    "from rouge import rouge_n, rouge_l_sentence_level"
   ]
  },
  {
   "cell_type": "code",
   "execution_count": 10,
   "metadata": {},
   "outputs": [],
   "source": [
    "PAD = '<pad>' # This has a vocab id, which is used to pad the encoder input, decoder input and target sequence\n",
    "UNK = '<unk>' # This has a vocab id, which is used to represent out-of-vocabulary words\n",
    "BOS = '<p>' # This has a vocab id, which is used at the beginning of every decoder input sequence\n",
    "EOS = '</p>' # This has a vocab id, which is used at the end of untruncated target sequences"
   ]
  },
  {
   "cell_type": "code",
   "execution_count": 13,
   "metadata": {},
   "outputs": [],
   "source": [
    "num_examples,  train_batches, dev_batches, test_batches, embedding_matrix, vocab, word_to_id = load_data(config)"
   ]
  },
  {
   "cell_type": "code",
   "execution_count": 14,
   "metadata": {},
   "outputs": [],
   "source": [
    "# config.n_embed, config.d_embed = embedding_matrix.shape\n",
    "flags.DEFINE_integer('n_embed', embedding_matrix.shape[0], 'n_embed')\n",
    "flags.DEFINE_integer('d_embed', embedding_matrix.shape[1], 'd_embed')\n",
    "# config.maximum_iterations = max([max([d._max_sent_len(None) for d in batch]) for ct, batch in dev_batches])\n",
    "maximum_iterations = max([max([d._max_sent_len(None) for d in batch]) for ct, batch in dev_batches])\n",
    "flags.DEFINE_integer('maximum_iterations', maximum_iterations, 'maximum_iterations')\n",
    "flags.DEFINE_integer('PAD_IDX', word_to_id[PAD], 'PAD_IDX')\n",
    "flags.DEFINE_integer('UNK_IDX', word_to_id[UNK], 'UNK_IDX')\n",
    "flags.DEFINE_integer('BOS_IDX', word_to_id[BOS], 'BOS_IDX')\n",
    "flags.DEFINE_integer('EOS_IDX', word_to_id[EOS], 'EOS_IDX')\n",
    "# config.PAD_IDX, config.UNK_IDX, config.BOS_IDX, config.EOS_IDX = word_to_id[config.PAD], word_to_id[config.UNK], word_to_id[config.BOS], word_to_id[config.EOS]\n",
    "# config.vocab = vocab"
   ]
  },
  {
   "cell_type": "code",
   "execution_count": 16,
   "metadata": {},
   "outputs": [],
   "source": [
    "%autoreload\n",
    "\n",
    "from model import StrSumModel\n",
    "\n",
    "model = StrSumModel(config)\n",
    "model.build()"
   ]
  },
  {
   "cell_type": "code",
   "execution_count": 17,
   "metadata": {},
   "outputs": [
    {
     "data": {
      "text/plain": [
       "array([[ 0.    ,  0.    ,  0.    , ...,  0.    ,  0.    ,  0.    ],\n",
       "       [ 0.    ,  0.    ,  0.    , ...,  0.    ,  0.    ,  0.    ],\n",
       "       [-0.201 ,  0.3212, -0.027 , ...,  0.1667, -0.0982, -0.0186],\n",
       "       ...,\n",
       "       [-1.3045,  0.3266,  0.5752, ...,  0.5891, -0.035 , -0.6161],\n",
       "       [ 0.0143,  0.353 , -0.5258, ...,  0.5506, -0.2468,  0.3779],\n",
       "       [ 0.1307,  0.0051, -0.2055, ..., -0.11  , -0.2712,  0.3053]],\n",
       "      dtype=float32)"
      ]
     },
     "execution_count": 17,
     "metadata": {},
     "output_type": "execute_result"
    }
   ],
   "source": [
    "if 'sess' in globals(): sess.close()\n",
    "sess = tf.Session()\n",
    "gvi = tf.global_variables_initializer()\n",
    "sess.run(gvi)\n",
    "sess.run(model.embeddings.assign(embedding_matrix.astype(np.float32)))"
   ]
  },
  {
   "cell_type": "code",
   "execution_count": 18,
   "metadata": {},
   "outputs": [],
   "source": [
    "def get_txt_from_idx(idxs, model, vocab):\n",
    "    return [' '.join([vocab[idx] for idx in idxs if (idx != model.config.EOS_IDX and idx != model.config.PAD_IDX)])]\n",
    "\n",
    "def get_txt_from_tokens(tokens):\n",
    "    return [' '.join([token for token in l]) for l in tokens]"
   ]
  },
  {
   "cell_type": "code",
   "execution_count": 19,
   "metadata": {},
   "outputs": [],
   "source": [
    "def get_rouge(o_tokens, r_tokens, mode):\n",
    "    if o_tokens == '': return (0.0, 0.0, 0.0)\n",
    "    rouge = rouge_l_sentence_level(o_tokens, r_tokens) if mode == 'l' else rouge_n(o_tokens, r_tokens, mode)\n",
    "    return rouge[0]\n",
    "\n",
    "def get_rouges(sess, model, batch, vocab, modes=[1, 2, 'l']):\n",
    "    feed_dict = model.get_feed_dict(batch, mode='test')\n",
    "    _output_token_idxs = sess.run(model.beam_output_token_idxs, feed_dict = feed_dict)\n",
    "    rouges = []\n",
    "    for r_d, o_d in zip(batch, _output_token_idxs):\n",
    "        o_idxs = o_d[0] if len(o_d.shape) == 2 else o_d\n",
    "        o_tokens = get_txt_from_idx(o_idxs, model, vocab)\n",
    "        r_tokens = get_txt_from_tokens([r_d.summary_tokens])\n",
    "        rouge_batch = tuple([get_rouge(o_tokens, r_tokens, mode) for mode in modes])\n",
    "        rouges.append(rouge_batch)\n",
    "    return rouges"
   ]
  },
  {
   "cell_type": "code",
   "execution_count": 20,
   "metadata": {},
   "outputs": [],
   "source": [
    "def evaluate(sess, batches, model, vocab):\n",
    "    losses, rouges = [], []\n",
    "    for ct, batch in batches:\n",
    "        feed_dict = model.get_feed_dict(batch, mode='test')\n",
    "        loss_batch = sess.run(model.loss, feed_dict = feed_dict)\n",
    "        rouge_batch = get_rouges(sess, model, batch, vocab)\n",
    "        losses += [loss_batch]\n",
    "        rouges += rouge_batch\n",
    "        \n",
    "    loss_mean = np.mean(losses)\n",
    "    rouge_mean = tuple(np.mean(rouges, 0))\n",
    "    return loss_mean, rouge_mean"
   ]
  },
  {
   "cell_type": "code",
   "execution_count": 21,
   "metadata": {},
   "outputs": [
    {
     "name": "stdout",
     "output_type": "stream",
     "text": [
      "Step: 0 | LOSS TRAIN: 11.045, DEV: 11.040, TEST: 11.040  | DEV ROUGE-1: 0.000, -2: 0.000, -L: 0.000 | TEST ROUGE: -1: 0.000, -2: 0.000, -L: 0.000\n",
      "Step: 500 | LOSS TRAIN: 7.180, DEV: 6.587, TEST: 6.595  | DEV ROUGE-1: 0.032, -2: 0.000, -L: 0.023 | TEST ROUGE: -1: 0.032, -2: 0.000, -L: 0.024\n",
      "Step: 1000 | LOSS TRAIN: 6.446, DEV: 6.214, TEST: 6.224  | DEV ROUGE-1: 0.043, -2: 0.001, -L: 0.014 | TEST ROUGE: -1: 0.028, -2: 0.001, -L: 0.009\n",
      "Step: 1500 | LOSS TRAIN: 6.158, DEV: 6.037, TEST: 6.049  | DEV ROUGE-1: 0.046, -2: 0.001, -L: 0.039 | TEST ROUGE: -1: 0.037, -2: 0.001, -L: 0.032\n",
      "Step: 2000 | LOSS TRAIN: 6.000, DEV: 5.910, TEST: 5.921  | DEV ROUGE-1: 0.046, -2: 0.002, -L: 0.039 | TEST ROUGE: -1: 0.039, -2: 0.002, -L: 0.034\n",
      "Step: 2500 | LOSS TRAIN: 5.892, DEV: 5.801, TEST: 5.820  | DEV ROUGE-1: 0.057, -2: 0.002, -L: 0.048 | TEST ROUGE: -1: 0.048, -2: 0.003, -L: 0.040\n",
      "Step: 3000 | LOSS TRAIN: 5.808, DEV: 5.776, TEST: 5.804  | DEV ROUGE-1: 0.066, -2: 0.004, -L: 0.041 | TEST ROUGE: -1: 0.080, -2: 0.005, -L: 0.051\n",
      "Step: 3500 | LOSS TRAIN: 5.751, DEV: 5.697, TEST: 5.804  | DEV ROUGE-1: 0.049, -2: 0.002, -L: 0.039 | TEST ROUGE: -1: 0.080, -2: 0.005, -L: 0.051\n",
      "Step: 4000 | LOSS TRAIN: 5.703, DEV: 5.656, TEST: 5.804  | DEV ROUGE-1: 0.058, -2: 0.002, -L: 0.047 | TEST ROUGE: -1: 0.080, -2: 0.005, -L: 0.051\n",
      "Step: 4500 | LOSS TRAIN: 5.653, DEV: 5.613, TEST: 5.648  | DEV ROUGE-1: 0.068, -2: 0.006, -L: 0.054 | TEST ROUGE: -1: 0.068, -2: 0.004, -L: 0.056\n",
      "Step: 5000 | LOSS TRAIN: 5.623, DEV: 5.570, TEST: 5.648  | DEV ROUGE-1: 0.073, -2: 0.005, -L: 0.051 | TEST ROUGE: -1: 0.068, -2: 0.004, -L: 0.056\n",
      "Step: 5500 | LOSS TRAIN: 5.596, DEV: 5.540, TEST: 5.648  | DEV ROUGE-1: 0.062, -2: 0.005, -L: 0.045 | TEST ROUGE: -1: 0.068, -2: 0.004, -L: 0.056\n",
      "Step: 6000 | LOSS TRAIN: 5.560, DEV: 5.498, TEST: 5.648  | DEV ROUGE-1: 0.066, -2: 0.003, -L: 0.043 | TEST ROUGE: -1: 0.068, -2: 0.004, -L: 0.056\n",
      "Step: 6500 | LOSS TRAIN: 5.541, DEV: 5.501, TEST: 5.648  | DEV ROUGE-1: 0.064, -2: 0.005, -L: 0.049 | TEST ROUGE: -1: 0.068, -2: 0.004, -L: 0.056\n",
      "Step: 7000 | LOSS TRAIN: 5.497, DEV: 5.453, TEST: 5.648  | DEV ROUGE-1: 0.055, -2: 0.002, -L: 0.038 | TEST ROUGE: -1: 0.068, -2: 0.004, -L: 0.056\n",
      "Step: 7500 | LOSS TRAIN: 5.470, DEV: 5.430, TEST: 5.648  | DEV ROUGE-1: 0.055, -2: 0.001, -L: 0.038 | TEST ROUGE: -1: 0.068, -2: 0.004, -L: 0.056\n",
      "Step: 8000 | LOSS TRAIN: 5.460, DEV: 5.404, TEST: 5.648  | DEV ROUGE-1: 0.053, -2: 0.006, -L: 0.039 | TEST ROUGE: -1: 0.068, -2: 0.004, -L: 0.056\n",
      "Step: 8500 | LOSS TRAIN: 5.435, DEV: 5.397, TEST: 5.436  | DEV ROUGE-1: 0.062, -2: 0.007, -L: 0.046 | TEST ROUGE: -1: 0.067, -2: 0.005, -L: 0.051\n",
      "Step: 9000 | LOSS TRAIN: 5.415, DEV: 5.375, TEST: 5.436  | DEV ROUGE-1: 0.048, -2: 0.004, -L: 0.034 | TEST ROUGE: -1: 0.067, -2: 0.005, -L: 0.051\n",
      "Step: 9500 | LOSS TRAIN: 5.395, DEV: 5.355, TEST: 5.436  | DEV ROUGE-1: 0.066, -2: 0.005, -L: 0.046 | TEST ROUGE: -1: 0.067, -2: 0.005, -L: 0.051\n",
      "Step: 10000 | LOSS TRAIN: 5.393, DEV: 5.332, TEST: 5.375  | DEV ROUGE-1: 0.068, -2: 0.007, -L: 0.046 | TEST ROUGE: -1: 0.064, -2: 0.005, -L: 0.042\n",
      "Step: 10500 | LOSS TRAIN: 5.374, DEV: 5.325, TEST: 5.375  | DEV ROUGE-1: 0.053, -2: 0.008, -L: 0.037 | TEST ROUGE: -1: 0.064, -2: 0.005, -L: 0.042\n",
      "Step: 11000 | LOSS TRAIN: 5.356, DEV: 5.299, TEST: 5.346  | DEV ROUGE-1: 0.067, -2: 0.008, -L: 0.045 | TEST ROUGE: -1: 0.061, -2: 0.007, -L: 0.039\n",
      "Step: 11500 | LOSS TRAIN: 5.337, DEV: 5.289, TEST: 5.346  | DEV ROUGE-1: 0.056, -2: 0.006, -L: 0.041 | TEST ROUGE: -1: 0.061, -2: 0.007, -L: 0.039\n",
      "Step: 12000 | LOSS TRAIN: 5.315, DEV: 5.282, TEST: 5.346  | DEV ROUGE-1: 0.056, -2: 0.007, -L: 0.040 | TEST ROUGE: -1: 0.061, -2: 0.007, -L: 0.039\n",
      "Step: 12500 | LOSS TRAIN: 5.311, DEV: 5.281, TEST: 5.331  | DEV ROUGE-1: 0.062, -2: 0.008, -L: 0.047 | TEST ROUGE: -1: 0.070, -2: 0.010, -L: 0.055\n",
      "Step: 13000 | LOSS TRAIN: 5.292, DEV: 5.257, TEST: 5.331  | DEV ROUGE-1: 0.035, -2: 0.003, -L: 0.022 | TEST ROUGE: -1: 0.070, -2: 0.010, -L: 0.055\n",
      "Step: 13500 | LOSS TRAIN: 5.284, DEV: 5.230, TEST: 5.283  | DEV ROUGE-1: 0.061, -2: 0.009, -L: 0.042 | TEST ROUGE: -1: 0.069, -2: 0.010, -L: 0.050\n",
      "Step: 14000 | LOSS TRAIN: 5.265, DEV: 5.224, TEST: 5.283  | DEV ROUGE-1: 0.068, -2: 0.007, -L: 0.051 | TEST ROUGE: -1: 0.069, -2: 0.010, -L: 0.050\n",
      "Step: 14500 | LOSS TRAIN: 5.267, DEV: 5.219, TEST: 5.263  | DEV ROUGE-1: 0.068, -2: 0.008, -L: 0.051 | TEST ROUGE: -1: 0.069, -2: 0.007, -L: 0.053\n",
      "Step: 15000 | LOSS TRAIN: 5.252, DEV: 5.206, TEST: 5.257  | DEV ROUGE-1: 0.065, -2: 0.011, -L: 0.049 | TEST ROUGE: -1: 0.069, -2: 0.008, -L: 0.052\n",
      "Step: 15500 | LOSS TRAIN: 5.248, DEV: 5.197, TEST: 5.257  | DEV ROUGE-1: 0.054, -2: 0.009, -L: 0.038 | TEST ROUGE: -1: 0.069, -2: 0.008, -L: 0.052\n",
      "Step: 16000 | LOSS TRAIN: 5.232, DEV: 5.184, TEST: 5.257  | DEV ROUGE-1: 0.059, -2: 0.008, -L: 0.045 | TEST ROUGE: -1: 0.069, -2: 0.008, -L: 0.052\n",
      "Step: 16500 | LOSS TRAIN: 5.217, DEV: 5.172, TEST: 5.257  | DEV ROUGE-1: 0.061, -2: 0.004, -L: 0.046 | TEST ROUGE: -1: 0.069, -2: 0.008, -L: 0.052\n",
      "Step: 17000 | LOSS TRAIN: 5.201, DEV: 5.164, TEST: 5.257  | DEV ROUGE-1: 0.062, -2: 0.008, -L: 0.044 | TEST ROUGE: -1: 0.069, -2: 0.008, -L: 0.052\n",
      "Step: 17500 | LOSS TRAIN: 5.208, DEV: 5.156, TEST: 5.257  | DEV ROUGE-1: 0.050, -2: 0.009, -L: 0.038 | TEST ROUGE: -1: 0.069, -2: 0.008, -L: 0.052\n",
      "Step: 18000 | LOSS TRAIN: 5.188, DEV: 5.149, TEST: 5.257  | DEV ROUGE-1: 0.066, -2: 0.009, -L: 0.049 | TEST ROUGE: -1: 0.069, -2: 0.008, -L: 0.052\n",
      "Step: 18500 | LOSS TRAIN: 5.177, DEV: 5.136, TEST: 5.257  | DEV ROUGE-1: 0.064, -2: 0.009, -L: 0.047 | TEST ROUGE: -1: 0.069, -2: 0.008, -L: 0.052\n",
      "Step: 19000 | LOSS TRAIN: 5.175, DEV: 5.139, TEST: 5.257  | DEV ROUGE-1: 0.049, -2: 0.005, -L: 0.035 | TEST ROUGE: -1: 0.069, -2: 0.008, -L: 0.052\n",
      "Step: 19500 | LOSS TRAIN: 5.179, DEV: 5.120, TEST: 5.257  | DEV ROUGE-1: 0.068, -2: 0.010, -L: 0.051 | TEST ROUGE: -1: 0.069, -2: 0.008, -L: 0.052\n",
      "Step: 20000 | LOSS TRAIN: 5.161, DEV: 5.113, TEST: 5.257  | DEV ROUGE-1: 0.056, -2: 0.008, -L: 0.040 | TEST ROUGE: -1: 0.069, -2: 0.008, -L: 0.052\n",
      "Step: 20500 | LOSS TRAIN: 5.164, DEV: 5.108, TEST: 5.165  | DEV ROUGE-1: 0.070, -2: 0.012, -L: 0.054 | TEST ROUGE: -1: 0.074, -2: 0.008, -L: 0.059\n",
      "Step: 21000 | LOSS TRAIN: 5.143, DEV: 5.098, TEST: 5.156  | DEV ROUGE-1: 0.081, -2: 0.012, -L: 0.061 | TEST ROUGE: -1: 0.094, -2: 0.009, -L: 0.072\n",
      "Step: 21500 | LOSS TRAIN: 5.127, DEV: 5.102, TEST: 5.156  | DEV ROUGE-1: 0.078, -2: 0.008, -L: 0.059 | TEST ROUGE: -1: 0.094, -2: 0.009, -L: 0.072\n",
      "Step: 22000 | LOSS TRAIN: 5.136, DEV: 5.087, TEST: 5.146  | DEV ROUGE-1: 0.090, -2: 0.014, -L: 0.066 | TEST ROUGE: -1: 0.097, -2: 0.013, -L: 0.075\n",
      "Step: 22500 | LOSS TRAIN: 5.119, DEV: 5.084, TEST: 5.146  | DEV ROUGE-1: 0.068, -2: 0.011, -L: 0.050 | TEST ROUGE: -1: 0.097, -2: 0.013, -L: 0.075\n",
      "Step: 23000 | LOSS TRAIN: 5.118, DEV: 5.069, TEST: 5.146  | DEV ROUGE-1: 0.062, -2: 0.011, -L: 0.044 | TEST ROUGE: -1: 0.097, -2: 0.013, -L: 0.075\n",
      "Step: 23500 | LOSS TRAIN: 5.101, DEV: 5.062, TEST: 5.146  | DEV ROUGE-1: 0.064, -2: 0.010, -L: 0.048 | TEST ROUGE: -1: 0.097, -2: 0.013, -L: 0.075\n",
      "Step: 24000 | LOSS TRAIN: 5.114, DEV: 5.058, TEST: 5.146  | DEV ROUGE-1: 0.070, -2: 0.012, -L: 0.051 | TEST ROUGE: -1: 0.097, -2: 0.013, -L: 0.075\n",
      "Step: 24500 | LOSS TRAIN: 5.108, DEV: 5.062, TEST: 5.146  | DEV ROUGE-1: 0.063, -2: 0.010, -L: 0.047 | TEST ROUGE: -1: 0.097, -2: 0.013, -L: 0.075\n",
      "Step: 25000 | LOSS TRAIN: 5.100, DEV: 5.051, TEST: 5.146  | DEV ROUGE-1: 0.074, -2: 0.012, -L: 0.056 | TEST ROUGE: -1: 0.097, -2: 0.013, -L: 0.075\n",
      "Step: 25500 | LOSS TRAIN: 5.088, DEV: 5.058, TEST: 5.146  | DEV ROUGE-1: 0.072, -2: 0.012, -L: 0.055 | TEST ROUGE: -1: 0.097, -2: 0.013, -L: 0.075\n",
      "Step: 26000 | LOSS TRAIN: 5.079, DEV: 5.059, TEST: 5.146  | DEV ROUGE-1: 0.068, -2: 0.012, -L: 0.052 | TEST ROUGE: -1: 0.097, -2: 0.013, -L: 0.075\n",
      "Step: 26500 | LOSS TRAIN: 5.073, DEV: 5.039, TEST: 5.146  | DEV ROUGE-1: 0.079, -2: 0.008, -L: 0.062 | TEST ROUGE: -1: 0.097, -2: 0.013, -L: 0.075\n",
      "Step: 27000 | LOSS TRAIN: 5.069, DEV: 5.029, TEST: 5.146  | DEV ROUGE-1: 0.050, -2: 0.005, -L: 0.036 | TEST ROUGE: -1: 0.097, -2: 0.013, -L: 0.075\n",
      "Step: 27500 | LOSS TRAIN: 5.066, DEV: 5.044, TEST: 5.146  | DEV ROUGE-1: 0.069, -2: 0.009, -L: 0.053 | TEST ROUGE: -1: 0.097, -2: 0.013, -L: 0.075\n",
      "Step: 28000 | LOSS TRAIN: 5.052, DEV: 5.016, TEST: 5.146  | DEV ROUGE-1: 0.062, -2: 0.010, -L: 0.046 | TEST ROUGE: -1: 0.097, -2: 0.013, -L: 0.075\n",
      "Step: 28500 | LOSS TRAIN: 5.057, DEV: 5.014, TEST: 5.146  | DEV ROUGE-1: 0.062, -2: 0.010, -L: 0.047 | TEST ROUGE: -1: 0.097, -2: 0.013, -L: 0.075\n",
      "Step: 29000 | LOSS TRAIN: 5.057, DEV: 5.044, TEST: 5.146  | DEV ROUGE-1: 0.063, -2: 0.009, -L: 0.048 | TEST ROUGE: -1: 0.097, -2: 0.013, -L: 0.075\n",
      "Step: 29500 | LOSS TRAIN: 5.052, DEV: 5.005, TEST: 5.146  | DEV ROUGE-1: 0.070, -2: 0.009, -L: 0.055 | TEST ROUGE: -1: 0.097, -2: 0.013, -L: 0.075\n",
      "Step: 30000 | LOSS TRAIN: 5.051, DEV: 4.998, TEST: 5.146  | DEV ROUGE-1: 0.063, -2: 0.006, -L: 0.045 | TEST ROUGE: -1: 0.097, -2: 0.013, -L: 0.075\n",
      "Step: 30500 | LOSS TRAIN: 5.031, DEV: 5.000, TEST: 5.146  | DEV ROUGE-1: 0.068, -2: 0.009, -L: 0.053 | TEST ROUGE: -1: 0.097, -2: 0.013, -L: 0.075\n",
      "Step: 31000 | LOSS TRAIN: 5.024, DEV: 4.988, TEST: 5.146  | DEV ROUGE-1: 0.072, -2: 0.010, -L: 0.050 | TEST ROUGE: -1: 0.097, -2: 0.013, -L: 0.075\n",
      "Step: 31500 | LOSS TRAIN: 5.030, DEV: 4.991, TEST: 5.146  | DEV ROUGE-1: 0.071, -2: 0.011, -L: 0.052 | TEST ROUGE: -1: 0.097, -2: 0.013, -L: 0.075\n",
      "Step: 32000 | LOSS TRAIN: 5.023, DEV: 4.988, TEST: 5.146  | DEV ROUGE-1: 0.075, -2: 0.012, -L: 0.052 | TEST ROUGE: -1: 0.097, -2: 0.013, -L: 0.075\n",
      "Step: 32500 | LOSS TRAIN: 5.015, DEV: 4.976, TEST: 5.146  | DEV ROUGE-1: 0.075, -2: 0.012, -L: 0.055 | TEST ROUGE: -1: 0.097, -2: 0.013, -L: 0.075\n",
      "Step: 33000 | LOSS TRAIN: 5.010, DEV: 4.972, TEST: 5.146  | DEV ROUGE-1: 0.064, -2: 0.011, -L: 0.048 | TEST ROUGE: -1: 0.097, -2: 0.013, -L: 0.075\n",
      "Step: 33500 | LOSS TRAIN: 5.020, DEV: 4.972, TEST: 5.146  | DEV ROUGE-1: 0.073, -2: 0.013, -L: 0.055 | TEST ROUGE: -1: 0.097, -2: 0.013, -L: 0.075\n",
      "Step: 34000 | LOSS TRAIN: 5.013, DEV: 4.970, TEST: 5.146  | DEV ROUGE-1: 0.067, -2: 0.009, -L: 0.047 | TEST ROUGE: -1: 0.097, -2: 0.013, -L: 0.075\n",
      "Step: 34500 | LOSS TRAIN: 5.002, DEV: 4.955, TEST: 5.146  | DEV ROUGE-1: 0.079, -2: 0.011, -L: 0.060 | TEST ROUGE: -1: 0.097, -2: 0.013, -L: 0.075\n",
      "Step: 35000 | LOSS TRAIN: 4.996, DEV: 4.953, TEST: 5.146  | DEV ROUGE-1: 0.071, -2: 0.013, -L: 0.053 | TEST ROUGE: -1: 0.097, -2: 0.013, -L: 0.075\n",
      "Step: 35500 | LOSS TRAIN: 4.979, DEV: 4.971, TEST: 5.146  | DEV ROUGE-1: 0.075, -2: 0.013, -L: 0.058 | TEST ROUGE: -1: 0.097, -2: 0.013, -L: 0.075\n",
      "Step: 36000 | LOSS TRAIN: 4.989, DEV: 4.947, TEST: 5.146  | DEV ROUGE-1: 0.075, -2: 0.012, -L: 0.056 | TEST ROUGE: -1: 0.097, -2: 0.013, -L: 0.075\n",
      "Step: 36500 | LOSS TRAIN: 4.976, DEV: 4.945, TEST: 5.146  | DEV ROUGE-1: 0.073, -2: 0.012, -L: 0.056 | TEST ROUGE: -1: 0.097, -2: 0.013, -L: 0.075\n",
      "Step: 37000 | LOSS TRAIN: 4.975, DEV: 4.936, TEST: 5.146  | DEV ROUGE-1: 0.073, -2: 0.011, -L: 0.056 | TEST ROUGE: -1: 0.097, -2: 0.013, -L: 0.075\n",
      "Step: 37500 | LOSS TRAIN: 4.964, DEV: 4.933, TEST: 5.146  | DEV ROUGE-1: 0.077, -2: 0.013, -L: 0.060 | TEST ROUGE: -1: 0.097, -2: 0.013, -L: 0.075\n",
      "Step: 38000 | LOSS TRAIN: 4.974, DEV: 4.932, TEST: 5.146  | DEV ROUGE-1: 0.070, -2: 0.012, -L: 0.054 | TEST ROUGE: -1: 0.097, -2: 0.013, -L: 0.075\n",
      "Step: 38500 | LOSS TRAIN: 4.968, DEV: 4.923, TEST: 5.146  | DEV ROUGE-1: 0.079, -2: 0.013, -L: 0.059 | TEST ROUGE: -1: 0.097, -2: 0.013, -L: 0.075\n",
      "Step: 39000 | LOSS TRAIN: 4.971, DEV: 4.932, TEST: 5.146  | DEV ROUGE-1: 0.065, -2: 0.008, -L: 0.051 | TEST ROUGE: -1: 0.097, -2: 0.013, -L: 0.075\n",
      "Step: 39500 | LOSS TRAIN: 4.957, DEV: 4.929, TEST: 5.146  | DEV ROUGE-1: 0.071, -2: 0.011, -L: 0.056 | TEST ROUGE: -1: 0.097, -2: 0.013, -L: 0.075\n",
      "Step: 40000 | LOSS TRAIN: 4.953, DEV: 4.919, TEST: 5.146  | DEV ROUGE-1: 0.072, -2: 0.008, -L: 0.056 | TEST ROUGE: -1: 0.097, -2: 0.013, -L: 0.075\n",
      "Step: 40500 | LOSS TRAIN: 4.941, DEV: 4.916, TEST: 5.146  | DEV ROUGE-1: 0.070, -2: 0.012, -L: 0.053 | TEST ROUGE: -1: 0.097, -2: 0.013, -L: 0.075\n",
      "Step: 41000 | LOSS TRAIN: 4.954, DEV: 4.909, TEST: 5.146  | DEV ROUGE-1: 0.079, -2: 0.013, -L: 0.060 | TEST ROUGE: -1: 0.097, -2: 0.013, -L: 0.075\n",
      "Step: 41500 | LOSS TRAIN: 4.939, DEV: 4.914, TEST: 5.146  | DEV ROUGE-1: 0.070, -2: 0.007, -L: 0.051 | TEST ROUGE: -1: 0.097, -2: 0.013, -L: 0.075\n",
      "Step: 42000 | LOSS TRAIN: 4.935, DEV: 4.903, TEST: 5.146  | DEV ROUGE-1: 0.078, -2: 0.013, -L: 0.060 | TEST ROUGE: -1: 0.097, -2: 0.013, -L: 0.075\n",
      "Step: 42500 | LOSS TRAIN: 4.936, DEV: 4.904, TEST: 5.146  | DEV ROUGE-1: 0.075, -2: 0.012, -L: 0.058 | TEST ROUGE: -1: 0.097, -2: 0.013, -L: 0.075\n",
      "Step: 43000 | LOSS TRAIN: 4.948, DEV: 4.900, TEST: 5.146  | DEV ROUGE-1: 0.074, -2: 0.010, -L: 0.057 | TEST ROUGE: -1: 0.097, -2: 0.013, -L: 0.075\n",
      "Step: 43500 | LOSS TRAIN: 4.936, DEV: 4.902, TEST: 5.146  | DEV ROUGE-1: 0.075, -2: 0.009, -L: 0.056 | TEST ROUGE: -1: 0.097, -2: 0.013, -L: 0.075\n",
      "Step: 44000 | LOSS TRAIN: 4.939, DEV: 4.902, TEST: 5.146  | DEV ROUGE-1: 0.072, -2: 0.010, -L: 0.055 | TEST ROUGE: -1: 0.097, -2: 0.013, -L: 0.075\n",
      "Step: 44500 | LOSS TRAIN: 4.924, DEV: 4.892, TEST: 5.146  | DEV ROUGE-1: 0.077, -2: 0.011, -L: 0.059 | TEST ROUGE: -1: 0.097, -2: 0.013, -L: 0.075\n",
      "Step: 45000 | LOSS TRAIN: 4.910, DEV: 4.890, TEST: 5.146  | DEV ROUGE-1: 0.068, -2: 0.009, -L: 0.053 | TEST ROUGE: -1: 0.097, -2: 0.013, -L: 0.075\n",
      "Step: 45500 | LOSS TRAIN: 4.928, DEV: 4.887, TEST: 5.146  | DEV ROUGE-1: 0.072, -2: 0.009, -L: 0.054 | TEST ROUGE: -1: 0.097, -2: 0.013, -L: 0.075\n",
      "Step: 46000 | LOSS TRAIN: 4.915, DEV: 4.885, TEST: 5.146  | DEV ROUGE-1: 0.078, -2: 0.015, -L: 0.058 | TEST ROUGE: -1: 0.097, -2: 0.013, -L: 0.075\n",
      "Step: 46500 | LOSS TRAIN: 4.914, DEV: 4.895, TEST: 5.146  | DEV ROUGE-1: 0.067, -2: 0.011, -L: 0.053 | TEST ROUGE: -1: 0.097, -2: 0.013, -L: 0.075\n",
      "Step: 47000 | LOSS TRAIN: 4.904, DEV: 4.881, TEST: 5.146  | DEV ROUGE-1: 0.071, -2: 0.012, -L: 0.055 | TEST ROUGE: -1: 0.097, -2: 0.013, -L: 0.075\n"
     ]
    },
    {
     "ename": "KeyboardInterrupt",
     "evalue": "",
     "output_type": "error",
     "traceback": [
      "\u001b[0;31m---------------------------------------------------------------------------\u001b[0m",
      "\u001b[0;31mKeyboardInterrupt\u001b[0m                         Traceback (most recent call last)",
      "\u001b[0;32m<ipython-input-21-0ecbc85fd908>\u001b[0m in \u001b[0;36m<module>\u001b[0;34m()\u001b[0m\n\u001b[1;32m     15\u001b[0m \u001b[0;32mfor\u001b[0m \u001b[0mct\u001b[0m\u001b[0;34m,\u001b[0m \u001b[0mbatch\u001b[0m \u001b[0;32min\u001b[0m \u001b[0mtrain_batches\u001b[0m\u001b[0;34m:\u001b[0m\u001b[0;34m\u001b[0m\u001b[0m\n\u001b[1;32m     16\u001b[0m     \u001b[0mfeed_dict\u001b[0m \u001b[0;34m=\u001b[0m \u001b[0mmodel\u001b[0m\u001b[0;34m.\u001b[0m\u001b[0mget_feed_dict\u001b[0m\u001b[0;34m(\u001b[0m\u001b[0mbatch\u001b[0m\u001b[0;34m)\u001b[0m\u001b[0;34m\u001b[0m\u001b[0m\n\u001b[0;32m---> 17\u001b[0;31m     \u001b[0m_\u001b[0m\u001b[0;34m,\u001b[0m \u001b[0mloss_train\u001b[0m \u001b[0;34m=\u001b[0m \u001b[0msess\u001b[0m\u001b[0;34m.\u001b[0m\u001b[0mrun\u001b[0m\u001b[0;34m(\u001b[0m\u001b[0;34m[\u001b[0m\u001b[0mmodel\u001b[0m\u001b[0;34m.\u001b[0m\u001b[0mopt\u001b[0m\u001b[0;34m,\u001b[0m \u001b[0mmodel\u001b[0m\u001b[0;34m.\u001b[0m\u001b[0mloss\u001b[0m\u001b[0;34m]\u001b[0m\u001b[0;34m,\u001b[0m \u001b[0mfeed_dict\u001b[0m \u001b[0;34m=\u001b[0m \u001b[0mfeed_dict\u001b[0m\u001b[0;34m)\u001b[0m\u001b[0;34m\u001b[0m\u001b[0m\n\u001b[0m\u001b[1;32m     18\u001b[0m     \u001b[0mlosses_train\u001b[0m \u001b[0;34m+=\u001b[0m \u001b[0;34m[\u001b[0m\u001b[0mloss_train\u001b[0m\u001b[0;34m]\u001b[0m\u001b[0;34m\u001b[0m\u001b[0m\n\u001b[1;32m     19\u001b[0m     \u001b[0;32mif\u001b[0m \u001b[0mct\u001b[0m\u001b[0;34m%\u001b[0m\u001b[0mconfig\u001b[0m\u001b[0;34m.\u001b[0m\u001b[0mlog_period\u001b[0m\u001b[0;34m==\u001b[0m\u001b[0;36m0\u001b[0m\u001b[0;34m:\u001b[0m\u001b[0;34m\u001b[0m\u001b[0m\n",
      "\u001b[0;32m/home/m-isonuma/.pyenv/versions/anaconda2-5.3.0/envs/py2/lib/python2.7/site-packages/tensorflow/python/client/session.pyc\u001b[0m in \u001b[0;36mrun\u001b[0;34m(self, fetches, feed_dict, options, run_metadata)\u001b[0m\n\u001b[1;32m    885\u001b[0m     \u001b[0;32mtry\u001b[0m\u001b[0;34m:\u001b[0m\u001b[0;34m\u001b[0m\u001b[0m\n\u001b[1;32m    886\u001b[0m       result = self._run(None, fetches, feed_dict, options_ptr,\n\u001b[0;32m--> 887\u001b[0;31m                          run_metadata_ptr)\n\u001b[0m\u001b[1;32m    888\u001b[0m       \u001b[0;32mif\u001b[0m \u001b[0mrun_metadata\u001b[0m\u001b[0;34m:\u001b[0m\u001b[0;34m\u001b[0m\u001b[0m\n\u001b[1;32m    889\u001b[0m         \u001b[0mproto_data\u001b[0m \u001b[0;34m=\u001b[0m \u001b[0mtf_session\u001b[0m\u001b[0;34m.\u001b[0m\u001b[0mTF_GetBuffer\u001b[0m\u001b[0;34m(\u001b[0m\u001b[0mrun_metadata_ptr\u001b[0m\u001b[0;34m)\u001b[0m\u001b[0;34m\u001b[0m\u001b[0m\n",
      "\u001b[0;32m/home/m-isonuma/.pyenv/versions/anaconda2-5.3.0/envs/py2/lib/python2.7/site-packages/tensorflow/python/client/session.pyc\u001b[0m in \u001b[0;36m_run\u001b[0;34m(self, handle, fetches, feed_dict, options, run_metadata)\u001b[0m\n\u001b[1;32m   1108\u001b[0m     \u001b[0;32mif\u001b[0m \u001b[0mfinal_fetches\u001b[0m \u001b[0;32mor\u001b[0m \u001b[0mfinal_targets\u001b[0m \u001b[0;32mor\u001b[0m \u001b[0;34m(\u001b[0m\u001b[0mhandle\u001b[0m \u001b[0;32mand\u001b[0m \u001b[0mfeed_dict_tensor\u001b[0m\u001b[0;34m)\u001b[0m\u001b[0;34m:\u001b[0m\u001b[0;34m\u001b[0m\u001b[0m\n\u001b[1;32m   1109\u001b[0m       results = self._do_run(handle, final_targets, final_fetches,\n\u001b[0;32m-> 1110\u001b[0;31m                              feed_dict_tensor, options, run_metadata)\n\u001b[0m\u001b[1;32m   1111\u001b[0m     \u001b[0;32melse\u001b[0m\u001b[0;34m:\u001b[0m\u001b[0;34m\u001b[0m\u001b[0m\n\u001b[1;32m   1112\u001b[0m       \u001b[0mresults\u001b[0m \u001b[0;34m=\u001b[0m \u001b[0;34m[\u001b[0m\u001b[0;34m]\u001b[0m\u001b[0;34m\u001b[0m\u001b[0m\n",
      "\u001b[0;32m/home/m-isonuma/.pyenv/versions/anaconda2-5.3.0/envs/py2/lib/python2.7/site-packages/tensorflow/python/client/session.pyc\u001b[0m in \u001b[0;36m_do_run\u001b[0;34m(self, handle, target_list, fetch_list, feed_dict, options, run_metadata)\u001b[0m\n\u001b[1;32m   1284\u001b[0m     \u001b[0;32mif\u001b[0m \u001b[0mhandle\u001b[0m \u001b[0;32mis\u001b[0m \u001b[0mNone\u001b[0m\u001b[0;34m:\u001b[0m\u001b[0;34m\u001b[0m\u001b[0m\n\u001b[1;32m   1285\u001b[0m       return self._do_call(_run_fn, feeds, fetches, targets, options,\n\u001b[0;32m-> 1286\u001b[0;31m                            run_metadata)\n\u001b[0m\u001b[1;32m   1287\u001b[0m     \u001b[0;32melse\u001b[0m\u001b[0;34m:\u001b[0m\u001b[0;34m\u001b[0m\u001b[0m\n\u001b[1;32m   1288\u001b[0m       \u001b[0;32mreturn\u001b[0m \u001b[0mself\u001b[0m\u001b[0;34m.\u001b[0m\u001b[0m_do_call\u001b[0m\u001b[0;34m(\u001b[0m\u001b[0m_prun_fn\u001b[0m\u001b[0;34m,\u001b[0m \u001b[0mhandle\u001b[0m\u001b[0;34m,\u001b[0m \u001b[0mfeeds\u001b[0m\u001b[0;34m,\u001b[0m \u001b[0mfetches\u001b[0m\u001b[0;34m)\u001b[0m\u001b[0;34m\u001b[0m\u001b[0m\n",
      "\u001b[0;32m/home/m-isonuma/.pyenv/versions/anaconda2-5.3.0/envs/py2/lib/python2.7/site-packages/tensorflow/python/client/session.pyc\u001b[0m in \u001b[0;36m_do_call\u001b[0;34m(self, fn, *args)\u001b[0m\n\u001b[1;32m   1290\u001b[0m   \u001b[0;32mdef\u001b[0m \u001b[0m_do_call\u001b[0m\u001b[0;34m(\u001b[0m\u001b[0mself\u001b[0m\u001b[0;34m,\u001b[0m \u001b[0mfn\u001b[0m\u001b[0;34m,\u001b[0m \u001b[0;34m*\u001b[0m\u001b[0margs\u001b[0m\u001b[0;34m)\u001b[0m\u001b[0;34m:\u001b[0m\u001b[0;34m\u001b[0m\u001b[0m\n\u001b[1;32m   1291\u001b[0m     \u001b[0;32mtry\u001b[0m\u001b[0;34m:\u001b[0m\u001b[0;34m\u001b[0m\u001b[0m\n\u001b[0;32m-> 1292\u001b[0;31m       \u001b[0;32mreturn\u001b[0m \u001b[0mfn\u001b[0m\u001b[0;34m(\u001b[0m\u001b[0;34m*\u001b[0m\u001b[0margs\u001b[0m\u001b[0;34m)\u001b[0m\u001b[0;34m\u001b[0m\u001b[0m\n\u001b[0m\u001b[1;32m   1293\u001b[0m     \u001b[0;32mexcept\u001b[0m \u001b[0merrors\u001b[0m\u001b[0;34m.\u001b[0m\u001b[0mOpError\u001b[0m \u001b[0;32mas\u001b[0m \u001b[0me\u001b[0m\u001b[0;34m:\u001b[0m\u001b[0;34m\u001b[0m\u001b[0m\n\u001b[1;32m   1294\u001b[0m       \u001b[0mmessage\u001b[0m \u001b[0;34m=\u001b[0m \u001b[0mcompat\u001b[0m\u001b[0;34m.\u001b[0m\u001b[0mas_text\u001b[0m\u001b[0;34m(\u001b[0m\u001b[0me\u001b[0m\u001b[0;34m.\u001b[0m\u001b[0mmessage\u001b[0m\u001b[0;34m)\u001b[0m\u001b[0;34m\u001b[0m\u001b[0m\n",
      "\u001b[0;32m/home/m-isonuma/.pyenv/versions/anaconda2-5.3.0/envs/py2/lib/python2.7/site-packages/tensorflow/python/client/session.pyc\u001b[0m in \u001b[0;36m_run_fn\u001b[0;34m(feed_dict, fetch_list, target_list, options, run_metadata)\u001b[0m\n\u001b[1;32m   1275\u001b[0m       \u001b[0mself\u001b[0m\u001b[0;34m.\u001b[0m\u001b[0m_extend_graph\u001b[0m\u001b[0;34m(\u001b[0m\u001b[0;34m)\u001b[0m\u001b[0;34m\u001b[0m\u001b[0m\n\u001b[1;32m   1276\u001b[0m       return self._call_tf_sessionrun(\n\u001b[0;32m-> 1277\u001b[0;31m           options, feed_dict, fetch_list, target_list, run_metadata)\n\u001b[0m\u001b[1;32m   1278\u001b[0m \u001b[0;34m\u001b[0m\u001b[0m\n\u001b[1;32m   1279\u001b[0m     \u001b[0;32mdef\u001b[0m \u001b[0m_prun_fn\u001b[0m\u001b[0;34m(\u001b[0m\u001b[0mhandle\u001b[0m\u001b[0;34m,\u001b[0m \u001b[0mfeed_dict\u001b[0m\u001b[0;34m,\u001b[0m \u001b[0mfetch_list\u001b[0m\u001b[0;34m)\u001b[0m\u001b[0;34m:\u001b[0m\u001b[0;34m\u001b[0m\u001b[0m\n",
      "\u001b[0;32m/home/m-isonuma/.pyenv/versions/anaconda2-5.3.0/envs/py2/lib/python2.7/site-packages/tensorflow/python/client/session.pyc\u001b[0m in \u001b[0;36m_call_tf_sessionrun\u001b[0;34m(self, options, feed_dict, fetch_list, target_list, run_metadata)\u001b[0m\n\u001b[1;32m   1365\u001b[0m     return tf_session.TF_SessionRun_wrapper(\n\u001b[1;32m   1366\u001b[0m         \u001b[0mself\u001b[0m\u001b[0;34m.\u001b[0m\u001b[0m_session\u001b[0m\u001b[0;34m,\u001b[0m \u001b[0moptions\u001b[0m\u001b[0;34m,\u001b[0m \u001b[0mfeed_dict\u001b[0m\u001b[0;34m,\u001b[0m \u001b[0mfetch_list\u001b[0m\u001b[0;34m,\u001b[0m \u001b[0mtarget_list\u001b[0m\u001b[0;34m,\u001b[0m\u001b[0;34m\u001b[0m\u001b[0m\n\u001b[0;32m-> 1367\u001b[0;31m         run_metadata)\n\u001b[0m\u001b[1;32m   1368\u001b[0m \u001b[0;34m\u001b[0m\u001b[0m\n\u001b[1;32m   1369\u001b[0m   \u001b[0;32mdef\u001b[0m \u001b[0m_call_tf_sessionprun\u001b[0m\u001b[0;34m(\u001b[0m\u001b[0mself\u001b[0m\u001b[0;34m,\u001b[0m \u001b[0mhandle\u001b[0m\u001b[0;34m,\u001b[0m \u001b[0mfeed_dict\u001b[0m\u001b[0;34m,\u001b[0m \u001b[0mfetch_list\u001b[0m\u001b[0;34m)\u001b[0m\u001b[0;34m:\u001b[0m\u001b[0;34m\u001b[0m\u001b[0m\n",
      "\u001b[0;31mKeyboardInterrupt\u001b[0m: "
     ]
    }
   ],
   "source": [
    "losses_train = []\n",
    "loss_log = []\n",
    "rouge_log = []\n",
    "\n",
    "saver = tf.train.Saver(max_to_keep=20)\n",
    "if len(loss_log) == 0:\n",
    "    import subprocess\n",
    "    \n",
    "    cmd_rm = 'rm -r %s' % config.modeldir\n",
    "    res = subprocess.call(cmd_rm.split())\n",
    "\n",
    "    cmd_mk = 'mkdir %s' % config.modeldir\n",
    "    res = subprocess.call(cmd_mk.split())\n",
    "\n",
    "for ct, batch in train_batches:\n",
    "    feed_dict = model.get_feed_dict(batch)\n",
    "    _, loss_train = sess.run([model.opt, model.loss], feed_dict = feed_dict)\n",
    "    losses_train += [loss_train]\n",
    "    if ct%config.log_period==0:\n",
    "        loss_train = np.mean(losses_train)\n",
    "        loss_dev, rouge_dev = evaluate(sess, dev_batches, model, vocab)\n",
    "\n",
    "        if len(rouge_log) == 0:\n",
    "            do_test = True\n",
    "        else:\n",
    "            norm = np.mean(np.array(zip(*rouge_log))[:3], 1)\n",
    "            if 0.0 in norm: norm = np.array([1, 1, 1], dtype=np.float32)\n",
    "            rouge_judge = np.sum(np.array(rouge_dev)/norm)\n",
    "            rouge_max = np.max(np.sum(np.array(zip(*rouge_log))[:3]/norm[:, np.newaxis], 0))\n",
    "            do_test = (rouge_max <= rouge_judge)\n",
    "\n",
    "        if do_test:\n",
    "            loss_test, rouge_test = evaluate(sess, test_batches, model, vocab)\n",
    "            saver.save(sess, config.modelpath, global_step=ct)\n",
    "        else:\n",
    "            loss_test = zip(*loss_log)[3][-1]\n",
    "            rouge_test = tuple(np.array(zip(*rouge_log))[3:, -1])\n",
    "\n",
    "        loss_log += [(ct, loss_train, loss_dev, loss_test)]\n",
    "        rouge_log += [rouge_dev + rouge_test]\n",
    "        losses_train = []\n",
    "\n",
    "        clear_output()\n",
    "        for i in range(len(loss_log)): \n",
    "            print 'Step: %i | LOSS TRAIN: %.3f, DEV: %.3f, TEST: %.3f ' %  loss_log[i], \n",
    "            print '| DEV ROUGE-1: %.3f, -2: %.3f, -L: %.3f | TEST ROUGE: -1: %.3f, -2: %.3f, -L: %.3f' % rouge_log[i]\n",
    "#         print_sample(sess, sample_batch, model)\n",
    "\n",
    "def print_log(sess, model, sample_batch, loss_log, rouge_log):\n",
    "    for i in range(len(loss_log)): \n",
    "        print 'Step: %i | LOSS TRAIN: %.3f, DEV: %.3f, TEST: %.3f ' %  loss_log[i], \n",
    "        print '| DEV ROUGE-1: %.3f, -2: %.3f, -L: %.3f | TEST ROUGE: -1: %.3f, -2: %.3f, -L: %.3f' % rouge_log[i]\n",
    "    print_sample(sess, sample_batch, model)"
   ]
  },
  {
   "cell_type": "code",
   "execution_count": null,
   "metadata": {},
   "outputs": [],
   "source": []
  },
  {
   "cell_type": "code",
   "execution_count": null,
   "metadata": {},
   "outputs": [],
   "source": []
  }
 ],
 "metadata": {
  "kernelspec": {
   "display_name": "py2",
   "language": "python",
   "name": "py2"
  },
  "language_info": {
   "codemirror_mode": {
    "name": "ipython",
    "version": 2
   },
   "file_extension": ".py",
   "mimetype": "text/x-python",
   "name": "python",
   "nbconvert_exporter": "python",
   "pygments_lexer": "ipython2",
   "version": "2.7.15"
  },
  "toc": {
   "base_numbering": 1,
   "nav_menu": {},
   "number_sections": true,
   "sideBar": true,
   "skip_h1_title": false,
   "title_cell": "Table of Contents",
   "title_sidebar": "Contents",
   "toc_cell": false,
   "toc_position": {},
   "toc_section_display": true,
   "toc_window_display": false
  }
 },
 "nbformat": 4,
 "nbformat_minor": 2
}
