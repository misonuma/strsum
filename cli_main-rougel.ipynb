{
 "cells": [
  {
   "cell_type": "code",
   "execution_count": 1,
   "metadata": {},
   "outputs": [],
   "source": [
    "%load_ext autoreload\n",
    "\n",
    "from IPython.display import clear_output"
   ]
  },
  {
   "cell_type": "code",
   "execution_count": 2,
   "metadata": {},
   "outputs": [],
   "source": [
    "%autoreload\n",
    "\n",
    "import os\n",
    "import sys\n",
    "import pdb\n",
    "\n",
    "import logging\n",
    "import numpy as np\n",
    "import cPickle\n",
    "import codecs\n",
    "import itertools\n",
    "\n",
    "import tensorflow as tf\n",
    "import pyrouge\n",
    "\n",
    "from data_structure import load_data\n",
    "from model import StrSumModel\n",
    "from run import run\n",
    "from rouge import rouge_n, rouge_l_sentence_level"
   ]
  },
  {
   "cell_type": "code",
   "execution_count": 3,
   "metadata": {},
   "outputs": [],
   "source": [
    "def del_all_flags(FLAGS):\n",
    "    flags_dict = FLAGS._flags()    \n",
    "    keys_list = [keys for keys in flags_dict]    \n",
    "    for keys in keys_list:\n",
    "        FLAGS.__delattr__(keys)\n",
    "\n",
    "del_all_flags(tf.flags.FLAGS)"
   ]
  },
  {
   "cell_type": "markdown",
   "metadata": {},
   "source": [
    "# cli.py"
   ]
  },
  {
   "cell_type": "code",
   "execution_count": 4,
   "metadata": {},
   "outputs": [],
   "source": [
    "PAD = '<pad>' # This has a vocab id, which is used to pad the encoder input, decoder input and target sequence\n",
    "UNK = '<unk>' # This has a vocab id, which is used to represent out-of-vocabulary words\n",
    "BOS = '<p>' # This has a vocab id, which is used at the beginning of every decoder input sequence\n",
    "EOS = '</p>' # This has a vocab id, which is used at the end of untruncated target sequences"
   ]
  },
  {
   "cell_type": "code",
   "execution_count": 5,
   "metadata": {},
   "outputs": [],
   "source": [
    "flags = tf.app.flags\n",
    "config = flags.FLAGS\n",
    "\n",
    "flags.DEFINE_string('gpu', '2', 'visible gpu')\n",
    "\n",
    "flags.DEFINE_string('mode', 'train', 'set train or eval')\n",
    "\n",
    "flags.DEFINE_string('datadir', 'data', 'datadir')\n",
    "flags.DEFINE_string('dataname', 'sports_fined.pkl', 'dataname')\n",
    "flags.DEFINE_string('modeldir', 'model_rougel', 'modeldir')\n",
    "flags.DEFINE_string('modelname', 'sports', 'modelname')\n",
    "\n",
    "flags.DEFINE_bool('discourserank', True, 'discourserank')\n",
    "flags.DEFINE_float('damp', 0.9, 'damping factor of discourserank')\n",
    "\n",
    "flags.DEFINE_integer('epochs', 10, 'epochs')\n",
    "flags.DEFINE_integer('batch_size', 8, 'batch_size')\n",
    "flags.DEFINE_integer('log_period', 500, 'log_period')\n",
    "\n",
    "flags.DEFINE_string('opt', 'Adagrad', 'optimizer')\n",
    "flags.DEFINE_float('lr', 0.1, 'lr')\n",
    "flags.DEFINE_float('norm', 1e-4, 'norm')\n",
    "flags.DEFINE_float('grad_clip', 10.0, 'grad_clip')\n",
    "flags.DEFINE_float('keep_prob', 0.95, 'keep_prob')\n",
    "flags.DEFINE_integer('beam_width', 10, 'beam_width')\n",
    "flags.DEFINE_float('length_penalty_weight', 0.0, 'length_penalty_weight')\n",
    "\n",
    "flags.DEFINE_integer('dim_hidden', 256, 'dim_output')\n",
    "flags.DEFINE_integer('dim_str', 128, 'dim_output')\n",
    "flags.DEFINE_integer('dim_sent', 384, 'dim_sent')\n",
    "\n",
    "# for evaluation\n",
    "flags.DEFINE_string('refdir', 'ref', 'refdir')\n",
    "flags.DEFINE_string('outdir', 'out', 'outdir')\n",
    "\n",
    "\n",
    "flags.DEFINE_string('f', '', 'kernel')"
   ]
  },
  {
   "cell_type": "code",
   "execution_count": 6,
   "metadata": {},
   "outputs": [],
   "source": [
    "os.environ['CUDA_VISIBLE_DEVICES'] = config.gpu"
   ]
  },
  {
   "cell_type": "code",
   "execution_count": 7,
   "metadata": {},
   "outputs": [
    {
     "name": "stdout",
     "output_type": "stream",
     "text": [
      "Number of train examples: 37445\n"
     ]
    }
   ],
   "source": [
    "train_batches, dev_batches, test_batches, embedding_matrix, vocab, word_to_id  = load_data(config)"
   ]
  },
  {
   "cell_type": "code",
   "execution_count": 8,
   "metadata": {},
   "outputs": [],
   "source": [
    "n_embed, d_embed = embedding_matrix.shape\n",
    "flags.DEFINE_integer('n_embed', n_embed, 'n_embed')\n",
    "flags.DEFINE_integer('d_embed', d_embed, 'd_embed')\n",
    "\n",
    "maximum_iterations = max([max([d._max_sent_len(None) for d in batch]) for ct, batch in dev_batches])\n",
    "flags.DEFINE_integer('maximum_iterations', maximum_iterations, 'maximum_iterations')\n",
    "flags.DEFINE_integer('PAD_IDX', word_to_id[PAD], 'PAD_IDX')\n",
    "flags.DEFINE_integer('UNK_IDX', word_to_id[UNK], 'UNK_IDX')\n",
    "flags.DEFINE_integer('BOS_IDX', word_to_id[BOS], 'BOS_IDX')\n",
    "flags.DEFINE_integer('EOS_IDX', word_to_id[EOS], 'EOS_IDX')"
   ]
  },
  {
   "cell_type": "markdown",
   "metadata": {},
   "source": [
    "# train.py "
   ]
  },
  {
   "cell_type": "code",
   "execution_count": 9,
   "metadata": {},
   "outputs": [],
   "source": [
    "PAD = '<pad>' # This has a vocab id, which is used to pad the encoder input, decoder input and target sequence\n",
    "UNK = '<unk>' # This has a vocab id, which is used to represent out-of-vocabulary words\n",
    "BOS = '<p>' # This has a vocab id, which is used at the beginning of every decoder input sequence\n",
    "EOS = '</p>' # This has a vocab id, which is used at the end of untruncated target sequences"
   ]
  },
  {
   "cell_type": "code",
   "execution_count": 10,
   "metadata": {},
   "outputs": [],
   "source": [
    "%autoreload\n",
    "\n",
    "from model import StrSumModel\n",
    "\n",
    "model = StrSumModel(config)\n",
    "model.build()"
   ]
  },
  {
   "cell_type": "code",
   "execution_count": 11,
   "metadata": {},
   "outputs": [
    {
     "data": {
      "text/plain": [
       "array([[ 0.    ,  0.    ,  0.    , ...,  0.    ,  0.    ,  0.    ],\n",
       "       [ 0.    ,  0.    ,  0.    , ...,  0.    ,  0.    ,  0.    ],\n",
       "       [-0.201 ,  0.3212, -0.027 , ...,  0.1667, -0.0982, -0.0186],\n",
       "       ...,\n",
       "       [-1.3045,  0.3266,  0.5752, ...,  0.5891, -0.035 , -0.6161],\n",
       "       [ 0.0143,  0.353 , -0.5258, ...,  0.5506, -0.2468,  0.3779],\n",
       "       [ 0.1307,  0.0051, -0.2055, ..., -0.11  , -0.2712,  0.3053]],\n",
       "      dtype=float32)"
      ]
     },
     "execution_count": 11,
     "metadata": {},
     "output_type": "execute_result"
    }
   ],
   "source": [
    "if 'sess' in globals(): sess.close()\n",
    "sess = tf.Session()\n",
    "gvi = tf.global_variables_initializer()\n",
    "sess.run(gvi)\n",
    "sess.run(model.embeddings.assign(embedding_matrix.astype(np.float32)))"
   ]
  },
  {
   "cell_type": "code",
   "execution_count": 12,
   "metadata": {},
   "outputs": [],
   "source": [
    "# def get_txt_from_idx(idxs, model, vocab):\n",
    "#     return [' '.join([vocab[idx] for idx in idxs if (idx != model.config.EOS_IDX and idx != model.config.PAD_IDX)])]\n",
    "\n",
    "def get_txt_from_idx(idxs, model, vocab):\n",
    "    tokens = []\n",
    "    for idx in idxs:\n",
    "        if idx == model.config.EOS_IDX: break\n",
    "        tokens.append(vocab[idx])\n",
    "    sent = [' '.join(tokens)]\n",
    "    return sent\n",
    "\n",
    "def get_txt_from_tokens(tokens):\n",
    "    return [' '.join([token for token in l]) for l in tokens]\n",
    "\n",
    "def get_rouges(sess, model, batch, vocab, modes=[1, 2, 'l']):\n",
    "    feed_dict = model.get_feed_dict(batch, mode='test')\n",
    "    batch_root_token_idxs = sess.run(model.root_token_idxs, feed_dict = feed_dict)\n",
    "    rouges = []\n",
    "    for instance, root_token_idxs in zip(batch, batch_root_token_idxs):\n",
    "        out_tokens = get_txt_from_idx(root_token_idxs, model, vocab)\n",
    "        ref_tokens = get_txt_from_tokens([instance.summary_tokens])\n",
    "        \n",
    "        rouge_1_f1 = rouge_n(out_tokens, ref_tokens, 1)[0]\n",
    "        rouge_2_f1 = rouge_n(out_tokens, ref_tokens, 2)[0]\n",
    "        rouge_l_f1 = rouge_l_sentence_level(out_tokens, ref_tokens)[0]\n",
    "        \n",
    "        rouge_batch = [rouge_1_f1, rouge_2_f1, rouge_l_f1]\n",
    "        rouges.append(rouge_batch)\n",
    "    return rouges"
   ]
  },
  {
   "cell_type": "code",
   "execution_count": 13,
   "metadata": {},
   "outputs": [],
   "source": [
    "def evaluate(sess, batches, model, vocab):\n",
    "    losses, rouges = [], []\n",
    "    for ct, batch in batches:\n",
    "        feed_dict = model.get_feed_dict(batch, mode='test')\n",
    "        loss_batch = sess.run(model.loss, feed_dict = feed_dict)\n",
    "        rouge_batch = get_rouges(sess, model, batch, vocab)\n",
    "        losses += [loss_batch]\n",
    "        rouges += rouge_batch\n",
    "        \n",
    "    loss_mean = np.mean(losses)\n",
    "    rouge_mean = tuple(np.mean(rouges, 0))\n",
    "    return loss_mean, rouge_mean"
   ]
  },
  {
   "cell_type": "code",
   "execution_count": 14,
   "metadata": {
    "scrolled": false
   },
   "outputs": [
    {
     "name": "stdout",
     "output_type": "stream",
     "text": [
      "Step: 0 | LOSS TRAIN: 11.045, DEV: 11.040, TEST: 11.040  | DEV ROUGE-1: 0.000, -2: 0.000, -L: 0.000 | TEST ROUGE: -1: 0.000, -2: 0.000, -L: 0.000\n",
      "Step: 500 | LOSS TRAIN: 7.171, DEV: 6.588, TEST: 6.598  | DEV ROUGE-1: 0.029, -2: 0.001, -L: 0.023 | TEST ROUGE: -1: 0.025, -2: 0.001, -L: 0.020\n",
      "Step: 1000 | LOSS TRAIN: 6.420, DEV: 6.201, TEST: 6.598  | DEV ROUGE-1: 0.032, -2: 0.001, -L: 0.006 | TEST ROUGE: -1: 0.025, -2: 0.001, -L: 0.020\n",
      "Step: 1500 | LOSS TRAIN: 6.138, DEV: 6.005, TEST: 6.012  | DEV ROUGE-1: 0.075, -2: 0.004, -L: 0.059 | TEST ROUGE: -1: 0.079, -2: 0.004, -L: 0.064\n",
      "Step: 2000 | LOSS TRAIN: 5.985, DEV: 5.893, TEST: 6.012  | DEV ROUGE-1: 0.066, -2: 0.003, -L: 0.054 | TEST ROUGE: -1: 0.079, -2: 0.004, -L: 0.064\n",
      "Step: 2500 | LOSS TRAIN: 5.880, DEV: 5.794, TEST: 6.012  | DEV ROUGE-1: 0.059, -2: 0.002, -L: 0.045 | TEST ROUGE: -1: 0.079, -2: 0.004, -L: 0.064\n",
      "Step: 3000 | LOSS TRAIN: 5.799, DEV: 5.743, TEST: 6.012  | DEV ROUGE-1: 0.070, -2: 0.005, -L: 0.048 | TEST ROUGE: -1: 0.079, -2: 0.004, -L: 0.064\n",
      "Step: 3500 | LOSS TRAIN: 5.751, DEV: 5.683, TEST: 6.012  | DEV ROUGE-1: 0.062, -2: 0.002, -L: 0.047 | TEST ROUGE: -1: 0.079, -2: 0.004, -L: 0.064\n",
      "Step: 4000 | LOSS TRAIN: 5.691, DEV: 5.689, TEST: 6.012  | DEV ROUGE-1: 0.058, -2: 0.001, -L: 0.044 | TEST ROUGE: -1: 0.079, -2: 0.004, -L: 0.064\n",
      "Step: 4500 | LOSS TRAIN: 5.650, DEV: 5.593, TEST: 6.012  | DEV ROUGE-1: 0.062, -2: 0.003, -L: 0.042 | TEST ROUGE: -1: 0.079, -2: 0.004, -L: 0.064\n",
      "Step: 5000 | LOSS TRAIN: 5.617, DEV: 5.559, TEST: 6.012  | DEV ROUGE-1: 0.063, -2: 0.004, -L: 0.044 | TEST ROUGE: -1: 0.079, -2: 0.004, -L: 0.064\n",
      "Step: 5500 | LOSS TRAIN: 5.576, DEV: 5.554, TEST: 6.012  | DEV ROUGE-1: 0.062, -2: 0.003, -L: 0.046 | TEST ROUGE: -1: 0.079, -2: 0.004, -L: 0.064\n",
      "Step: 6000 | LOSS TRAIN: 5.556, DEV: 5.506, TEST: 6.012  | DEV ROUGE-1: 0.051, -2: 0.003, -L: 0.037 | TEST ROUGE: -1: 0.079, -2: 0.004, -L: 0.064\n",
      "Step: 6500 | LOSS TRAIN: 5.527, DEV: 5.478, TEST: 6.012  | DEV ROUGE-1: 0.067, -2: 0.003, -L: 0.050 | TEST ROUGE: -1: 0.079, -2: 0.004, -L: 0.064\n",
      "Step: 7000 | LOSS TRAIN: 5.511, DEV: 5.454, TEST: 6.012  | DEV ROUGE-1: 0.070, -2: 0.007, -L: 0.050 | TEST ROUGE: -1: 0.079, -2: 0.004, -L: 0.064\n",
      "Step: 7500 | LOSS TRAIN: 5.467, DEV: 5.426, TEST: 6.012  | DEV ROUGE-1: 0.074, -2: 0.006, -L: 0.048 | TEST ROUGE: -1: 0.079, -2: 0.004, -L: 0.064\n",
      "Step: 8000 | LOSS TRAIN: 5.450, DEV: 5.399, TEST: 6.012  | DEV ROUGE-1: 0.062, -2: 0.005, -L: 0.043 | TEST ROUGE: -1: 0.079, -2: 0.004, -L: 0.064\n",
      "Step: 8500 | LOSS TRAIN: 5.439, DEV: 5.396, TEST: 6.012  | DEV ROUGE-1: 0.070, -2: 0.006, -L: 0.050 | TEST ROUGE: -1: 0.079, -2: 0.004, -L: 0.064\n",
      "Step: 9000 | LOSS TRAIN: 5.392, DEV: 5.355, TEST: 6.012  | DEV ROUGE-1: 0.067, -2: 0.008, -L: 0.048 | TEST ROUGE: -1: 0.079, -2: 0.004, -L: 0.064\n",
      "Step: 9500 | LOSS TRAIN: 5.398, DEV: 5.342, TEST: 6.012  | DEV ROUGE-1: 0.044, -2: 0.006, -L: 0.031 | TEST ROUGE: -1: 0.079, -2: 0.004, -L: 0.064\n",
      "Step: 10000 | LOSS TRAIN: 5.379, DEV: 5.328, TEST: 6.012  | DEV ROUGE-1: 0.074, -2: 0.008, -L: 0.056 | TEST ROUGE: -1: 0.079, -2: 0.004, -L: 0.064\n",
      "Step: 10500 | LOSS TRAIN: 5.362, DEV: 5.315, TEST: 6.012  | DEV ROUGE-1: 0.064, -2: 0.007, -L: 0.048 | TEST ROUGE: -1: 0.079, -2: 0.004, -L: 0.064\n",
      "Step: 11000 | LOSS TRAIN: 5.348, DEV: 5.298, TEST: 6.012  | DEV ROUGE-1: 0.053, -2: 0.006, -L: 0.038 | TEST ROUGE: -1: 0.079, -2: 0.004, -L: 0.064\n",
      "Step: 11500 | LOSS TRAIN: 5.342, DEV: 5.279, TEST: 6.012  | DEV ROUGE-1: 0.066, -2: 0.007, -L: 0.047 | TEST ROUGE: -1: 0.079, -2: 0.004, -L: 0.064\n",
      "Step: 12000 | LOSS TRAIN: 5.316, DEV: 5.264, TEST: 6.012  | DEV ROUGE-1: 0.074, -2: 0.007, -L: 0.051 | TEST ROUGE: -1: 0.079, -2: 0.004, -L: 0.064\n",
      "Step: 12500 | LOSS TRAIN: 5.296, DEV: 5.264, TEST: 6.012  | DEV ROUGE-1: 0.052, -2: 0.005, -L: 0.037 | TEST ROUGE: -1: 0.079, -2: 0.004, -L: 0.064\n",
      "Step: 13000 | LOSS TRAIN: 5.297, DEV: 5.248, TEST: 6.012  | DEV ROUGE-1: 0.076, -2: 0.006, -L: 0.058 | TEST ROUGE: -1: 0.079, -2: 0.004, -L: 0.064\n",
      "Step: 13500 | LOSS TRAIN: 5.266, DEV: 5.256, TEST: 6.012  | DEV ROUGE-1: 0.073, -2: 0.010, -L: 0.055 | TEST ROUGE: -1: 0.079, -2: 0.004, -L: 0.064\n",
      "Step: 14000 | LOSS TRAIN: 5.273, DEV: 5.219, TEST: 6.012  | DEV ROUGE-1: 0.067, -2: 0.007, -L: 0.049 | TEST ROUGE: -1: 0.079, -2: 0.004, -L: 0.064\n",
      "Step: 14500 | LOSS TRAIN: 5.254, DEV: 5.207, TEST: 6.012  | DEV ROUGE-1: 0.050, -2: 0.009, -L: 0.038 | TEST ROUGE: -1: 0.079, -2: 0.004, -L: 0.064\n",
      "Step: 15000 | LOSS TRAIN: 5.243, DEV: 5.199, TEST: 6.012  | DEV ROUGE-1: 0.071, -2: 0.008, -L: 0.052 | TEST ROUGE: -1: 0.079, -2: 0.004, -L: 0.064\n",
      "Step: 15500 | LOSS TRAIN: 5.246, DEV: 5.192, TEST: 6.012  | DEV ROUGE-1: 0.055, -2: 0.008, -L: 0.040 | TEST ROUGE: -1: 0.079, -2: 0.004, -L: 0.064\n",
      "Step: 16000 | LOSS TRAIN: 5.230, DEV: 5.199, TEST: 6.012  | DEV ROUGE-1: 0.061, -2: 0.011, -L: 0.047 | TEST ROUGE: -1: 0.079, -2: 0.004, -L: 0.064\n",
      "Step: 16500 | LOSS TRAIN: 5.224, DEV: 5.179, TEST: 6.012  | DEV ROUGE-1: 0.069, -2: 0.012, -L: 0.052 | TEST ROUGE: -1: 0.079, -2: 0.004, -L: 0.064\n",
      "Step: 17000 | LOSS TRAIN: 5.196, DEV: 5.165, TEST: 6.012  | DEV ROUGE-1: 0.069, -2: 0.010, -L: 0.052 | TEST ROUGE: -1: 0.079, -2: 0.004, -L: 0.064\n",
      "Step: 17500 | LOSS TRAIN: 5.200, DEV: 5.154, TEST: 6.012  | DEV ROUGE-1: 0.056, -2: 0.009, -L: 0.042 | TEST ROUGE: -1: 0.079, -2: 0.004, -L: 0.064\n",
      "Step: 18000 | LOSS TRAIN: 5.195, DEV: 5.150, TEST: 6.012  | DEV ROUGE-1: 0.062, -2: 0.008, -L: 0.048 | TEST ROUGE: -1: 0.079, -2: 0.004, -L: 0.064\n",
      "Step: 18500 | LOSS TRAIN: 5.166, DEV: 5.140, TEST: 6.012  | DEV ROUGE-1: 0.063, -2: 0.006, -L: 0.048 | TEST ROUGE: -1: 0.079, -2: 0.004, -L: 0.064\n",
      "Step: 19000 | LOSS TRAIN: 5.175, DEV: 5.136, TEST: 6.012  | DEV ROUGE-1: 0.060, -2: 0.010, -L: 0.045 | TEST ROUGE: -1: 0.079, -2: 0.004, -L: 0.064\n",
      "Step: 19500 | LOSS TRAIN: 5.168, DEV: 5.123, TEST: 6.012  | DEV ROUGE-1: 0.045, -2: 0.006, -L: 0.030 | TEST ROUGE: -1: 0.079, -2: 0.004, -L: 0.064\n",
      "Step: 20000 | LOSS TRAIN: 5.163, DEV: 5.125, TEST: 6.012  | DEV ROUGE-1: 0.052, -2: 0.006, -L: 0.037 | TEST ROUGE: -1: 0.079, -2: 0.004, -L: 0.064\n",
      "Step: 20500 | LOSS TRAIN: 5.152, DEV: 5.103, TEST: 6.012  | DEV ROUGE-1: 0.070, -2: 0.008, -L: 0.050 | TEST ROUGE: -1: 0.079, -2: 0.004, -L: 0.064\n",
      "Step: 21000 | LOSS TRAIN: 5.155, DEV: 5.103, TEST: 6.012  | DEV ROUGE-1: 0.070, -2: 0.013, -L: 0.053 | TEST ROUGE: -1: 0.079, -2: 0.004, -L: 0.064\n",
      "Step: 21500 | LOSS TRAIN: 5.132, DEV: 5.094, TEST: 6.012  | DEV ROUGE-1: 0.066, -2: 0.010, -L: 0.050 | TEST ROUGE: -1: 0.079, -2: 0.004, -L: 0.064\n",
      "Step: 22000 | LOSS TRAIN: 5.125, DEV: 5.112, TEST: 5.170  | DEV ROUGE-1: 0.075, -2: 0.012, -L: 0.059 | TEST ROUGE: -1: 0.091, -2: 0.014, -L: 0.072\n",
      "Step: 22500 | LOSS TRAIN: 5.134, DEV: 5.082, TEST: 5.170  | DEV ROUGE-1: 0.072, -2: 0.010, -L: 0.054 | TEST ROUGE: -1: 0.091, -2: 0.014, -L: 0.072\n",
      "Step: 23000 | LOSS TRAIN: 5.095, DEV: 5.087, TEST: 5.170  | DEV ROUGE-1: 0.073, -2: 0.010, -L: 0.058 | TEST ROUGE: -1: 0.091, -2: 0.014, -L: 0.072\n",
      "Step: 23500 | LOSS TRAIN: 5.117, DEV: 5.063, TEST: 5.170  | DEV ROUGE-1: 0.068, -2: 0.012, -L: 0.050 | TEST ROUGE: -1: 0.091, -2: 0.014, -L: 0.072\n",
      "Step: 24000 | LOSS TRAIN: 5.106, DEV: 5.062, TEST: 5.170  | DEV ROUGE-1: 0.063, -2: 0.006, -L: 0.050 | TEST ROUGE: -1: 0.091, -2: 0.014, -L: 0.072\n",
      "Step: 24500 | LOSS TRAIN: 5.099, DEV: 5.058, TEST: 5.170  | DEV ROUGE-1: 0.058, -2: 0.006, -L: 0.043 | TEST ROUGE: -1: 0.091, -2: 0.014, -L: 0.072\n",
      "Step: 25000 | LOSS TRAIN: 5.099, DEV: 5.046, TEST: 5.170  | DEV ROUGE-1: 0.069, -2: 0.008, -L: 0.053 | TEST ROUGE: -1: 0.091, -2: 0.014, -L: 0.072\n",
      "Step: 25500 | LOSS TRAIN: 5.095, DEV: 5.043, TEST: 5.170  | DEV ROUGE-1: 0.063, -2: 0.010, -L: 0.049 | TEST ROUGE: -1: 0.091, -2: 0.014, -L: 0.072\n",
      "Step: 26000 | LOSS TRAIN: 5.083, DEV: 5.042, TEST: 5.170  | DEV ROUGE-1: 0.079, -2: 0.008, -L: 0.058 | TEST ROUGE: -1: 0.091, -2: 0.014, -L: 0.072\n",
      "Step: 26500 | LOSS TRAIN: 5.067, DEV: 5.033, TEST: 5.093  | DEV ROUGE-1: 0.079, -2: 0.006, -L: 0.064 | TEST ROUGE: -1: 0.080, -2: 0.007, -L: 0.066\n",
      "Step: 27000 | LOSS TRAIN: 5.074, DEV: 5.033, TEST: 5.093  | DEV ROUGE-1: 0.058, -2: 0.008, -L: 0.040 | TEST ROUGE: -1: 0.080, -2: 0.007, -L: 0.066\n",
      "Step: 27500 | LOSS TRAIN: 5.061, DEV: 5.022, TEST: 5.093  | DEV ROUGE-1: 0.082, -2: 0.013, -L: 0.061 | TEST ROUGE: -1: 0.080, -2: 0.007, -L: 0.066\n",
      "Step: 28000 | LOSS TRAIN: 5.058, DEV: 5.021, TEST: 5.093  | DEV ROUGE-1: 0.082, -2: 0.011, -L: 0.060 | TEST ROUGE: -1: 0.080, -2: 0.007, -L: 0.066\n",
      "Step: 28500 | LOSS TRAIN: 5.060, DEV: 5.014, TEST: 5.093  | DEV ROUGE-1: 0.061, -2: 0.008, -L: 0.046 | TEST ROUGE: -1: 0.080, -2: 0.007, -L: 0.066\n",
      "Step: 29000 | LOSS TRAIN: 5.047, DEV: 5.007, TEST: 5.093  | DEV ROUGE-1: 0.060, -2: 0.008, -L: 0.046 | TEST ROUGE: -1: 0.080, -2: 0.007, -L: 0.066\n",
      "Step: 29500 | LOSS TRAIN: 5.053, DEV: 5.011, TEST: 5.093  | DEV ROUGE-1: 0.070, -2: 0.011, -L: 0.052 | TEST ROUGE: -1: 0.080, -2: 0.007, -L: 0.066\n",
      "Step: 30000 | LOSS TRAIN: 5.047, DEV: 5.006, TEST: 5.093  | DEV ROUGE-1: 0.074, -2: 0.009, -L: 0.057 | TEST ROUGE: -1: 0.080, -2: 0.007, -L: 0.066\n",
      "Step: 30500 | LOSS TRAIN: 5.051, DEV: 4.996, TEST: 5.093  | DEV ROUGE-1: 0.067, -2: 0.010, -L: 0.051 | TEST ROUGE: -1: 0.080, -2: 0.007, -L: 0.066\n",
      "Step: 31000 | LOSS TRAIN: 5.024, DEV: 5.002, TEST: 5.093  | DEV ROUGE-1: 0.045, -2: 0.005, -L: 0.032 | TEST ROUGE: -1: 0.080, -2: 0.007, -L: 0.066\n",
      "Step: 31500 | LOSS TRAIN: 5.025, DEV: 4.991, TEST: 5.093  | DEV ROUGE-1: 0.067, -2: 0.006, -L: 0.050 | TEST ROUGE: -1: 0.080, -2: 0.007, -L: 0.066\n",
      "Step: 32000 | LOSS TRAIN: 5.033, DEV: 4.992, TEST: 5.093  | DEV ROUGE-1: 0.074, -2: 0.008, -L: 0.058 | TEST ROUGE: -1: 0.080, -2: 0.007, -L: 0.066\n",
      "Step: 32500 | LOSS TRAIN: 5.000, DEV: 4.980, TEST: 5.093  | DEV ROUGE-1: 0.060, -2: 0.008, -L: 0.045 | TEST ROUGE: -1: 0.080, -2: 0.007, -L: 0.066\n",
      "Step: 33000 | LOSS TRAIN: 5.021, DEV: 4.980, TEST: 5.093  | DEV ROUGE-1: 0.057, -2: 0.008, -L: 0.042 | TEST ROUGE: -1: 0.080, -2: 0.007, -L: 0.066\n",
      "Step: 33500 | LOSS TRAIN: 5.013, DEV: 4.976, TEST: 5.093  | DEV ROUGE-1: 0.056, -2: 0.007, -L: 0.043 | TEST ROUGE: -1: 0.080, -2: 0.007, -L: 0.066\n",
      "Step: 34000 | LOSS TRAIN: 5.006, DEV: 4.964, TEST: 5.093  | DEV ROUGE-1: 0.072, -2: 0.009, -L: 0.055 | TEST ROUGE: -1: 0.080, -2: 0.007, -L: 0.066\n",
      "Step: 34500 | LOSS TRAIN: 5.006, DEV: 4.962, TEST: 5.093  | DEV ROUGE-1: 0.058, -2: 0.007, -L: 0.042 | TEST ROUGE: -1: 0.080, -2: 0.007, -L: 0.066\n",
      "Step: 35000 | LOSS TRAIN: 5.007, DEV: 4.959, TEST: 5.093  | DEV ROUGE-1: 0.062, -2: 0.007, -L: 0.049 | TEST ROUGE: -1: 0.080, -2: 0.007, -L: 0.066\n",
      "Step: 35500 | LOSS TRAIN: 4.990, DEV: 4.955, TEST: 5.093  | DEV ROUGE-1: 0.067, -2: 0.010, -L: 0.051 | TEST ROUGE: -1: 0.080, -2: 0.007, -L: 0.066\n",
      "Step: 36000 | LOSS TRAIN: 4.981, DEV: 4.955, TEST: 5.093  | DEV ROUGE-1: 0.060, -2: 0.008, -L: 0.045 | TEST ROUGE: -1: 0.080, -2: 0.007, -L: 0.066\n",
      "Step: 36500 | LOSS TRAIN: 4.990, DEV: 4.950, TEST: 5.093  | DEV ROUGE-1: 0.081, -2: 0.011, -L: 0.060 | TEST ROUGE: -1: 0.080, -2: 0.007, -L: 0.066\n",
      "Step: 37000 | LOSS TRAIN: 4.965, DEV: 4.946, TEST: 5.093  | DEV ROUGE-1: 0.075, -2: 0.010, -L: 0.058 | TEST ROUGE: -1: 0.080, -2: 0.007, -L: 0.066\n",
      "Step: 37500 | LOSS TRAIN: 4.983, DEV: 4.934, TEST: 5.093  | DEV ROUGE-1: 0.069, -2: 0.007, -L: 0.053 | TEST ROUGE: -1: 0.080, -2: 0.007, -L: 0.066\n",
      "Step: 38000 | LOSS TRAIN: 4.969, DEV: 4.931, TEST: 5.093  | DEV ROUGE-1: 0.070, -2: 0.009, -L: 0.055 | TEST ROUGE: -1: 0.080, -2: 0.007, -L: 0.066\n",
      "Step: 38500 | LOSS TRAIN: 4.964, DEV: 4.932, TEST: 5.093  | DEV ROUGE-1: 0.064, -2: 0.009, -L: 0.048 | TEST ROUGE: -1: 0.080, -2: 0.007, -L: 0.066\n",
      "Step: 39000 | LOSS TRAIN: 4.978, DEV: 4.931, TEST: 5.093  | DEV ROUGE-1: 0.076, -2: 0.011, -L: 0.058 | TEST ROUGE: -1: 0.080, -2: 0.007, -L: 0.066\n",
      "Step: 39500 | LOSS TRAIN: 4.964, DEV: 4.925, TEST: 5.093  | DEV ROUGE-1: 0.071, -2: 0.008, -L: 0.054 | TEST ROUGE: -1: 0.080, -2: 0.007, -L: 0.066\n",
      "Step: 40000 | LOSS TRAIN: 4.965, DEV: 4.917, TEST: 5.093  | DEV ROUGE-1: 0.079, -2: 0.012, -L: 0.059 | TEST ROUGE: -1: 0.080, -2: 0.007, -L: 0.066\n",
      "Step: 40500 | LOSS TRAIN: 4.940, DEV: 4.915, TEST: 5.093  | DEV ROUGE-1: 0.076, -2: 0.010, -L: 0.056 | TEST ROUGE: -1: 0.080, -2: 0.007, -L: 0.066\n",
      "Step: 41000 | LOSS TRAIN: 4.951, DEV: 4.915, TEST: 5.093  | DEV ROUGE-1: 0.080, -2: 0.011, -L: 0.060 | TEST ROUGE: -1: 0.080, -2: 0.007, -L: 0.066\n",
      "Step: 41500 | LOSS TRAIN: 4.952, DEV: 4.914, TEST: 5.093  | DEV ROUGE-1: 0.068, -2: 0.006, -L: 0.053 | TEST ROUGE: -1: 0.080, -2: 0.007, -L: 0.066\n",
      "Step: 42000 | LOSS TRAIN: 4.926, DEV: 4.911, TEST: 5.093  | DEV ROUGE-1: 0.080, -2: 0.007, -L: 0.063 | TEST ROUGE: -1: 0.080, -2: 0.007, -L: 0.066\n",
      "Step: 42500 | LOSS TRAIN: 4.945, DEV: 4.915, TEST: 5.093  | DEV ROUGE-1: 0.071, -2: 0.007, -L: 0.055 | TEST ROUGE: -1: 0.080, -2: 0.007, -L: 0.066\n",
      "Step: 43000 | LOSS TRAIN: 4.939, DEV: 4.902, TEST: 5.093  | DEV ROUGE-1: 0.078, -2: 0.008, -L: 0.061 | TEST ROUGE: -1: 0.080, -2: 0.007, -L: 0.066\n",
      "Step: 43500 | LOSS TRAIN: 4.938, DEV: 4.898, TEST: 5.093  | DEV ROUGE-1: 0.077, -2: 0.008, -L: 0.059 | TEST ROUGE: -1: 0.080, -2: 0.007, -L: 0.066\n",
      "Step: 44000 | LOSS TRAIN: 4.935, DEV: 4.897, TEST: 5.093  | DEV ROUGE-1: 0.067, -2: 0.007, -L: 0.051 | TEST ROUGE: -1: 0.080, -2: 0.007, -L: 0.066\n",
      "Step: 44500 | LOSS TRAIN: 4.939, DEV: 4.903, TEST: 5.093  | DEV ROUGE-1: 0.069, -2: 0.007, -L: 0.053 | TEST ROUGE: -1: 0.080, -2: 0.007, -L: 0.066\n",
      "Step: 45000 | LOSS TRAIN: 4.922, DEV: 4.889, TEST: 4.953  | DEV ROUGE-1: 0.082, -2: 0.012, -L: 0.064 | TEST ROUGE: -1: 0.101, -2: 0.013, -L: 0.079\n",
      "Step: 45500 | LOSS TRAIN: 4.916, DEV: 4.891, TEST: 4.953  | DEV ROUGE-1: 0.078, -2: 0.010, -L: 0.059 | TEST ROUGE: -1: 0.101, -2: 0.013, -L: 0.079\n",
      "Step: 46000 | LOSS TRAIN: 4.927, DEV: 4.886, TEST: 4.953  | DEV ROUGE-1: 0.082, -2: 0.013, -L: 0.064 | TEST ROUGE: -1: 0.101, -2: 0.013, -L: 0.079\n",
      "Step: 46500 | LOSS TRAIN: 4.895, DEV: 4.886, TEST: 4.953  | DEV ROUGE-1: 0.074, -2: 0.005, -L: 0.058 | TEST ROUGE: -1: 0.101, -2: 0.013, -L: 0.079\n",
      "Step: 47000 | LOSS TRAIN: 4.920, DEV: 4.885, TEST: 4.953  | DEV ROUGE-1: 0.076, -2: 0.009, -L: 0.059 | TEST ROUGE: -1: 0.101, -2: 0.013, -L: 0.079\n",
      "Step: 47500 | LOSS TRAIN: 4.910, DEV: 4.873, TEST: 4.953  | DEV ROUGE-1: 0.071, -2: 0.007, -L: 0.053 | TEST ROUGE: -1: 0.101, -2: 0.013, -L: 0.079\n",
      "Step: 48000 | LOSS TRAIN: 4.909, DEV: 4.874, TEST: 4.953  | DEV ROUGE-1: 0.067, -2: 0.004, -L: 0.051 | TEST ROUGE: -1: 0.101, -2: 0.013, -L: 0.079\n",
      "Step: 48500 | LOSS TRAIN: 4.910, DEV: 4.880, TEST: 4.953  | DEV ROUGE-1: 0.064, -2: 0.006, -L: 0.050 | TEST ROUGE: -1: 0.101, -2: 0.013, -L: 0.079\n",
      "Step: 49000 | LOSS TRAIN: 4.910, DEV: 4.872, TEST: 4.953  | DEV ROUGE-1: 0.074, -2: 0.009, -L: 0.058 | TEST ROUGE: -1: 0.101, -2: 0.013, -L: 0.079\n",
      "Step: 49500 | LOSS TRAIN: 4.901, DEV: 4.875, TEST: 4.953  | DEV ROUGE-1: 0.077, -2: 0.009, -L: 0.058 | TEST ROUGE: -1: 0.101, -2: 0.013, -L: 0.079\n",
      "Step: 50000 | LOSS TRAIN: 4.889, DEV: 4.875, TEST: 4.953  | DEV ROUGE-1: 0.069, -2: 0.004, -L: 0.052 | TEST ROUGE: -1: 0.101, -2: 0.013, -L: 0.079\n",
      "Step: 50500 | LOSS TRAIN: 4.896, DEV: 4.876, TEST: 4.953  | DEV ROUGE-1: 0.065, -2: 0.007, -L: 0.050 | TEST ROUGE: -1: 0.101, -2: 0.013, -L: 0.079\n",
      "Step: 51000 | LOSS TRAIN: 4.887, DEV: 4.872, TEST: 4.953  | DEV ROUGE-1: 0.075, -2: 0.009, -L: 0.060 | TEST ROUGE: -1: 0.101, -2: 0.013, -L: 0.079\n",
      "Step: 51500 | LOSS TRAIN: 4.887, DEV: 4.860, TEST: 4.953  | DEV ROUGE-1: 0.076, -2: 0.008, -L: 0.059 | TEST ROUGE: -1: 0.101, -2: 0.013, -L: 0.079\n",
      "Step: 52000 | LOSS TRAIN: 4.892, DEV: 4.861, TEST: 4.953  | DEV ROUGE-1: 0.070, -2: 0.006, -L: 0.053 | TEST ROUGE: -1: 0.101, -2: 0.013, -L: 0.079\n"
     ]
    },
    {
     "ename": "KeyboardInterrupt",
     "evalue": "",
     "output_type": "error",
     "traceback": [
      "\u001b[0;31m---------------------------------------------------------------------------\u001b[0m",
      "\u001b[0;31mKeyboardInterrupt\u001b[0m                         Traceback (most recent call last)",
      "\u001b[0;32m<ipython-input-14-f8b6b5b32a31>\u001b[0m in \u001b[0;36m<module>\u001b[0;34m()\u001b[0m\n\u001b[1;32m     16\u001b[0m \u001b[0;32mfor\u001b[0m \u001b[0mct\u001b[0m\u001b[0;34m,\u001b[0m \u001b[0mbatch\u001b[0m \u001b[0;32min\u001b[0m \u001b[0mtrain_batches\u001b[0m\u001b[0;34m:\u001b[0m\u001b[0;34m\u001b[0m\u001b[0m\n\u001b[1;32m     17\u001b[0m     \u001b[0mfeed_dict\u001b[0m \u001b[0;34m=\u001b[0m \u001b[0mmodel\u001b[0m\u001b[0;34m.\u001b[0m\u001b[0mget_feed_dict\u001b[0m\u001b[0;34m(\u001b[0m\u001b[0mbatch\u001b[0m\u001b[0;34m)\u001b[0m\u001b[0;34m\u001b[0m\u001b[0m\n\u001b[0;32m---> 18\u001b[0;31m     \u001b[0m_\u001b[0m\u001b[0;34m,\u001b[0m \u001b[0mloss_train\u001b[0m \u001b[0;34m=\u001b[0m \u001b[0msess\u001b[0m\u001b[0;34m.\u001b[0m\u001b[0mrun\u001b[0m\u001b[0;34m(\u001b[0m\u001b[0;34m[\u001b[0m\u001b[0mmodel\u001b[0m\u001b[0;34m.\u001b[0m\u001b[0mopt\u001b[0m\u001b[0;34m,\u001b[0m \u001b[0mmodel\u001b[0m\u001b[0;34m.\u001b[0m\u001b[0mloss\u001b[0m\u001b[0;34m]\u001b[0m\u001b[0;34m,\u001b[0m \u001b[0mfeed_dict\u001b[0m \u001b[0;34m=\u001b[0m \u001b[0mfeed_dict\u001b[0m\u001b[0;34m)\u001b[0m\u001b[0;34m\u001b[0m\u001b[0m\n\u001b[0m\u001b[1;32m     19\u001b[0m     \u001b[0mlosses_train\u001b[0m \u001b[0;34m+=\u001b[0m \u001b[0;34m[\u001b[0m\u001b[0mloss_train\u001b[0m\u001b[0;34m]\u001b[0m\u001b[0;34m\u001b[0m\u001b[0m\n\u001b[1;32m     20\u001b[0m     \u001b[0;32mif\u001b[0m \u001b[0mct\u001b[0m\u001b[0;34m%\u001b[0m\u001b[0mconfig\u001b[0m\u001b[0;34m.\u001b[0m\u001b[0mlog_period\u001b[0m\u001b[0;34m==\u001b[0m\u001b[0;36m0\u001b[0m\u001b[0;34m:\u001b[0m\u001b[0;34m\u001b[0m\u001b[0m\n",
      "\u001b[0;32m/home/m-isonuma/.pyenv/versions/anaconda2-5.3.0/envs/py2/lib/python2.7/site-packages/tensorflow/python/client/session.pyc\u001b[0m in \u001b[0;36mrun\u001b[0;34m(self, fetches, feed_dict, options, run_metadata)\u001b[0m\n\u001b[1;32m    885\u001b[0m     \u001b[0;32mtry\u001b[0m\u001b[0;34m:\u001b[0m\u001b[0;34m\u001b[0m\u001b[0m\n\u001b[1;32m    886\u001b[0m       result = self._run(None, fetches, feed_dict, options_ptr,\n\u001b[0;32m--> 887\u001b[0;31m                          run_metadata_ptr)\n\u001b[0m\u001b[1;32m    888\u001b[0m       \u001b[0;32mif\u001b[0m \u001b[0mrun_metadata\u001b[0m\u001b[0;34m:\u001b[0m\u001b[0;34m\u001b[0m\u001b[0m\n\u001b[1;32m    889\u001b[0m         \u001b[0mproto_data\u001b[0m \u001b[0;34m=\u001b[0m \u001b[0mtf_session\u001b[0m\u001b[0;34m.\u001b[0m\u001b[0mTF_GetBuffer\u001b[0m\u001b[0;34m(\u001b[0m\u001b[0mrun_metadata_ptr\u001b[0m\u001b[0;34m)\u001b[0m\u001b[0;34m\u001b[0m\u001b[0m\n",
      "\u001b[0;32m/home/m-isonuma/.pyenv/versions/anaconda2-5.3.0/envs/py2/lib/python2.7/site-packages/tensorflow/python/client/session.pyc\u001b[0m in \u001b[0;36m_run\u001b[0;34m(self, handle, fetches, feed_dict, options, run_metadata)\u001b[0m\n\u001b[1;32m   1108\u001b[0m     \u001b[0;32mif\u001b[0m \u001b[0mfinal_fetches\u001b[0m \u001b[0;32mor\u001b[0m \u001b[0mfinal_targets\u001b[0m \u001b[0;32mor\u001b[0m \u001b[0;34m(\u001b[0m\u001b[0mhandle\u001b[0m \u001b[0;32mand\u001b[0m \u001b[0mfeed_dict_tensor\u001b[0m\u001b[0;34m)\u001b[0m\u001b[0;34m:\u001b[0m\u001b[0;34m\u001b[0m\u001b[0m\n\u001b[1;32m   1109\u001b[0m       results = self._do_run(handle, final_targets, final_fetches,\n\u001b[0;32m-> 1110\u001b[0;31m                              feed_dict_tensor, options, run_metadata)\n\u001b[0m\u001b[1;32m   1111\u001b[0m     \u001b[0;32melse\u001b[0m\u001b[0;34m:\u001b[0m\u001b[0;34m\u001b[0m\u001b[0m\n\u001b[1;32m   1112\u001b[0m       \u001b[0mresults\u001b[0m \u001b[0;34m=\u001b[0m \u001b[0;34m[\u001b[0m\u001b[0;34m]\u001b[0m\u001b[0;34m\u001b[0m\u001b[0m\n",
      "\u001b[0;32m/home/m-isonuma/.pyenv/versions/anaconda2-5.3.0/envs/py2/lib/python2.7/site-packages/tensorflow/python/client/session.pyc\u001b[0m in \u001b[0;36m_do_run\u001b[0;34m(self, handle, target_list, fetch_list, feed_dict, options, run_metadata)\u001b[0m\n\u001b[1;32m   1284\u001b[0m     \u001b[0;32mif\u001b[0m \u001b[0mhandle\u001b[0m \u001b[0;32mis\u001b[0m \u001b[0mNone\u001b[0m\u001b[0;34m:\u001b[0m\u001b[0;34m\u001b[0m\u001b[0m\n\u001b[1;32m   1285\u001b[0m       return self._do_call(_run_fn, feeds, fetches, targets, options,\n\u001b[0;32m-> 1286\u001b[0;31m                            run_metadata)\n\u001b[0m\u001b[1;32m   1287\u001b[0m     \u001b[0;32melse\u001b[0m\u001b[0;34m:\u001b[0m\u001b[0;34m\u001b[0m\u001b[0m\n\u001b[1;32m   1288\u001b[0m       \u001b[0;32mreturn\u001b[0m \u001b[0mself\u001b[0m\u001b[0;34m.\u001b[0m\u001b[0m_do_call\u001b[0m\u001b[0;34m(\u001b[0m\u001b[0m_prun_fn\u001b[0m\u001b[0;34m,\u001b[0m \u001b[0mhandle\u001b[0m\u001b[0;34m,\u001b[0m \u001b[0mfeeds\u001b[0m\u001b[0;34m,\u001b[0m \u001b[0mfetches\u001b[0m\u001b[0;34m)\u001b[0m\u001b[0;34m\u001b[0m\u001b[0m\n",
      "\u001b[0;32m/home/m-isonuma/.pyenv/versions/anaconda2-5.3.0/envs/py2/lib/python2.7/site-packages/tensorflow/python/client/session.pyc\u001b[0m in \u001b[0;36m_do_call\u001b[0;34m(self, fn, *args)\u001b[0m\n\u001b[1;32m   1290\u001b[0m   \u001b[0;32mdef\u001b[0m \u001b[0m_do_call\u001b[0m\u001b[0;34m(\u001b[0m\u001b[0mself\u001b[0m\u001b[0;34m,\u001b[0m \u001b[0mfn\u001b[0m\u001b[0;34m,\u001b[0m \u001b[0;34m*\u001b[0m\u001b[0margs\u001b[0m\u001b[0;34m)\u001b[0m\u001b[0;34m:\u001b[0m\u001b[0;34m\u001b[0m\u001b[0m\n\u001b[1;32m   1291\u001b[0m     \u001b[0;32mtry\u001b[0m\u001b[0;34m:\u001b[0m\u001b[0;34m\u001b[0m\u001b[0m\n\u001b[0;32m-> 1292\u001b[0;31m       \u001b[0;32mreturn\u001b[0m \u001b[0mfn\u001b[0m\u001b[0;34m(\u001b[0m\u001b[0;34m*\u001b[0m\u001b[0margs\u001b[0m\u001b[0;34m)\u001b[0m\u001b[0;34m\u001b[0m\u001b[0m\n\u001b[0m\u001b[1;32m   1293\u001b[0m     \u001b[0;32mexcept\u001b[0m \u001b[0merrors\u001b[0m\u001b[0;34m.\u001b[0m\u001b[0mOpError\u001b[0m \u001b[0;32mas\u001b[0m \u001b[0me\u001b[0m\u001b[0;34m:\u001b[0m\u001b[0;34m\u001b[0m\u001b[0m\n\u001b[1;32m   1294\u001b[0m       \u001b[0mmessage\u001b[0m \u001b[0;34m=\u001b[0m \u001b[0mcompat\u001b[0m\u001b[0;34m.\u001b[0m\u001b[0mas_text\u001b[0m\u001b[0;34m(\u001b[0m\u001b[0me\u001b[0m\u001b[0;34m.\u001b[0m\u001b[0mmessage\u001b[0m\u001b[0;34m)\u001b[0m\u001b[0;34m\u001b[0m\u001b[0m\n",
      "\u001b[0;32m/home/m-isonuma/.pyenv/versions/anaconda2-5.3.0/envs/py2/lib/python2.7/site-packages/tensorflow/python/client/session.pyc\u001b[0m in \u001b[0;36m_run_fn\u001b[0;34m(feed_dict, fetch_list, target_list, options, run_metadata)\u001b[0m\n\u001b[1;32m   1275\u001b[0m       \u001b[0mself\u001b[0m\u001b[0;34m.\u001b[0m\u001b[0m_extend_graph\u001b[0m\u001b[0;34m(\u001b[0m\u001b[0;34m)\u001b[0m\u001b[0;34m\u001b[0m\u001b[0m\n\u001b[1;32m   1276\u001b[0m       return self._call_tf_sessionrun(\n\u001b[0;32m-> 1277\u001b[0;31m           options, feed_dict, fetch_list, target_list, run_metadata)\n\u001b[0m\u001b[1;32m   1278\u001b[0m \u001b[0;34m\u001b[0m\u001b[0m\n\u001b[1;32m   1279\u001b[0m     \u001b[0;32mdef\u001b[0m \u001b[0m_prun_fn\u001b[0m\u001b[0;34m(\u001b[0m\u001b[0mhandle\u001b[0m\u001b[0;34m,\u001b[0m \u001b[0mfeed_dict\u001b[0m\u001b[0;34m,\u001b[0m \u001b[0mfetch_list\u001b[0m\u001b[0;34m)\u001b[0m\u001b[0;34m:\u001b[0m\u001b[0;34m\u001b[0m\u001b[0m\n",
      "\u001b[0;32m/home/m-isonuma/.pyenv/versions/anaconda2-5.3.0/envs/py2/lib/python2.7/site-packages/tensorflow/python/client/session.pyc\u001b[0m in \u001b[0;36m_call_tf_sessionrun\u001b[0;34m(self, options, feed_dict, fetch_list, target_list, run_metadata)\u001b[0m\n\u001b[1;32m   1365\u001b[0m     return tf_session.TF_SessionRun_wrapper(\n\u001b[1;32m   1366\u001b[0m         \u001b[0mself\u001b[0m\u001b[0;34m.\u001b[0m\u001b[0m_session\u001b[0m\u001b[0;34m,\u001b[0m \u001b[0moptions\u001b[0m\u001b[0;34m,\u001b[0m \u001b[0mfeed_dict\u001b[0m\u001b[0;34m,\u001b[0m \u001b[0mfetch_list\u001b[0m\u001b[0;34m,\u001b[0m \u001b[0mtarget_list\u001b[0m\u001b[0;34m,\u001b[0m\u001b[0;34m\u001b[0m\u001b[0m\n\u001b[0;32m-> 1367\u001b[0;31m         run_metadata)\n\u001b[0m\u001b[1;32m   1368\u001b[0m \u001b[0;34m\u001b[0m\u001b[0m\n\u001b[1;32m   1369\u001b[0m   \u001b[0;32mdef\u001b[0m \u001b[0m_call_tf_sessionprun\u001b[0m\u001b[0;34m(\u001b[0m\u001b[0mself\u001b[0m\u001b[0;34m,\u001b[0m \u001b[0mhandle\u001b[0m\u001b[0;34m,\u001b[0m \u001b[0mfeed_dict\u001b[0m\u001b[0;34m,\u001b[0m \u001b[0mfetch_list\u001b[0m\u001b[0;34m)\u001b[0m\u001b[0;34m:\u001b[0m\u001b[0;34m\u001b[0m\u001b[0m\n",
      "\u001b[0;31mKeyboardInterrupt\u001b[0m: "
     ]
    }
   ],
   "source": [
    "losses_train = []\n",
    "loss_log = []\n",
    "rouge_log = []\n",
    "rouge_l_max = 0\n",
    "\n",
    "saver = tf.train.Saver(max_to_keep=20)\n",
    "if len(loss_log) == 0:\n",
    "    import subprocess\n",
    "    \n",
    "    cmd_rm = 'rm -r %s' % config.modeldir\n",
    "    res = subprocess.call(cmd_rm.split())\n",
    "\n",
    "    cmd_mk = 'mkdir %s' % config.modeldir\n",
    "    res = subprocess.call(cmd_mk.split())\n",
    "\n",
    "for ct, batch in train_batches:\n",
    "    feed_dict = model.get_feed_dict(batch)\n",
    "    _, loss_train = sess.run([model.opt, model.loss], feed_dict = feed_dict)\n",
    "    losses_train += [loss_train]\n",
    "    if ct%config.log_period==0:\n",
    "        loss_train = np.mean(losses_train)\n",
    "        loss_dev, rouge_dev = evaluate(sess, dev_batches, model, vocab)\n",
    "        rouge_l = rouge_dev[-1]\n",
    "\n",
    "        if rouge_l >= rouge_l_max:\n",
    "            rouge_l_max = rouge_l\n",
    "            loss_test, rouge_test = evaluate(sess, test_batches, model, vocab)\n",
    "            modelpath = os.path.join(config.modeldir, config.modelname)\n",
    "            saver.save(sess, modelpath, global_step=ct)\n",
    "            \n",
    "        loss_log += [(ct, loss_train, loss_dev, loss_test)]\n",
    "        rouge_log += [rouge_dev + rouge_test]\n",
    "        losses_train = []\n",
    "\n",
    "        clear_output()\n",
    "        for i in range(len(loss_log)): \n",
    "            print 'Step: %i | LOSS TRAIN: %.3f, DEV: %.3f, TEST: %.3f ' %  loss_log[i], \n",
    "            print '| DEV ROUGE-1: %.3f, -2: %.3f, -L: %.3f | TEST ROUGE: -1: %.3f, -2: %.3f, -L: %.3f' % rouge_log[i]"
   ]
  },
  {
   "cell_type": "markdown",
   "metadata": {},
   "source": [
    "# eval.py"
   ]
  },
  {
   "cell_type": "code",
   "execution_count": 249,
   "metadata": {},
   "outputs": [],
   "source": [
    "# num_examples,  train_batches, dev_batches, test_batches, embedding_matrix, vocab, word_to_id = load_data(config)"
   ]
  },
  {
   "cell_type": "code",
   "execution_count": 250,
   "metadata": {},
   "outputs": [],
   "source": [
    "def write_files(write_dir, sents_dict):\n",
    "    for idx, sents in sents_dict.items():\n",
    "        file_path = os.path.join(write_dir, \"%04d.txt\" % idx)\n",
    "\n",
    "        f = codecs.open(file_path, mode=\"w\", encoding=\"utf-8\")\n",
    "        for i, sent in enumerate(sents):\n",
    "            f.write(sent) if i==len(sents)-1 else f.write(sent+\"\\n\")\n",
    "\n",
    "        f.close()"
   ]
  },
  {
   "cell_type": "code",
   "execution_count": 251,
   "metadata": {},
   "outputs": [],
   "source": [
    "def write_ref(batches, config):\n",
    "    instances = list(itertools.chain.from_iterable([batch for _, batch in batches]))\n",
    "    ref_sents_dict = {}\n",
    "    for ct, batch in batches:\n",
    "        for instance in batch:\n",
    "            ref_sents = [' '.join(instance.summary_tokens)]\n",
    "            ref_sents_dict[instance.idx] = ref_sents\n",
    "\n",
    "    write_files(config.refdir, ref_sents_dict)"
   ]
  },
  {
   "cell_type": "code",
   "execution_count": 252,
   "metadata": {},
   "outputs": [],
   "source": [
    "def write_out(batches, config, vocab):\n",
    "    with tf.Session() as sess:\n",
    "        ckpt = tf.train.get_checkpoint_state(config.modeldir)\n",
    "        model_path = ckpt.all_model_checkpoint_paths[-1]\n",
    "\n",
    "        saver = tf.train.import_meta_graph(model_path + '.meta')\n",
    "        saver.restore(sess, model_path)\n",
    "\n",
    "        instances = list(itertools.chain.from_iterable([batch for _, batch in batches]))\n",
    "        out_sents_dict = {}\n",
    "        for ct, batch in batches:\n",
    "            feed_dict = model.get_feed_dict(batch, mode='test')\n",
    "            output_token_idxs_batch = sess.run(model.summary_output_token_idxs, feed_dict = feed_dict)\n",
    "            for output_token_idxs, instance in zip(output_token_idxs_batch, batch):\n",
    "                idx = instance.idx\n",
    "                out_sents = get_txt_from_idx(output_token_idxs, model, vocab)\n",
    "                out_sents_dict[idx] = out_sents\n",
    "\n",
    "        write_files(config.outdir, out_sents_dict)"
   ]
  },
  {
   "cell_type": "code",
   "execution_count": 272,
   "metadata": {},
   "outputs": [],
   "source": [
    "def print_pyrouge(config):\n",
    "    logging.getLogger('global').setLevel(logging.WARNING) # silence pyrouge logging\n",
    "\n",
    "    r = pyrouge.Rouge155()\n",
    "    r.system_filename_pattern = '(\\d+).txt'\n",
    "    r.model_filename_pattern = '#ID#.txt'\n",
    "    \n",
    "    r.system_dir = config.outdir\n",
    "    r.model_dir = config.refdir\n",
    "\n",
    "    rouge_results = r.convert_and_evaluate()\n",
    "    rouge_dict = r.output_to_dict(rouge_results)\n",
    "    \n",
    "    print rouge_results"
   ]
  },
  {
   "cell_type": "code",
   "execution_count": 267,
   "metadata": {},
   "outputs": [],
   "source": [
    "write_ref(test_batches, config)"
   ]
  },
  {
   "cell_type": "code",
   "execution_count": 268,
   "metadata": {},
   "outputs": [
    {
     "name": "stdout",
     "output_type": "stream",
     "text": [
      "INFO:tensorflow:Restoring parameters from model/sports-43500\n"
     ]
    }
   ],
   "source": [
    "write_out(test_batches, config, vocab)"
   ]
  },
  {
   "cell_type": "code",
   "execution_count": 271,
   "metadata": {},
   "outputs": [
    {
     "name": "stdout",
     "output_type": "stream",
     "text": [
      "---------------------------------------------\n",
      "1 ROUGE-1 Average_R: 0.13499 (95%-conf.int. 0.11759 - 0.15319)\n",
      "1 ROUGE-1 Average_P: 0.09440 (95%-conf.int. 0.07995 - 0.10897)\n",
      "1 ROUGE-1 Average_F: 0.09712 (95%-conf.int. 0.08402 - 0.11083)\n",
      "---------------------------------------------\n",
      "1 ROUGE-2 Average_R: 0.02487 (95%-conf.int. 0.01417 - 0.03775)\n",
      "1 ROUGE-2 Average_P: 0.01454 (95%-conf.int. 0.00758 - 0.02334)\n",
      "1 ROUGE-2 Average_F: 0.01519 (95%-conf.int. 0.00856 - 0.02288)\n",
      "---------------------------------------------\n",
      "1 ROUGE-L Average_R: 0.13132 (95%-conf.int. 0.11451 - 0.14908)\n",
      "1 ROUGE-L Average_P: 0.09084 (95%-conf.int. 0.07705 - 0.10491)\n",
      "1 ROUGE-L Average_F: 0.09378 (95%-conf.int. 0.08138 - 0.10706)\n",
      "\n"
     ]
    }
   ],
   "source": [
    "print_pyrouge(config)"
   ]
  },
  {
   "cell_type": "code",
   "execution_count": null,
   "metadata": {},
   "outputs": [],
   "source": []
  }
 ],
 "metadata": {
  "kernelspec": {
   "display_name": "py2",
   "language": "python",
   "name": "py2"
  },
  "language_info": {
   "codemirror_mode": {
    "name": "ipython",
    "version": 2
   },
   "file_extension": ".py",
   "mimetype": "text/x-python",
   "name": "python",
   "nbconvert_exporter": "python",
   "pygments_lexer": "ipython2",
   "version": "2.7.15"
  },
  "toc": {
   "base_numbering": 1,
   "nav_menu": {},
   "number_sections": true,
   "sideBar": true,
   "skip_h1_title": false,
   "title_cell": "Table of Contents",
   "title_sidebar": "Contents",
   "toc_cell": false,
   "toc_position": {},
   "toc_section_display": true,
   "toc_window_display": false
  }
 },
 "nbformat": 4,
 "nbformat_minor": 2
}
