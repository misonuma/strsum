{
 "cells": [
  {
   "cell_type": "markdown",
   "metadata": {},
   "source": [
    "# init"
   ]
  },
  {
   "cell_type": "code",
   "execution_count": 1,
   "metadata": {},
   "outputs": [],
   "source": [
    "import os\n",
    "import numpy as np\n",
    "import pandas as pd\n",
    "\n",
    "import cPickle\n",
    "from collections import OrderedDict, defaultdict\n",
    "\n",
    "from data_structure import Instance, DataSet"
   ]
  },
  {
   "cell_type": "code",
   "execution_count": 2,
   "metadata": {},
   "outputs": [],
   "source": [
    "PAD = '<pad>' # This has a vocab id, which is used to pad the encoder input, decoder input and target sequence\n",
    "PAD_IDX = 0\n",
    "UNK = '<unk>' # This has a vocab id, which is used to represent out-of-vocabulary words\n",
    "UNK_IDX = 1\n",
    "BOS = '<p>' # This has a vocab id, which is used at the beginning of every decoder input sequence\n",
    "BOS_IDX = 2\n",
    "EOS = '</p>' # This has a vocab id, which is used at the end of untruncated target sequences\n",
    "EOS_IDX = 3"
   ]
  },
  {
   "cell_type": "markdown",
   "metadata": {},
   "source": [
    "# load and preprocess data"
   ]
  },
  {
   "cell_type": "markdown",
   "metadata": {},
   "source": [
    "## split review_df"
   ]
  },
  {
   "cell_type": "code",
   "execution_count": 3,
   "metadata": {},
   "outputs": [],
   "source": [
    "dirname = 'data'"
   ]
  },
  {
   "cell_type": "code",
   "execution_count": 5,
   "metadata": {},
   "outputs": [],
   "source": [
    "# cPickle.dump(review_df, open(os.path.join(dirname, 'reviews_df.pkl'), 'wb'))\n",
    "review_df = cPickle.load(open(os.path.join(dirname, 'sports_all_df.pkl'), 'rb'))"
   ]
  },
  {
   "cell_type": "code",
   "execution_count": 25,
   "metadata": {},
   "outputs": [],
   "source": [
    "test_all_df = review_df[0:1000]\n",
    "dev_all_df = review_df[1000:2000]\n",
    "train_all_df = review_df[2000:]"
   ]
  },
  {
   "cell_type": "code",
   "execution_count": 26,
   "metadata": {},
   "outputs": [],
   "source": [
    "train_df = train_all_df[(train_all_df['doc_l']>=10)&(train_all_df['doc_l']<60)&(train_all_df['max_sent_l']<=50)]\n",
    "dev_df = dev_all_df[(dev_all_df['doc_l']>=5)&(dev_all_df['doc_l']<60)&(dev_all_df['max_sent_l']<=50)]\n",
    "test_df = test_all_df[(test_all_df['doc_l']>=5)&(test_all_df['doc_l']<60)&(test_all_df['max_sent_l']<=50)]"
   ]
  },
  {
   "cell_type": "code",
   "execution_count": 27,
   "metadata": {},
   "outputs": [
    {
     "data": {
      "text/plain": [
       "(37445, 511, 466)"
      ]
     },
     "execution_count": 27,
     "metadata": {},
     "output_type": "execute_result"
    }
   ],
   "source": [
    "len(train_df), len(dev_df), len(test_df)"
   ]
  },
  {
   "cell_type": "code",
   "execution_count": 29,
   "metadata": {},
   "outputs": [],
   "source": [
    "cPickle.dump((train_df, dev_df, test_df), open(os.path.join(dirname, 'sports_df.pkl'), 'wb'))"
   ]
  },
  {
   "cell_type": "markdown",
   "metadata": {},
   "source": [
    "## use raw fastText vec"
   ]
  },
  {
   "cell_type": "code",
   "execution_count": 30,
   "metadata": {},
   "outputs": [],
   "source": [
    "def get_word_list(tokens_list):\n",
    "    # create vocab of words\n",
    "    word_dict = defaultdict(int)\n",
    "    word_dict[BOS] = np.inf\n",
    "    word_dict[EOS] = np.inf\n",
    "    word_dict['.'] = np.inf\n",
    "    for tokens in tokens_list:\n",
    "        for word in tokens:\n",
    "            word_dict[word] += 1\n",
    "    word_dict = sorted(word_dict.items(), key=lambda x: x[1])[::-1]\n",
    "    return [w for w, cnt in word_dict]\n",
    "\n",
    "def get_fasttext(word_vec_path):\n",
    "    # create word_vec with word_vec vectors\n",
    "    word_vec = {}\n",
    "    header = True\n",
    "    with open(word_vec_path) as f:\n",
    "        for line in f:\n",
    "            if header:\n",
    "                header = False\n",
    "                continue\n",
    "            word, vec = line.split(' ', 1)\n",
    "            word_vec[word] = np.array(list(vec.split())).astype(np.float32)\n",
    "    return word_vec\n",
    "\n",
    "def get_word_vec(word_list, fasttext_vec):\n",
    "    word_vec = []\n",
    "    for word in word_list:\n",
    "        try:\n",
    "            vec = fasttext_vec[word]\n",
    "            word_vec.append((word, vec))\n",
    "        except:\n",
    "            continue\n",
    "    return OrderedDict(word_vec)\n",
    "\n",
    "def get_vocab_emb(word_vec, word_emb_dim, N=0):\n",
    "    word_vec = word_vec.items()\n",
    "    word_vec.insert(0, (UNK, np.zeros([word_emb_dim], dtype=np.float32)))\n",
    "    word_vec.insert(0, (PAD, np.zeros([word_emb_dim], dtype=np.float32)))\n",
    "    \n",
    "    if N>0: word_vec = word_vec[:N]\n",
    "    vocab = {word: i for i, (word, vec) in enumerate(word_vec)}\n",
    "    embeddings = np.array([vec for word, vec in word_vec]).astype(np.float32)\n",
    "    assert len(vocab) == len(embeddings)\n",
    "    return vocab, embeddings"
   ]
  },
  {
   "cell_type": "code",
   "execution_count": 31,
   "metadata": {},
   "outputs": [
    {
     "name": "stdout",
     "output_type": "stream",
     "text": [
      "['bought', 'these', 'as', 'a', 'wedding', 'gift', 'to', 'my', 'groomsmen']\n"
     ]
    }
   ],
   "source": [
    "tokens = []\n",
    "for doc in train_df.tokens:\n",
    "    tokens.extend(doc)\n",
    "if(dev_df is not None):\n",
    "    for doc in dev_df.tokens:\n",
    "        tokens.extend(doc)\n",
    "print(tokens[0])"
   ]
  },
  {
   "cell_type": "code",
   "execution_count": 32,
   "metadata": {},
   "outputs": [],
   "source": [
    "word_list = get_word_list(tokens)"
   ]
  },
  {
   "cell_type": "code",
   "execution_count": 35,
   "metadata": {
    "scrolled": false
   },
   "outputs": [],
   "source": [
    "%%time\n",
    "word_vec_path = os.path.join('data', 'fastText/crawl-300d-2M.vec')\n",
    "fasttext_vec = get_fasttext(word_vec_path)\n",
    "cPickle.dump(fasttext_vec, open(os.path.join('data', 'tmp-crawl-300d-2M.dict'), 'wb'))\n",
    "\n",
    "# fasttext_vec = cPickle.load(open(os.path.join('data', 'crawl-300d-2M.dict'), 'rb'))"
   ]
  },
  {
   "cell_type": "code",
   "execution_count": 36,
   "metadata": {},
   "outputs": [
    {
     "data": {
      "text/plain": [
       "50047"
      ]
     },
     "execution_count": 36,
     "metadata": {},
     "output_type": "execute_result"
    }
   ],
   "source": [
    "word_vec = get_word_vec(word_list, fasttext_vec)\n",
    "len(word_vec)"
   ]
  },
  {
   "cell_type": "code",
   "execution_count": 37,
   "metadata": {},
   "outputs": [],
   "source": [
    "word_emb_dim = 300\n",
    "vocab, embeddings = get_vocab_emb(word_vec, word_emb_dim, N=50000)"
   ]
  },
  {
   "cell_type": "markdown",
   "metadata": {},
   "source": [
    "# build instance list"
   ]
  },
  {
   "cell_type": "code",
   "execution_count": 38,
   "metadata": {},
   "outputs": [],
   "source": [
    "def to_line_idxs(token_idxs, vocab):\n",
    "    tokens_bos_eos = [token + [vocab['.']] for token in token_idxs]\n",
    "    line_idxs = [token for tokens_line in tokens_bos_eos for token in tokens_line]\n",
    "    return line_idxs"
   ]
  },
  {
   "cell_type": "code",
   "execution_count": 39,
   "metadata": {},
   "outputs": [],
   "source": [
    "def prepare_instancelst(data_df, vocab):\n",
    "    instancelst = []\n",
    "    for i_doc, doc in data_df.iterrows():\n",
    "        instance = Instance()\n",
    "        instance.idx = i_doc\n",
    "        instance.asin = doc.asin\n",
    "        doc_token_idxs = []\n",
    "        for i, sent_tokens in enumerate(doc.tokens):\n",
    "            sent_token_idxs = []\n",
    "            for token in sent_tokens:\n",
    "                if(token in vocab):\n",
    "                    sent_token_idxs.append(vocab[token])\n",
    "                else:\n",
    "                    sent_token_idxs.append(vocab[UNK])\n",
    "            doc_token_idxs.append(sent_token_idxs)\n",
    "        instance.token_idxs = doc_token_idxs\n",
    "        instance.line_idxs = to_line_idxs(doc_token_idxs, vocab)\n",
    "        instance.goldLabel = doc.overall\n",
    "        instance.summary = doc.summary\n",
    "        instance.summary_tokens = doc.summary_tokens\n",
    "        instance.summary_idxs = [vocab[token] if token in vocab else vocab[UNK] for token in instance.summary_tokens]\n",
    "        instance.doc_l = doc.doc_l\n",
    "        instance.max_sent_l = doc.max_sent_l\n",
    "        instancelst.append(instance)\n",
    "    return instancelst"
   ]
  },
  {
   "cell_type": "code",
   "execution_count": 40,
   "metadata": {
    "scrolled": true
   },
   "outputs": [],
   "source": [
    "instances_train = prepare_instancelst(train_df, vocab)\n",
    "instances_dev = prepare_instancelst(dev_df, vocab)\n",
    "instances_test = prepare_instancelst(test_df, vocab)"
   ]
  },
  {
   "cell_type": "code",
   "execution_count": 41,
   "metadata": {},
   "outputs": [],
   "source": [
    "out_filename = 'sports_fined.pkl'\n",
    "out_path = os.path.join(dirname, out_filename)\n",
    "cPickle.dump((instances_train, instances_dev, instances_test, embeddings, vocab),open(out_path,'w'))"
   ]
  },
  {
   "cell_type": "code",
   "execution_count": null,
   "metadata": {},
   "outputs": [],
   "source": []
  }
 ],
 "metadata": {
  "kernelspec": {
   "display_name": "py2",
   "language": "python",
   "name": "py2"
  },
  "language_info": {
   "codemirror_mode": {
    "name": "ipython",
    "version": 2
   },
   "file_extension": ".py",
   "mimetype": "text/x-python",
   "name": "python",
   "nbconvert_exporter": "python",
   "pygments_lexer": "ipython2",
   "version": "2.7.15"
  },
  "toc": {
   "base_numbering": 1,
   "nav_menu": {},
   "number_sections": true,
   "sideBar": true,
   "skip_h1_title": false,
   "title_cell": "Table of Contents",
   "title_sidebar": "Contents",
   "toc_cell": false,
   "toc_position": {},
   "toc_section_display": true,
   "toc_window_display": false
  }
 },
 "nbformat": 4,
 "nbformat_minor": 2
}
