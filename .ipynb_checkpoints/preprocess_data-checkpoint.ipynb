{
 "cells": [
  {
   "cell_type": "markdown",
   "metadata": {},
   "source": [
    "# init"
   ]
  },
  {
   "cell_type": "code",
   "execution_count": 32,
   "metadata": {},
   "outputs": [],
   "source": [
    "import os\n",
    "import numpy as np\n",
    "import pandas as pd\n",
    "\n",
    "import _pickle as cPickle\n",
    "from collections import OrderedDict, defaultdict\n",
    "\n",
    "import tensorflow as tf\n",
    "\n",
    "from data_structure import Instance"
   ]
  },
  {
   "cell_type": "code",
   "execution_count": 5,
   "metadata": {},
   "outputs": [],
   "source": [
    "# special tokens\n",
    "PAD = '<pad>' # This has a vocab id, which is used to pad the encoder input, decoder input and target sequence\n",
    "UNK = '<unk>' # This has a vocab id, which is used to represent out-of-vocabulary words\n",
    "BOS = '<p>' # This has a vocab id, which is used at the beginning of every decoder input sequence\n",
    "EOS = '</p>' # This has a vocab id, which is used at the end of untruncated target sequences"
   ]
  },
  {
   "cell_type": "code",
   "execution_count": 8,
   "metadata": {},
   "outputs": [],
   "source": [
    "flags = tf.app.flags\n",
    "\n",
    "flags.DEFINE_string('input_path', 'data/sports_df.pkl', 'path of output data')\n",
    "flags.DEFINE_string('output_path', 'data/sports.pkl', 'path of input data')\n",
    "flags.DEFINE_string('word_vec_path', 'data/crawl-300d-2M.vec', 'path of pretrained word vec')\n",
    "\n",
    "flags.DEFINE_integer('n_vocab', 50000, 'size of vocab')"
   ]
  },
  {
   "cell_type": "code",
   "execution_count": 9,
   "metadata": {},
   "outputs": [],
   "source": [
    "flags.DEFINE_string('f', '', 'kernel')"
   ]
  },
  {
   "cell_type": "markdown",
   "metadata": {},
   "source": [
    "# load and preprocess data"
   ]
  },
  {
   "cell_type": "code",
   "execution_count": 11,
   "metadata": {},
   "outputs": [
    {
     "name": "stdout",
     "output_type": "stream",
     "text": [
      "{'input_path': 'data/sports_df.pkl', 'output_path': 'data/sports.pkl', 'word_vec_path': 'data/crawl-300d-2M.vec', 'n_vocab': 50000, 'f': ''}\n",
      "loading input data...\n"
     ]
    }
   ],
   "source": [
    "config = flags.FLAGS\n",
    "print(str(config.flag_values_dict()))\n",
    "\n",
    "print('loading input data...')\n",
    "train_df, dev_df, test_df = cPickle.load(open(config.input_path, 'rb'))"
   ]
  },
  {
   "cell_type": "markdown",
   "metadata": {},
   "source": [
    "## use raw fastText vec"
   ]
  },
  {
   "cell_type": "code",
   "execution_count": 28,
   "metadata": {},
   "outputs": [],
   "source": [
    "def get_word_list(tokens_list):\n",
    "    # create vocab of words\n",
    "    word_dict = defaultdict(int)\n",
    "    word_dict[BOS] = np.inf\n",
    "    word_dict[EOS] = np.inf\n",
    "    word_dict['.'] = np.inf\n",
    "    for tokens in tokens_list:\n",
    "        for word in tokens:\n",
    "            word_dict[word] += 1\n",
    "    word_dict = sorted(word_dict.items(), key=lambda x: x[1])[::-1]\n",
    "    return [w for w, cnt in word_dict]\n",
    "\n",
    "def get_fasttext(word_vec_path):\n",
    "    # create pretrained word_vec \n",
    "    word_vec = {}\n",
    "    header = True\n",
    "    with open(word_vec_path) as f:\n",
    "        for line in f:\n",
    "            if header:\n",
    "                header = False\n",
    "                continue\n",
    "            word, vec = line.split(' ', 1)\n",
    "            word_vec[word] = np.array(list(vec.split())).astype(np.float32)\n",
    "    return word_vec\n",
    "\n",
    "def get_word_vec(word_list, fasttext_vec):\n",
    "    word_vec = []\n",
    "    for word in word_list:\n",
    "        try:\n",
    "            vec = fasttext_vec[word]\n",
    "            word_vec.append((word, vec))\n",
    "        except:\n",
    "            continue\n",
    "    return OrderedDict(word_vec)\n",
    "\n",
    "def get_vocab_emb(word_vec, word_emb_dim, n_vocab=50000):\n",
    "    # build vocab and embedding matrix\n",
    "    word_vec_list = list(word_vec.items())\n",
    "    word_vec_list.insert(0, (UNK, np.zeros([word_emb_dim], dtype=np.float32)))\n",
    "    word_vec_list.insert(0, (PAD, np.zeros([word_emb_dim], dtype=np.float32)))\n",
    "    \n",
    "    word_vec_list = word_vec_list[:n_vocab]\n",
    "    vocab = {word: i for i, (word, vec) in enumerate(word_vec_list)}\n",
    "    embeddings = np.array([vec for word, vec in word_vec_list]).astype(np.float32)\n",
    "    \n",
    "    assert len(vocab) == len(embeddings)\n",
    "    \n",
    "    return vocab, embeddings"
   ]
  },
  {
   "cell_type": "code",
   "execution_count": 13,
   "metadata": {},
   "outputs": [],
   "source": [
    "tokens = []\n",
    "for doc in train_df.tokens:\n",
    "    tokens.extend(doc)\n",
    "for doc in dev_df.tokens:\n",
    "    tokens.extend(doc)"
   ]
  },
  {
   "cell_type": "code",
   "execution_count": 14,
   "metadata": {},
   "outputs": [],
   "source": [
    "word_list = get_word_list(tokens)"
   ]
  },
  {
   "cell_type": "code",
   "execution_count": 27,
   "metadata": {
    "scrolled": false
   },
   "outputs": [],
   "source": [
    "print('loading pretrained word vectors...')\n",
    "word_list = get_word_list(tokens)\n",
    "fasttext_vec = get_fasttext(config.word_vec_path)\n",
    "word_vec = get_word_vec(word_list, fasttext_vec)"
   ]
  },
  {
   "cell_type": "code",
   "execution_count": 29,
   "metadata": {},
   "outputs": [],
   "source": [
    "word_emb_dim = list(fasttext_vec.values())[0].shape[0]\n",
    "vocab, embeddings = get_vocab_emb(word_vec, word_emb_dim, n_vocab=config.n_vocab)"
   ]
  },
  {
   "cell_type": "markdown",
   "metadata": {},
   "source": [
    "# build instance list"
   ]
  },
  {
   "cell_type": "code",
   "execution_count": 34,
   "metadata": {},
   "outputs": [],
   "source": [
    "def to_line_idxs(token_idxs, vocab):\n",
    "    tokens_bos_eos = [token + [vocab['.']] for token in token_idxs]\n",
    "    line_idxs = [token for tokens_line in tokens_bos_eos for token in tokens_line]\n",
    "    return line_idxs"
   ]
  },
  {
   "cell_type": "code",
   "execution_count": 35,
   "metadata": {},
   "outputs": [],
   "source": [
    "def prepare_instancelst(data_df, vocab):\n",
    "    instancelst = []\n",
    "    for i_doc, doc in data_df.iterrows():\n",
    "        instance = Instance()\n",
    "        instance.idx = i_doc\n",
    "        instance.asin = doc.asin\n",
    "        doc_token_idxs = []\n",
    "        for i, sent_tokens in enumerate(doc.tokens):\n",
    "            sent_token_idxs = []\n",
    "            for token in sent_tokens:\n",
    "                if(token in vocab):\n",
    "                    sent_token_idxs.append(vocab[token])\n",
    "                else:\n",
    "                    sent_token_idxs.append(vocab[UNK])\n",
    "            doc_token_idxs.append(sent_token_idxs)\n",
    "        instance.token_idxs = doc_token_idxs\n",
    "        instance.line_idxs = to_line_idxs(doc_token_idxs, vocab)\n",
    "        instance.goldLabel = doc.overall\n",
    "        instance.summary = doc.summary\n",
    "        instance.summary_tokens = doc.summary_tokens\n",
    "        instance.summary_idxs = [vocab[token] if token in vocab else vocab[UNK] for token in instance.summary_tokens]\n",
    "        instance.doc_l = doc.doc_l\n",
    "        instance.max_sent_l = doc.max_sent_l\n",
    "        instancelst.append(instance)\n",
    "    return instancelst"
   ]
  },
  {
   "cell_type": "code",
   "execution_count": 36,
   "metadata": {
    "scrolled": true
   },
   "outputs": [],
   "source": [
    "instances_train = prepare_instancelst(train_df, vocab)\n",
    "instances_dev = prepare_instancelst(dev_df, vocab)\n",
    "instances_test = prepare_instancelst(test_df, vocab)"
   ]
  },
  {
   "cell_type": "code",
   "execution_count": 38,
   "metadata": {},
   "outputs": [
    {
     "name": "stdout",
     "output_type": "stream",
     "text": [
      "saving preprocessed data...\n"
     ]
    }
   ],
   "source": [
    "print('saving preprocessed data...')\n",
    "cPickle.dump((instances_train, instances_dev, instances_test, embeddings, vocab),open(config.output_path,'wb'))"
   ]
  },
  {
   "cell_type": "code",
   "execution_count": null,
   "metadata": {},
   "outputs": [],
   "source": []
  }
 ],
 "metadata": {
  "kernelspec": {
   "display_name": "py36",
   "language": "python",
   "name": "py36"
  },
  "language_info": {
   "codemirror_mode": {
    "name": "ipython",
    "version": 3
   },
   "file_extension": ".py",
   "mimetype": "text/x-python",
   "name": "python",
   "nbconvert_exporter": "python",
   "pygments_lexer": "ipython3",
   "version": "3.6.7"
  },
  "toc": {
   "base_numbering": 1,
   "nav_menu": {},
   "number_sections": true,
   "sideBar": true,
   "skip_h1_title": false,
   "title_cell": "Table of Contents",
   "title_sidebar": "Contents",
   "toc_cell": false,
   "toc_position": {},
   "toc_section_display": true,
   "toc_window_display": false
  }
 },
 "nbformat": 4,
 "nbformat_minor": 2
}
