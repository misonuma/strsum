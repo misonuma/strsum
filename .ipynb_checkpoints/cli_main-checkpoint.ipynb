{
 "cells": [
  {
   "cell_type": "code",
   "execution_count": 1,
   "metadata": {},
   "outputs": [],
   "source": [
    "%load_ext autoreload\n",
    "\n",
    "from IPython.display import clear_output"
   ]
  },
  {
   "cell_type": "code",
   "execution_count": 23,
   "metadata": {},
   "outputs": [],
   "source": [
    "%autoreload\n",
    "\n",
    "import os\n",
    "import sys\n",
    "import pdb\n",
    "\n",
    "import logging\n",
    "import numpy as np\n",
    "import cPickle\n",
    "import codecs\n",
    "import itertools\n",
    "\n",
    "import tensorflow as tf\n",
    "import pyrouge\n",
    "\n",
    "from data_structure import load_data\n",
    "from model import StrSumModel\n",
    "from run import run\n",
    "from rouge import rouge_n, rouge_l_sentence_level"
   ]
  },
  {
   "cell_type": "code",
   "execution_count": 11,
   "metadata": {},
   "outputs": [],
   "source": [
    "def del_all_flags(FLAGS):\n",
    "    flags_dict = FLAGS._flags()    \n",
    "    keys_list = [keys for keys in flags_dict]    \n",
    "    for keys in keys_list:\n",
    "        FLAGS.__delattr__(keys)\n",
    "\n",
    "del_all_flags(tf.flags.FLAGS)"
   ]
  },
  {
   "cell_type": "markdown",
   "metadata": {},
   "source": [
    "# cli.py"
   ]
  },
  {
   "cell_type": "code",
   "execution_count": 12,
   "metadata": {},
   "outputs": [],
   "source": [
    "PAD = '<pad>' # This has a vocab id, which is used to pad the encoder input, decoder input and target sequence\n",
    "UNK = '<unk>' # This has a vocab id, which is used to represent out-of-vocabulary words\n",
    "BOS = '<p>' # This has a vocab id, which is used at the beginning of every decoder input sequence\n",
    "EOS = '</p>' # This has a vocab id, which is used at the end of untruncated target sequences"
   ]
  },
  {
   "cell_type": "code",
   "execution_count": 13,
   "metadata": {},
   "outputs": [],
   "source": [
    "flags = tf.app.flags\n",
    "config = flags.FLAGS\n",
    "\n",
    "flags.DEFINE_string('gpu', '0', 'visible gpu')\n",
    "\n",
    "flags.DEFINE_string('mode', 'train', 'set train or eval')\n",
    "\n",
    "flags.DEFINE_string('datadir', 'data', 'datadir')\n",
    "flags.DEFINE_string('dataname', 'sports_fined.pkl', 'dataname')\n",
    "flags.DEFINE_string('modeldir', 'model', 'modeldir')\n",
    "flags.DEFINE_string('modelname', 'sports', 'modelname')\n",
    "\n",
    "flags.DEFINE_bool('discourserank', True, 'discourserank')\n",
    "flags.DEFINE_float('damp', 0.9, 'damping factor of discourserank')\n",
    "\n",
    "flags.DEFINE_integer('epochs', 1000, 'epochs')\n",
    "flags.DEFINE_integer('batch_size', 8, 'batch_size')\n",
    "flags.DEFINE_integer('log_period', 500, 'log_period')\n",
    "\n",
    "flags.DEFINE_string('opt', 'Adagrad', 'optimizer')\n",
    "flags.DEFINE_float('lr', 0.1, 'lr')\n",
    "flags.DEFINE_float('norm', 1e-4, 'norm')\n",
    "flags.DEFINE_float('grad_clip', 10.0, 'grad_clip')\n",
    "flags.DEFINE_float('keep_prob', 0.95, 'keep_prob')\n",
    "flags.DEFINE_integer('beam_width', 10, 'beam_width')\n",
    "flags.DEFINE_float('length_penalty_weight', 0.0, 'length_penalty_weight')\n",
    "\n",
    "flags.DEFINE_integer('dim_hidden', 256, 'dim_output')\n",
    "flags.DEFINE_integer('dim_str', 128, 'dim_output')\n",
    "flags.DEFINE_integer('dim_sent', 384, 'dim_sent')\n",
    "\n",
    "# for evaluation\n",
    "flags.DEFINE_string('refdir', 'ref', 'refdir')\n",
    "flags.DEFINE_string('outdir', 'out', 'outdir')\n",
    "\n",
    "\n",
    "flags.DEFINE_string('f', '', 'kernel')"
   ]
  },
  {
   "cell_type": "code",
   "execution_count": 5,
   "metadata": {},
   "outputs": [],
   "source": [
    "os.environ['CUDA_VISIBLE_DEVICES'] = config.gpu"
   ]
  },
  {
   "cell_type": "code",
   "execution_count": 7,
   "metadata": {},
   "outputs": [
    {
     "name": "stdout",
     "output_type": "stream",
     "text": [
      "Number of train examples: 37445\n"
     ]
    }
   ],
   "source": [
    "train_batches, dev_batches, test_batches, embedding_matrix, vocab, word_to_id  = load_data(config)"
   ]
  },
  {
   "cell_type": "code",
   "execution_count": 14,
   "metadata": {},
   "outputs": [],
   "source": [
    "n_embed, d_embed = embedding_matrix.shape\n",
    "flags.DEFINE_integer('n_embed', n_embed, 'n_embed')\n",
    "flags.DEFINE_integer('d_embed', d_embed, 'd_embed')\n",
    "\n",
    "maximum_iterations = max([max([d._max_sent_len(None) for d in batch]) for ct, batch in dev_batches])\n",
    "flags.DEFINE_integer('maximum_iterations', maximum_iterations, 'maximum_iterations')\n",
    "flags.DEFINE_integer('PAD_IDX', word_to_id[PAD], 'PAD_IDX')\n",
    "flags.DEFINE_integer('UNK_IDX', word_to_id[UNK], 'UNK_IDX')\n",
    "flags.DEFINE_integer('BOS_IDX', word_to_id[BOS], 'BOS_IDX')\n",
    "flags.DEFINE_integer('EOS_IDX', word_to_id[EOS], 'EOS_IDX')"
   ]
  },
  {
   "cell_type": "markdown",
   "metadata": {},
   "source": [
    "# train.py "
   ]
  },
  {
   "cell_type": "code",
   "execution_count": 15,
   "metadata": {},
   "outputs": [],
   "source": [
    "PAD = '<pad>' # This has a vocab id, which is used to pad the encoder input, decoder input and target sequence\n",
    "UNK = '<unk>' # This has a vocab id, which is used to represent out-of-vocabulary words\n",
    "BOS = '<p>' # This has a vocab id, which is used at the beginning of every decoder input sequence\n",
    "EOS = '</p>' # This has a vocab id, which is used at the end of untruncated target sequences"
   ]
  },
  {
   "cell_type": "code",
   "execution_count": 17,
   "metadata": {},
   "outputs": [],
   "source": [
    "%autoreload\n",
    "\n",
    "from model import StrSumModel\n",
    "\n",
    "model = StrSumModel(config)\n",
    "model.build()"
   ]
  },
  {
   "cell_type": "code",
   "execution_count": 18,
   "metadata": {},
   "outputs": [
    {
     "data": {
      "text/plain": [
       "array([[ 0.    ,  0.    ,  0.    , ...,  0.    ,  0.    ,  0.    ],\n",
       "       [ 0.    ,  0.    ,  0.    , ...,  0.    ,  0.    ,  0.    ],\n",
       "       [-0.201 ,  0.3212, -0.027 , ...,  0.1667, -0.0982, -0.0186],\n",
       "       ...,\n",
       "       [-1.3045,  0.3266,  0.5752, ...,  0.5891, -0.035 , -0.6161],\n",
       "       [ 0.0143,  0.353 , -0.5258, ...,  0.5506, -0.2468,  0.3779],\n",
       "       [ 0.1307,  0.0051, -0.2055, ..., -0.11  , -0.2712,  0.3053]],\n",
       "      dtype=float32)"
      ]
     },
     "execution_count": 18,
     "metadata": {},
     "output_type": "execute_result"
    }
   ],
   "source": [
    "if 'sess' in globals(): sess.close()\n",
    "sess = tf.Session()\n",
    "gvi = tf.global_variables_initializer()\n",
    "sess.run(gvi)\n",
    "sess.run(model.embeddings.assign(embedding_matrix.astype(np.float32)))"
   ]
  },
  {
   "cell_type": "code",
   "execution_count": 28,
   "metadata": {},
   "outputs": [],
   "source": [
    "def get_txt_from_idx(idxs, model, vocab):\n",
    "    return [' '.join([vocab[idx] for idx in idxs if (idx != model.config.EOS_IDX and idx != model.config.PAD_IDX)])]\n",
    "\n",
    "def get_txt_from_tokens(tokens):\n",
    "    return [' '.join([token for token in l]) for l in tokens]\n",
    "\n",
    "def get_rouges(sess, model, batch, vocab, modes=[1, 2, 'l']):\n",
    "    feed_dict = model.get_feed_dict(batch, mode='test')\n",
    "    batch_root_token_idxs = sess.run(model.root_token_idxs, feed_dict = feed_dict)\n",
    "    rouges = []\n",
    "    for instance, root_token_idxs in zip(batch, batch_root_token_idxs):\n",
    "        out_tokens = get_txt_from_idx(root_token_idxs, model, vocab)\n",
    "        ref_tokens = get_txt_from_tokens([instance.summary_tokens])\n",
    "        \n",
    "        rouge_1_f1 = rouge_n(out_tokens, ref_tokens, 1)[0]\n",
    "        rouge_2_f1 = rouge_n(out_tokens, ref_tokens, 2)[0]\n",
    "        rouge_l_f1 = rouge_l_sentence_level(out_tokens, ref_tokens)[0]\n",
    "        \n",
    "        rouge_batch = [rouge_1_f1, rouge_2_f1, rouge_l_f1]\n",
    "        rouges.append(rouge_batch)\n",
    "    return rouges"
   ]
  },
  {
   "cell_type": "code",
   "execution_count": 29,
   "metadata": {},
   "outputs": [],
   "source": [
    "def evaluate(sess, batches, model, vocab):\n",
    "    losses, rouges = [], []\n",
    "    for ct, batch in batches:\n",
    "        feed_dict = model.get_feed_dict(batch, mode='test')\n",
    "        loss_batch = sess.run(model.loss, feed_dict = feed_dict)\n",
    "        rouge_batch = get_rouges(sess, model, batch, vocab)\n",
    "        losses += [loss_batch]\n",
    "        rouges += rouge_batch\n",
    "        \n",
    "    loss_mean = np.mean(losses)\n",
    "    rouge_mean = tuple(np.mean(rouges, 0))\n",
    "    return loss_mean, rouge_mean"
   ]
  },
  {
   "cell_type": "code",
   "execution_count": null,
   "metadata": {
    "scrolled": false
   },
   "outputs": [
    {
     "name": "stdout",
     "output_type": "stream",
     "text": [
      "Step: 1000 | LOSS TRAIN: 6.450, DEV: 6.294, TEST: 6.319  | DEV ROUGE-1: 0.055, -2: 0.001, -L: 0.007 | TEST ROUGE: -1: 0.049, -2: 0.001, -L: 0.006\n",
      "Step: 1500 | LOSS TRAIN: 6.143, DEV: 6.035, TEST: 6.044  | DEV ROUGE-1: 0.055, -2: 0.002, -L: 0.046 | TEST ROUGE: -1: 0.042, -2: 0.001, -L: 0.036\n",
      "Step: 2000 | LOSS TRAIN: 5.981, DEV: 5.886, TEST: 5.910  | DEV ROUGE-1: 0.057, -2: 0.005, -L: 0.049 | TEST ROUGE: -1: 0.058, -2: 0.004, -L: 0.049\n",
      "Step: 2500 | LOSS TRAIN: 5.862, DEV: 5.827, TEST: 5.846  | DEV ROUGE-1: 0.070, -2: 0.006, -L: 0.056 | TEST ROUGE: -1: 0.071, -2: 0.006, -L: 0.058\n",
      "Step: 3000 | LOSS TRAIN: 5.801, DEV: 5.742, TEST: 5.846  | DEV ROUGE-1: 0.068, -2: 0.004, -L: 0.053 | TEST ROUGE: -1: 0.071, -2: 0.006, -L: 0.058\n",
      "Step: 3500 | LOSS TRAIN: 5.739, DEV: 5.675, TEST: 5.846  | DEV ROUGE-1: 0.072, -2: 0.004, -L: 0.054 | TEST ROUGE: -1: 0.071, -2: 0.006, -L: 0.058\n",
      "Step: 4000 | LOSS TRAIN: 5.690, DEV: 5.628, TEST: 5.846  | DEV ROUGE-1: 0.055, -2: 0.002, -L: 0.038 | TEST ROUGE: -1: 0.071, -2: 0.006, -L: 0.058\n",
      "Step: 4500 | LOSS TRAIN: 5.659, DEV: 5.587, TEST: 5.846  | DEV ROUGE-1: 0.067, -2: 0.003, -L: 0.048 | TEST ROUGE: -1: 0.071, -2: 0.006, -L: 0.058\n",
      "Step: 5000 | LOSS TRAIN: 5.612, DEV: 5.562, TEST: 5.846  | DEV ROUGE-1: 0.063, -2: 0.003, -L: 0.044 | TEST ROUGE: -1: 0.071, -2: 0.006, -L: 0.058\n",
      "Step: 5500 | LOSS TRAIN: 5.586, DEV: 5.531, TEST: 5.846  | DEV ROUGE-1: 0.063, -2: 0.002, -L: 0.048 | TEST ROUGE: -1: 0.071, -2: 0.006, -L: 0.058\n",
      "Step: 6000 | LOSS TRAIN: 5.560, DEV: 5.530, TEST: 5.846  | DEV ROUGE-1: 0.079, -2: 0.005, -L: 0.059 | TEST ROUGE: -1: 0.071, -2: 0.006, -L: 0.058\n",
      "Step: 6500 | LOSS TRAIN: 5.523, DEV: 5.473, TEST: 5.846  | DEV ROUGE-1: 0.052, -2: 0.002, -L: 0.035 | TEST ROUGE: -1: 0.071, -2: 0.006, -L: 0.058\n",
      "Step: 7000 | LOSS TRAIN: 5.492, DEV: 5.470, TEST: 5.846  | DEV ROUGE-1: 0.063, -2: 0.004, -L: 0.047 | TEST ROUGE: -1: 0.071, -2: 0.006, -L: 0.058\n",
      "Step: 7500 | LOSS TRAIN: 5.470, DEV: 5.417, TEST: 5.846  | DEV ROUGE-1: 0.059, -2: 0.007, -L: 0.040 | TEST ROUGE: -1: 0.071, -2: 0.006, -L: 0.058\n",
      "Step: 8000 | LOSS TRAIN: 5.436, DEV: 5.421, TEST: 5.846  | DEV ROUGE-1: 0.069, -2: 0.005, -L: 0.053 | TEST ROUGE: -1: 0.071, -2: 0.006, -L: 0.058\n",
      "Step: 8500 | LOSS TRAIN: 5.434, DEV: 5.374, TEST: 5.417  | DEV ROUGE-1: 0.078, -2: 0.009, -L: 0.055 | TEST ROUGE: -1: 0.072, -2: 0.004, -L: 0.051\n",
      "Step: 9000 | LOSS TRAIN: 5.423, DEV: 5.366, TEST: 5.417  | DEV ROUGE-1: 0.057, -2: 0.006, -L: 0.037 | TEST ROUGE: -1: 0.072, -2: 0.004, -L: 0.051\n",
      "Step: 9500 | LOSS TRAIN: 5.396, DEV: 5.344, TEST: 5.417  | DEV ROUGE-1: 0.069, -2: 0.009, -L: 0.050 | TEST ROUGE: -1: 0.072, -2: 0.004, -L: 0.051\n",
      "Step: 10000 | LOSS TRAIN: 5.380, DEV: 5.324, TEST: 5.364  | DEV ROUGE-1: 0.070, -2: 0.011, -L: 0.046 | TEST ROUGE: -1: 0.075, -2: 0.010, -L: 0.050\n",
      "Step: 10500 | LOSS TRAIN: 5.376, DEV: 5.319, TEST: 5.361  | DEV ROUGE-1: 0.060, -2: 0.012, -L: 0.045 | TEST ROUGE: -1: 0.061, -2: 0.008, -L: 0.046\n",
      "Step: 11000 | LOSS TRAIN: 5.352, DEV: 5.294, TEST: 5.361  | DEV ROUGE-1: 0.069, -2: 0.004, -L: 0.048 | TEST ROUGE: -1: 0.061, -2: 0.008, -L: 0.046\n",
      "Step: 11500 | LOSS TRAIN: 5.335, DEV: 5.294, TEST: 5.361  | DEV ROUGE-1: 0.055, -2: 0.006, -L: 0.039 | TEST ROUGE: -1: 0.061, -2: 0.008, -L: 0.046\n",
      "Step: 12000 | LOSS TRAIN: 5.304, DEV: 5.267, TEST: 5.361  | DEV ROUGE-1: 0.058, -2: 0.008, -L: 0.042 | TEST ROUGE: -1: 0.061, -2: 0.008, -L: 0.046\n",
      "Step: 12500 | LOSS TRAIN: 5.301, DEV: 5.261, TEST: 5.309  | DEV ROUGE-1: 0.079, -2: 0.011, -L: 0.057 | TEST ROUGE: -1: 0.078, -2: 0.006, -L: 0.058\n",
      "Step: 13000 | LOSS TRAIN: 5.299, DEV: 5.244, TEST: 5.309  | DEV ROUGE-1: 0.064, -2: 0.010, -L: 0.048 | TEST ROUGE: -1: 0.078, -2: 0.006, -L: 0.058\n",
      "Step: 13500 | LOSS TRAIN: 5.277, DEV: 5.232, TEST: 5.309  | DEV ROUGE-1: 0.069, -2: 0.005, -L: 0.050 | TEST ROUGE: -1: 0.078, -2: 0.006, -L: 0.058\n",
      "Step: 14000 | LOSS TRAIN: 5.277, DEV: 5.216, TEST: 5.309  | DEV ROUGE-1: 0.072, -2: 0.012, -L: 0.053 | TEST ROUGE: -1: 0.078, -2: 0.006, -L: 0.058\n",
      "Step: 14500 | LOSS TRAIN: 5.257, DEV: 5.206, TEST: 5.309  | DEV ROUGE-1: 0.063, -2: 0.009, -L: 0.046 | TEST ROUGE: -1: 0.078, -2: 0.006, -L: 0.058\n",
      "Step: 15000 | LOSS TRAIN: 5.256, DEV: 5.194, TEST: 5.309  | DEV ROUGE-1: 0.057, -2: 0.007, -L: 0.040 | TEST ROUGE: -1: 0.078, -2: 0.006, -L: 0.058\n",
      "Step: 15500 | LOSS TRAIN: 5.237, DEV: 5.192, TEST: 5.309  | DEV ROUGE-1: 0.055, -2: 0.008, -L: 0.038 | TEST ROUGE: -1: 0.078, -2: 0.006, -L: 0.058\n",
      "Step: 16000 | LOSS TRAIN: 5.233, DEV: 5.171, TEST: 5.309  | DEV ROUGE-1: 0.073, -2: 0.011, -L: 0.052 | TEST ROUGE: -1: 0.078, -2: 0.006, -L: 0.058\n",
      "Step: 16500 | LOSS TRAIN: 5.207, DEV: 5.174, TEST: 5.309  | DEV ROUGE-1: 0.078, -2: 0.007, -L: 0.060 | TEST ROUGE: -1: 0.078, -2: 0.006, -L: 0.058\n",
      "Step: 17000 | LOSS TRAIN: 5.206, DEV: 5.161, TEST: 5.309  | DEV ROUGE-1: 0.067, -2: 0.008, -L: 0.048 | TEST ROUGE: -1: 0.078, -2: 0.006, -L: 0.058\n",
      "Step: 17500 | LOSS TRAIN: 5.180, DEV: 5.150, TEST: 5.309  | DEV ROUGE-1: 0.069, -2: 0.011, -L: 0.051 | TEST ROUGE: -1: 0.078, -2: 0.006, -L: 0.058\n",
      "Step: 18000 | LOSS TRAIN: 5.187, DEV: 5.141, TEST: 5.309  | DEV ROUGE-1: 0.074, -2: 0.009, -L: 0.057 | TEST ROUGE: -1: 0.078, -2: 0.006, -L: 0.058\n",
      "Step: 18500 | LOSS TRAIN: 5.191, DEV: 5.130, TEST: 5.309  | DEV ROUGE-1: 0.071, -2: 0.010, -L: 0.053 | TEST ROUGE: -1: 0.078, -2: 0.006, -L: 0.058\n",
      "Step: 19000 | LOSS TRAIN: 5.171, DEV: 5.128, TEST: 5.309  | DEV ROUGE-1: 0.049, -2: 0.004, -L: 0.035 | TEST ROUGE: -1: 0.078, -2: 0.006, -L: 0.058\n",
      "Step: 19500 | LOSS TRAIN: 5.164, DEV: 5.113, TEST: 5.309  | DEV ROUGE-1: 0.063, -2: 0.007, -L: 0.047 | TEST ROUGE: -1: 0.078, -2: 0.006, -L: 0.058\n",
      "Step: 20000 | LOSS TRAIN: 5.172, DEV: 5.108, TEST: 5.309  | DEV ROUGE-1: 0.074, -2: 0.006, -L: 0.055 | TEST ROUGE: -1: 0.078, -2: 0.006, -L: 0.058\n",
      "Step: 20500 | LOSS TRAIN: 5.142, DEV: 5.103, TEST: 5.309  | DEV ROUGE-1: 0.070, -2: 0.010, -L: 0.056 | TEST ROUGE: -1: 0.078, -2: 0.006, -L: 0.058\n",
      "Step: 21000 | LOSS TRAIN: 5.143, DEV: 5.091, TEST: 5.154  | DEV ROUGE-1: 0.085, -2: 0.013, -L: 0.063 | TEST ROUGE: -1: 0.092, -2: 0.009, -L: 0.071\n",
      "Step: 21500 | LOSS TRAIN: 5.126, DEV: 5.086, TEST: 5.154  | DEV ROUGE-1: 0.072, -2: 0.009, -L: 0.052 | TEST ROUGE: -1: 0.092, -2: 0.009, -L: 0.071\n",
      "Step: 22000 | LOSS TRAIN: 5.121, DEV: 5.085, TEST: 5.154  | DEV ROUGE-1: 0.068, -2: 0.012, -L: 0.052 | TEST ROUGE: -1: 0.092, -2: 0.009, -L: 0.071\n",
      "Step: 22500 | LOSS TRAIN: 5.117, DEV: 5.079, TEST: 5.154  | DEV ROUGE-1: 0.066, -2: 0.008, -L: 0.049 | TEST ROUGE: -1: 0.092, -2: 0.009, -L: 0.071\n",
      "Step: 23000 | LOSS TRAIN: 5.114, DEV: 5.080, TEST: 5.154  | DEV ROUGE-1: 0.075, -2: 0.008, -L: 0.058 | TEST ROUGE: -1: 0.092, -2: 0.009, -L: 0.071\n",
      "Step: 23500 | LOSS TRAIN: 5.113, DEV: 5.065, TEST: 5.154  | DEV ROUGE-1: 0.073, -2: 0.009, -L: 0.054 | TEST ROUGE: -1: 0.092, -2: 0.009, -L: 0.071\n",
      "Step: 24000 | LOSS TRAIN: 5.106, DEV: 5.063, TEST: 5.154  | DEV ROUGE-1: 0.059, -2: 0.006, -L: 0.043 | TEST ROUGE: -1: 0.092, -2: 0.009, -L: 0.071\n",
      "Step: 24500 | LOSS TRAIN: 5.107, DEV: 5.048, TEST: 5.154  | DEV ROUGE-1: 0.076, -2: 0.011, -L: 0.055 | TEST ROUGE: -1: 0.092, -2: 0.009, -L: 0.071\n",
      "Step: 25000 | LOSS TRAIN: 5.095, DEV: 5.047, TEST: 5.154  | DEV ROUGE-1: 0.071, -2: 0.008, -L: 0.056 | TEST ROUGE: -1: 0.092, -2: 0.009, -L: 0.071\n",
      "Step: 25500 | LOSS TRAIN: 5.086, DEV: 5.038, TEST: 5.154  | DEV ROUGE-1: 0.063, -2: 0.007, -L: 0.046 | TEST ROUGE: -1: 0.092, -2: 0.009, -L: 0.071\n",
      "Step: 26000 | LOSS TRAIN: 5.063, DEV: 5.047, TEST: 5.154  | DEV ROUGE-1: 0.065, -2: 0.010, -L: 0.052 | TEST ROUGE: -1: 0.092, -2: 0.009, -L: 0.071\n",
      "Step: 26500 | LOSS TRAIN: 5.071, DEV: 5.029, TEST: 5.154  | DEV ROUGE-1: 0.060, -2: 0.005, -L: 0.046 | TEST ROUGE: -1: 0.092, -2: 0.009, -L: 0.071\n",
      "Step: 27000 | LOSS TRAIN: 5.063, DEV: 5.023, TEST: 5.154  | DEV ROUGE-1: 0.072, -2: 0.009, -L: 0.057 | TEST ROUGE: -1: 0.092, -2: 0.009, -L: 0.071\n",
      "Step: 27500 | LOSS TRAIN: 5.056, DEV: 5.017, TEST: 5.154  | DEV ROUGE-1: 0.066, -2: 0.008, -L: 0.051 | TEST ROUGE: -1: 0.092, -2: 0.009, -L: 0.071\n",
      "Step: 28000 | LOSS TRAIN: 5.068, DEV: 5.009, TEST: 5.154  | DEV ROUGE-1: 0.069, -2: 0.007, -L: 0.052 | TEST ROUGE: -1: 0.092, -2: 0.009, -L: 0.071\n",
      "Step: 28500 | LOSS TRAIN: 5.050, DEV: 5.006, TEST: 5.154  | DEV ROUGE-1: 0.063, -2: 0.008, -L: 0.048 | TEST ROUGE: -1: 0.092, -2: 0.009, -L: 0.071\n",
      "Step: 29000 | LOSS TRAIN: 5.054, DEV: 5.011, TEST: 5.154  | DEV ROUGE-1: 0.076, -2: 0.007, -L: 0.059 | TEST ROUGE: -1: 0.092, -2: 0.009, -L: 0.071\n",
      "Step: 29500 | LOSS TRAIN: 5.054, DEV: 5.007, TEST: 5.154  | DEV ROUGE-1: 0.077, -2: 0.009, -L: 0.061 | TEST ROUGE: -1: 0.092, -2: 0.009, -L: 0.071\n",
      "Step: 30000 | LOSS TRAIN: 5.037, DEV: 4.995, TEST: 5.154  | DEV ROUGE-1: 0.063, -2: 0.008, -L: 0.048 | TEST ROUGE: -1: 0.092, -2: 0.009, -L: 0.071\n",
      "Step: 30500 | LOSS TRAIN: 5.030, DEV: 4.990, TEST: 5.154  | DEV ROUGE-1: 0.064, -2: 0.008, -L: 0.048 | TEST ROUGE: -1: 0.092, -2: 0.009, -L: 0.071\n",
      "Step: 31000 | LOSS TRAIN: 5.024, DEV: 5.017, TEST: 5.154  | DEV ROUGE-1: 0.068, -2: 0.007, -L: 0.054 | TEST ROUGE: -1: 0.092, -2: 0.009, -L: 0.071\n",
      "Step: 31500 | LOSS TRAIN: 5.005, DEV: 4.985, TEST: 5.053  | DEV ROUGE-1: 0.087, -2: 0.013, -L: 0.068 | TEST ROUGE: -1: 0.097, -2: 0.009, -L: 0.075\n",
      "Step: 32000 | LOSS TRAIN: 5.020, DEV: 4.973, TEST: 5.053  | DEV ROUGE-1: 0.069, -2: 0.009, -L: 0.054 | TEST ROUGE: -1: 0.097, -2: 0.009, -L: 0.075\n",
      "Step: 32500 | LOSS TRAIN: 5.026, DEV: 4.984, TEST: 5.053  | DEV ROUGE-1: 0.070, -2: 0.006, -L: 0.055 | TEST ROUGE: -1: 0.097, -2: 0.009, -L: 0.075\n",
      "Step: 33000 | LOSS TRAIN: 5.010, DEV: 4.975, TEST: 5.053  | DEV ROUGE-1: 0.083, -2: 0.010, -L: 0.064 | TEST ROUGE: -1: 0.097, -2: 0.009, -L: 0.075\n",
      "Step: 33500 | LOSS TRAIN: 5.008, DEV: 4.970, TEST: 5.053  | DEV ROUGE-1: 0.073, -2: 0.008, -L: 0.057 | TEST ROUGE: -1: 0.097, -2: 0.009, -L: 0.075\n",
      "Step: 34000 | LOSS TRAIN: 5.015, DEV: 4.969, TEST: 5.053  | DEV ROUGE-1: 0.066, -2: 0.009, -L: 0.052 | TEST ROUGE: -1: 0.097, -2: 0.009, -L: 0.075\n",
      "Step: 34500 | LOSS TRAIN: 5.001, DEV: 4.953, TEST: 5.053  | DEV ROUGE-1: 0.070, -2: 0.009, -L: 0.051 | TEST ROUGE: -1: 0.097, -2: 0.009, -L: 0.075\n",
      "Step: 35000 | LOSS TRAIN: 4.992, DEV: 4.945, TEST: 5.053  | DEV ROUGE-1: 0.081, -2: 0.012, -L: 0.063 | TEST ROUGE: -1: 0.097, -2: 0.009, -L: 0.075\n",
      "Step: 35500 | LOSS TRAIN: 4.969, DEV: 4.947, TEST: 5.053  | DEV ROUGE-1: 0.066, -2: 0.009, -L: 0.051 | TEST ROUGE: -1: 0.097, -2: 0.009, -L: 0.075\n",
      "Step: 36000 | LOSS TRAIN: 4.978, DEV: 4.948, TEST: 5.053  | DEV ROUGE-1: 0.081, -2: 0.010, -L: 0.065 | TEST ROUGE: -1: 0.097, -2: 0.009, -L: 0.075\n",
      "Step: 36500 | LOSS TRAIN: 4.983, DEV: 4.937, TEST: 5.053  | DEV ROUGE-1: 0.068, -2: 0.010, -L: 0.051 | TEST ROUGE: -1: 0.097, -2: 0.009, -L: 0.075\n",
      "Step: 37000 | LOSS TRAIN: 4.973, DEV: 4.929, TEST: 5.053  | DEV ROUGE-1: 0.079, -2: 0.010, -L: 0.062 | TEST ROUGE: -1: 0.097, -2: 0.009, -L: 0.075\n",
      "Step: 37500 | LOSS TRAIN: 4.979, DEV: 4.932, TEST: 5.053  | DEV ROUGE-1: 0.072, -2: 0.008, -L: 0.057 | TEST ROUGE: -1: 0.097, -2: 0.009, -L: 0.075\n",
      "Step: 38000 | LOSS TRAIN: 4.967, DEV: 4.928, TEST: 5.053  | DEV ROUGE-1: 0.075, -2: 0.009, -L: 0.059 | TEST ROUGE: -1: 0.097, -2: 0.009, -L: 0.075\n",
      "Step: 38500 | LOSS TRAIN: 4.975, DEV: 4.923, TEST: 5.053  | DEV ROUGE-1: 0.071, -2: 0.010, -L: 0.053 | TEST ROUGE: -1: 0.097, -2: 0.009, -L: 0.075\n",
      "Step: 39000 | LOSS TRAIN: 4.962, DEV: 4.925, TEST: 5.053  | DEV ROUGE-1: 0.059, -2: 0.008, -L: 0.046 | TEST ROUGE: -1: 0.097, -2: 0.009, -L: 0.075\n",
      "Step: 39500 | LOSS TRAIN: 4.964, DEV: 4.916, TEST: 5.053  | DEV ROUGE-1: 0.079, -2: 0.012, -L: 0.064 | TEST ROUGE: -1: 0.097, -2: 0.009, -L: 0.075\n",
      "Step: 40000 | LOSS TRAIN: 4.945, DEV: 4.916, TEST: 5.053  | DEV ROUGE-1: 0.077, -2: 0.013, -L: 0.060 | TEST ROUGE: -1: 0.097, -2: 0.009, -L: 0.075\n",
      "Step: 40500 | LOSS TRAIN: 4.949, DEV: 4.915, TEST: 5.053  | DEV ROUGE-1: 0.065, -2: 0.008, -L: 0.054 | TEST ROUGE: -1: 0.097, -2: 0.009, -L: 0.075\n",
      "Step: 41000 | LOSS TRAIN: 4.930, DEV: 4.907, TEST: 5.053  | DEV ROUGE-1: 0.074, -2: 0.010, -L: 0.060 | TEST ROUGE: -1: 0.097, -2: 0.009, -L: 0.075\n",
      "Step: 41500 | LOSS TRAIN: 4.943, DEV: 4.905, TEST: 5.053  | DEV ROUGE-1: 0.073, -2: 0.011, -L: 0.058 | TEST ROUGE: -1: 0.097, -2: 0.009, -L: 0.075\n",
      "Step: 42000 | LOSS TRAIN: 4.953, DEV: 4.905, TEST: 5.053  | DEV ROUGE-1: 0.072, -2: 0.010, -L: 0.057 | TEST ROUGE: -1: 0.097, -2: 0.009, -L: 0.075\n",
      "Step: 42500 | LOSS TRAIN: 4.935, DEV: 4.901, TEST: 5.053  | DEV ROUGE-1: 0.075, -2: 0.010, -L: 0.060 | TEST ROUGE: -1: 0.097, -2: 0.009, -L: 0.075\n",
      "Step: 43000 | LOSS TRAIN: 4.936, DEV: 4.900, TEST: 5.053  | DEV ROUGE-1: 0.061, -2: 0.006, -L: 0.050 | TEST ROUGE: -1: 0.097, -2: 0.009, -L: 0.075\n",
      "Step: 43500 | LOSS TRAIN: 4.950, DEV: 4.909, TEST: 5.053  | DEV ROUGE-1: 0.063, -2: 0.009, -L: 0.051 | TEST ROUGE: -1: 0.097, -2: 0.009, -L: 0.075\n",
      "Step: 44000 | LOSS TRAIN: 4.924, DEV: 4.892, TEST: 5.053  | DEV ROUGE-1: 0.072, -2: 0.013, -L: 0.059 | TEST ROUGE: -1: 0.097, -2: 0.009, -L: 0.075\n",
      "Step: 44500 | LOSS TRAIN: 4.929, DEV: 4.883, TEST: 5.053  | DEV ROUGE-1: 0.071, -2: 0.009, -L: 0.057 | TEST ROUGE: -1: 0.097, -2: 0.009, -L: 0.075\n",
      "Step: 45000 | LOSS TRAIN: 4.915, DEV: 4.894, TEST: 5.053  | DEV ROUGE-1: 0.071, -2: 0.008, -L: 0.057 | TEST ROUGE: -1: 0.097, -2: 0.009, -L: 0.075\n",
      "Step: 45500 | LOSS TRAIN: 4.913, DEV: 4.891, TEST: 5.053  | DEV ROUGE-1: 0.061, -2: 0.008, -L: 0.050 | TEST ROUGE: -1: 0.097, -2: 0.009, -L: 0.075\n",
      "Step: 46000 | LOSS TRAIN: 4.913, DEV: 4.884, TEST: 5.053  | DEV ROUGE-1: 0.074, -2: 0.011, -L: 0.059 | TEST ROUGE: -1: 0.097, -2: 0.009, -L: 0.075\n",
      "Step: 46500 | LOSS TRAIN: 4.917, DEV: 4.881, TEST: 5.053  | DEV ROUGE-1: 0.077, -2: 0.008, -L: 0.064 | TEST ROUGE: -1: 0.097, -2: 0.009, -L: 0.075\n",
      "Step: 47000 | LOSS TRAIN: 4.917, DEV: 4.879, TEST: 5.053  | DEV ROUGE-1: 0.067, -2: 0.008, -L: 0.053 | TEST ROUGE: -1: 0.097, -2: 0.009, -L: 0.075\n",
      "Step: 47500 | LOSS TRAIN: 4.912, DEV: 4.882, TEST: 5.053  | DEV ROUGE-1: 0.070, -2: 0.008, -L: 0.057 | TEST ROUGE: -1: 0.097, -2: 0.009, -L: 0.075\n",
      "Step: 48000 | LOSS TRAIN: 4.922, DEV: 4.873, TEST: 5.053  | DEV ROUGE-1: 0.071, -2: 0.009, -L: 0.055 | TEST ROUGE: -1: 0.097, -2: 0.009, -L: 0.075\n",
      "Step: 48500 | LOSS TRAIN: 4.908, DEV: 4.884, TEST: 5.053  | DEV ROUGE-1: 0.069, -2: 0.008, -L: 0.056 | TEST ROUGE: -1: 0.097, -2: 0.009, -L: 0.075\n",
      "Step: 49000 | LOSS TRAIN: 4.904, DEV: 4.864, TEST: 5.053  | DEV ROUGE-1: 0.063, -2: 0.008, -L: 0.049 | TEST ROUGE: -1: 0.097, -2: 0.009, -L: 0.075\n",
      "Step: 49500 | LOSS TRAIN: 4.883, DEV: 4.870, TEST: 5.053  | DEV ROUGE-1: 0.067, -2: 0.007, -L: 0.055 | TEST ROUGE: -1: 0.097, -2: 0.009, -L: 0.075\n",
      "Step: 50000 | LOSS TRAIN: 4.894, DEV: 4.866, TEST: 5.053  | DEV ROUGE-1: 0.069, -2: 0.007, -L: 0.056 | TEST ROUGE: -1: 0.097, -2: 0.009, -L: 0.075\n",
      "Step: 50500 | LOSS TRAIN: 4.889, DEV: 4.866, TEST: 5.053  | DEV ROUGE-1: 0.064, -2: 0.008, -L: 0.051 | TEST ROUGE: -1: 0.097, -2: 0.009, -L: 0.075\n",
      "Step: 51000 | LOSS TRAIN: 4.885, DEV: 4.858, TEST: 5.053  | DEV ROUGE-1: 0.065, -2: 0.006, -L: 0.053 | TEST ROUGE: -1: 0.097, -2: 0.009, -L: 0.075\n",
      "Step: 51500 | LOSS TRAIN: 4.901, DEV: 4.855, TEST: 5.053  | DEV ROUGE-1: 0.074, -2: 0.008, -L: 0.060 | TEST ROUGE: -1: 0.097, -2: 0.009, -L: 0.075\n",
      "Step: 52000 | LOSS TRAIN: 4.883, DEV: 4.856, TEST: 5.053  | DEV ROUGE-1: 0.071, -2: 0.008, -L: 0.060 | TEST ROUGE: -1: 0.097, -2: 0.009, -L: 0.075\n",
      "Step: 52500 | LOSS TRAIN: 4.892, DEV: 4.856, TEST: 5.053  | DEV ROUGE-1: 0.074, -2: 0.008, -L: 0.061 | TEST ROUGE: -1: 0.097, -2: 0.009, -L: 0.075\n",
      "Step: 53000 | LOSS TRAIN: 4.895, DEV: 4.852, TEST: 5.053  | DEV ROUGE-1: 0.071, -2: 0.010, -L: 0.056 | TEST ROUGE: -1: 0.097, -2: 0.009, -L: 0.075\n",
      "Step: 53500 | LOSS TRAIN: 4.878, DEV: 4.845, TEST: 5.053  | DEV ROUGE-1: 0.072, -2: 0.008, -L: 0.057 | TEST ROUGE: -1: 0.097, -2: 0.009, -L: 0.075\n",
      "Step: 54000 | LOSS TRAIN: 4.871, DEV: 4.844, TEST: 5.053  | DEV ROUGE-1: 0.072, -2: 0.007, -L: 0.058 | TEST ROUGE: -1: 0.097, -2: 0.009, -L: 0.075\n",
      "Step: 54500 | LOSS TRAIN: 4.872, DEV: 4.849, TEST: 5.053  | DEV ROUGE-1: 0.076, -2: 0.009, -L: 0.062 | TEST ROUGE: -1: 0.097, -2: 0.009, -L: 0.075\n",
      "Step: 55000 | LOSS TRAIN: 4.852, DEV: 4.846, TEST: 5.053  | DEV ROUGE-1: 0.068, -2: 0.007, -L: 0.055 | TEST ROUGE: -1: 0.097, -2: 0.009, -L: 0.075\n",
      "Step: 55500 | LOSS TRAIN: 4.869, DEV: 4.844, TEST: 5.053  | DEV ROUGE-1: 0.072, -2: 0.008, -L: 0.058 | TEST ROUGE: -1: 0.097, -2: 0.009, -L: 0.075\n",
      "Step: 56000 | LOSS TRAIN: 4.879, DEV: 4.845, TEST: 5.053  | DEV ROUGE-1: 0.073, -2: 0.009, -L: 0.060 | TEST ROUGE: -1: 0.097, -2: 0.009, -L: 0.075\n",
      "Step: 56500 | LOSS TRAIN: 4.864, DEV: 4.844, TEST: 5.053  | DEV ROUGE-1: 0.075, -2: 0.009, -L: 0.061 | TEST ROUGE: -1: 0.097, -2: 0.009, -L: 0.075\n",
      "Step: 57000 | LOSS TRAIN: 4.865, DEV: 4.846, TEST: 5.053  | DEV ROUGE-1: 0.072, -2: 0.008, -L: 0.059 | TEST ROUGE: -1: 0.097, -2: 0.009, -L: 0.075\n",
      "Step: 57500 | LOSS TRAIN: 4.877, DEV: 4.834, TEST: 5.053  | DEV ROUGE-1: 0.072, -2: 0.007, -L: 0.057 | TEST ROUGE: -1: 0.097, -2: 0.009, -L: 0.075\n",
      "Step: 58000 | LOSS TRAIN: 4.864, DEV: 4.831, TEST: 5.053  | DEV ROUGE-1: 0.074, -2: 0.010, -L: 0.059 | TEST ROUGE: -1: 0.097, -2: 0.009, -L: 0.075\n",
      "Step: 58500 | LOSS TRAIN: 4.859, DEV: 4.832, TEST: 5.053  | DEV ROUGE-1: 0.070, -2: 0.010, -L: 0.058 | TEST ROUGE: -1: 0.097, -2: 0.009, -L: 0.075\n",
      "Step: 59000 | LOSS TRAIN: 4.836, DEV: 4.827, TEST: 5.053  | DEV ROUGE-1: 0.066, -2: 0.007, -L: 0.052 | TEST ROUGE: -1: 0.097, -2: 0.009, -L: 0.075\n",
      "Step: 59500 | LOSS TRAIN: 4.848, DEV: 4.836, TEST: 5.053  | DEV ROUGE-1: 0.075, -2: 0.009, -L: 0.060 | TEST ROUGE: -1: 0.097, -2: 0.009, -L: 0.075\n",
      "Step: 60000 | LOSS TRAIN: 4.855, DEV: 4.834, TEST: 5.053  | DEV ROUGE-1: 0.067, -2: 0.006, -L: 0.054 | TEST ROUGE: -1: 0.097, -2: 0.009, -L: 0.075\n",
      "Step: 60500 | LOSS TRAIN: 4.846, DEV: 4.824, TEST: 5.053  | DEV ROUGE-1: 0.071, -2: 0.007, -L: 0.057 | TEST ROUGE: -1: 0.097, -2: 0.009, -L: 0.075\n",
      "Step: 61000 | LOSS TRAIN: 4.853, DEV: 4.822, TEST: 5.053  | DEV ROUGE-1: 0.071, -2: 0.008, -L: 0.057 | TEST ROUGE: -1: 0.097, -2: 0.009, -L: 0.075\n",
      "Step: 61500 | LOSS TRAIN: 4.845, DEV: 4.821, TEST: 5.053  | DEV ROUGE-1: 0.073, -2: 0.007, -L: 0.059 | TEST ROUGE: -1: 0.097, -2: 0.009, -L: 0.075\n",
      "Step: 62000 | LOSS TRAIN: 4.856, DEV: 4.820, TEST: 5.053  | DEV ROUGE-1: 0.064, -2: 0.006, -L: 0.051 | TEST ROUGE: -1: 0.097, -2: 0.009, -L: 0.075\n",
      "Step: 62500 | LOSS TRAIN: 4.842, DEV: 4.814, TEST: 5.053  | DEV ROUGE-1: 0.071, -2: 0.010, -L: 0.057 | TEST ROUGE: -1: 0.097, -2: 0.009, -L: 0.075\n",
      "Step: 63000 | LOSS TRAIN: 4.843, DEV: 4.818, TEST: 5.053  | DEV ROUGE-1: 0.067, -2: 0.007, -L: 0.055 | TEST ROUGE: -1: 0.097, -2: 0.009, -L: 0.075\n",
      "Step: 63500 | LOSS TRAIN: 4.827, DEV: 4.820, TEST: 5.053  | DEV ROUGE-1: 0.069, -2: 0.007, -L: 0.056 | TEST ROUGE: -1: 0.097, -2: 0.009, -L: 0.075\n",
      "Step: 64000 | LOSS TRAIN: 4.831, DEV: 4.811, TEST: 5.053  | DEV ROUGE-1: 0.073, -2: 0.007, -L: 0.060 | TEST ROUGE: -1: 0.097, -2: 0.009, -L: 0.075\n",
      "Step: 64500 | LOSS TRAIN: 4.816, DEV: 4.816, TEST: 5.053  | DEV ROUGE-1: 0.069, -2: 0.006, -L: 0.054 | TEST ROUGE: -1: 0.097, -2: 0.009, -L: 0.075\n",
      "Step: 65000 | LOSS TRAIN: 4.829, DEV: 4.813, TEST: 5.053  | DEV ROUGE-1: 0.063, -2: 0.007, -L: 0.052 | TEST ROUGE: -1: 0.097, -2: 0.009, -L: 0.075\n",
      "Step: 65500 | LOSS TRAIN: 4.840, DEV: 4.813, TEST: 5.053  | DEV ROUGE-1: 0.066, -2: 0.008, -L: 0.054 | TEST ROUGE: -1: 0.097, -2: 0.009, -L: 0.075\n",
      "Step: 66000 | LOSS TRAIN: 4.824, DEV: 4.809, TEST: 5.053  | DEV ROUGE-1: 0.066, -2: 0.005, -L: 0.053 | TEST ROUGE: -1: 0.097, -2: 0.009, -L: 0.075\n",
      "Step: 66500 | LOSS TRAIN: 4.827, DEV: 4.807, TEST: 5.053  | DEV ROUGE-1: 0.069, -2: 0.008, -L: 0.055 | TEST ROUGE: -1: 0.097, -2: 0.009, -L: 0.075\n",
      "Step: 67000 | LOSS TRAIN: 4.841, DEV: 4.804, TEST: 5.053  | DEV ROUGE-1: 0.064, -2: 0.008, -L: 0.049 | TEST ROUGE: -1: 0.097, -2: 0.009, -L: 0.075\n",
      "Step: 67500 | LOSS TRAIN: 4.814, DEV: 4.813, TEST: 5.053  | DEV ROUGE-1: 0.068, -2: 0.007, -L: 0.056 | TEST ROUGE: -1: 0.097, -2: 0.009, -L: 0.075\n",
      "Step: 68000 | LOSS TRAIN: 4.821, DEV: 4.794, TEST: 5.053  | DEV ROUGE-1: 0.066, -2: 0.006, -L: 0.053 | TEST ROUGE: -1: 0.097, -2: 0.009, -L: 0.075\n",
      "Step: 68500 | LOSS TRAIN: 4.807, DEV: 4.804, TEST: 5.053  | DEV ROUGE-1: 0.066, -2: 0.006, -L: 0.052 | TEST ROUGE: -1: 0.097, -2: 0.009, -L: 0.075\n",
      "Step: 69000 | LOSS TRAIN: 4.805, DEV: 4.804, TEST: 5.053  | DEV ROUGE-1: 0.065, -2: 0.006, -L: 0.052 | TEST ROUGE: -1: 0.097, -2: 0.009, -L: 0.075\n",
      "Step: 69500 | LOSS TRAIN: 4.810, DEV: 4.807, TEST: 5.053  | DEV ROUGE-1: 0.070, -2: 0.007, -L: 0.056 | TEST ROUGE: -1: 0.097, -2: 0.009, -L: 0.075\n",
      "Step: 70000 | LOSS TRAIN: 4.812, DEV: 4.795, TEST: 5.053  | DEV ROUGE-1: 0.075, -2: 0.008, -L: 0.060 | TEST ROUGE: -1: 0.097, -2: 0.009, -L: 0.075\n",
      "Step: 70500 | LOSS TRAIN: 4.815, DEV: 4.793, TEST: 5.053  | DEV ROUGE-1: 0.073, -2: 0.007, -L: 0.059 | TEST ROUGE: -1: 0.097, -2: 0.009, -L: 0.075\n",
      "Step: 71000 | LOSS TRAIN: 4.810, DEV: 4.798, TEST: 5.053  | DEV ROUGE-1: 0.067, -2: 0.007, -L: 0.053 | TEST ROUGE: -1: 0.097, -2: 0.009, -L: 0.075\n",
      "Step: 71500 | LOSS TRAIN: 4.825, DEV: 4.795, TEST: 5.053  | DEV ROUGE-1: 0.067, -2: 0.008, -L: 0.053 | TEST ROUGE: -1: 0.097, -2: 0.009, -L: 0.075\n",
      "Step: 72000 | LOSS TRAIN: 4.810, DEV: 4.791, TEST: 5.053  | DEV ROUGE-1: 0.077, -2: 0.010, -L: 0.061 | TEST ROUGE: -1: 0.097, -2: 0.009, -L: 0.075\n",
      "Step: 72500 | LOSS TRAIN: 4.803, DEV: 4.788, TEST: 5.053  | DEV ROUGE-1: 0.065, -2: 0.007, -L: 0.051 | TEST ROUGE: -1: 0.097, -2: 0.009, -L: 0.075\n",
      "Step: 73000 | LOSS TRAIN: 4.785, DEV: 4.790, TEST: 5.053  | DEV ROUGE-1: 0.069, -2: 0.007, -L: 0.055 | TEST ROUGE: -1: 0.097, -2: 0.009, -L: 0.075\n",
      "Step: 73500 | LOSS TRAIN: 4.798, DEV: 4.790, TEST: 5.053  | DEV ROUGE-1: 0.070, -2: 0.008, -L: 0.056 | TEST ROUGE: -1: 0.097, -2: 0.009, -L: 0.075\n",
      "Step: 74000 | LOSS TRAIN: 4.796, DEV: 4.786, TEST: 5.053  | DEV ROUGE-1: 0.062, -2: 0.008, -L: 0.049 | TEST ROUGE: -1: 0.097, -2: 0.009, -L: 0.075\n",
      "Step: 74500 | LOSS TRAIN: 4.790, DEV: 4.796, TEST: 5.053  | DEV ROUGE-1: 0.066, -2: 0.006, -L: 0.053 | TEST ROUGE: -1: 0.097, -2: 0.009, -L: 0.075\n",
      "Step: 75000 | LOSS TRAIN: 4.810, DEV: 4.809, TEST: 5.053  | DEV ROUGE-1: 0.071, -2: 0.008, -L: 0.058 | TEST ROUGE: -1: 0.097, -2: 0.009, -L: 0.075\n",
      "Step: 75500 | LOSS TRAIN: 4.790, DEV: 4.780, TEST: 5.053  | DEV ROUGE-1: 0.071, -2: 0.007, -L: 0.055 | TEST ROUGE: -1: 0.097, -2: 0.009, -L: 0.075\n",
      "Step: 76000 | LOSS TRAIN: 4.801, DEV: 4.784, TEST: 5.053  | DEV ROUGE-1: 0.071, -2: 0.007, -L: 0.057 | TEST ROUGE: -1: 0.097, -2: 0.009, -L: 0.075\n",
      "Step: 76500 | LOSS TRAIN: 4.805, DEV: 4.780, TEST: 5.053  | DEV ROUGE-1: 0.075, -2: 0.009, -L: 0.061 | TEST ROUGE: -1: 0.097, -2: 0.009, -L: 0.075\n",
      "Step: 77000 | LOSS TRAIN: 4.789, DEV: 4.775, TEST: 5.053  | DEV ROUGE-1: 0.070, -2: 0.007, -L: 0.057 | TEST ROUGE: -1: 0.097, -2: 0.009, -L: 0.075\n"
     ]
    }
   ],
   "source": [
    "losses_train = []\n",
    "loss_log = []\n",
    "rouge_log = []\n",
    "\n",
    "saver = tf.train.Saver(max_to_keep=20)\n",
    "if len(loss_log) == 0:\n",
    "    import subprocess\n",
    "    \n",
    "    cmd_rm = 'rm -r %s' % config.modeldir\n",
    "    res = subprocess.call(cmd_rm.split())\n",
    "\n",
    "    cmd_mk = 'mkdir %s' % config.modeldir\n",
    "    res = subprocess.call(cmd_mk.split())\n",
    "\n",
    "for ct, batch in train_batches:\n",
    "    feed_dict = model.get_feed_dict(batch)\n",
    "    _, loss_train = sess.run([model.opt, model.loss], feed_dict = feed_dict)\n",
    "    losses_train += [loss_train]\n",
    "    if ct%config.log_period==0:\n",
    "        loss_train = np.mean(losses_train)\n",
    "        loss_dev, rouge_dev = evaluate(sess, dev_batches, model, vocab)\n",
    "\n",
    "        if len(rouge_log) == 0:\n",
    "            do_test = True\n",
    "        else:\n",
    "            norm = np.mean(np.array(zip(*rouge_log))[:3], 1)\n",
    "            if 0.0 in norm: norm = np.array([1, 1, 1], dtype=np.float32)\n",
    "            rouge_judge = np.sum(np.array(rouge_dev)/norm)\n",
    "            rouge_max = np.max(np.sum(np.array(zip(*rouge_log))[:3]/norm[:, np.newaxis], 0))\n",
    "            do_test = (rouge_max <= rouge_judge)\n",
    "\n",
    "        if do_test:\n",
    "            loss_test, rouge_test = evaluate(sess, test_batches, model, vocab)\n",
    "            modelpath = os.path.join(config.modeldir, config.modelname)\n",
    "            saver.save(sess, modelpath, global_step=ct)\n",
    "        else:\n",
    "            loss_test = zip(*loss_log)[3][-1]\n",
    "            rouge_test = tuple(np.array(zip(*rouge_log))[3:, -1])\n",
    "\n",
    "        loss_log += [(ct, loss_train, loss_dev, loss_test)]\n",
    "        rouge_log += [rouge_dev + rouge_test]\n",
    "        losses_train = []\n",
    "\n",
    "        clear_output()\n",
    "        for i in range(len(loss_log)): \n",
    "            print 'Step: %i | LOSS TRAIN: %.3f, DEV: %.3f, TEST: %.3f ' %  loss_log[i], \n",
    "            print '| DEV ROUGE-1: %.3f, -2: %.3f, -L: %.3f | TEST ROUGE: -1: %.3f, -2: %.3f, -L: %.3f' % rouge_log[i]"
   ]
  },
  {
   "cell_type": "markdown",
   "metadata": {},
   "source": [
    "# eval.py"
   ]
  },
  {
   "cell_type": "code",
   "execution_count": 249,
   "metadata": {},
   "outputs": [],
   "source": [
    "# num_examples,  train_batches, dev_batches, test_batches, embedding_matrix, vocab, word_to_id = load_data(config)"
   ]
  },
  {
   "cell_type": "code",
   "execution_count": 250,
   "metadata": {},
   "outputs": [],
   "source": [
    "def write_files(write_dir, sents_dict):\n",
    "    for idx, sents in sents_dict.items():\n",
    "        file_path = os.path.join(write_dir, \"%04d.txt\" % idx)\n",
    "\n",
    "        f = codecs.open(file_path, mode=\"w\", encoding=\"utf-8\")\n",
    "        for i, sent in enumerate(sents):\n",
    "            f.write(sent) if i==len(sents)-1 else f.write(sent+\"\\n\")\n",
    "\n",
    "        f.close()"
   ]
  },
  {
   "cell_type": "code",
   "execution_count": 251,
   "metadata": {},
   "outputs": [],
   "source": [
    "def write_ref(batches, config):\n",
    "    instances = list(itertools.chain.from_iterable([batch for _, batch in batches]))\n",
    "    ref_sents_dict = {}\n",
    "    for ct, batch in batches:\n",
    "        for instance in batch:\n",
    "            ref_sents = [' '.join(instance.summary_tokens)]\n",
    "            ref_sents_dict[instance.idx] = ref_sents\n",
    "\n",
    "    write_files(config.refdir, ref_sents_dict)"
   ]
  },
  {
   "cell_type": "code",
   "execution_count": 252,
   "metadata": {},
   "outputs": [],
   "source": [
    "def write_out(batches, config, vocab):\n",
    "    with tf.Session() as sess:\n",
    "        ckpt = tf.train.get_checkpoint_state(config.modeldir)\n",
    "        model_path = ckpt.all_model_checkpoint_paths[-1]\n",
    "\n",
    "        saver = tf.train.import_meta_graph(model_path + '.meta')\n",
    "        saver.restore(sess, model_path)\n",
    "\n",
    "        instances = list(itertools.chain.from_iterable([batch for _, batch in batches]))\n",
    "        out_sents_dict = {}\n",
    "        for ct, batch in batches:\n",
    "            feed_dict = model.get_feed_dict(batch, mode='test')\n",
    "            output_token_idxs_batch = sess.run(model.summary_output_token_idxs, feed_dict = feed_dict)\n",
    "            for output_token_idxs, instance in zip(output_token_idxs_batch, batch):\n",
    "                idx = instance.idx\n",
    "                out_sents = get_txt_from_idx(output_token_idxs, model, vocab)\n",
    "                out_sents_dict[idx] = out_sents\n",
    "\n",
    "        write_files(config.outdir, out_sents_dict)"
   ]
  },
  {
   "cell_type": "code",
   "execution_count": 272,
   "metadata": {},
   "outputs": [],
   "source": [
    "def print_pyrouge(config):\n",
    "    logging.getLogger('global').setLevel(logging.WARNING) # silence pyrouge logging\n",
    "\n",
    "    r = pyrouge.Rouge155()\n",
    "    r.system_filename_pattern = '(\\d+).txt'\n",
    "    r.model_filename_pattern = '#ID#.txt'\n",
    "    \n",
    "    r.system_dir = config.outdir\n",
    "    r.model_dir = config.refdir\n",
    "\n",
    "    rouge_results = r.convert_and_evaluate()\n",
    "    rouge_dict = r.output_to_dict(rouge_results)\n",
    "    \n",
    "    print rouge_results"
   ]
  },
  {
   "cell_type": "code",
   "execution_count": 267,
   "metadata": {},
   "outputs": [],
   "source": [
    "write_ref(test_batches, config)"
   ]
  },
  {
   "cell_type": "code",
   "execution_count": 268,
   "metadata": {},
   "outputs": [
    {
     "name": "stdout",
     "output_type": "stream",
     "text": [
      "INFO:tensorflow:Restoring parameters from model/sports-43500\n"
     ]
    }
   ],
   "source": [
    "write_out(test_batches, config, vocab)"
   ]
  },
  {
   "cell_type": "code",
   "execution_count": 271,
   "metadata": {},
   "outputs": [
    {
     "name": "stdout",
     "output_type": "stream",
     "text": [
      "---------------------------------------------\n",
      "1 ROUGE-1 Average_R: 0.13499 (95%-conf.int. 0.11759 - 0.15319)\n",
      "1 ROUGE-1 Average_P: 0.09440 (95%-conf.int. 0.07995 - 0.10897)\n",
      "1 ROUGE-1 Average_F: 0.09712 (95%-conf.int. 0.08402 - 0.11083)\n",
      "---------------------------------------------\n",
      "1 ROUGE-2 Average_R: 0.02487 (95%-conf.int. 0.01417 - 0.03775)\n",
      "1 ROUGE-2 Average_P: 0.01454 (95%-conf.int. 0.00758 - 0.02334)\n",
      "1 ROUGE-2 Average_F: 0.01519 (95%-conf.int. 0.00856 - 0.02288)\n",
      "---------------------------------------------\n",
      "1 ROUGE-L Average_R: 0.13132 (95%-conf.int. 0.11451 - 0.14908)\n",
      "1 ROUGE-L Average_P: 0.09084 (95%-conf.int. 0.07705 - 0.10491)\n",
      "1 ROUGE-L Average_F: 0.09378 (95%-conf.int. 0.08138 - 0.10706)\n",
      "\n"
     ]
    }
   ],
   "source": [
    "print_pyrouge(config)"
   ]
  },
  {
   "cell_type": "code",
   "execution_count": null,
   "metadata": {},
   "outputs": [],
   "source": []
  }
 ],
 "metadata": {
  "kernelspec": {
   "display_name": "py2",
   "language": "python",
   "name": "py2"
  },
  "toc": {
   "base_numbering": 1,
   "nav_menu": {},
   "number_sections": true,
   "sideBar": true,
   "skip_h1_title": false,
   "title_cell": "Table of Contents",
   "title_sidebar": "Contents",
   "toc_cell": false,
   "toc_position": {},
   "toc_section_display": true,
   "toc_window_display": false
  }
 },
 "nbformat": 4,
 "nbformat_minor": 2
}
