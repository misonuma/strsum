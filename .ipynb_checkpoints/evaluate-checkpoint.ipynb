{
 "cells": [
  {
   "cell_type": "markdown",
   "metadata": {},
   "source": [
    "# init"
   ]
  },
  {
   "cell_type": "code",
   "execution_count": 157,
   "metadata": {},
   "outputs": [
    {
     "name": "stdout",
     "output_type": "stream",
     "text": [
      "The autoreload extension is already loaded. To reload it, use:\n",
      "  %reload_ext autoreload\n"
     ]
    }
   ],
   "source": [
    "#coding: utf-8\n",
    "\n",
    "%load_ext autoreload\n",
    "%autoreload\n",
    "\n",
    "import os\n",
    "import sys\n",
    "import tensorflow as tf\n",
    "import codecs\n",
    "import cPickle\n",
    "import itertools\n",
    "\n",
    "import pdb\n",
    "\n",
    "from data_structure import load_data"
   ]
  },
  {
   "cell_type": "code",
   "execution_count": null,
   "metadata": {},
   "outputs": [],
   "source": [
    "min_doc_l=0\n",
    "max_doc_l=30\n",
    "r_hist=15"
   ]
  },
  {
   "cell_type": "code",
   "execution_count": 169,
   "metadata": {},
   "outputs": [],
   "source": [
    "def del_all_flags(FLAGS):\n",
    "    flags_dict = FLAGS._flags()    \n",
    "    keys_list = [keys for keys in flags_dict]    \n",
    "    for keys in keys_list:\n",
    "        FLAGS.__delattr__(keys)\n",
    "\n",
    "del_all_flags(tf.flags.FLAGS)"
   ]
  },
  {
   "cell_type": "code",
   "execution_count": 170,
   "metadata": {},
   "outputs": [],
   "source": [
    "flags = tf.app.flags\n",
    "\n",
    "flags.DEFINE_string('visible_gpu', '2', 'visible_gpu')\n",
    "\n",
    "flags.DEFINE_string('datadir', 'data', 'datadir')\n",
    "flags.DEFINE_string('dataname', 'sports.pkl', 'dataname')\n",
    "flags.DEFINE_string('modeldir', 'model', 'modeldir')\n",
    "\n",
    "flags.DEFINE_string('refdir', 'ref', 'refdir')\n",
    "flags.DEFINE_string('outdir', 'out', 'outdir')\n",
    "\n",
    "flags.DEFINE_integer('batch_size', 8, 'batch_size')\n",
    "flags.DEFINE_integer('epochs', 1000, 'epochs')\n",
    "\n",
    "flags.DEFINE_string('f', '', 'kernel')"
   ]
  },
  {
   "cell_type": "code",
   "execution_count": 171,
   "metadata": {},
   "outputs": [],
   "source": [
    "os.environ['CUDA_VISIBLE_DEVICES'] = flags.FLAGS.visible_gpu"
   ]
  },
  {
   "cell_type": "code",
   "execution_count": 172,
   "metadata": {},
   "outputs": [],
   "source": [
    "config = flags.FLAGS"
   ]
  },
  {
   "cell_type": "markdown",
   "metadata": {},
   "source": [
    "## utils"
   ]
  },
  {
   "cell_type": "code",
   "execution_count": 163,
   "metadata": {},
   "outputs": [],
   "source": [
    "def write_files(write_dir, sents_dict):\n",
    "    for idx, sents in sents_dict.items():\n",
    "        file_path = os.path.join(write_dir, \"%04d.txt\" % idx)\n",
    "\n",
    "        f = codecs.open(file_path, mode=\"w\", encoding=\"utf-8\")\n",
    "        for i, sent in enumerate(sents):\n",
    "            f.write(sent) if i==len(sents)-1 else f.write(sent+\"\\n\")\n",
    "\n",
    "        f.close()"
   ]
  },
  {
   "cell_type": "code",
   "execution_count": 165,
   "metadata": {},
   "outputs": [],
   "source": [
    "def write_ref(batches, config):\n",
    "    instances = list(itertools.chain.from_iterable([batch for _, batch in batches]))\n",
    "    ref_sents_dict = {}\n",
    "    for ct, batch in batches:\n",
    "        for instance in batch:\n",
    "            ref_sents = [' '.join(instance.summary_tokens)]\n",
    "            ref_sents_dict[instance.idx] = ref_sents\n",
    "\n",
    "    write_files(config.refdir, ref_sents_dict)"
   ]
  },
  {
   "cell_type": "code",
   "execution_count": 176,
   "metadata": {},
   "outputs": [],
   "source": [
    "def write_out(batches, config):\n",
    "    with tf.Session() as sess:\n",
    "        ckpt = tf.train.get_checkpoint_state(config.modeldir)\n",
    "        model_path = ckpt.all_model_checkpoint_paths[-1]\n",
    "\n",
    "        saver = tf.train.import_meta_graph(model_path + '.meta')\n",
    "        saver.restore(sess, model_path)\n",
    "\n",
    "        instances = list(itertools.chain.from_iterable([batch for _, batch in batches]))\n",
    "        out_sents_dict = {}\n",
    "        for ct, batch in batches:\n",
    "            feed_dict = model.get_feed_dict(batch, mode='test')\n",
    "            output_token_idxs_batch = sess.run(model.summary_output_token_idxs, feed_dict = feed_dict)\n",
    "            for output_token_idxs, instance in zip(output_token_idxs_batch, batch):\n",
    "                idx = instance.idx\n",
    "                out_sents = get_txt_from_idx(output_token_idxs, model)\n",
    "                out_sents_dict[idx] = out_sents\n",
    "\n",
    "        write_files(config.outdir, out_sents_dict)"
   ]
  },
  {
   "cell_type": "code",
   "execution_count": 167,
   "metadata": {},
   "outputs": [],
   "source": [
    "# num_examples,  train_batches, dev_batches, test_batches, embedding_matrix, vocab, word_to_id = load_data(config)"
   ]
  },
  {
   "cell_type": "code",
   "execution_count": 177,
   "metadata": {},
   "outputs": [],
   "source": [
    "write_ref(test_batches, config)"
   ]
  },
  {
   "cell_type": "code",
   "execution_count": 178,
   "metadata": {},
   "outputs": [
    {
     "ename": "KeyError",
     "evalue": "u'GatherTree'",
     "output_type": "error",
     "traceback": [
      "\u001b[0;31m---------------------------------------------------------------------------\u001b[0m",
      "\u001b[0;31mKeyError\u001b[0m                                  Traceback (most recent call last)",
      "\u001b[0;32m<ipython-input-178-6ab6a693491e>\u001b[0m in \u001b[0;36m<module>\u001b[0;34m()\u001b[0m\n\u001b[0;32m----> 1\u001b[0;31m \u001b[0mwrite_out\u001b[0m\u001b[0;34m(\u001b[0m\u001b[0mtest_batches\u001b[0m\u001b[0;34m,\u001b[0m \u001b[0mconfig\u001b[0m\u001b[0;34m)\u001b[0m\u001b[0;34m\u001b[0m\u001b[0m\n\u001b[0m",
      "\u001b[0;32m<ipython-input-176-e55f6d893352>\u001b[0m in \u001b[0;36mwrite_out\u001b[0;34m(batches, config)\u001b[0m\n\u001b[1;32m      4\u001b[0m         \u001b[0mmodel_path\u001b[0m \u001b[0;34m=\u001b[0m \u001b[0mckpt\u001b[0m\u001b[0;34m.\u001b[0m\u001b[0mall_model_checkpoint_paths\u001b[0m\u001b[0;34m[\u001b[0m\u001b[0;34m-\u001b[0m\u001b[0;36m1\u001b[0m\u001b[0;34m]\u001b[0m\u001b[0;34m\u001b[0m\u001b[0m\n\u001b[1;32m      5\u001b[0m \u001b[0;34m\u001b[0m\u001b[0m\n\u001b[0;32m----> 6\u001b[0;31m         \u001b[0msaver\u001b[0m \u001b[0;34m=\u001b[0m \u001b[0mtf\u001b[0m\u001b[0;34m.\u001b[0m\u001b[0mtrain\u001b[0m\u001b[0;34m.\u001b[0m\u001b[0mimport_meta_graph\u001b[0m\u001b[0;34m(\u001b[0m\u001b[0mmodel_path\u001b[0m \u001b[0;34m+\u001b[0m \u001b[0;34m'.meta'\u001b[0m\u001b[0;34m)\u001b[0m\u001b[0;34m\u001b[0m\u001b[0m\n\u001b[0m\u001b[1;32m      7\u001b[0m         \u001b[0msaver\u001b[0m\u001b[0;34m.\u001b[0m\u001b[0mrestore\u001b[0m\u001b[0;34m(\u001b[0m\u001b[0msess\u001b[0m\u001b[0;34m,\u001b[0m \u001b[0mmodel_path\u001b[0m\u001b[0;34m)\u001b[0m\u001b[0;34m\u001b[0m\u001b[0m\n\u001b[1;32m      8\u001b[0m \u001b[0;34m\u001b[0m\u001b[0m\n",
      "\u001b[0;32m/home/m-isonuma/.pyenv/versions/anaconda2-5.3.0/envs/py2/lib/python2.7/site-packages/tensorflow/python/training/saver.pyc\u001b[0m in \u001b[0;36mimport_meta_graph\u001b[0;34m(meta_graph_or_file, clear_devices, import_scope, **kwargs)\u001b[0m\n\u001b[1;32m   1664\u001b[0m   \"\"\"  # pylint: disable=g-doc-exception\n\u001b[1;32m   1665\u001b[0m   return _import_meta_graph_with_return_elements(\n\u001b[0;32m-> 1666\u001b[0;31m       meta_graph_or_file, clear_devices, import_scope, **kwargs)[0]\n\u001b[0m\u001b[1;32m   1667\u001b[0m \u001b[0;34m\u001b[0m\u001b[0m\n\u001b[1;32m   1668\u001b[0m \u001b[0;34m\u001b[0m\u001b[0m\n",
      "\u001b[0;32m/home/m-isonuma/.pyenv/versions/anaconda2-5.3.0/envs/py2/lib/python2.7/site-packages/tensorflow/python/training/saver.pyc\u001b[0m in \u001b[0;36m_import_meta_graph_with_return_elements\u001b[0;34m(meta_graph_or_file, clear_devices, import_scope, return_elements, **kwargs)\u001b[0m\n\u001b[1;32m   1686\u001b[0m           \u001b[0mimport_scope\u001b[0m\u001b[0;34m=\u001b[0m\u001b[0mimport_scope\u001b[0m\u001b[0;34m,\u001b[0m\u001b[0;34m\u001b[0m\u001b[0m\n\u001b[1;32m   1687\u001b[0m           \u001b[0mreturn_elements\u001b[0m\u001b[0;34m=\u001b[0m\u001b[0mreturn_elements\u001b[0m\u001b[0;34m,\u001b[0m\u001b[0;34m\u001b[0m\u001b[0m\n\u001b[0;32m-> 1688\u001b[0;31m           **kwargs))\n\u001b[0m\u001b[1;32m   1689\u001b[0m \u001b[0;34m\u001b[0m\u001b[0m\n\u001b[1;32m   1690\u001b[0m   saver = _create_saver_from_imported_meta_graph(\n",
      "\u001b[0;32m/home/m-isonuma/.pyenv/versions/anaconda2-5.3.0/envs/py2/lib/python2.7/site-packages/tensorflow/python/framework/meta_graph.pyc\u001b[0m in \u001b[0;36mimport_scoped_meta_graph_with_return_elements\u001b[0;34m(meta_graph_or_file, clear_devices, graph, import_scope, input_map, unbound_inputs_col_name, restore_collections_predicate, return_elements)\u001b[0m\n\u001b[1;32m    804\u001b[0m         \u001b[0minput_map\u001b[0m\u001b[0;34m=\u001b[0m\u001b[0minput_map\u001b[0m\u001b[0;34m,\u001b[0m\u001b[0;34m\u001b[0m\u001b[0m\n\u001b[1;32m    805\u001b[0m         \u001b[0mproducer_op_list\u001b[0m\u001b[0;34m=\u001b[0m\u001b[0mproducer_op_list\u001b[0m\u001b[0;34m,\u001b[0m\u001b[0;34m\u001b[0m\u001b[0m\n\u001b[0;32m--> 806\u001b[0;31m         return_elements=return_elements)\n\u001b[0m\u001b[1;32m    807\u001b[0m \u001b[0;34m\u001b[0m\u001b[0m\n\u001b[1;32m    808\u001b[0m     \u001b[0;31m# Restores all the other collections.\u001b[0m\u001b[0;34m\u001b[0m\u001b[0;34m\u001b[0m\u001b[0m\n",
      "\u001b[0;32m/home/m-isonuma/.pyenv/versions/anaconda2-5.3.0/envs/py2/lib/python2.7/site-packages/tensorflow/python/util/deprecation.pyc\u001b[0m in \u001b[0;36mnew_func\u001b[0;34m(*args, **kwargs)\u001b[0m\n\u001b[1;32m    486\u001b[0m                 \u001b[0;34m'in a future version'\u001b[0m \u001b[0;32mif\u001b[0m \u001b[0mdate\u001b[0m \u001b[0;32mis\u001b[0m \u001b[0mNone\u001b[0m \u001b[0;32melse\u001b[0m \u001b[0;34m(\u001b[0m\u001b[0;34m'after %s'\u001b[0m \u001b[0;34m%\u001b[0m \u001b[0mdate\u001b[0m\u001b[0;34m)\u001b[0m\u001b[0;34m,\u001b[0m\u001b[0;34m\u001b[0m\u001b[0m\n\u001b[1;32m    487\u001b[0m                 instructions)\n\u001b[0;32m--> 488\u001b[0;31m       \u001b[0;32mreturn\u001b[0m \u001b[0mfunc\u001b[0m\u001b[0;34m(\u001b[0m\u001b[0;34m*\u001b[0m\u001b[0margs\u001b[0m\u001b[0;34m,\u001b[0m \u001b[0;34m**\u001b[0m\u001b[0mkwargs\u001b[0m\u001b[0;34m)\u001b[0m\u001b[0;34m\u001b[0m\u001b[0m\n\u001b[0m\u001b[1;32m    489\u001b[0m     return tf_decorator.make_decorator(func, new_func, 'deprecated',\n\u001b[1;32m    490\u001b[0m                                        _add_deprecated_arg_notice_to_docstring(\n",
      "\u001b[0;32m/home/m-isonuma/.pyenv/versions/anaconda2-5.3.0/envs/py2/lib/python2.7/site-packages/tensorflow/python/framework/importer.pyc\u001b[0m in \u001b[0;36mimport_graph_def\u001b[0;34m(graph_def, input_map, return_elements, name, op_dict, producer_op_list)\u001b[0m\n\u001b[1;32m    389\u001b[0m   \u001b[0;32mif\u001b[0m \u001b[0mproducer_op_list\u001b[0m \u001b[0;32mis\u001b[0m \u001b[0;32mnot\u001b[0m \u001b[0mNone\u001b[0m\u001b[0;34m:\u001b[0m\u001b[0;34m\u001b[0m\u001b[0m\n\u001b[1;32m    390\u001b[0m     \u001b[0;31m# TODO(skyewm): make a copy of graph_def so we're not mutating the argument?\u001b[0m\u001b[0;34m\u001b[0m\u001b[0;34m\u001b[0m\u001b[0m\n\u001b[0;32m--> 391\u001b[0;31m     \u001b[0m_RemoveDefaultAttrs\u001b[0m\u001b[0;34m(\u001b[0m\u001b[0mop_dict\u001b[0m\u001b[0;34m,\u001b[0m \u001b[0mproducer_op_list\u001b[0m\u001b[0;34m,\u001b[0m \u001b[0mgraph_def\u001b[0m\u001b[0;34m)\u001b[0m\u001b[0;34m\u001b[0m\u001b[0m\n\u001b[0m\u001b[1;32m    392\u001b[0m \u001b[0;34m\u001b[0m\u001b[0m\n\u001b[1;32m    393\u001b[0m   \u001b[0mgraph\u001b[0m \u001b[0;34m=\u001b[0m \u001b[0mops\u001b[0m\u001b[0;34m.\u001b[0m\u001b[0mget_default_graph\u001b[0m\u001b[0;34m(\u001b[0m\u001b[0;34m)\u001b[0m\u001b[0;34m\u001b[0m\u001b[0m\n",
      "\u001b[0;32m/home/m-isonuma/.pyenv/versions/anaconda2-5.3.0/envs/py2/lib/python2.7/site-packages/tensorflow/python/framework/importer.pyc\u001b[0m in \u001b[0;36m_RemoveDefaultAttrs\u001b[0;34m(op_dict, producer_op_list, graph_def)\u001b[0m\n\u001b[1;32m    156\u001b[0m     \u001b[0;31m# Remove any default attr values that aren't in op_def.\u001b[0m\u001b[0;34m\u001b[0m\u001b[0;34m\u001b[0m\u001b[0m\n\u001b[1;32m    157\u001b[0m     \u001b[0;32mif\u001b[0m \u001b[0mnode\u001b[0m\u001b[0;34m.\u001b[0m\u001b[0mop\u001b[0m \u001b[0;32min\u001b[0m \u001b[0mproducer_op_dict\u001b[0m\u001b[0;34m:\u001b[0m\u001b[0;34m\u001b[0m\u001b[0m\n\u001b[0;32m--> 158\u001b[0;31m       \u001b[0mop_def\u001b[0m \u001b[0;34m=\u001b[0m \u001b[0mop_dict\u001b[0m\u001b[0;34m[\u001b[0m\u001b[0mnode\u001b[0m\u001b[0;34m.\u001b[0m\u001b[0mop\u001b[0m\u001b[0;34m]\u001b[0m\u001b[0;34m\u001b[0m\u001b[0m\n\u001b[0m\u001b[1;32m    159\u001b[0m       \u001b[0mproducer_op_def\u001b[0m \u001b[0;34m=\u001b[0m \u001b[0mproducer_op_dict\u001b[0m\u001b[0;34m[\u001b[0m\u001b[0mnode\u001b[0m\u001b[0;34m.\u001b[0m\u001b[0mop\u001b[0m\u001b[0;34m]\u001b[0m\u001b[0;34m\u001b[0m\u001b[0m\n\u001b[1;32m    160\u001b[0m       \u001b[0;31m# We make a copy of node.attr to iterate through since we may modify\u001b[0m\u001b[0;34m\u001b[0m\u001b[0;34m\u001b[0m\u001b[0m\n",
      "\u001b[0;31mKeyError\u001b[0m: u'GatherTree'"
     ]
    }
   ],
   "source": [
    "write_out(test_batches, config)"
   ]
  },
  {
   "cell_type": "code",
   "execution_count": null,
   "metadata": {},
   "outputs": [],
   "source": [
    "tf.train.import_meta_graph"
   ]
  },
  {
   "cell_type": "markdown",
   "metadata": {},
   "source": [
    "# sports "
   ]
  },
  {
   "cell_type": "markdown",
   "metadata": {},
   "source": [
    "## load data"
   ]
  },
  {
   "cell_type": "code",
   "execution_count": 25,
   "metadata": {},
   "outputs": [],
   "source": [
    "load_flg_sports = True"
   ]
  },
  {
   "cell_type": "code",
   "execution_count": 26,
   "metadata": {},
   "outputs": [],
   "source": [
    "nb_name_sports = '0 -sports -train_l 10_60 -test_l 5_60'\n",
    "config_sports = Config(nb_name_sports)\n",
    "eval_dir_sports = os.path.join(eval_dir, 'sports')\n",
    "if load_flg_sports: \n",
    "    test_datasets_sports = cPickle.load(open(config_sports.test_datapath))\n",
    "    load_flg_sports = False\n",
    "config_sports.test_max_doc_l = 60\n",
    "dev_batches_sports, test_batches_sports, embedding_matrix_sports, vocab_sports, word_to_id_sports = load_test_data(test_datasets_sports, config_sports)\n",
    "config_sports = update_config(config_sports, embedding_matrix_sports, vocab_sports, word_to_id_sports, test_batches_sports)\n",
    "write_ref(test_batches_sports, eval_dir_sports)"
   ]
  },
  {
   "cell_type": "markdown",
   "metadata": {},
   "source": [
    "## write out texts"
   ]
  },
  {
   "cell_type": "code",
   "execution_count": null,
   "metadata": {},
   "outputs": [],
   "source": [
    "nb_name_str_sports = '0 -sports -train_l 10_60 -test_l 5_60 -keep_prob 0.95-TMP'\n",
    "config_str_sports = Config(nb_name_str_sports)\n",
    "config_str_sports.test_max_doc_l = config_sports.test_max_doc_l\n",
    "config_str_sports = update_config(config_str_sports, embedding_matrix_sports, vocab_sports, word_to_id_sports, test_batches_sports)\n",
    "ckpt_str_sports = tf.train.get_checkpoint_state(config_str_sports.writedir)\n",
    "model_path_str_sports = ckpt_str_sports.all_model_checkpoint_paths[-1]\n",
    "write_out(test_batches_sports, eval_dir_sports, mode='str', model_path=model_path_str_sports, config=config_str_sports)"
   ]
  },
  {
   "cell_type": "code",
   "execution_count": null,
   "metadata": {},
   "outputs": [],
   "source": [
    "rouge_eval_interval(eval_dir_sports, mode='str')"
   ]
  },
  {
   "cell_type": "code",
   "execution_count": null,
   "metadata": {},
   "outputs": [],
   "source": [
    "nb_name_eigen_sports = '0 -sports -eigen -train_l 10_60 -test_l 5_60 -keep_prob 0.95-TMP'\n",
    "config_eigen_sports = Config(nb_name_eigen_sports)\n",
    "config_eigen_sports.test_max_doc_l = config_sports.test_max_doc_l\n",
    "config_eigen_sports = update_config(config_eigen_sports, embedding_matrix_sports, vocab_sports, word_to_id_sports, test_batches_sports)\n",
    "ckpt_eigen_sports = tf.train.get_checkpoint_state(config_eigen_sports.writedir)\n",
    "model_path_eigen_sports = ckpt_eigen_sports.all_model_checkpoint_paths[-1]\n",
    "write_out(test_batches_sports, eval_dir_sports, mode='str-dis', model_path=model_path_eigen_sports, config=config_eigen_sports)"
   ]
  },
  {
   "cell_type": "code",
   "execution_count": null,
   "metadata": {},
   "outputs": [],
   "source": [
    "rouge_eval_interval(eval_dir_sports, mode='str-dis')"
   ]
  },
  {
   "cell_type": "code",
   "execution_count": null,
   "metadata": {
    "scrolled": true
   },
   "outputs": [],
   "source": [
    "nb_name_base_sports = '2 -sports -base -train_l 10_60 -test_l 5_60 -keep_prob 0.95 -dim_hidden 512'\n",
    "config_base_sports = Config(nb_name_base_sports)\n",
    "config_base_sports.test_max_doc_l = config_sports.test_max_doc_l\n",
    "config_base_sports = update_config(config_base_sports, embedding_matrix_sports, vocab_sports, word_to_id_sports, test_batches_sports)\n",
    "ckpt_base_sports = tf.train.get_checkpoint_state(config_base_sports.writedir)\n",
    "model_path_base_sports = ckpt_base_sports.all_model_checkpoint_paths[-1]\n",
    "write_out(test_batches_sports, eval_dir_sports, mode='seq', model_path=model_path_base_sports, config=config_base_sports)"
   ]
  },
  {
   "cell_type": "code",
   "execution_count": null,
   "metadata": {
    "scrolled": true
   },
   "outputs": [],
   "source": [
    "nb_name_base_att_sports = '9 -sports -base -att -train_l 10_60 -test_l 5_60 -keep_prob 0.95 -dim_hidden 512'\n",
    "config_base_att_sports = Config(nb_name_base_att_sports)\n",
    "config_base_att_sports.test_max_doc_l = config_sports.test_max_doc_l\n",
    "config_base_att_sports = update_config(config_base_att_sports, embedding_matrix_sports, vocab_sports, word_to_id_sports, test_batches_sports)\n",
    "ckpt_base_att_sports = tf.train.get_checkpoint_state(config_base_att_sports.writedir)\n",
    "model_path_base_att_sports = ckpt_base_att_sports.all_model_checkpoint_paths[-1]\n",
    "write_out(test_batches_sports, eval_dir_sports, mode='seq-att', model_path=model_path_base_att_sports, config=config_base_att_sports)"
   ]
  },
  {
   "cell_type": "code",
   "execution_count": null,
   "metadata": {},
   "outputs": [],
   "source": [
    "nb_name_meansum_sports = '0 -sports -lead 0 -train_l 10_60 -test_l 5_60 -keep_prob 0.95 -save 20000'\n",
    "config_meansum_sports = Config(nb_name_meansum_sports)\n",
    "config_meansum_sports.test_max_doc_l = config_sports.test_max_doc_l\n",
    "config_meansum_sports = update_config(config_meansum_sports, embedding_matrix_sports, vocab_sports, word_to_id_sports, test_batches_sports)\n",
    "ckpt_meansum_sports = tf.train.get_checkpoint_state(config_meansum_sports.writedir)\n",
    "model_path_meansum_sports = ckpt_meansum_sports.all_model_checkpoint_paths[-1]\n",
    "write_out(test_batches_sports, eval_dir_sports, mode='meansum', model_path=model_path_meansum_sports, config=config_meansum_sports)"
   ]
  },
  {
   "cell_type": "code",
   "execution_count": null,
   "metadata": {},
   "outputs": [],
   "source": [
    "config_textrank_sports = config_sports\n",
    "config_textrank_sports.embs = embedding_matrix_sports\n",
    "write_out_base(test_batches_sports, eval_dir_sports, mode='textrank', base_func=textrank_func, config=config_textrank_sports)"
   ]
  },
  {
   "cell_type": "markdown",
   "metadata": {},
   "source": [
    "## eval"
   ]
  },
  {
   "cell_type": "code",
   "execution_count": 27,
   "metadata": {
    "scrolled": true
   },
   "outputs": [
    {
     "data": {
      "text/html": [
       "<div>\n",
       "<style scoped>\n",
       "    .dataframe tbody tr th:only-of-type {\n",
       "        vertical-align: middle;\n",
       "    }\n",
       "\n",
       "    .dataframe tbody tr th {\n",
       "        vertical-align: top;\n",
       "    }\n",
       "\n",
       "    .dataframe thead th {\n",
       "        text-align: right;\n",
       "    }\n",
       "</style>\n",
       "<table border=\"1\" class=\"dataframe\">\n",
       "  <thead>\n",
       "    <tr style=\"text-align: right;\">\n",
       "      <th></th>\n",
       "      <th>rouge_1_f_score</th>\n",
       "      <th>rouge_2_f_score</th>\n",
       "      <th>rouge_l_f_score</th>\n",
       "    </tr>\n",
       "  </thead>\n",
       "  <tbody>\n",
       "    <tr>\n",
       "      <th>0:all</th>\n",
       "      <td>9.15</td>\n",
       "      <td>1.38</td>\n",
       "      <td>8.79</td>\n",
       "    </tr>\n",
       "    <tr>\n",
       "      <th>1:0-15</th>\n",
       "      <td>8.89</td>\n",
       "      <td>1.45</td>\n",
       "      <td>8.53</td>\n",
       "    </tr>\n",
       "    <tr>\n",
       "      <th>2:15-30</th>\n",
       "      <td>10.70</td>\n",
       "      <td>0.61</td>\n",
       "      <td>10.70</td>\n",
       "    </tr>\n",
       "    <tr>\n",
       "      <th>3:30-45</th>\n",
       "      <td>12.73</td>\n",
       "      <td>1.73</td>\n",
       "      <td>11.14</td>\n",
       "    </tr>\n",
       "  </tbody>\n",
       "</table>\n",
       "</div>"
      ],
      "text/plain": [
       "         rouge_1_f_score  rouge_2_f_score  rouge_l_f_score\n",
       "0:all               9.15             1.38             8.79\n",
       "1:0-15              8.89             1.45             8.53\n",
       "2:15-30            10.70             0.61            10.70\n",
       "3:30-45            12.73             1.73            11.14"
      ]
     },
     "execution_count": 27,
     "metadata": {},
     "output_type": "execute_result"
    }
   ],
   "source": [
    "hist_df_str_sports = rouge_eval(eval_dir_sports, mode='str')\n",
    "hist_df_str_sports"
   ]
  },
  {
   "cell_type": "code",
   "execution_count": 28,
   "metadata": {},
   "outputs": [
    {
     "data": {
      "text/html": [
       "<div>\n",
       "<style scoped>\n",
       "    .dataframe tbody tr th:only-of-type {\n",
       "        vertical-align: middle;\n",
       "    }\n",
       "\n",
       "    .dataframe tbody tr th {\n",
       "        vertical-align: top;\n",
       "    }\n",
       "\n",
       "    .dataframe thead th {\n",
       "        text-align: right;\n",
       "    }\n",
       "</style>\n",
       "<table border=\"1\" class=\"dataframe\">\n",
       "  <thead>\n",
       "    <tr style=\"text-align: right;\">\n",
       "      <th></th>\n",
       "      <th>rouge_1_f_score</th>\n",
       "      <th>rouge_2_f_score</th>\n",
       "      <th>rouge_l_f_score</th>\n",
       "    </tr>\n",
       "  </thead>\n",
       "  <tbody>\n",
       "    <tr>\n",
       "      <th>0:all</th>\n",
       "      <td>9.62</td>\n",
       "      <td>1.58</td>\n",
       "      <td>9.28</td>\n",
       "    </tr>\n",
       "    <tr>\n",
       "      <th>1:0-15</th>\n",
       "      <td>9.45</td>\n",
       "      <td>1.63</td>\n",
       "      <td>9.09</td>\n",
       "    </tr>\n",
       "    <tr>\n",
       "      <th>2:15-30</th>\n",
       "      <td>10.66</td>\n",
       "      <td>1.12</td>\n",
       "      <td>10.48</td>\n",
       "    </tr>\n",
       "    <tr>\n",
       "      <th>3:30-45</th>\n",
       "      <td>11.78</td>\n",
       "      <td>1.42</td>\n",
       "      <td>11.78</td>\n",
       "    </tr>\n",
       "  </tbody>\n",
       "</table>\n",
       "</div>"
      ],
      "text/plain": [
       "         rouge_1_f_score  rouge_2_f_score  rouge_l_f_score\n",
       "0:all               9.62             1.58             9.28\n",
       "1:0-15              9.45             1.63             9.09\n",
       "2:15-30            10.66             1.12            10.48\n",
       "3:30-45            11.78             1.42            11.78"
      ]
     },
     "execution_count": 28,
     "metadata": {},
     "output_type": "execute_result"
    }
   ],
   "source": [
    "hist_df_eigen_sports = rouge_eval(eval_dir_sports, mode='str-dis')\n",
    "hist_df_eigen_sports"
   ]
  },
  {
   "cell_type": "code",
   "execution_count": 29,
   "metadata": {
    "scrolled": true
   },
   "outputs": [
    {
     "data": {
      "text/html": [
       "<div>\n",
       "<style scoped>\n",
       "    .dataframe tbody tr th:only-of-type {\n",
       "        vertical-align: middle;\n",
       "    }\n",
       "\n",
       "    .dataframe tbody tr th {\n",
       "        vertical-align: top;\n",
       "    }\n",
       "\n",
       "    .dataframe thead th {\n",
       "        text-align: right;\n",
       "    }\n",
       "</style>\n",
       "<table border=\"1\" class=\"dataframe\">\n",
       "  <thead>\n",
       "    <tr style=\"text-align: right;\">\n",
       "      <th></th>\n",
       "      <th>rouge_1_f_score</th>\n",
       "      <th>rouge_2_f_score</th>\n",
       "      <th>rouge_l_f_score</th>\n",
       "    </tr>\n",
       "  </thead>\n",
       "  <tbody>\n",
       "    <tr>\n",
       "      <th>0:all</th>\n",
       "      <td>10.69</td>\n",
       "      <td>2.02</td>\n",
       "      <td>10.61</td>\n",
       "    </tr>\n",
       "    <tr>\n",
       "      <th>1:0-15</th>\n",
       "      <td>10.84</td>\n",
       "      <td>1.92</td>\n",
       "      <td>10.75</td>\n",
       "    </tr>\n",
       "    <tr>\n",
       "      <th>2:15-30</th>\n",
       "      <td>10.42</td>\n",
       "      <td>3.17</td>\n",
       "      <td>10.42</td>\n",
       "    </tr>\n",
       "    <tr>\n",
       "      <th>3:30-45</th>\n",
       "      <td>7.01</td>\n",
       "      <td>2.50</td>\n",
       "      <td>7.01</td>\n",
       "    </tr>\n",
       "  </tbody>\n",
       "</table>\n",
       "</div>"
      ],
      "text/plain": [
       "         rouge_1_f_score  rouge_2_f_score  rouge_l_f_score\n",
       "0:all              10.69             2.02            10.61\n",
       "1:0-15             10.84             1.92            10.75\n",
       "2:15-30            10.42             3.17            10.42\n",
       "3:30-45             7.01             2.50             7.01"
      ]
     },
     "execution_count": 29,
     "metadata": {},
     "output_type": "execute_result"
    }
   ],
   "source": [
    "hist_df_base_sports = rouge_eval(eval_dir_sports, mode='seq')\n",
    "hist_df_base_sports"
   ]
  },
  {
   "cell_type": "code",
   "execution_count": 30,
   "metadata": {
    "scrolled": true
   },
   "outputs": [
    {
     "data": {
      "text/html": [
       "<div>\n",
       "<style scoped>\n",
       "    .dataframe tbody tr th:only-of-type {\n",
       "        vertical-align: middle;\n",
       "    }\n",
       "\n",
       "    .dataframe tbody tr th {\n",
       "        vertical-align: top;\n",
       "    }\n",
       "\n",
       "    .dataframe thead th {\n",
       "        text-align: right;\n",
       "    }\n",
       "</style>\n",
       "<table border=\"1\" class=\"dataframe\">\n",
       "  <thead>\n",
       "    <tr style=\"text-align: right;\">\n",
       "      <th></th>\n",
       "      <th>rouge_1_f_score</th>\n",
       "      <th>rouge_2_f_score</th>\n",
       "      <th>rouge_l_f_score</th>\n",
       "    </tr>\n",
       "  </thead>\n",
       "  <tbody>\n",
       "    <tr>\n",
       "      <th>0:all</th>\n",
       "      <td>11.49</td>\n",
       "      <td>2.39</td>\n",
       "      <td>11.47</td>\n",
       "    </tr>\n",
       "    <tr>\n",
       "      <th>1:0-15</th>\n",
       "      <td>11.86</td>\n",
       "      <td>2.48</td>\n",
       "      <td>11.82</td>\n",
       "    </tr>\n",
       "    <tr>\n",
       "      <th>2:15-30</th>\n",
       "      <td>9.85</td>\n",
       "      <td>2.45</td>\n",
       "      <td>9.85</td>\n",
       "    </tr>\n",
       "    <tr>\n",
       "      <th>3:30-45</th>\n",
       "      <td>7.03</td>\n",
       "      <td>0.00</td>\n",
       "      <td>7.03</td>\n",
       "    </tr>\n",
       "  </tbody>\n",
       "</table>\n",
       "</div>"
      ],
      "text/plain": [
       "         rouge_1_f_score  rouge_2_f_score  rouge_l_f_score\n",
       "0:all              11.49             2.39            11.47\n",
       "1:0-15             11.86             2.48            11.82\n",
       "2:15-30             9.85             2.45             9.85\n",
       "3:30-45             7.03             0.00             7.03"
      ]
     },
     "execution_count": 30,
     "metadata": {},
     "output_type": "execute_result"
    }
   ],
   "source": [
    "hist_df_base_att_sports = rouge_eval(eval_dir_sports, mode='seq-att')\n",
    "hist_df_base_att_sports"
   ]
  },
  {
   "cell_type": "code",
   "execution_count": 31,
   "metadata": {
    "scrolled": true
   },
   "outputs": [
    {
     "data": {
      "text/html": [
       "<div>\n",
       "<style scoped>\n",
       "    .dataframe tbody tr th:only-of-type {\n",
       "        vertical-align: middle;\n",
       "    }\n",
       "\n",
       "    .dataframe tbody tr th {\n",
       "        vertical-align: top;\n",
       "    }\n",
       "\n",
       "    .dataframe thead th {\n",
       "        text-align: right;\n",
       "    }\n",
       "</style>\n",
       "<table border=\"1\" class=\"dataframe\">\n",
       "  <thead>\n",
       "    <tr style=\"text-align: right;\">\n",
       "      <th></th>\n",
       "      <th>rouge_1_f_score</th>\n",
       "      <th>rouge_2_f_score</th>\n",
       "      <th>rouge_l_f_score</th>\n",
       "    </tr>\n",
       "  </thead>\n",
       "  <tbody>\n",
       "    <tr>\n",
       "      <th>0:all</th>\n",
       "      <td>5.42</td>\n",
       "      <td>0.47</td>\n",
       "      <td>4.97</td>\n",
       "    </tr>\n",
       "    <tr>\n",
       "      <th>1:0-15</th>\n",
       "      <td>5.58</td>\n",
       "      <td>0.48</td>\n",
       "      <td>5.15</td>\n",
       "    </tr>\n",
       "    <tr>\n",
       "      <th>2:15-30</th>\n",
       "      <td>4.34</td>\n",
       "      <td>0.63</td>\n",
       "      <td>3.82</td>\n",
       "    </tr>\n",
       "    <tr>\n",
       "      <th>3:30-45</th>\n",
       "      <td>3.96</td>\n",
       "      <td>0.00</td>\n",
       "      <td>3.16</td>\n",
       "    </tr>\n",
       "  </tbody>\n",
       "</table>\n",
       "</div>"
      ],
      "text/plain": [
       "         rouge_1_f_score  rouge_2_f_score  rouge_l_f_score\n",
       "0:all               5.42             0.47             4.97\n",
       "1:0-15              5.58             0.48             5.15\n",
       "2:15-30             4.34             0.63             3.82\n",
       "3:30-45             3.96             0.00             3.16"
      ]
     },
     "execution_count": 31,
     "metadata": {},
     "output_type": "execute_result"
    }
   ],
   "source": [
    "hist_df_meansum_sports = rouge_eval(eval_dir_sports, mode='meansum')\n",
    "hist_df_meansum_sports"
   ]
  },
  {
   "cell_type": "code",
   "execution_count": 32,
   "metadata": {
    "scrolled": true
   },
   "outputs": [
    {
     "data": {
      "text/html": [
       "<div>\n",
       "<style scoped>\n",
       "    .dataframe tbody tr th:only-of-type {\n",
       "        vertical-align: middle;\n",
       "    }\n",
       "\n",
       "    .dataframe tbody tr th {\n",
       "        vertical-align: top;\n",
       "    }\n",
       "\n",
       "    .dataframe thead th {\n",
       "        text-align: right;\n",
       "    }\n",
       "</style>\n",
       "<table border=\"1\" class=\"dataframe\">\n",
       "  <thead>\n",
       "    <tr style=\"text-align: right;\">\n",
       "      <th></th>\n",
       "      <th>rouge_1_f_score</th>\n",
       "      <th>rouge_2_f_score</th>\n",
       "      <th>rouge_l_f_score</th>\n",
       "    </tr>\n",
       "  </thead>\n",
       "  <tbody>\n",
       "    <tr>\n",
       "      <th>0:all</th>\n",
       "      <td>7.16</td>\n",
       "      <td>0.89</td>\n",
       "      <td>6.39</td>\n",
       "    </tr>\n",
       "    <tr>\n",
       "      <th>1:0-15</th>\n",
       "      <td>7.15</td>\n",
       "      <td>0.95</td>\n",
       "      <td>6.43</td>\n",
       "    </tr>\n",
       "    <tr>\n",
       "      <th>2:15-30</th>\n",
       "      <td>7.22</td>\n",
       "      <td>0.33</td>\n",
       "      <td>6.10</td>\n",
       "    </tr>\n",
       "    <tr>\n",
       "      <th>3:30-45</th>\n",
       "      <td>6.19</td>\n",
       "      <td>0.00</td>\n",
       "      <td>5.10</td>\n",
       "    </tr>\n",
       "  </tbody>\n",
       "</table>\n",
       "</div>"
      ],
      "text/plain": [
       "         rouge_1_f_score  rouge_2_f_score  rouge_l_f_score\n",
       "0:all               7.16             0.89             6.39\n",
       "1:0-15              7.15             0.95             6.43\n",
       "2:15-30             7.22             0.33             6.10\n",
       "3:30-45             6.19             0.00             5.10"
      ]
     },
     "execution_count": 32,
     "metadata": {},
     "output_type": "execute_result"
    }
   ],
   "source": [
    "hist_df_textrank_sports = rouge_eval(eval_dir_sports, mode='textrank')\n",
    "hist_df_textrank_sports"
   ]
  },
  {
   "cell_type": "code",
   "execution_count": 33,
   "metadata": {},
   "outputs": [
    {
     "data": {
      "text/html": [
       "<div>\n",
       "<style scoped>\n",
       "    .dataframe tbody tr th:only-of-type {\n",
       "        vertical-align: middle;\n",
       "    }\n",
       "\n",
       "    .dataframe tbody tr th {\n",
       "        vertical-align: top;\n",
       "    }\n",
       "\n",
       "    .dataframe thead th {\n",
       "        text-align: right;\n",
       "    }\n",
       "</style>\n",
       "<table border=\"1\" class=\"dataframe\">\n",
       "  <thead>\n",
       "    <tr style=\"text-align: right;\">\n",
       "      <th></th>\n",
       "      <th>rouge_1_f_score</th>\n",
       "      <th>rouge_2_f_score</th>\n",
       "      <th>rouge_l_f_score</th>\n",
       "    </tr>\n",
       "  </thead>\n",
       "  <tbody>\n",
       "    <tr>\n",
       "      <th>0:all</th>\n",
       "      <td>7.04</td>\n",
       "      <td>1.42</td>\n",
       "      <td>6.45</td>\n",
       "    </tr>\n",
       "    <tr>\n",
       "      <th>1:0-15</th>\n",
       "      <td>7.32</td>\n",
       "      <td>1.57</td>\n",
       "      <td>6.67</td>\n",
       "    </tr>\n",
       "    <tr>\n",
       "      <th>2:15-30</th>\n",
       "      <td>5.13</td>\n",
       "      <td>0.28</td>\n",
       "      <td>4.94</td>\n",
       "    </tr>\n",
       "    <tr>\n",
       "      <th>3:30-45</th>\n",
       "      <td>4.13</td>\n",
       "      <td>0.00</td>\n",
       "      <td>4.13</td>\n",
       "    </tr>\n",
       "  </tbody>\n",
       "</table>\n",
       "</div>"
      ],
      "text/plain": [
       "         rouge_1_f_score  rouge_2_f_score  rouge_l_f_score\n",
       "0:all               7.04             1.42             6.45\n",
       "1:0-15              7.32             1.57             6.67\n",
       "2:15-30             5.13             0.28             4.94\n",
       "3:30-45             4.13             0.00             4.13"
      ]
     },
     "execution_count": 33,
     "metadata": {},
     "output_type": "execute_result"
    }
   ],
   "source": [
    "eval_dir_sports_opinosis = 'opinosis/sports/dev/'\n",
    "dev_opinosis_dict_sports = {}\n",
    "for redundancy in redundancy_list:\n",
    "    for gap in gap_list:\n",
    "        mode = 'red-%i-gap-%i' % (redundancy, gap)\n",
    "        dev_df_opinosis_sports = rouge_eval_opinosis(eval_dir_sports_opinosis, mode=mode).loc['0:all']\n",
    "        dev_opinosis_dict_sports[mode] = dev_df_opinosis_sports\n",
    "\n",
    "mode_test_sports = max([(key, val[2]) for key, val in dev_opinosis_dict_sports.items()], key=lambda x:x[1])[0]\n",
    "eval_dir_sports_opinosis_test = 'opinosis/sports/test/'\n",
    "hist_df_opinosis_sports = rouge_eval_opinosis(eval_dir_sports_opinosis_test, mode=mode_test_sports)\n",
    "hist_df_opinosis_sports"
   ]
  },
  {
   "cell_type": "markdown",
   "metadata": {},
   "source": [
    "## compare"
   ]
  },
  {
   "cell_type": "code",
   "execution_count": 34,
   "metadata": {},
   "outputs": [
    {
     "data": {
      "text/html": [
       "<div>\n",
       "<style scoped>\n",
       "    .dataframe tbody tr th:only-of-type {\n",
       "        vertical-align: middle;\n",
       "    }\n",
       "\n",
       "    .dataframe tbody tr th {\n",
       "        vertical-align: top;\n",
       "    }\n",
       "\n",
       "    .dataframe thead th {\n",
       "        text-align: right;\n",
       "    }\n",
       "</style>\n",
       "<table border=\"1\" class=\"dataframe\">\n",
       "  <thead>\n",
       "    <tr style=\"text-align: right;\">\n",
       "      <th></th>\n",
       "      <th>rouge_1_f_score</th>\n",
       "      <th>rouge_2_f_score</th>\n",
       "      <th>rouge_l_f_score</th>\n",
       "    </tr>\n",
       "  </thead>\n",
       "  <tbody>\n",
       "    <tr>\n",
       "      <th>TextRank</th>\n",
       "      <td>7.16</td>\n",
       "      <td>0.89</td>\n",
       "      <td>6.39</td>\n",
       "    </tr>\n",
       "    <tr>\n",
       "      <th>Opinosis</th>\n",
       "      <td>7.04</td>\n",
       "      <td>1.42</td>\n",
       "      <td>6.45</td>\n",
       "    </tr>\n",
       "    <tr>\n",
       "      <th>MeanSum-single</th>\n",
       "      <td>5.42</td>\n",
       "      <td>0.47</td>\n",
       "      <td>4.97</td>\n",
       "    </tr>\n",
       "    <tr>\n",
       "      <th>StrSum</th>\n",
       "      <td>9.15</td>\n",
       "      <td>1.38</td>\n",
       "      <td>8.79</td>\n",
       "    </tr>\n",
       "    <tr>\n",
       "      <th>StrSum+DiscourseRank</th>\n",
       "      <td>9.62</td>\n",
       "      <td>1.58</td>\n",
       "      <td>9.28</td>\n",
       "    </tr>\n",
       "    <tr>\n",
       "      <th>Seq-Seq</th>\n",
       "      <td>10.69</td>\n",
       "      <td>2.02</td>\n",
       "      <td>10.61</td>\n",
       "    </tr>\n",
       "    <tr>\n",
       "      <th>Seq-Seq-att</th>\n",
       "      <td>11.49</td>\n",
       "      <td>2.39</td>\n",
       "      <td>11.47</td>\n",
       "    </tr>\n",
       "  </tbody>\n",
       "</table>\n",
       "</div>"
      ],
      "text/plain": [
       "                      rouge_1_f_score  rouge_2_f_score  rouge_l_f_score\n",
       "TextRank                         7.16             0.89             6.39\n",
       "Opinosis                         7.04             1.42             6.45\n",
       "MeanSum-single                   5.42             0.47             4.97\n",
       "StrSum                           9.15             1.38             8.79\n",
       "StrSum+DiscourseRank             9.62             1.58             9.28\n",
       "Seq-Seq                         10.69             2.02            10.61\n",
       "Seq-Seq-att                     11.49             2.39            11.47"
      ]
     },
     "execution_count": 34,
     "metadata": {},
     "output_type": "execute_result"
    }
   ],
   "source": [
    "result_dict_sports = {\n",
    "    'TextRank': hist_df_textrank_sports.loc['0:all'],    \n",
    "    'Opinosis': hist_df_opinosis_sports.loc['0:all'],\n",
    "    'MeanSum-single': hist_df_meansum_sports.loc['0:all'],\n",
    "    'StrSum': hist_df_str_sports.loc['0:all'], \n",
    "    'StrSum+DiscourseRank': hist_df_eigen_sports.loc['0:all'],\n",
    "    'Seq-Seq': hist_df_base_sports.loc['0:all'],\n",
    "    'Seq-Seq-att': hist_df_base_att_sports.loc['0:all'],    \n",
    "}\n",
    "\n",
    "result_df_sports = pd.DataFrame.from_dict(result_dict_sports, orient='index').loc[['TextRank', 'Opinosis', 'MeanSum-single', 'StrSum', 'StrSum+DiscourseRank', 'Seq-Seq', 'Seq-Seq-att']]\n",
    "result_df_sports"
   ]
  },
  {
   "cell_type": "code",
   "execution_count": 35,
   "metadata": {
    "scrolled": false
   },
   "outputs": [
    {
     "data": {
      "text/plain": [
       "<matplotlib.axes._subplots.AxesSubplot at 0x7fb2e044c690>"
      ]
     },
     "execution_count": 35,
     "metadata": {},
     "output_type": "execute_result"
    },
    {
     "data": {
      "image/png": "[encoded data removed]",
      "text/plain": [
       "<Figure size 576x360 with 1 Axes>"
      ]
     },
     "metadata": {
      "needs_background": "light"
     },
     "output_type": "display_data"
    }
   ],
   "source": [
    "result_dict_doc_l_sports = {\n",
    "    'StrSum': hist_df_str_sports.loc[:, 'rouge_l_f_score'],\n",
    "    'StrSum+DiscourseRank': hist_df_eigen_sports.loc[:, 'rouge_l_f_score'],\n",
    "    'Seq-Seq-att': hist_df_base_att_sports.loc[:, 'rouge_l_f_score'],\n",
    "}\n",
    "\n",
    "result_df_doc_l_sports = pd.DataFrame.from_dict(result_dict_doc_l_sports).loc[:, ['StrSum', 'StrSum+DiscourseRank', 'Seq-Seq-att']]\n",
    "ylim = 20\n",
    "result_df_doc_l_sports.plot.bar(ylim=(0, ylim), yticks=[y for y in range(ylim+1)], figsize=(8, 5), fontsize=14)"
   ]
  },
  {
   "cell_type": "markdown",
   "metadata": {},
   "source": [
    "# movies"
   ]
  },
  {
   "cell_type": "markdown",
   "metadata": {},
   "source": [
    "## load data"
   ]
  },
  {
   "cell_type": "code",
   "execution_count": 36,
   "metadata": {},
   "outputs": [],
   "source": [
    "load_flg_movies = True"
   ]
  },
  {
   "cell_type": "code",
   "execution_count": 37,
   "metadata": {},
   "outputs": [],
   "source": [
    "nb_name_movies = '0 -movies -train_l 10_60 -test_l 5_60'\n",
    "config_movies = Config(nb_name_movies)\n",
    "eval_dir_movies = os.path.join(eval_dir, 'movies')\n",
    "if load_flg_movies: \n",
    "    test_datasets_movies = cPickle.load(open(config_movies.test_datapath))\n",
    "    load_flg_movies = False\n",
    "config_movies.test_max_doc_l = 60\n",
    "dev_batches_movies, test_batches_movies, embedding_matrix_movies, vocab_movies, word_to_id_movies = load_test_data(test_datasets_movies, config_movies)\n",
    "config_movies = update_config(config_movies, embedding_matrix_movies, vocab_movies, word_to_id_movies, test_batches_movies)\n",
    "write_ref(test_batches_movies, eval_dir_movies)"
   ]
  },
  {
   "cell_type": "markdown",
   "metadata": {
    "heading_collapsed": true
   },
   "source": [
    "## write out texts"
   ]
  },
  {
   "cell_type": "code",
   "execution_count": 544,
   "metadata": {
    "hidden": true
   },
   "outputs": [
    {
     "name": "stdout",
     "output_type": "stream",
     "text": [
      "INFO:tensorflow:Restoring parameters from NAS/model/movies/movies-train_l10_60-test_l5_60-save10000/model-78500\n"
     ]
    },
    {
     "name": "stderr",
     "output_type": "stream",
     "text": [
      "INFO:tensorflow:Restoring parameters from NAS/model/movies/movies-train_l10_60-test_l5_60-save10000/model-78500\n"
     ]
    }
   ],
   "source": [
    "nb_name_str_movies = '6 -movies -train_l 10_60 -test_l 5_60 -save 10000'\n",
    "config_str_movies = Config(nb_name_str_movies)\n",
    "config_str_movies.test_max_doc_l = config_movies.test_max_doc_l\n",
    "config_str_movies = update_config(config_str_movies, embedding_matrix_movies, vocab_movies, word_to_id_movies, test_batches_movies)\n",
    "ckpt_str_movies = tf.train.get_checkpoint_state(config_str_movies.writedir)\n",
    "model_path_str_movies = ckpt_str_movies.all_model_checkpoint_paths[-1]\n",
    "write_out(test_batches_movies, eval_dir_movies, mode='str', model_path=model_path_str_movies, config=config_str_movies)"
   ]
  },
  {
   "cell_type": "code",
   "execution_count": 545,
   "metadata": {
    "hidden": true
   },
   "outputs": [
    {
     "name": "stdout",
     "output_type": "stream",
     "text": [
      "INFO:tensorflow:Restoring parameters from NAS/model/movies/movies-eigen-train_l10_60-test_l5_60-save10000/model-86000\n"
     ]
    },
    {
     "name": "stderr",
     "output_type": "stream",
     "text": [
      "INFO:tensorflow:Restoring parameters from NAS/model/movies/movies-eigen-train_l10_60-test_l5_60-save10000/model-86000\n"
     ]
    }
   ],
   "source": [
    "nb_name_eigen_movies = '7 -movies -eigen -train_l 10_60 -test_l 5_60 -save 10000'\n",
    "config_eigen_movies = Config(nb_name_eigen_movies)\n",
    "config_eigen_movies.test_max_doc_l = config_movies.test_max_doc_l\n",
    "config_eigen_movies = update_config(config_eigen_movies, embedding_matrix_movies, vocab_movies, word_to_id_movies, test_batches_movies)\n",
    "ckpt_eigen_movies = tf.train.get_checkpoint_state(config_eigen_movies.writedir)\n",
    "model_path_eigen_movies = ckpt_eigen_movies.all_model_checkpoint_paths[-2]\n",
    "write_out(test_batches_movies, eval_dir_movies, mode='str-dis', model_path=model_path_eigen_movies, config=config_eigen_movies)"
   ]
  },
  {
   "cell_type": "code",
   "execution_count": 546,
   "metadata": {
    "hidden": true,
    "scrolled": true
   },
   "outputs": [
    {
     "name": "stdout",
     "output_type": "stream",
     "text": [
      "INFO:tensorflow:Restoring parameters from NAS/basemodel/movies/movies-base-train_l10_60-test_l5_60-keep_prob1-dim_hidden512/model-10500\n"
     ]
    },
    {
     "name": "stderr",
     "output_type": "stream",
     "text": [
      "INFO:tensorflow:Restoring parameters from NAS/basemodel/movies/movies-base-train_l10_60-test_l5_60-keep_prob1-dim_hidden512/model-10500\n"
     ]
    }
   ],
   "source": [
    "nb_name_base_movies = '9 -movies -base -train_l 10_60 -test_l 5_60 -keep_prob 1 -dim_hidden 512'\n",
    "config_base_movies = Config(nb_name_base_movies)\n",
    "config_base_movies.test_max_doc_l = config_movies.test_max_doc_l\n",
    "config_base_movies = update_config(config_base_movies, embedding_matrix_movies, vocab_movies, word_to_id_movies, test_batches_movies)\n",
    "ckpt_base_movies = tf.train.get_checkpoint_state(config_base_movies.writedir)\n",
    "model_path_base_movies = ckpt_base_movies.all_model_checkpoint_paths[-1]\n",
    "write_out(test_batches_movies, eval_dir_movies, mode='seq', model_path=model_path_base_movies, config=config_base_movies)"
   ]
  },
  {
   "cell_type": "code",
   "execution_count": 547,
   "metadata": {
    "hidden": true,
    "scrolled": true
   },
   "outputs": [
    {
     "name": "stdout",
     "output_type": "stream",
     "text": [
      "INFO:tensorflow:Restoring parameters from NAS/basemodel/movies/movies-base-att-train_l10_60-test_l5_60-keep_prob1-dim_hidden512/model-61000\n"
     ]
    },
    {
     "name": "stderr",
     "output_type": "stream",
     "text": [
      "INFO:tensorflow:Restoring parameters from NAS/basemodel/movies/movies-base-att-train_l10_60-test_l5_60-keep_prob1-dim_hidden512/model-61000\n"
     ]
    }
   ],
   "source": [
    "nb_name_base_att_movies = '9 -movies -base -att -train_l 10_60 -test_l 5_60 -keep_prob 1 -dim_hidden 512'\n",
    "config_base_att_movies = Config(nb_name_base_att_movies)\n",
    "config_base_att_movies.test_max_doc_l = config_movies.test_max_doc_l\n",
    "config_base_att_movies = update_config(config_base_att_movies, embedding_matrix_movies, vocab_movies, word_to_id_movies, test_batches_movies)\n",
    "ckpt_base_att_movies = tf.train.get_checkpoint_state(config_base_att_movies.writedir)\n",
    "model_path_base_att_movies = ckpt_base_att_movies.all_model_checkpoint_paths[-1]\n",
    "write_out(test_batches_movies, eval_dir_movies, mode='seq-att', model_path=model_path_base_att_movies, config=config_base_att_movies)"
   ]
  },
  {
   "cell_type": "code",
   "execution_count": 548,
   "metadata": {
    "hidden": true
   },
   "outputs": [
    {
     "name": "stdout",
     "output_type": "stream",
     "text": [
      "INFO:tensorflow:Restoring parameters from NAS/leadmodel/movies/movies-lead0-train_l10_60-test_l5_60-keep_prob0.8-save20000/model-92500\n"
     ]
    },
    {
     "name": "stderr",
     "output_type": "stream",
     "text": [
      "INFO:tensorflow:Restoring parameters from NAS/leadmodel/movies/movies-lead0-train_l10_60-test_l5_60-keep_prob0.8-save20000/model-92500\n"
     ]
    }
   ],
   "source": [
    "nb_name_meansum_movies = '0 -movies -lead 0 -train_l 10_60 -test_l 5_60 -keep_prob 0.8 -save 20000'\n",
    "config_meansum_movies = Config(nb_name_meansum_movies)\n",
    "config_meansum_movies.test_max_doc_l = config_movies.test_max_doc_l\n",
    "config_meansum_movies = update_config(config_meansum_movies, embedding_matrix_movies, vocab_movies, word_to_id_movies, test_batches_movies)\n",
    "ckpt_meansum_movies = tf.train.get_checkpoint_state(config_meansum_movies.writedir)\n",
    "model_path_meansum_movies = ckpt_meansum_movies.all_model_checkpoint_paths[-1]\n",
    "write_out(test_batches_movies, eval_dir_movies, mode='meansum', model_path=model_path_meansum_movies, config=config_meansum_movies)"
   ]
  },
  {
   "cell_type": "code",
   "execution_count": 549,
   "metadata": {
    "hidden": true
   },
   "outputs": [
    {
     "name": "stderr",
     "output_type": "stream",
     "text": [
      "/home/m-isonuma/.pyenv/versions/anaconda2-5.3.0/envs/py2/lib/python2.7/site-packages/ipykernel_launcher.py:6: RuntimeWarning: invalid value encountered in divide\n",
      "  \n"
     ]
    }
   ],
   "source": [
    "config_textrank_movies = config_movies\n",
    "config_textrank_movies.embs = embedding_matrix_movies\n",
    "write_out_base(test_batches_movies, eval_dir_movies, mode='textrank', base_func=textrank_func, config=config_textrank_movies)"
   ]
  },
  {
   "cell_type": "markdown",
   "metadata": {},
   "source": [
    "## eval"
   ]
  },
  {
   "cell_type": "code",
   "execution_count": 38,
   "metadata": {
    "scrolled": true
   },
   "outputs": [
    {
     "data": {
      "text/html": [
       "<div>\n",
       "<style scoped>\n",
       "    .dataframe tbody tr th:only-of-type {\n",
       "        vertical-align: middle;\n",
       "    }\n",
       "\n",
       "    .dataframe tbody tr th {\n",
       "        vertical-align: top;\n",
       "    }\n",
       "\n",
       "    .dataframe thead th {\n",
       "        text-align: right;\n",
       "    }\n",
       "</style>\n",
       "<table border=\"1\" class=\"dataframe\">\n",
       "  <thead>\n",
       "    <tr style=\"text-align: right;\">\n",
       "      <th></th>\n",
       "      <th>rouge_1_f_score</th>\n",
       "      <th>rouge_2_f_score</th>\n",
       "      <th>rouge_l_f_score</th>\n",
       "    </tr>\n",
       "  </thead>\n",
       "  <tbody>\n",
       "    <tr>\n",
       "      <th>0:all</th>\n",
       "      <td>7.38</td>\n",
       "      <td>1.03</td>\n",
       "      <td>6.94</td>\n",
       "    </tr>\n",
       "    <tr>\n",
       "      <th>1:0-15</th>\n",
       "      <td>6.79</td>\n",
       "      <td>1.05</td>\n",
       "      <td>6.33</td>\n",
       "    </tr>\n",
       "    <tr>\n",
       "      <th>2:15-30</th>\n",
       "      <td>8.11</td>\n",
       "      <td>0.88</td>\n",
       "      <td>7.80</td>\n",
       "    </tr>\n",
       "    <tr>\n",
       "      <th>3:30-45</th>\n",
       "      <td>10.69</td>\n",
       "      <td>1.10</td>\n",
       "      <td>9.93</td>\n",
       "    </tr>\n",
       "  </tbody>\n",
       "</table>\n",
       "</div>"
      ],
      "text/plain": [
       "         rouge_1_f_score  rouge_2_f_score  rouge_l_f_score\n",
       "0:all               7.38             1.03             6.94\n",
       "1:0-15              6.79             1.05             6.33\n",
       "2:15-30             8.11             0.88             7.80\n",
       "3:30-45            10.69             1.10             9.93"
      ]
     },
     "execution_count": 38,
     "metadata": {},
     "output_type": "execute_result"
    }
   ],
   "source": [
    "hist_df_str_movies = rouge_eval(eval_dir_movies, mode='str')\n",
    "hist_df_str_movies"
   ]
  },
  {
   "cell_type": "code",
   "execution_count": 39,
   "metadata": {},
   "outputs": [
    {
     "data": {
      "text/html": [
       "<div>\n",
       "<style scoped>\n",
       "    .dataframe tbody tr th:only-of-type {\n",
       "        vertical-align: middle;\n",
       "    }\n",
       "\n",
       "    .dataframe tbody tr th {\n",
       "        vertical-align: top;\n",
       "    }\n",
       "\n",
       "    .dataframe thead th {\n",
       "        text-align: right;\n",
       "    }\n",
       "</style>\n",
       "<table border=\"1\" class=\"dataframe\">\n",
       "  <thead>\n",
       "    <tr style=\"text-align: right;\">\n",
       "      <th></th>\n",
       "      <th>rouge_1_f_score</th>\n",
       "      <th>rouge_2_f_score</th>\n",
       "      <th>rouge_l_f_score</th>\n",
       "    </tr>\n",
       "  </thead>\n",
       "  <tbody>\n",
       "    <tr>\n",
       "      <th>0:all</th>\n",
       "      <td>8.15</td>\n",
       "      <td>1.33</td>\n",
       "      <td>7.62</td>\n",
       "    </tr>\n",
       "    <tr>\n",
       "      <th>1:0-15</th>\n",
       "      <td>7.79</td>\n",
       "      <td>1.43</td>\n",
       "      <td>7.24</td>\n",
       "    </tr>\n",
       "    <tr>\n",
       "      <th>2:15-30</th>\n",
       "      <td>8.81</td>\n",
       "      <td>1.09</td>\n",
       "      <td>8.40</td>\n",
       "    </tr>\n",
       "    <tr>\n",
       "      <th>3:30-45</th>\n",
       "      <td>9.32</td>\n",
       "      <td>0.79</td>\n",
       "      <td>8.63</td>\n",
       "    </tr>\n",
       "  </tbody>\n",
       "</table>\n",
       "</div>"
      ],
      "text/plain": [
       "         rouge_1_f_score  rouge_2_f_score  rouge_l_f_score\n",
       "0:all               8.15             1.33             7.62\n",
       "1:0-15              7.79             1.43             7.24\n",
       "2:15-30             8.81             1.09             8.40\n",
       "3:30-45             9.32             0.79             8.63"
      ]
     },
     "execution_count": 39,
     "metadata": {},
     "output_type": "execute_result"
    }
   ],
   "source": [
    "hist_df_eigen_movies = rouge_eval(eval_dir_movies, mode='str-dis')\n",
    "hist_df_eigen_movies"
   ]
  },
  {
   "cell_type": "code",
   "execution_count": 40,
   "metadata": {
    "scrolled": true
   },
   "outputs": [
    {
     "data": {
      "text/html": [
       "<div>\n",
       "<style scoped>\n",
       "    .dataframe tbody tr th:only-of-type {\n",
       "        vertical-align: middle;\n",
       "    }\n",
       "\n",
       "    .dataframe tbody tr th {\n",
       "        vertical-align: top;\n",
       "    }\n",
       "\n",
       "    .dataframe thead th {\n",
       "        text-align: right;\n",
       "    }\n",
       "</style>\n",
       "<table border=\"1\" class=\"dataframe\">\n",
       "  <thead>\n",
       "    <tr style=\"text-align: right;\">\n",
       "      <th></th>\n",
       "      <th>rouge_1_f_score</th>\n",
       "      <th>rouge_2_f_score</th>\n",
       "      <th>rouge_l_f_score</th>\n",
       "    </tr>\n",
       "  </thead>\n",
       "  <tbody>\n",
       "    <tr>\n",
       "      <th>0:all</th>\n",
       "      <td>7.71</td>\n",
       "      <td>2.18</td>\n",
       "      <td>7.08</td>\n",
       "    </tr>\n",
       "    <tr>\n",
       "      <th>1:0-15</th>\n",
       "      <td>7.22</td>\n",
       "      <td>2.05</td>\n",
       "      <td>6.65</td>\n",
       "    </tr>\n",
       "    <tr>\n",
       "      <th>2:15-30</th>\n",
       "      <td>9.69</td>\n",
       "      <td>2.67</td>\n",
       "      <td>8.83</td>\n",
       "    </tr>\n",
       "    <tr>\n",
       "      <th>3:30-45</th>\n",
       "      <td>6.15</td>\n",
       "      <td>1.41</td>\n",
       "      <td>5.63</td>\n",
       "    </tr>\n",
       "  </tbody>\n",
       "</table>\n",
       "</div>"
      ],
      "text/plain": [
       "         rouge_1_f_score  rouge_2_f_score  rouge_l_f_score\n",
       "0:all               7.71             2.18             7.08\n",
       "1:0-15              7.22             2.05             6.65\n",
       "2:15-30             9.69             2.67             8.83\n",
       "3:30-45             6.15             1.41             5.63"
      ]
     },
     "execution_count": 40,
     "metadata": {},
     "output_type": "execute_result"
    }
   ],
   "source": [
    "hist_df_base_movies = rouge_eval(eval_dir_movies, mode='seq')\n",
    "hist_df_base_movies"
   ]
  },
  {
   "cell_type": "code",
   "execution_count": 41,
   "metadata": {
    "scrolled": true
   },
   "outputs": [
    {
     "data": {
      "text/html": [
       "<div>\n",
       "<style scoped>\n",
       "    .dataframe tbody tr th:only-of-type {\n",
       "        vertical-align: middle;\n",
       "    }\n",
       "\n",
       "    .dataframe tbody tr th {\n",
       "        vertical-align: top;\n",
       "    }\n",
       "\n",
       "    .dataframe thead th {\n",
       "        text-align: right;\n",
       "    }\n",
       "</style>\n",
       "<table border=\"1\" class=\"dataframe\">\n",
       "  <thead>\n",
       "    <tr style=\"text-align: right;\">\n",
       "      <th></th>\n",
       "      <th>rouge_1_f_score</th>\n",
       "      <th>rouge_2_f_score</th>\n",
       "      <th>rouge_l_f_score</th>\n",
       "    </tr>\n",
       "  </thead>\n",
       "  <tbody>\n",
       "    <tr>\n",
       "      <th>0:all</th>\n",
       "      <td>9.05</td>\n",
       "      <td>2.99</td>\n",
       "      <td>8.46</td>\n",
       "    </tr>\n",
       "    <tr>\n",
       "      <th>1:0-15</th>\n",
       "      <td>8.76</td>\n",
       "      <td>2.68</td>\n",
       "      <td>8.25</td>\n",
       "    </tr>\n",
       "    <tr>\n",
       "      <th>2:15-30</th>\n",
       "      <td>10.96</td>\n",
       "      <td>4.38</td>\n",
       "      <td>10.08</td>\n",
       "    </tr>\n",
       "    <tr>\n",
       "      <th>3:30-45</th>\n",
       "      <td>5.97</td>\n",
       "      <td>1.41</td>\n",
       "      <td>5.45</td>\n",
       "    </tr>\n",
       "  </tbody>\n",
       "</table>\n",
       "</div>"
      ],
      "text/plain": [
       "         rouge_1_f_score  rouge_2_f_score  rouge_l_f_score\n",
       "0:all               9.05             2.99             8.46\n",
       "1:0-15              8.76             2.68             8.25\n",
       "2:15-30            10.96             4.38            10.08\n",
       "3:30-45             5.97             1.41             5.45"
      ]
     },
     "execution_count": 41,
     "metadata": {},
     "output_type": "execute_result"
    }
   ],
   "source": [
    "hist_df_base_att_movies = rouge_eval(eval_dir_movies, mode='seq-att')\n",
    "hist_df_base_att_movies"
   ]
  },
  {
   "cell_type": "code",
   "execution_count": 42,
   "metadata": {
    "scrolled": true
   },
   "outputs": [
    {
     "data": {
      "text/html": [
       "<div>\n",
       "<style scoped>\n",
       "    .dataframe tbody tr th:only-of-type {\n",
       "        vertical-align: middle;\n",
       "    }\n",
       "\n",
       "    .dataframe tbody tr th {\n",
       "        vertical-align: top;\n",
       "    }\n",
       "\n",
       "    .dataframe thead th {\n",
       "        text-align: right;\n",
       "    }\n",
       "</style>\n",
       "<table border=\"1\" class=\"dataframe\">\n",
       "  <thead>\n",
       "    <tr style=\"text-align: right;\">\n",
       "      <th></th>\n",
       "      <th>rouge_1_f_score</th>\n",
       "      <th>rouge_2_f_score</th>\n",
       "      <th>rouge_l_f_score</th>\n",
       "    </tr>\n",
       "  </thead>\n",
       "  <tbody>\n",
       "    <tr>\n",
       "      <th>0:all</th>\n",
       "      <td>6.96</td>\n",
       "      <td>0.35</td>\n",
       "      <td>6.08</td>\n",
       "    </tr>\n",
       "    <tr>\n",
       "      <th>1:0-15</th>\n",
       "      <td>6.71</td>\n",
       "      <td>0.27</td>\n",
       "      <td>5.85</td>\n",
       "    </tr>\n",
       "    <tr>\n",
       "      <th>2:15-30</th>\n",
       "      <td>7.91</td>\n",
       "      <td>0.55</td>\n",
       "      <td>7.05</td>\n",
       "    </tr>\n",
       "    <tr>\n",
       "      <th>3:30-45</th>\n",
       "      <td>6.12</td>\n",
       "      <td>0.50</td>\n",
       "      <td>5.13</td>\n",
       "    </tr>\n",
       "  </tbody>\n",
       "</table>\n",
       "</div>"
      ],
      "text/plain": [
       "         rouge_1_f_score  rouge_2_f_score  rouge_l_f_score\n",
       "0:all               6.96             0.35             6.08\n",
       "1:0-15              6.71             0.27             5.85\n",
       "2:15-30             7.91             0.55             7.05\n",
       "3:30-45             6.12             0.50             5.13"
      ]
     },
     "execution_count": 42,
     "metadata": {},
     "output_type": "execute_result"
    }
   ],
   "source": [
    "hist_df_meansum_movies = rouge_eval(eval_dir_movies, mode='meansum')\n",
    "hist_df_meansum_movies"
   ]
  },
  {
   "cell_type": "code",
   "execution_count": 43,
   "metadata": {
    "scrolled": true
   },
   "outputs": [
    {
     "data": {
      "text/html": [
       "<div>\n",
       "<style scoped>\n",
       "    .dataframe tbody tr th:only-of-type {\n",
       "        vertical-align: middle;\n",
       "    }\n",
       "\n",
       "    .dataframe tbody tr th {\n",
       "        vertical-align: top;\n",
       "    }\n",
       "\n",
       "    .dataframe thead th {\n",
       "        text-align: right;\n",
       "    }\n",
       "</style>\n",
       "<table border=\"1\" class=\"dataframe\">\n",
       "  <thead>\n",
       "    <tr style=\"text-align: right;\">\n",
       "      <th></th>\n",
       "      <th>rouge_1_f_score</th>\n",
       "      <th>rouge_2_f_score</th>\n",
       "      <th>rouge_l_f_score</th>\n",
       "    </tr>\n",
       "  </thead>\n",
       "  <tbody>\n",
       "    <tr>\n",
       "      <th>0:all</th>\n",
       "      <td>8.27</td>\n",
       "      <td>1.44</td>\n",
       "      <td>7.35</td>\n",
       "    </tr>\n",
       "    <tr>\n",
       "      <th>1:0-15</th>\n",
       "      <td>8.46</td>\n",
       "      <td>1.39</td>\n",
       "      <td>7.62</td>\n",
       "    </tr>\n",
       "    <tr>\n",
       "      <th>2:15-30</th>\n",
       "      <td>8.51</td>\n",
       "      <td>2.10</td>\n",
       "      <td>7.31</td>\n",
       "    </tr>\n",
       "    <tr>\n",
       "      <th>3:30-45</th>\n",
       "      <td>5.86</td>\n",
       "      <td>0.09</td>\n",
       "      <td>5.10</td>\n",
       "    </tr>\n",
       "  </tbody>\n",
       "</table>\n",
       "</div>"
      ],
      "text/plain": [
       "         rouge_1_f_score  rouge_2_f_score  rouge_l_f_score\n",
       "0:all               8.27             1.44             7.35\n",
       "1:0-15              8.46             1.39             7.62\n",
       "2:15-30             8.51             2.10             7.31\n",
       "3:30-45             5.86             0.09             5.10"
      ]
     },
     "execution_count": 43,
     "metadata": {},
     "output_type": "execute_result"
    }
   ],
   "source": [
    "hist_df_textrank_movies = rouge_eval(eval_dir_movies, mode='textrank')\n",
    "hist_df_textrank_movies"
   ]
  },
  {
   "cell_type": "code",
   "execution_count": 44,
   "metadata": {},
   "outputs": [
    {
     "data": {
      "text/html": [
       "<div>\n",
       "<style scoped>\n",
       "    .dataframe tbody tr th:only-of-type {\n",
       "        vertical-align: middle;\n",
       "    }\n",
       "\n",
       "    .dataframe tbody tr th {\n",
       "        vertical-align: top;\n",
       "    }\n",
       "\n",
       "    .dataframe thead th {\n",
       "        text-align: right;\n",
       "    }\n",
       "</style>\n",
       "<table border=\"1\" class=\"dataframe\">\n",
       "  <thead>\n",
       "    <tr style=\"text-align: right;\">\n",
       "      <th></th>\n",
       "      <th>rouge_1_f_score</th>\n",
       "      <th>rouge_2_f_score</th>\n",
       "      <th>rouge_l_f_score</th>\n",
       "    </tr>\n",
       "  </thead>\n",
       "  <tbody>\n",
       "    <tr>\n",
       "      <th>0:all</th>\n",
       "      <td>7.80</td>\n",
       "      <td>1.20</td>\n",
       "      <td>7.11</td>\n",
       "    </tr>\n",
       "    <tr>\n",
       "      <th>1:0-15</th>\n",
       "      <td>7.67</td>\n",
       "      <td>1.14</td>\n",
       "      <td>6.98</td>\n",
       "    </tr>\n",
       "    <tr>\n",
       "      <th>2:15-30</th>\n",
       "      <td>8.46</td>\n",
       "      <td>1.46</td>\n",
       "      <td>7.83</td>\n",
       "    </tr>\n",
       "    <tr>\n",
       "      <th>3:30-45</th>\n",
       "      <td>6.87</td>\n",
       "      <td>0.98</td>\n",
       "      <td>6.02</td>\n",
       "    </tr>\n",
       "  </tbody>\n",
       "</table>\n",
       "</div>"
      ],
      "text/plain": [
       "         rouge_1_f_score  rouge_2_f_score  rouge_l_f_score\n",
       "0:all               7.80             1.20             7.11\n",
       "1:0-15              7.67             1.14             6.98\n",
       "2:15-30             8.46             1.46             7.83\n",
       "3:30-45             6.87             0.98             6.02"
      ]
     },
     "execution_count": 44,
     "metadata": {},
     "output_type": "execute_result"
    }
   ],
   "source": [
    "eval_dir_movies_opinosis = 'opinosis/movies/dev/'\n",
    "dev_opinosis_dict_movies = {}\n",
    "for redundancy in redundancy_list:\n",
    "    for gap in gap_list:\n",
    "        mode = 'red-%i-gap-%i' % (redundancy, gap)\n",
    "        dev_df_opinosis_movies = rouge_eval_opinosis(eval_dir_movies_opinosis, mode=mode).loc['0:all']\n",
    "        dev_opinosis_dict_movies[mode] = dev_df_opinosis_movies\n",
    "\n",
    "mode_test_movies = max([(key, val[2]) for key, val in dev_opinosis_dict_movies.items()], key=lambda x:x[1])[0]\n",
    "eval_dir_movies_opinosis_test = 'opinosis/movies/test/'\n",
    "hist_df_opinosis_movies = rouge_eval_opinosis(eval_dir_movies_opinosis_test, mode=mode_test_movies)\n",
    "hist_df_opinosis_movies"
   ]
  },
  {
   "cell_type": "markdown",
   "metadata": {},
   "source": [
    "## compare"
   ]
  },
  {
   "cell_type": "code",
   "execution_count": 45,
   "metadata": {},
   "outputs": [
    {
     "data": {
      "text/html": [
       "<div>\n",
       "<style scoped>\n",
       "    .dataframe tbody tr th:only-of-type {\n",
       "        vertical-align: middle;\n",
       "    }\n",
       "\n",
       "    .dataframe tbody tr th {\n",
       "        vertical-align: top;\n",
       "    }\n",
       "\n",
       "    .dataframe thead th {\n",
       "        text-align: right;\n",
       "    }\n",
       "</style>\n",
       "<table border=\"1\" class=\"dataframe\">\n",
       "  <thead>\n",
       "    <tr style=\"text-align: right;\">\n",
       "      <th></th>\n",
       "      <th>rouge_1_f_score</th>\n",
       "      <th>rouge_2_f_score</th>\n",
       "      <th>rouge_l_f_score</th>\n",
       "    </tr>\n",
       "  </thead>\n",
       "  <tbody>\n",
       "    <tr>\n",
       "      <th>TextRank</th>\n",
       "      <td>8.27</td>\n",
       "      <td>1.44</td>\n",
       "      <td>7.35</td>\n",
       "    </tr>\n",
       "    <tr>\n",
       "      <th>Opinosis</th>\n",
       "      <td>7.80</td>\n",
       "      <td>1.20</td>\n",
       "      <td>7.11</td>\n",
       "    </tr>\n",
       "    <tr>\n",
       "      <th>MeanSum-single</th>\n",
       "      <td>6.96</td>\n",
       "      <td>0.35</td>\n",
       "      <td>6.08</td>\n",
       "    </tr>\n",
       "    <tr>\n",
       "      <th>StrSum</th>\n",
       "      <td>7.38</td>\n",
       "      <td>1.03</td>\n",
       "      <td>6.94</td>\n",
       "    </tr>\n",
       "    <tr>\n",
       "      <th>StrSum+DiscourseRank</th>\n",
       "      <td>8.15</td>\n",
       "      <td>1.33</td>\n",
       "      <td>7.62</td>\n",
       "    </tr>\n",
       "    <tr>\n",
       "      <th>Seq-Seq</th>\n",
       "      <td>7.71</td>\n",
       "      <td>2.18</td>\n",
       "      <td>7.08</td>\n",
       "    </tr>\n",
       "    <tr>\n",
       "      <th>Seq-Seq-att</th>\n",
       "      <td>9.05</td>\n",
       "      <td>2.99</td>\n",
       "      <td>8.46</td>\n",
       "    </tr>\n",
       "  </tbody>\n",
       "</table>\n",
       "</div>"
      ],
      "text/plain": [
       "                      rouge_1_f_score  rouge_2_f_score  rouge_l_f_score\n",
       "TextRank                         8.27             1.44             7.35\n",
       "Opinosis                         7.80             1.20             7.11\n",
       "MeanSum-single                   6.96             0.35             6.08\n",
       "StrSum                           7.38             1.03             6.94\n",
       "StrSum+DiscourseRank             8.15             1.33             7.62\n",
       "Seq-Seq                          7.71             2.18             7.08\n",
       "Seq-Seq-att                      9.05             2.99             8.46"
      ]
     },
     "execution_count": 45,
     "metadata": {},
     "output_type": "execute_result"
    }
   ],
   "source": [
    "result_dict_movies = {\n",
    "    'TextRank': hist_df_textrank_movies.loc['0:all'],    \n",
    "    'Opinosis': hist_df_opinosis_movies.loc['0:all'],\n",
    "    'MeanSum-single': hist_df_meansum_movies.loc['0:all'],\n",
    "    'StrSum': hist_df_str_movies.loc['0:all'], \n",
    "    'StrSum+DiscourseRank': hist_df_eigen_movies.loc['0:all'],\n",
    "    'Seq-Seq': hist_df_base_movies.loc['0:all'],\n",
    "    'Seq-Seq-att': hist_df_base_att_movies.loc['0:all'],    \n",
    "}\n",
    "\n",
    "result_df_movies = pd.DataFrame.from_dict(result_dict_movies, orient='index').loc[['TextRank', 'Opinosis', 'MeanSum-single', 'StrSum', 'StrSum+DiscourseRank', 'Seq-Seq', 'Seq-Seq-att']]\n",
    "result_df_movies"
   ]
  },
  {
   "cell_type": "code",
   "execution_count": 46,
   "metadata": {
    "scrolled": false
   },
   "outputs": [
    {
     "data": {
      "text/plain": [
       "<matplotlib.axes._subplots.AxesSubplot at 0x7fb2e00b7250>"
      ]
     },
     "execution_count": 46,
     "metadata": {},
     "output_type": "execute_result"
    },
    {
     "data": {
      "image/png": "[encoded data removed]",
      "text/plain": [
       "<Figure size 576x360 with 1 Axes>"
      ]
     },
     "metadata": {
      "needs_background": "light"
     },
     "output_type": "display_data"
    }
   ],
   "source": [
    "result_dict_doc_l_movies = {\n",
    "    'StrSum': hist_df_str_movies.loc[:, 'rouge_l_f_score'],\n",
    "    'StrSum+DiscourseRank': hist_df_eigen_movies.loc[:, 'rouge_l_f_score'],\n",
    "    'Seq-Seq-att': hist_df_base_att_movies.loc[:, 'rouge_l_f_score'],\n",
    "}\n",
    "\n",
    "result_df_doc_l_movies = pd.DataFrame.from_dict(result_dict_doc_l_movies).loc[:, ['StrSum', 'StrSum+DiscourseRank', 'Seq-Seq-att']]\n",
    "ylim = 20\n",
    "result_df_doc_l_movies.plot.bar(ylim=(0, ylim), yticks=[y for y in range(ylim+1)], figsize=(8, 5), fontsize=14)"
   ]
  },
  {
   "cell_type": "markdown",
   "metadata": {},
   "source": [
    "# for PAPER"
   ]
  },
  {
   "cell_type": "code",
   "execution_count": 47,
   "metadata": {},
   "outputs": [],
   "source": [
    "def print_paper(result_df, domain):\n",
    "    ylim = 20\n",
    "    result_df[1:].plot.bar(ylim=(0, ylim), yticks=[5*i for i in range(4+1)], figsize=(8, 4), color=['darkblue', 'darkred', 'darkgray'], use_index=False, fontsize=18, legend=False)\n",
    "    save_path = os.path.join(eval_dir, domain+ '_ROUGE-L.eps')\n",
    "    plt.savefig(save_path)"
   ]
  },
  {
   "cell_type": "code",
   "execution_count": 120,
   "metadata": {},
   "outputs": [],
   "source": [
    "def print_paper(result_df_doc_l, domain, ppt=False):\n",
    "    domain_title = {'toys': 'Toys & Games', 'sports': 'Sports & Outdoors', 'movies': 'Movies & TV'}\n",
    "    x_axes = [-0.13, 0.1, 0.33]\n",
    "    figsize = (9,4) if not ppt else ()\n",
    "    \n",
    "    fontsize = 20\n",
    "    result_df = result_df_doc_l[1:]\n",
    "    result_df.plot(kind='bar', yticks=[5*i for i in range(4+1)], figsize=(12, 3.5), color=['darkblue', 'darkred', 'darkgray'], fontsize=fontsize, legend=False, use_index=False, width=0.7)\n",
    "    for i, values in enumerate(result_df.values):\n",
    "        for x_axis, val in zip(x_axes, values):\n",
    "            plt.text(i+x_axis, val, '%.2f' % val, ha='right', va='bottom', fontsize=fontsize)\n",
    "    plt.title(domain_title[domain], fontsize=24)\n",
    "    plt.xlabel('Number of sentences in each document', fontsize=15)\n",
    "    plt.ylabel('ROUGE-L F1', fontsize=fontsize)\n",
    "    plt.xticks([0, 1, 2], ['-14', '15-29', '30-'], rotation=0)\n",
    "    save_path = os.path.join(eval_dir, domain+ '_result_doc_l.eps')\n",
    "#     plt.savefig(save_path)\n",
    "    plt.savefig(save_path, bbox_inches=\"tight\", pad_inches=0.0)"
   ]
  },
  {
   "cell_type": "code",
   "execution_count": 121,
   "metadata": {},
   "outputs": [
    {
     "data": {
      "image/png": "[encoded data removed]",
      "text/plain": [
       "<Figure size 864x252 with 1 Axes>"
      ]
     },
     "metadata": {
      "needs_background": "light"
     },
     "output_type": "display_data"
    }
   ],
   "source": [
    "print_paper(result_df_doc_l_toys, 'toys')"
   ]
  },
  {
   "cell_type": "code",
   "execution_count": 122,
   "metadata": {},
   "outputs": [
    {
     "data": {
      "image/png": "[encoded data removed]",
      "text/plain": [
       "<Figure size 864x252 with 1 Axes>"
      ]
     },
     "metadata": {
      "needs_background": "light"
     },
     "output_type": "display_data"
    }
   ],
   "source": [
    "print_paper(result_df_doc_l_sports, 'sports')"
   ]
  },
  {
   "cell_type": "code",
   "execution_count": 123,
   "metadata": {},
   "outputs": [
    {
     "data": {
      "image/png": "[encoded data removed]",
      "text/plain": [
       "<Figure size 864x252 with 1 Axes>"
      ]
     },
     "metadata": {
      "needs_background": "light"
     },
     "output_type": "display_data"
    }
   ],
   "source": [
    "print_paper(result_df_doc_l_movies, 'movies')"
   ]
  },
  {
   "cell_type": "code",
   "execution_count": 58,
   "metadata": {},
   "outputs": [
    {
     "data": {
      "text/html": [
       "<div>\n",
       "<style scoped>\n",
       "    .dataframe tbody tr th:only-of-type {\n",
       "        vertical-align: middle;\n",
       "    }\n",
       "\n",
       "    .dataframe tbody tr th {\n",
       "        vertical-align: top;\n",
       "    }\n",
       "\n",
       "    .dataframe thead th {\n",
       "        text-align: right;\n",
       "    }\n",
       "</style>\n",
       "<table border=\"1\" class=\"dataframe\">\n",
       "  <thead>\n",
       "    <tr style=\"text-align: right;\">\n",
       "      <th></th>\n",
       "      <th>rouge_1_f_score</th>\n",
       "      <th>rouge_2_f_score</th>\n",
       "      <th>rouge_l_f_score</th>\n",
       "      <th>rouge_1_f_score</th>\n",
       "      <th>rouge_2_f_score</th>\n",
       "      <th>rouge_l_f_score</th>\n",
       "      <th>rouge_1_f_score</th>\n",
       "      <th>rouge_2_f_score</th>\n",
       "      <th>rouge_l_f_score</th>\n",
       "    </tr>\n",
       "  </thead>\n",
       "  <tbody>\n",
       "    <tr>\n",
       "      <th>TextRank</th>\n",
       "      <td>8.63</td>\n",
       "      <td>1.24</td>\n",
       "      <td>7.26</td>\n",
       "      <td>7.16</td>\n",
       "      <td>0.89</td>\n",
       "      <td>6.39</td>\n",
       "      <td>8.27</td>\n",
       "      <td>1.44</td>\n",
       "      <td>7.35</td>\n",
       "    </tr>\n",
       "    <tr>\n",
       "      <th>Opinosis</th>\n",
       "      <td>8.25</td>\n",
       "      <td>1.51</td>\n",
       "      <td>7.52</td>\n",
       "      <td>7.04</td>\n",
       "      <td>1.42</td>\n",
       "      <td>6.45</td>\n",
       "      <td>7.80</td>\n",
       "      <td>1.20</td>\n",
       "      <td>7.11</td>\n",
       "    </tr>\n",
       "    <tr>\n",
       "      <th>MeanSum-single</th>\n",
       "      <td>8.12</td>\n",
       "      <td>0.58</td>\n",
       "      <td>7.30</td>\n",
       "      <td>5.42</td>\n",
       "      <td>0.47</td>\n",
       "      <td>4.97</td>\n",
       "      <td>6.96</td>\n",
       "      <td>0.35</td>\n",
       "      <td>6.08</td>\n",
       "    </tr>\n",
       "    <tr>\n",
       "      <th>StrSum</th>\n",
       "      <td>11.61</td>\n",
       "      <td>1.56</td>\n",
       "      <td>11.04</td>\n",
       "      <td>9.15</td>\n",
       "      <td>1.38</td>\n",
       "      <td>8.79</td>\n",
       "      <td>7.38</td>\n",
       "      <td>1.03</td>\n",
       "      <td>6.94</td>\n",
       "    </tr>\n",
       "    <tr>\n",
       "      <th>StrSum+DiscourseRank</th>\n",
       "      <td>11.87</td>\n",
       "      <td>1.63</td>\n",
       "      <td>11.40</td>\n",
       "      <td>9.62</td>\n",
       "      <td>1.58</td>\n",
       "      <td>9.28</td>\n",
       "      <td>8.15</td>\n",
       "      <td>1.33</td>\n",
       "      <td>7.62</td>\n",
       "    </tr>\n",
       "    <tr>\n",
       "      <th>Seq-Seq</th>\n",
       "      <td>13.50</td>\n",
       "      <td>2.10</td>\n",
       "      <td>13.31</td>\n",
       "      <td>10.69</td>\n",
       "      <td>2.02</td>\n",
       "      <td>10.61</td>\n",
       "      <td>7.71</td>\n",
       "      <td>2.18</td>\n",
       "      <td>7.08</td>\n",
       "    </tr>\n",
       "    <tr>\n",
       "      <th>Seq-Seq-att</th>\n",
       "      <td>16.28</td>\n",
       "      <td>3.13</td>\n",
       "      <td>16.13</td>\n",
       "      <td>11.49</td>\n",
       "      <td>2.39</td>\n",
       "      <td>11.47</td>\n",
       "      <td>9.05</td>\n",
       "      <td>2.99</td>\n",
       "      <td>8.46</td>\n",
       "    </tr>\n",
       "  </tbody>\n",
       "</table>\n",
       "</div>"
      ],
      "text/plain": [
       "                      rouge_1_f_score  rouge_2_f_score  rouge_l_f_score  \\\n",
       "TextRank                         8.63             1.24             7.26   \n",
       "Opinosis                         8.25             1.51             7.52   \n",
       "MeanSum-single                   8.12             0.58             7.30   \n",
       "StrSum                          11.61             1.56            11.04   \n",
       "StrSum+DiscourseRank            11.87             1.63            11.40   \n",
       "Seq-Seq                         13.50             2.10            13.31   \n",
       "Seq-Seq-att                     16.28             3.13            16.13   \n",
       "\n",
       "                      rouge_1_f_score  rouge_2_f_score  rouge_l_f_score  \\\n",
       "TextRank                         7.16             0.89             6.39   \n",
       "Opinosis                         7.04             1.42             6.45   \n",
       "MeanSum-single                   5.42             0.47             4.97   \n",
       "StrSum                           9.15             1.38             8.79   \n",
       "StrSum+DiscourseRank             9.62             1.58             9.28   \n",
       "Seq-Seq                         10.69             2.02            10.61   \n",
       "Seq-Seq-att                     11.49             2.39            11.47   \n",
       "\n",
       "                      rouge_1_f_score  rouge_2_f_score  rouge_l_f_score  \n",
       "TextRank                         8.27             1.44             7.35  \n",
       "Opinosis                         7.80             1.20             7.11  \n",
       "MeanSum-single                   6.96             0.35             6.08  \n",
       "StrSum                           7.38             1.03             6.94  \n",
       "StrSum+DiscourseRank             8.15             1.33             7.62  \n",
       "Seq-Seq                          7.71             2.18             7.08  \n",
       "Seq-Seq-att                      9.05             2.99             8.46  "
      ]
     },
     "execution_count": 58,
     "metadata": {},
     "output_type": "execute_result"
    }
   ],
   "source": [
    "result_df_list = [result_df_toys, result_df_sports, result_df_movies]\n",
    "results_paper_df = pd.concat(result_df_list, 1)\n",
    "results_paper_df"
   ]
  },
  {
   "cell_type": "code",
   "execution_count": 59,
   "metadata": {
    "scrolled": true
   },
   "outputs": [
    {
     "name": "stdout",
     "output_type": "stream",
     "text": [
      "TextRank&8.63&1.24&7.26&7.16&0.89&6.39&8.27&1.44&7.35& \\\\\n",
      "Opinosis&8.25&1.51&7.52&7.04&1.42&6.45&7.80&1.20&7.11& \\\\\n",
      "MeanSum-single&8.12&0.58&7.30&5.42&0.47&4.97&6.96&0.35&6.08& \\\\\n",
      "{\\it StrSum}&11.61&1.56&11.04&9.15&1.38&8.79&7.38&1.03&6.94& \\\\\n",
      "{\\it StrSum+DiscourseRank}&11.87&1.63&11.40&9.62&1.58&9.28&8.15&1.33&7.62& \\\\\n",
      "Seq-Seq&13.50&2.10&13.31&10.69&2.02&10.61&7.71&2.18&7.08& \\\\\n",
      "Seq-Seq-att&16.28&3.13&16.13&11.49&2.39&11.47&9.05&2.99&8.46& \\\\\n"
     ]
    }
   ],
   "source": [
    "for model_name, row in results_paper_df.iterrows():\n",
    "    if model_name == 'StrSum' or model_name == 'StrSum+DiscourseRank': model_name = '{\\it ' + model_name + '}'\n",
    "    print model_name + '&' + '&'.join(['%.2f' % val for val in row.values]) + '& \\\\\\\\'"
   ]
  },
  {
   "cell_type": "markdown",
   "metadata": {},
   "source": [
    "# induced structure "
   ]
  },
  {
   "cell_type": "code",
   "execution_count": 4841,
   "metadata": {},
   "outputs": [],
   "source": [
    "def print_instance(config, sample_batch, model_path, mode='proposed', doc_idx=None):\n",
    "    if mode == 'proposed' or mode == 'proposed-eigen':\n",
    "        model = StrSumModel(config)\n",
    "    elif mode == 'seq-seq' or mode == 'seq-seq-att':\n",
    "        model = BaseModel(config)\n",
    "    elif mode == 'lead':\n",
    "        model = LeadModel(config)\n",
    "    else:\n",
    "        raise\n",
    "    \n",
    "    model.build()\n",
    "    \n",
    "    sess = tf.Session()\n",
    "    saver = tf.train.Saver()\n",
    "    saver.restore(sess, model_path)\n",
    "    print_sample(sess, sample_batch, model, doc_idx, printbody=False)\n",
    "    \n",
    "    return sess, model"
   ]
  },
  {
   "cell_type": "code",
   "execution_count": 5809,
   "metadata": {},
   "outputs": [],
   "source": [
    "def dump_json(config_eigen, sample_batch, doc_idx, eig_score, ref, out, domain):\n",
    "    sents = [' '.join([config_eigen.vocab[idx] for idx in line_idxs]) for line_idxs in sample_batch[doc_idx].token_idxs]\n",
    "    eig_sents = [{'index': 'ref', 'sent': ref[0], 'eig': round(0.0, 2)}, {'index': 'out', 'sent': out[0], 'eig': round(0.0, 2)}]\n",
    "    eig_sents.extend([{'index': index+1, 'sent': sent, 'eig': round(eig, 2)} for index, (sent, eig) in enumerate(zip(sents, eig_score /sum(eig_score)))])\n",
    "    \n",
    "    f = open(os.path.join(eval_dir + '/json', domain+'.json'), 'w')\n",
    "    json.dump(eig_sents, f, indent=4)"
   ]
  },
  {
   "cell_type": "markdown",
   "metadata": {},
   "source": [
    "## toys"
   ]
  },
  {
   "cell_type": "code",
   "execution_count": 4995,
   "metadata": {},
   "outputs": [],
   "source": [
    "model_path_eigen_toys_tmp = ckpt_eigen_toys.all_model_checkpoint_paths[-1]"
   ]
  },
  {
   "cell_type": "code",
   "execution_count": 5915,
   "metadata": {
    "scrolled": false
   },
   "outputs": [
    {
     "name": "stdout",
     "output_type": "stream",
     "text": [
      "INFO:tensorflow:Restoring parameters from NAS/model/toys/toys-eigen-train_l10_60-test_l5_60/model-43000\n",
      "Doc: 0, GoldLabel: 4.0, ASIN: 1589942981\n",
      "ROUGE -1: 0.083, -2: 0.000, -L: 0.058\n",
      "ROOT\n",
      "ref:  ['easy to learn , strategic , and highly entertaining']\n",
      "out:  ['if you are looking for a game that you will need to be a lot of fun to play']\n",
      "1\n",
      "ref:  ['<unk> for me ranks up there with ticket to ride settlers of catan and carcassonne as a game that will make people remember how much fun board games can be']\n",
      "2\n",
      "ref:  ['other reviews have spent much time on the mechanics and strategy']\n",
      "3\n",
      "ref:  ['i just wanted to add another positive review because i think <unk> is a good gateway game for people who are used to rolling dice but are new to turn phases resource management and worker placement']\n",
      "4\n",
      "ref:  ['simple enough to teach and play a game in about 90 minutes but enough strategy to appeal to experienced board game fans']\n",
      "5\n",
      "ref:  ['if you play these types of games often and do not like the random element of rolling dice to determine which resources you can acquire i can recommend puerto rico lords of <unk> or olympus']\n",
      "6\n",
      "ref:  ['only 4 stars due to the tendency for a few strategies that seem to work more consistently than others as well as lack of challenge with the winter battles but there is an expansion you can purchase separately if you play often and want greater challenge and variety']\n",
      "7\n",
      "ref:  ['if you do not plan to own very many board games of this type <unk> should certainly get high consideration especially if you enjoyed any of the other games mentioned above']\n",
      "Doc: 1, GoldLabel: 5.0, ASIN: 1589944607\n",
      "ROUGE -1: 0.240, -2: 0.077, -L: 0.158\n",
      "ROOT\n",
      "ref:  ['great game ... feels like an episode of the show']\n",
      "out:  ['this game is a great game to play with a lot of fun but i think it is a great game']\n",
      "1\n",
      "ref:  ['this is a great strategy and action game that is highly thematic']\n",
      "2\n",
      "ref:  ['essentially this is a cooperative game where the players are supposed to be working together except that at least one player will end up being a traitor and nobody knows if it will be when the game starts or if it will come halfway through the game']\n",
      "3\n",
      "ref:  ['the traitor tries not to be detected while subtly sabotaging the efforts of the human players to win the game']\n",
      "4\n",
      "ref:  ['if the cylon gets discovered then they can be even more deadly be directly throwing obstacles into the path of the human players who are trying to survive']\n",
      "5\n",
      "ref:  ['there is a lot of tension as accusations fly and bids for power are made between the admiral president and other characters in the game']\n",
      "6\n",
      "ref:  ['what happens if the president or admiral are secretly cylons what if they are both cylons run through this game to find out for yourself']\n",
      "7\n",
      "ref:  ['every play feels like an episode of this great sci fi adventure']\n",
      "Doc: 2, GoldLabel: 5.0, ASIN: 1589944968\n",
      "ROUGE -1: 0.000, -2: 0.000, -L: 0.000\n",
      "ROOT\n",
      "ref:  ['soooo fun']\n",
      "out:  ['this is a great game']\n",
      "1\n",
      "ref:  ['i got this game and tried it out on my family']\n",
      "2\n",
      "ref:  ['they immediately loved it even the family members who i am usually hard pressed to get to play']\n",
      "3\n",
      "ref:  ['i bought most of the expansions that go with it that increase it from a max of 6 to 8 players']\n",
      "4\n",
      "ref:  ['the game mechanics are very simple to teach']\n",
      "5\n",
      "ref:  ['you will never play the same game twice with all the alien races you can be in the game and each of their own skills and abilities really change the strategy and game play of each game you play']\n",
      "6\n",
      "ref:  ['i can not say enough good things about this game and i highly recommend it to anyone']\n",
      "7\n",
      "ref:  ['this game has been around a long time and its gotten better with age seems like']\n",
      "Doc: 3, GoldLabel: 5.0, ASIN: 1589949811\n",
      "ROUGE -1: 0.375, -2: 0.000, -L: 0.203\n",
      "ROOT\n",
      "ref:  ['journey through mordor as a team with this cooperative care game']\n",
      "out:  ['this game is a great game']\n",
      "1\n",
      "ref:  ['this is an excellent cooperative card game for those that play the likes of magic the gathering or <unk>']\n",
      "2\n",
      "ref:  ['this game has everything you need to play for 2 players and is expandable via expansions the game is quite immersive and difficult']\n",
      "3\n",
      "ref:  ['players work together commanding a few heroes and a deck as they try to overcome monsters and keep their threat down to avoid the nasty eye of mordor as they journey through quests to win the game']\n",
      "4\n",
      "ref:  ['a great sense of teamwork exists as players help each other as they pilot their deck and grasp their strengths and weaknesses and support each other']\n",
      "5\n",
      "ref:  [\"there 's a moderate learning curve to playing this game and the internet is full of nice sources to help you learn how to play but once you get the ruleset it is quite fun\"]\n",
      "6\n",
      "ref:  [\"it is important to note this is a gamers ' game\"]\n",
      "7\n",
      "ref:  ['the game is quite text heavy with fiddly texts and those that are not really into board games might not get a kick out of it']\n",
      "Doc: 4, GoldLabel: 5.0, ASIN: 1592923356\n",
      "ROUGE -1: 0.000, -2: 0.000, -L: 0.000\n",
      "ROOT\n",
      "ref:  ['perfect for little kids']\n",
      "out:  ['my son loves it']\n",
      "1\n",
      "ref:  ['this calendar is exactly what i wanted with three little kids in the house']\n",
      "2\n",
      "ref:  ['they can not ruin this one']\n",
      "3\n",
      "ref:  ['and they love playing with it']\n",
      "4\n",
      "ref:  ['great thing for them to do all month to keep reminding them what christmas is really about']\n",
      "5\n",
      "ref:  [\"i just wish i 'd read the comments about overpaying apparently you can get it cheaper elsewhere\"]\n",
      "6\n",
      "ref:  ['ah well']\n",
      "7\n",
      "ref:  ['i am still glad i purchased it']\n",
      "Doc: 5, GoldLabel: 5.0, ASIN: 1592923356\n",
      "ROUGE -1: 0.105, -2: 0.000, -L: 0.048\n",
      "ROOT\n",
      "ref:  ['beautiful and fun']\n",
      "out:  ['i do not think it is a lot of fun but i think it is a great addition to the game']\n",
      "1\n",
      "ref:  ['the fabric calendar comes with 25 bundle figures with the traditional figures of a nativity and a few contemporary characters sure to make your little ones laugh']\n",
      "2\n",
      "ref:  ['each figure comes with the corresponding number on the back thus no need to guess where each goes']\n",
      "3\n",
      "ref:  ['however although they are rated by degree of importance you can not see the numbers thus if you wanted to place them in a different order it is completely possible']\n",
      "4\n",
      "ref:  ['each figure can be attached to the nativity scene through rounds of velcro that held very well the whole 25 days']\n",
      "5\n",
      "ref:  ['the images are charming and the colors are beautiful']\n",
      "6\n",
      "ref:  ['the numbers are lined by color so as you can see other than teaching about the nativity the calendar can be used to reach about numbers colors and dates']\n",
      "7\n",
      "ref:  ['good investment']\n",
      "Doc: 6, GoldLabel: 5.0, ASIN: 1601252455\n",
      "ROUGE -1: 0.000, -2: 0.000, -L: 0.000\n",
      "ROOT\n",
      "ref:  ['one of the best games ever']\n",
      "out:  ['this is a great game']\n",
      "1\n",
      "ref:  ['this is one of the best games i have ever played']\n",
      "2\n",
      "ref:  ['the game seems a little complex at first but once you play for a few minutes you will learn the rules and get comfortable playing']\n",
      "3\n",
      "ref:  ['i had the chance to play this game with a group of fellow writers']\n",
      "4\n",
      "ref:  ['in addition to the normal rules we had a rule where every kill attempt had to be made with a story appropriate to the room and weapon type and every save attempt had to go along with that story and the type of save']\n",
      "5\n",
      "ref:  [\"it was a ton of fun and i 'd suggest this rule addition to anyone else who enjoys creative improv\"]\n",
      "6\n",
      "ref:  ['in addition to having this nice board game version this game is also available as a printout on the cheapass games website']\n",
      "7\n",
      "ref:  ['happy killing']\n",
      "Doc: 7, GoldLabel: 5.0, ASIN: 1601253729\n",
      "ROUGE -1: 0.500, -2: 0.333, -L: 0.447\n",
      "ROOT\n",
      "ref:  ['great game !']\n",
      "out:  ['this is a great game']\n",
      "1\n",
      "ref:  ['being relatively new to the board gaming community i have been dabbling here and there trying to find a good game that scales from solo play all the way up to multiple players']\n",
      "2\n",
      "ref:  ['upon receiving my copy of pathfinder <unk> i immediately dug into the first scenarios and found that this is a very clever card game that i have since developed a bit of an addiction to']\n",
      "3\n",
      "ref:  ['this game plays great solo']\n",
      "4\n",
      "ref:  ['plays even better with 2 or more players']\n",
      "5\n",
      "ref:  ['the thing that i like best about the game is that there is player progression between multiple scenarios which comprise several adventures']\n",
      "6\n",
      "ref:  ['there is nothing like getting that new weapon in your hand that allows you to roll more just one more die to fight or acquire goodies']\n",
      "7\n",
      "ref:  ['i highly recommend this game and i think if you are on the fence you should definitely give it a shot as it is well worth your time']\n",
      "Doc: 8, GoldLabel: 3.0, ASIN: 1603800859\n",
      "ROUGE -1: 0.000, -2: 0.000, -L: 0.000\n",
      "ROOT\n",
      "ref:  ['recon rover as expected']\n",
      "out:  ['my son loves it']\n",
      "1\n",
      "ref:  ['my children were excited to try out the recon rover']\n",
      "2\n",
      "ref:  ['we have found no flaws with it']\n",
      "3\n",
      "ref:  ['it works as advertised']\n",
      "4\n",
      "ref:  ['my sons only complaint is that it is slow']\n",
      "5\n",
      "ref:  ['the kids enjoy taking turns programming it to move around the house']\n",
      "6\n",
      "ref:  ['my son is 14 and was able to work the recon rover on his own']\n",
      "7\n",
      "ref:  ['my only issues it that the neatest has worn off and i have not seen my children use the toy again']\n",
      "Doc: 9, GoldLabel: 5.0, ASIN: 1603800859\n",
      "ROUGE -1: 0.000, -2: 0.000, -L: 0.000\n",
      "ROOT\n",
      "ref:  ['smart lab recon 6.0 programmable rover']\n",
      "out:  ['my son loves it']\n",
      "1\n",
      "ref:  ['i chose this toy for a 6 year old grandson']\n",
      "2\n",
      "ref:  ['his father and i got it working and he had a wonderful time playing with it']\n",
      "3\n",
      "ref:  ['i worked as a programmer and <unk> of my working life and it was really fun to get it programmed']\n",
      "4\n",
      "ref:  ['watching him figure out how to get it to do different things was so much fun']\n",
      "5\n",
      "ref:  ['i think that most kids who are computer efficient and know how to program could handle it without adult assistance']\n",
      "6\n",
      "ref:  ['it is a very nice toy and so far has not broken']\n",
      "7\n",
      "ref:  ['i recommend it highly']\n",
      "Doc: 10, GoldLabel: 5.0, ASIN: 1603801286\n",
      "ROUGE -1: 0.000, -2: 0.000, -L: 0.000\n",
      "ROOT\n",
      "ref:  ['best present ever !']\n",
      "out:  ['this is a great toy']\n",
      "1\n",
      "ref:  ['this kit is really cool']\n",
      "2\n",
      "ref:  ['it comes with little tracer designs and a backup led light so you can place all your parts where you want them and then trace your design']\n",
      "3\n",
      "ref:  ['then you can finish up with cool colors accents details etc']\n",
      "4\n",
      "ref:  ['you can make anything from a family suv type to a racecar to a bug to everything in between']\n",
      "5\n",
      "ref:  ['my kid spent days taking personal requests and then lovingly designing a custom car for everyone in the family']\n",
      "6\n",
      "ref:  ['the final results are very high quality too']\n",
      "7\n",
      "ref:  ['i definitely recommend this pack']\n",
      "Doc: 11, GoldLabel: 4.0, ASIN: 1603801286\n",
      "ROUGE -1: 0.095, -2: 0.000, -L: 0.055\n",
      "ROOT\n",
      "ref:  ['good , but not 100 % perfect .']\n",
      "out:  ['i do not think it is a great toy for my son and i think it is a great toy']\n",
      "1\n",
      "ref:  ['i got my eight year old son this version of the <unk> car design studio and another one']\n",
      "2\n",
      "ref:  ['he prefers the brightness of the <unk> light box but getting the battery door out to put the batteries in was really hard and my son says it is easier to put the pages into the <unk> light box']\n",
      "3\n",
      "ref:  ['i had to pry the battery door out on the <unk> one but the crack around it was barely wide enough to insert anything to pry with']\n",
      "4\n",
      "ref:  ['also one of the transparencies in the set stuck to its sheet of paper and left ink on it maybe this is a one time thing but if the ink continues to come off the transparencies will eventually lose their ability to perform their intended purpose']\n",
      "5\n",
      "ref:  ['the way you assemble a car to trace is pretty cool though and having a light box at all seems like a huge luxury after the time i spent as a kid with a crayola fashion design kit that had no light box']\n",
      "6\n",
      "ref:  ['my son has a lot of fun designing vehicles with this type of set and he really loves the results']\n",
      "7\n",
      "ref:  ['there are artistic tips in the included book and the book also explains what different terms mean in case the user is not a car nut who already knows them']\n",
      "Doc: 12, GoldLabel: 5.0, ASIN: 1603801286\n",
      "ROUGE -1: 0.222, -2: 0.000, -L: 0.185\n",
      "ROOT\n",
      "ref:  ['12 yr old son loved it']\n",
      "out:  ['she loves it']\n",
      "1\n",
      "ref:  ['gave this to son for christmas and he immediately started tracing out and coloring in the cars']\n",
      "2\n",
      "ref:  ['he did it every day for two weeks straight']\n",
      "3\n",
      "ref:  ['he would be up in his room or on the living room sofa or at his desk doing this for an hour straight']\n",
      "4\n",
      "ref:  ['and he loved coloring different backgrounds']\n",
      "5\n",
      "ref:  ['starry night mountains by day a green forest rushing by']\n",
      "6\n",
      "ref:  ['very fun']\n",
      "7\n",
      "ref:  ['of everything he got for christmas this was probably his favorite gift']\n",
      "Doc: 13, GoldLabel: 4.0, ASIN: 1616610158\n",
      "ROUGE -1: 0.000, -2: 0.000, -L: 0.000\n",
      "ROOT\n",
      "ref:  ['very interesting take on team vs single']\n",
      "out:  ['this is a great game']\n",
      "1\n",
      "ref:  ['the mansions figurines cards etc']\n",
      "2\n",
      "ref:  ['are all artistically nice to see and helps with immersing yourself in the storyline']\n",
      "3\n",
      "ref:  ['the variables that are possible also make it playable over and over several times']\n",
      "4\n",
      "ref:  ['the only drawbacks i can tell are some minor glitches in some elements that i found sort of ridiculous']\n",
      "5\n",
      "ref:  ['one such example a manhole that was in the attic']\n",
      "6\n",
      "ref:  [\"there are a couple occasions where it does seem like there 's an impossible fight in overcoming some obstacles with certain time constraints\"]\n",
      "7\n",
      "ref:  ['also this is game is quite time consuming in setup and playtime but worth it if you are a fan of the cthulhu universe and the expansive details of the strategy']\n",
      "Doc: 14, GoldLabel: 5.0, ASIN: 1616610158\n",
      "ROUGE -1: 0.571, -2: 0.400, -L: 0.436\n",
      "ROOT\n",
      "ref:  ['great game']\n",
      "out:  ['this is a great game']\n",
      "1\n",
      "ref:  ['the game is great fun and has a different feel than most boardgames or euro games out there']\n",
      "2\n",
      "ref:  ['the first couple reviews were very thorough and they are accurate in their praise']\n",
      "3\n",
      "ref:  ['if you like boardgames and you like cthulhu you will like this game']\n",
      "4\n",
      "ref:  ['if you also like lovecraft you will love this game']\n",
      "5\n",
      "ref:  ['it is very horror based and while the investigators can choose combat options there is a lot going on that is pure horror based that has nothign at all to do with shooting things']\n",
      "6\n",
      "ref:  ['sure as the keeper i can summon all sorts of nasties to try to kill the crew but its so much more gratifying to slowly drive them all insane and have them do the job for me']\n",
      "7\n",
      "ref:  ['very happy with the purchase']\n",
      "Doc: 15, GoldLabel: 5.0, ASIN: 1616611626\n",
      "ROUGE -1: 0.250, -2: 0.000, -L: 0.224\n",
      "ROOT\n",
      "ref:  ['really entertaining game']\n",
      "out:  ['this is a great game']\n",
      "1\n",
      "ref:  ['this game really hit the mark for in a lot of different areas']\n",
      "2\n",
      "ref:  ['it has really nice art work cool plastic miniatures play is fast and exciting and the rules are clearly written']\n",
      "3\n",
      "ref:  ['the board is really nice and well designed']\n",
      "4\n",
      "ref:  ['the rule book was easy to understand and walk through to figure out the game']\n",
      "5\n",
      "ref:  ['the rules themselves are pretty simple and easy to teach']\n",
      "6\n",
      "ref:  ['the games do not take too long or bog down and there is a great tension between escaping the pyramid or sticking around to try and gather more but risking getting trapped inside']\n",
      "7\n",
      "ref:  ['i would recommend this as a fun family game or as a light break between more intense games if you have a serious gaming group']\n"
     ]
    }
   ],
   "source": [
    "# sample_batch_toys = dev_batches_toys[15][1]\n",
    "sample_batch_toys = dev_batches_toys[12][1]\n",
    "# sample_batch_toys = get_nevative_batches(dev_batches_toys, config_eigen_toys)[2]\n",
    "\n",
    "sess, model = print_instance(config_eigen_toys, sample_batch_toys, model_path_eigen_toys)\n",
    "# sess, model = print_instance(config_eigen_toys, sample_batch_toys, model_path_eigen_toys_tmp)\n",
    "# sess, model = print_instance(config_str_toys, sample_batch_toys, model_path_str_toys)"
   ]
  },
  {
   "cell_type": "code",
   "execution_count": 5916,
   "metadata": {},
   "outputs": [
    {
     "data": {
      "image/png": "[encoded data removed]",
      "text/plain": [
       "<Figure size 576x576 with 1 Axes>"
      ]
     },
     "metadata": {},
     "output_type": "display_data"
    }
   ],
   "source": [
    "doc_idx = 12\n",
    "mst = get_mst(sess, model, sample_batch_toys, doc_idx=doc_idx)\n",
    "print_mst(mst)"
   ]
  },
  {
   "cell_type": "code",
   "execution_count": 5929,
   "metadata": {
    "scrolled": false
   },
   "outputs": [
    {
     "name": "stdout",
     "output_type": "stream",
     "text": [
      "Doc: 12, GoldLabel: 5.0, ASIN: 1603801286\n",
      "ROUGE -1: 0.400, -2: 0.000, -L: 0.371\n",
      "ROOT\n",
      "ref:  ['12 yr old son loved it']\n",
      "out:  ['my son loves it']\n",
      "1\n",
      "ref:  ['gave this to son for christmas and he immediately started tracing out and coloring in the cars']\n",
      "2\n",
      "ref:  ['he did it every day for two weeks straight']\n",
      "3\n",
      "ref:  ['he would be up in his room or on the living room sofa or at his desk doing this for an hour straight']\n",
      "4\n",
      "ref:  ['and he loved coloring different backgrounds']\n",
      "5\n",
      "ref:  ['starry night mountains by day a green forest rushing by']\n",
      "6\n",
      "ref:  ['very fun']\n",
      "7\n",
      "ref:  ['of everything he got for christmas this was probably his favorite gift']\n"
     ]
    }
   ],
   "source": [
    "ref_toys, out_toys = print_sample(sess, sample_batch_toys, model, doc_idx=doc_idx, printbody=False)[0]"
   ]
  },
  {
   "cell_type": "code",
   "execution_count": 5930,
   "metadata": {},
   "outputs": [],
   "source": [
    "str_score, _ = get_str_scores(sess, model, sample_batch_toys, doc_idx)"
   ]
  },
  {
   "cell_type": "code",
   "execution_count": 5931,
   "metadata": {},
   "outputs": [
    {
     "data": {
      "text/plain": [
       "array([0.10630164, 0.08298234, 0.21963534, 0.14080241, 0.08588263,\n",
       "       0.27115035, 0.09324531], dtype=float32)"
      ]
     },
     "execution_count": 5931,
     "metadata": {},
     "output_type": "execute_result"
    }
   ],
   "source": [
    "str_score[0] /sum(str_score[0])"
   ]
  },
  {
   "cell_type": "code",
   "execution_count": 5932,
   "metadata": {},
   "outputs": [],
   "source": [
    "_, eig_score = get_eig_str_scores(sess, model, sample_batch_toys, doc_idx)"
   ]
  },
  {
   "cell_type": "code",
   "execution_count": 5933,
   "metadata": {},
   "outputs": [
    {
     "data": {
      "text/plain": [
       "array([0.09010366, 0.17601335, 0.10535759, 0.16272327, 0.16212623,\n",
       "       0.167181  , 0.13649492], dtype=float32)"
      ]
     },
     "execution_count": 5933,
     "metadata": {},
     "output_type": "execute_result"
    }
   ],
   "source": [
    "eig_score /sum(eig_score)"
   ]
  },
  {
   "cell_type": "code",
   "execution_count": 5950,
   "metadata": {},
   "outputs": [],
   "source": [
    "dump_json(config_eigen_toys, sample_batch_toys, doc_idx, eig_score, ref_toys, out_toys, 'toys')"
   ]
  },
  {
   "cell_type": "code",
   "execution_count": 5955,
   "metadata": {
    "scrolled": true
   },
   "outputs": [
    {
     "data": {
      "text/html": [
       "<div id=\"text_toys\">text goes here</div>"
      ],
      "text/plain": [
       "<IPython.core.display.HTML object>"
      ]
     },
     "metadata": {},
     "output_type": "display_data"
    }
   ],
   "source": [
    "%%html\n",
    "<div id=\"text_toys\">text goes here</div>"
   ]
  },
  {
   "cell_type": "code",
   "execution_count": 5956,
   "metadata": {},
   "outputs": [
    {
     "data": {
      "application/javascript": [
       "$.ajax({ // json読み込み開始\n",
       "  type: 'GET',\n",
       "  url: 'eval/json/toys.json',\n",
       "  dataType: 'json'\n",
       "})\n",
       ".then(\n",
       "  function(json) { // jsonの読み込みに成功した時\n",
       "    $('#text_toys').html($.map(json, function(line) {\n",
       "      return '<b>' + line.index + '</b>: <span style=\"background-color:hsl(360,100%,' + (100 - (line.eig - 0.09) / 0.18 * 50) + '%)\">' + line.sent + ' </span>　<br>'\n",
       "    }))\n",
       "  },\n",
       "  function() { //jsonの読み込みに失敗した時\n",
       "    console.log('失敗');\n",
       "  }\n",
       ");"
      ],
      "text/plain": [
       "<IPython.core.display.Javascript object>"
      ]
     },
     "metadata": {},
     "output_type": "display_data"
    }
   ],
   "source": [
    "%%javascript\n",
    "$.ajax({ // json読み込み開始\n",
    "  type: 'GET',\n",
    "  url: 'eval/json/toys.json',\n",
    "  dataType: 'json'\n",
    "})\n",
    ".then(\n",
    "  function(json) { // jsonの読み込みに成功した時\n",
    "    $('#text_toys').html($.map(json, function(line) {\n",
    "      return '<b>' + line.index + '</b>: <span style=\"background-color:hsl(360,100%,' + (100 - (line.eig - 0.09) / 0.18 * 50) + '%)\">' + line.sent + ' </span>　<br>'\n",
    "    }))\n",
    "  },\n",
    "  function() { //jsonの読み込みに失敗した時\n",
    "    console.log('失敗');\n",
    "  }\n",
    ");"
   ]
  },
  {
   "cell_type": "markdown",
   "metadata": {},
   "source": [
    "## sports"
   ]
  },
  {
   "cell_type": "code",
   "execution_count": 6003,
   "metadata": {
    "scrolled": false
   },
   "outputs": [
    {
     "name": "stdout",
     "output_type": "stream",
     "text": [
      "INFO:tensorflow:Restoring parameters from NAS/basemodel/sports/sports-base-att-train_l10_60-test_l5_60-keep_prob0.95-dim_hidden512/model-41000\n",
      "Doc: 0, GoldLabel: 4.0, ASIN: B00005BAIB\n",
      "ROUGE -1: 0.333, -2: 0.000, -L: 0.278\n",
      "ref:  ['good value']\n",
      "out:  ['good for the price']\n",
      "Doc: 1, GoldLabel: 5.0, ASIN: B00005BAIB\n",
      "ROUGE -1: 0.000, -2: 0.000, -L: 0.000\n",
      "ref:  ['kids loved them']\n",
      "out:  ['great for the price']\n",
      "Doc: 2, GoldLabel: 4.0, ASIN: B00005BAIB\n",
      "ROUGE -1: 0.500, -2: 0.400, -L: 0.357\n",
      "ref:  ['good air mattress - not best for large people']\n",
      "out:  ['good air mattress']\n",
      "Doc: 3, GoldLabel: 5.0, ASIN: B00005BAIB\n",
      "ROUGE -1: 0.667, -2: 0.000, -L: 0.667\n",
      "ref:  ['great backpacking pad']\n",
      "out:  ['great for backpacking']\n",
      "Doc: 4, GoldLabel: 4.0, ASIN: B00005BHNT\n",
      "ROUGE -1: 0.000, -2: 0.000, -L: 0.000\n",
      "ref:  ['perfect for summer swimming']\n",
      "out:  ['great swim cap']\n",
      "Doc: 5, GoldLabel: 5.0, ASIN: B00005BUQU\n",
      "ROUGE -1: 0.000, -2: 0.000, -L: 0.000\n",
      "ref:  [\"this will change your life ( not really , it 's just a frisbee )\"]\n",
      "out:  ['awesome <unk>']\n",
      "Doc: 6, GoldLabel: 1.0, ASIN: B00005BXUU\n",
      "ROUGE -1: 0.000, -2: 0.000, -L: 0.000\n",
      "ref:  ['typical flawed bell product']\n",
      "out:  ['poor quality']\n",
      "Doc: 7, GoldLabel: 5.0, ASIN: B00005JD3V\n",
      "ROUGE -1: 0.250, -2: 0.000, -L: 0.131\n",
      "ref:  ['great mattress at a great price ! !']\n",
      "out:  ['great bed']\n",
      "Doc: 8, GoldLabel: 1.0, ASIN: B00005JD3V\n",
      "ROUGE -1: 0.000, -2: 0.000, -L: 0.000\n",
      "ref:  ['do you like a leaky air mattress ... ... ...']\n",
      "out:  ['very pleased']\n",
      "Doc: 9, GoldLabel: 5.0, ASIN: B00005JD40\n",
      "ROUGE -1: 0.000, -2: 0.000, -L: 0.000\n",
      "ref:  ['so glad i purchased this !']\n",
      "out:  ['great pump']\n",
      "Doc: 10, GoldLabel: 5.0, ASIN: B00005JD40\n",
      "ROUGE -1: 0.000, -2: 0.000, -L: 0.000\n",
      "ref:  ['works great']\n",
      "out:  ['very impressed']\n",
      "Doc: 11, GoldLabel: 4.0, ASIN: B00005LDW4\n",
      "ROUGE -1: 0.182, -2: 0.000, -L: 0.115\n",
      "ref:  ['read this if you are shopping for swim goggles']\n",
      "out:  ['great goggles']\n",
      "Doc: 12, GoldLabel: 5.0, ASIN: B00005ML8D\n",
      "ROUGE -1: 0.000, -2: 0.000, -L: 0.000\n",
      "ref:  ['the minichamp is a maxi hit .']\n",
      "out:  ['well made']\n",
      "Doc: 13, GoldLabel: 5.0, ASIN: B00005MOYK\n",
      "ROUGE -1: 0.500, -2: 0.000, -L: 0.500\n",
      "ref:  ['great scooter']\n",
      "out:  ['great <unk>']\n",
      "Doc: 14, GoldLabel: 5.0, ASIN: B00005MOYK\n",
      "ROUGE -1: 0.667, -2: 0.000, -L: 0.556\n",
      "ref:  ['great durable scooter !']\n",
      "out:  ['great scooter']\n",
      "Doc: 15, GoldLabel: 5.0, ASIN: B00005MOYK\n",
      "ROUGE -1: 0.000, -2: 0.000, -L: 0.000\n",
      "ref:  ['just like the one i had as a child']\n",
      "out:  ['great product']\n"
     ]
    }
   ],
   "source": [
    "sample_batch_sports = dev_batches_sports[8][1]\n",
    "# sample_batch_sports = test_batches_sports[4][1]\n",
    "# sess, model = print_instance(config_eigen_sports, sample_batch_sports, model_path_eigen_sports)\n",
    "# sess, model = print_instance(config_str_sports, sample_batch_sports, model_path_str_sports)\n",
    "sess, model = print_instance(config_base_att_sports, sample_batch_sports, model_path_base_att_sports, mode='seq-seq-att')"
   ]
  },
  {
   "cell_type": "code",
   "execution_count": 5816,
   "metadata": {},
   "outputs": [
    {
     "data": {
      "image/png": "[encoded data removed]",
      "text/plain": [
       "<Figure size 576x576 with 1 Axes>"
      ]
     },
     "metadata": {},
     "output_type": "display_data"
    }
   ],
   "source": [
    "doc_idx = 15\n",
    "mst = get_mst(sess, model, sample_batch_sports, doc_idx=doc_idx)\n",
    "print_mst(mst)"
   ]
  },
  {
   "cell_type": "code",
   "execution_count": 5899,
   "metadata": {},
   "outputs": [
    {
     "name": "stdout",
     "output_type": "stream",
     "text": [
      "Doc: 15, GoldLabel: 5.0, ASIN: B000067QMK\n",
      "ROUGE -1: 0.118, -2: 0.000, -L: 0.074\n",
      "ROOT\n",
      "ref:  ['work well , nice feel to them']\n",
      "out:  ['i do not have any problems with them but i have not had any problems']\n",
      "1\n",
      "ref:  ['i purchased 2 sets based on all the reviews on these']\n",
      "out: ['i have not had any problems with them but i have not had any problems']\n",
      "2\n",
      "ref:  ['i am very happy with them but they are a tad big for my kids still age 3 and 6']\n",
      "out: ['i have not had any problems with them but i do not have any problems']\n",
      "3\n",
      "ref:  ['i know they will grow into them but they still wear them and they never fall off']\n",
      "out: ['if you are looking for a good product for the money you will not be disappointed']\n",
      "4\n",
      "ref:  ['they have a really nice feel to them and the gel seems to work good']\n",
      "out: ['if you are looking for a good product for the price i would recommend']\n",
      "5\n",
      "ref:  ['they do come with its own carry net to store them and that is a bonus']\n",
      "out: ['if you are looking for a good product for the money you will not be disappointed']\n",
      "6\n",
      "ref:  ['i would recommend these to anyone']\n",
      "out: ['i do not have any problems with this product but i am not sure']\n"
     ]
    }
   ],
   "source": [
    "ref_sports, out_sports = print_sample(sess, sample_batch_sports, model, doc_idx=doc_idx)[0]"
   ]
  },
  {
   "cell_type": "code",
   "execution_count": 5900,
   "metadata": {},
   "outputs": [],
   "source": [
    "str_score, eig_score = get_eig_str_scores(sess, model, sample_batch_sports, doc_idx)"
   ]
  },
  {
   "cell_type": "code",
   "execution_count": 5901,
   "metadata": {},
   "outputs": [
    {
     "data": {
      "text/plain": [
       "array([0.13630967, 0.22896798, 0.13374504, 0.09379329, 0.10852299,\n",
       "       0.29866105], dtype=float32)"
      ]
     },
     "execution_count": 5901,
     "metadata": {},
     "output_type": "execute_result"
    }
   ],
   "source": [
    "str_score[0] / np.sum(str_score[0])"
   ]
  },
  {
   "cell_type": "code",
   "execution_count": 5902,
   "metadata": {},
   "outputs": [
    {
     "data": {
      "text/plain": [
       "array([0.10935355, 0.21357198, 0.20142098, 0.1658908 , 0.17901753,\n",
       "       0.13074514], dtype=float32)"
      ]
     },
     "execution_count": 5902,
     "metadata": {},
     "output_type": "execute_result"
    }
   ],
   "source": [
    "eig_score / np.sum(eig_score)"
   ]
  },
  {
   "cell_type": "code",
   "execution_count": 5913,
   "metadata": {},
   "outputs": [
    {
     "data": {
      "text/plain": [
       "(0.21357198, 0.10935355)"
      ]
     },
     "execution_count": 5913,
     "metadata": {},
     "output_type": "execute_result"
    }
   ],
   "source": [
    "max(eig_score / np.sum(eig_score)), min(eig_score / np.sum(eig_score))"
   ]
  },
  {
   "cell_type": "code",
   "execution_count": 5907,
   "metadata": {},
   "outputs": [],
   "source": [
    "dump_json(config_eigen_sports, sample_batch_sports, doc_idx, eig_score, ref_sports, out_sports, 'sports')"
   ]
  },
  {
   "cell_type": "code",
   "execution_count": 5957,
   "metadata": {
    "scrolled": true
   },
   "outputs": [
    {
     "data": {
      "text/html": [
       "<div id=\"text_sports\">text goes here</div>"
      ],
      "text/plain": [
       "<IPython.core.display.HTML object>"
      ]
     },
     "metadata": {},
     "output_type": "display_data"
    }
   ],
   "source": [
    "%%html\n",
    "<div id=\"text_sports\">text goes here</div>"
   ]
  },
  {
   "cell_type": "code",
   "execution_count": 5958,
   "metadata": {},
   "outputs": [
    {
     "data": {
      "application/javascript": [
       "$.ajax({ // json読み込み開始\n",
       "  type: 'GET',\n",
       "  url: 'eval/json/sports.json',\n",
       "  dataType: 'json'\n",
       "})\n",
       ".then(\n",
       "  function(json) { // jsonの読み込みに成功した時\n",
       "    $('#text_sports').html($.map(json, function(line) {\n",
       "      return '<b>' + line.index + '</b>: <span style=\"background-color:hsl(360,100%,' + (100 - (line.eig - 0.11) / 0.21 * 50) + '%)\">' + line.sent + ' </span>　<br>'\n",
       "    }))\n",
       "  },\n",
       "  function() { //jsonの読み込みに失敗した時\n",
       "    console.log('失敗');\n",
       "  }\n",
       ");"
      ],
      "text/plain": [
       "<IPython.core.display.Javascript object>"
      ]
     },
     "metadata": {},
     "output_type": "display_data"
    }
   ],
   "source": [
    "%%javascript\n",
    "$.ajax({ // json読み込み開始\n",
    "  type: 'GET',\n",
    "  url: 'eval/json/sports.json',\n",
    "  dataType: 'json'\n",
    "})\n",
    ".then(\n",
    "  function(json) { // jsonの読み込みに成功した時\n",
    "    $('#text_sports').html($.map(json, function(line) {\n",
    "      return '<b>' + line.index + '</b>: <span style=\"background-color:hsl(360,100%,' + (100 - (line.eig - 0.11) / 0.21 * 50) + '%)\">' + line.sent + ' </span>　<br>'\n",
    "    }))\n",
    "  },\n",
    "  function() { //jsonの読み込みに失敗した時\n",
    "    console.log('失敗');\n",
    "  }\n",
    ");"
   ]
  },
  {
   "cell_type": "markdown",
   "metadata": {
    "heading_collapsed": true
   },
   "source": [
    "## movies"
   ]
  },
  {
   "cell_type": "code",
   "execution_count": 4449,
   "metadata": {
    "hidden": true
   },
   "outputs": [],
   "source": [
    "nb_name_eigen_movies_tmp = '7 -movies -eigen -train_l 10_60 -test_l 5_60 -save 10000 -TMP'\n",
    "config_eigen_movies_tmp = Config(nb_name_eigen_movies_tmp)\n",
    "config_eigen_movies_tmp.test_max_doc_l = config_movies.test_max_doc_l\n",
    "config_eigen_movies_tmp = update_config(config_eigen_movies_tmp, embedding_matrix_movies, vocab_movies, word_to_id_movies, test_batches_movies)\n",
    "ckpt_eigen_movies_tmp = tf.train.get_checkpoint_state(config_eigen_movies_tmp.writedir)\n",
    "model_path_eigen_movies_tmp = ckpt_eigen_movies_tmp.all_model_checkpoint_paths[-1]"
   ]
  },
  {
   "cell_type": "code",
   "execution_count": 4595,
   "metadata": {
    "hidden": true,
    "scrolled": false
   },
   "outputs": [
    {
     "name": "stdout",
     "output_type": "stream",
     "text": [
      "INFO:tensorflow:Restoring parameters from NAS/model/movies/movies-eigen-train_l10_60-test_l5_60-save10000-TMP/model-125000\n",
      "Doc: 0, GoldLabel: 2.0, ASIN: 0310263662\n",
      "ROUGE -1: 0.154, -2: 0.000, -L: 0.093\n",
      "ROOT\n",
      "ref:  ['wanted it to be good , but what a dissappointment ...']\n",
      "out:  ['it is']\n",
      "1\n",
      "ref:  ['this film leaves so much to be desired by the time the closing credits roll you wonder why you sat through it in the first place']\n",
      "out: ['if you are a fan of this film you will not be able to watch it again']\n",
      "2\n",
      "ref:  ['it appears to have absolutely no purpose']\n",
      "out: ['i loved it']\n",
      "3\n",
      "ref:  ['just meanders along violently']\n",
      "out: ['it is']\n",
      "4\n",
      "ref:  ['never giving']\n",
      "out: ['it is']\n",
      "5\n",
      "ref:  ['and there are few stories whether true or fictional that are better more exciting fare for good film making than this so the plot was thick and ripe for an amazing movie experience']\n",
      "out: ['if you are a fan of this movie you will not be able to watch this movie but it is not a good movie']\n",
      "6\n",
      "ref:  ['but they just didnt pull it off unfortunately']\n",
      "out: ['it is']\n",
      "7\n",
      "ref:  ['if you love the jesus story you will be sadly dissappointed by this strange twisted desultory mess of a film']\n",
      "out: ['it is']\n",
      "Doc: 1, GoldLabel: 2.0, ASIN: 0310263662\n",
      "ROUGE -1: 0.087, -2: 0.000, -L: 0.044\n",
      "ROOT\n",
      "ref:  ['one incredible scene']\n",
      "out:  ['this is one of the best movies i have ever seen and i have to say that it is not a bad movie']\n",
      "1\n",
      "ref:  ['there is one incredible scene in this movie a scene that perhaps makes the entire movie worth the price']\n",
      "out: ['this is one of the best movies i have ever seen and i have to say it is a great movie']\n",
      "2\n",
      "ref:  ['it is the scene in which jesus is finishing building a table and bouncing on it while have a friendly conversation with his mother']\n",
      "out: ['if you are a fan of this movie you will not be able to watch this movie and watch it again']\n",
      "3\n",
      "ref:  ['in that scene one can see a jesus of love humanity and compassion not evident in the gross <unk> of the bible that have come to commandeer his name']\n",
      "out: ['this is one of the best movies i have ever seen and i have to say that it is a great movie']\n",
      "4\n",
      "ref:  ['it is a glimpse of what the real jesus might have been like learning the wisdom of the ancients as he emerged from childhood through his lost years until returning to the bible at thirty']\n",
      "out: ['this is one of the best movies i have ever seen']\n",
      "5\n",
      "ref:  ['the rest of the movie is pretty awful']\n",
      "out: ['if you are a fan of this movie you will not be able to watch this movie and watch it again']\n",
      "6\n",
      "ref:  ['it had no character development the king of a religious sect getting beaten senseless does not a good movie make']\n",
      "out: ['if you are a fan of this movie you will not be able to watch this movie as well']\n",
      "7\n",
      "ref:  ['anyone raised christian will see nothing but the same old tired interpretations essentially reinforcing the status quo without a thought of its actual validity']\n",
      "out: ['if you are a fan of this movie you will not be able to watch this movie because it is a great movie']\n",
      "Doc: 2, GoldLabel: 2.0, ASIN: 0310263662\n",
      "ROUGE -1: 0.000, -2: 0.000, -L: 0.000\n",
      "ROOT\n",
      "ref:  ['give me a break']\n",
      "out:  ['this is one of the best movies i have ever seen and i have to say that it is one of the best movies i have ever seen']\n",
      "1\n",
      "ref:  ['after all of the thousands of words arguments and heated passions that this movie has inspired since long before its release it is a real downer to find out upon viewing it that it is a crummy movie']\n",
      "out: ['this is a great movie']\n",
      "2\n",
      "ref:  ['the subject matter the final suffering and crucifixion of jesus christ could not be more compelling even for non believers']\n",
      "out: ['this is one of the best movies i have ever seen']\n",
      "3\n",
      "ref:  ['but somehow mel gibson has managed to squeeze so much slow motion blood out of the proceedings without giving us any context for the character of the actual man that the story is oddly passionless']\n",
      "out: ['this is a great movie']\n",
      "4\n",
      "ref:  ['and talk about over the top']\n",
      "out: ['it is not']\n",
      "5\n",
      "ref:  ['the beatings mutilations and general bloodletting are so graphic that they teeter on snuff match this with the ridiculous horror movie images of a slithery he she as satan and you have got what could best be described as a gore fest']\n",
      "out: ['this is a great film']\n",
      "6\n",
      "ref:  ['the two stars are for jim c']\n",
      "out: ['it is not']\n",
      "7\n",
      "ref:  ['who suffers nobly in a very realistic prosthetic nose and the cinematography which is at times lovely']\n",
      "out: ['this is a great film to watch and i have to say that it is a great film']\n",
      "Doc: 3, GoldLabel: 1.0, ASIN: 0310263662\n",
      "ROUGE -1: 0.167, -2: 0.000, -L: 0.158\n",
      "ROOT\n",
      "ref:  ['a work of fiction - nothing more']\n",
      "out:  ['this is a great movie']\n",
      "1\n",
      "ref:  ['christ is to adult']\n",
      "out: ['this is a movie']\n",
      "2\n",
      "ref:  ['as santa claus is to child']\n",
      "out: ['this is a movie']\n",
      "3\n",
      "ref:  ['what kind of sick mind would let their kid watch this pornographic trash the kind of person who thinks jesus is going to come back']\n",
      "out: ['this is one of the best movies ever made']\n",
      "4\n",
      "ref:  ['the type of person who believes millions are going to hell if they are <unk>']\n",
      "out: ['this is a great movie']\n",
      "5\n",
      "ref:  ['the fact that this myth of jesus and the bible continues to hold sway the world over is nauseating']\n",
      "out: ['this is a great movie']\n",
      "6\n",
      "ref:  ['this religious nonsense has gone on long enough']\n",
      "out: ['this is a great movie']\n",
      "7\n",
      "ref:  ['throw this sick fantasy away and instead use common sense']\n",
      "out: ['this is a great movie']\n",
      "Doc: 4, GoldLabel: 1.0, ASIN: 0563412879\n",
      "ROUGE -1: 0.235, -2: 0.000, -L: 0.182\n",
      "ROOT\n",
      "ref:  ['i loved it-i had seen this movie many years ago and ...']\n",
      "out:  ['this is a great movie']\n",
      "1\n",
      "ref:  [\"i loved it i had seen this movie many years ago and loved it then 62 i love richard burton he 's so deep in this movie very young and very deep\"]\n",
      "out: ['this is one of my favorite movies']\n",
      "2\n",
      "ref:  ['what a brillant actor he is and became']\n",
      "out: ['this is a great movie']\n",
      "3\n",
      "ref:  ['i gave it five stars because the quality of him overall deserved it']\n",
      "out: ['this is one of the best movies ever made']\n",
      "4\n",
      "ref:  ['<unk> de <unk> wow what a brillant star she is']\n",
      "out: ['this is one of my favorite movies']\n",
      "5\n",
      "ref:  ['between the two of them wow']\n",
      "out: ['this is a great movie']\n",
      "6\n",
      "ref:  ['how different they are but this movie brought a side we never saw before']\n",
      "out: ['this is a great movie to watch']\n",
      "7\n",
      "ref:  ['thank you for the opportunity to share my views']\n",
      "out: ['this is a great movie']\n",
      "Doc: 5, GoldLabel: 2.0, ASIN: 0738900370\n",
      "ROUGE -1: 0.000, -2: 0.000, -L: 0.000\n",
      "ROOT\n",
      "ref:  ['disappointing']\n",
      "out:  ['this is a great movie']\n",
      "1\n",
      "ref:  ['this had so much potential']\n",
      "out: ['this is one of the best']\n",
      "2\n",
      "ref:  ['my favorite 3 guitarist yet the sound is muddied']\n",
      "out: ['this is a great movie']\n",
      "3\n",
      "ref:  ['it should have been recorded in 5']\n",
      "out: ['this is a great movie']\n",
      "4\n",
      "ref:  ['the video is good']\n",
      "out: ['this is one of the best']\n",
      "5\n",
      "ref:  [\"the sound is horrible though and that 's what makes this a travesty\"]\n",
      "out: ['i have to say that this is a great dvd']\n",
      "6\n",
      "ref:  ['i am so disappointed as for concert dvds audio is the most important factor']\n",
      "out: ['this is one of the best i have ever seen']\n",
      "7\n",
      "ref:  ['not even anamorphic']\n",
      "out: ['it is great']\n",
      "Doc: 6, GoldLabel: 1.0, ASIN: 0738900672\n",
      "ROUGE -1: 0.000, -2: 0.000, -L: 0.000\n",
      "ROOT\n",
      "ref:  [\"ca n't see the hype\"]\n",
      "out:  ['i have to say that i am not a fan of this movie but i have to say that it is not a bad movie']\n",
      "1\n",
      "ref:  ['i might get ripped for this review but i honestly did not enjoy this dvd at all']\n",
      "out: ['if you are a fan of this movie you will love it']\n",
      "2\n",
      "ref:  ['i bought it after reading all the reviews on this site']\n",
      "out: ['if you are a fan of this movie']\n",
      "3\n",
      "ref:  ['did not really know jb before so i approached it with an open mind']\n",
      "out: ['i do not know if you are a fan of this movie']\n",
      "4\n",
      "ref:  ['i do not like his <unk> singing much he seems to try to somewhat copy marc bolan and as for craftsmanship on the instrument he seems adequate at best']\n",
      "out: ['i do not know if you are a fan of this movie but it is not a good movie but it is a great movie']\n",
      "5\n",
      "ref:  [\"the other guys look bored and i got the impression the only time they enjoyed themselves was during the heavier songs like <unk> out the jams '\"]\n",
      "out: ['i have to say that i am not a fan of this movie but it is not as good as i have ever seen']\n",
      "6\n",
      "ref:  [\"the only song i liked was the last one <unk> ' but even that dragged out too much\"]\n",
      "out: ['if you are a fan of this movie you will not be disappointed']\n",
      "7\n",
      "ref:  ['a redeeming factor was that i aquired the dvd for a bargain and got almost all my money back when i traded it in at a different shop']\n",
      "out: ['i do not want to say that i have to say that i have to say that it is not as good as it is']\n"
     ]
    }
   ],
   "source": [
    "# sample_batch_movies = dev_batches_movies[10][1]\n",
    "sample_batch_movies = get_nevative_batches(dev_batches_movies, config_eigen_movies)[2]\n",
    "# sample_batch_movies = test_batches_movies[4][1]\n",
    "# sess, model = print_instance(config_eigen_movies, sample_batch_movies, model_path_eigen_movies)\n",
    "sess, model = print_instance(config_eigen_movies_tmp, sample_batch_movies, model_path_eigen_movies_tmp)\n",
    "# sess, model = print_instance(config_str_movies, sample_batch_movies, model_path_str_movies)\n",
    "# sess, model = print_instance(config_base_att_movies, sample_batch_movies, model_path_base_att_movies, mode='seq-seq-att')"
   ]
  },
  {
   "cell_type": "code",
   "execution_count": 4537,
   "metadata": {
    "hidden": true
   },
   "outputs": [],
   "source": [
    "# for line_idxs in sample_batch_movies[5].token_idxs:\n",
    "#     for idx in line_idxs:\n",
    "#         print config_base_att_movies.vocab[idx], \n",
    "#     print ''"
   ]
  },
  {
   "cell_type": "code",
   "execution_count": 4596,
   "metadata": {
    "hidden": true
   },
   "outputs": [
    {
     "data": {
      "image/png": "[encoded data removed]",
      "text/plain": [
       "<Figure size 576x576 with 1 Axes>"
      ]
     },
     "metadata": {},
     "output_type": "display_data"
    }
   ],
   "source": [
    "doc_idx = 6\n",
    "mst = get_mst(sess, model, sample_batch_movies, doc_idx=doc_idx)\n",
    "print_mst(mst)"
   ]
  },
  {
   "cell_type": "code",
   "execution_count": 4613,
   "metadata": {
    "hidden": true
   },
   "outputs": [
    {
     "name": "stdout",
     "output_type": "stream",
     "text": [
      "Doc: 6, GoldLabel: 1.0, ASIN: 0738900672\n",
      "ROUGE -1: 0.000, -2: 0.000, -L: 0.000\n",
      "ROOT\n",
      "ref:  [\"ca n't see the hype\"]\n",
      "out:  ['i do not think it would be a great toy for my daughter and she loves to play with it']\n",
      "1\n",
      "ref:  ['this having your conditions that for star but this offer son not actually for other old one']\n",
      "out: ['i do not think this is a great toy for my son']\n",
      "2\n",
      "ref:  ['this soft i made mostly one the show was for playroom']\n",
      "out: ['i do not think it would be a great toy for my son']\n",
      "3\n",
      "ref:  ['son not loves lot unloved buy will this tying i are all pool girl']\n",
      "out: ['i do not think it is a great toy for my son']\n",
      "4\n",
      "ref:  ['this her not has we <unk> middle good can piece to ever to variety watching raising wouln and in that greenish was the chased can piece deciding old no']\n",
      "out: ['i do not think this is a great toy for my daughter and she loves it']\n",
      "5\n",
      "ref:  ['the too excellent hard fabric and this figure the functions the some really she help left my place the equations person has <unk> play the scamper 3']\n",
      "out: ['i do not think it is a great toy for my daughter and she loves it']\n",
      "6\n",
      "ref:  ['the some given this educational my the three be <unk> 3 but about with stunt play put good']\n",
      "out: ['i do not think it is a great toy for my son']\n",
      "7\n",
      "ref:  ['it lastly improve my with this snowplow the other that it forms and figure top one out learn 5 more this springy i of old it dolls searching']\n",
      "out: ['i do not think it would be a great toy for my daughter and she loves it']\n"
     ]
    },
    {
     "data": {
      "text/plain": [
       "[([\"ca n't see the hype\"],\n",
       "  ['i do not think it would be a great toy for my daughter and she loves to play with it'])]"
      ]
     },
     "execution_count": 4613,
     "metadata": {},
     "output_type": "execute_result"
    }
   ],
   "source": [
    "print_sample(sess, sample_batch_movies, model, doc_idx=doc_idx)"
   ]
  },
  {
   "cell_type": "code",
   "execution_count": 4585,
   "metadata": {
    "hidden": true
   },
   "outputs": [],
   "source": [
    "str_score, _ = get_str_scores(sess, model, sample_batch_movies, doc_idx)"
   ]
  },
  {
   "cell_type": "code",
   "execution_count": 4586,
   "metadata": {
    "hidden": true
   },
   "outputs": [
    {
     "data": {
      "text/plain": [
       "array([0.08160418, 0.12719789, 0.212781  , 0.12730917, 0.08179657,\n",
       "       0.18925597, 0.08012174, 0.0999335 ], dtype=float32)"
      ]
     },
     "execution_count": 4586,
     "metadata": {},
     "output_type": "execute_result"
    }
   ],
   "source": [
    "str_score[0] /sum(str_score[0])"
   ]
  },
  {
   "cell_type": "code",
   "execution_count": 4587,
   "metadata": {
    "hidden": true
   },
   "outputs": [
    {
     "ename": "AttributeError",
     "evalue": "StrSumModel instance has no attribute 'eig_scores'",
     "output_type": "error",
     "traceback": [
      "\u001b[0;31m---------------------------------------------------------------------------\u001b[0m",
      "\u001b[0;31mAttributeError\u001b[0m                            Traceback (most recent call last)",
      "\u001b[0;32m<ipython-input-4587-8b6235fc1eb0>\u001b[0m in \u001b[0;36m<module>\u001b[0;34m()\u001b[0m\n\u001b[0;32m----> 1\u001b[0;31m \u001b[0m_\u001b[0m\u001b[0;34m,\u001b[0m \u001b[0meig_score\u001b[0m \u001b[0;34m=\u001b[0m \u001b[0mget_eig_str_scores\u001b[0m\u001b[0;34m(\u001b[0m\u001b[0msess\u001b[0m\u001b[0;34m,\u001b[0m \u001b[0mmodel\u001b[0m\u001b[0;34m,\u001b[0m \u001b[0msample_batch_movies\u001b[0m\u001b[0;34m,\u001b[0m \u001b[0mdoc_idx\u001b[0m\u001b[0;34m)\u001b[0m\u001b[0;34m\u001b[0m\u001b[0m\n\u001b[0m",
      "\u001b[0;32m/home/m-isonuma/extstrsum/mst.pyc\u001b[0m in \u001b[0;36mget_eig_str_scores\u001b[0;34m(sess, model, batch, doc_idx)\u001b[0m\n\u001b[1;32m     19\u001b[0m \u001b[0;32mdef\u001b[0m \u001b[0mget_eig_str_scores\u001b[0m\u001b[0;34m(\u001b[0m\u001b[0msess\u001b[0m\u001b[0;34m,\u001b[0m \u001b[0mmodel\u001b[0m\u001b[0;34m,\u001b[0m \u001b[0mbatch\u001b[0m\u001b[0;34m,\u001b[0m \u001b[0mdoc_idx\u001b[0m\u001b[0;34m=\u001b[0m\u001b[0mNone\u001b[0m\u001b[0;34m)\u001b[0m\u001b[0;34m:\u001b[0m\u001b[0;34m\u001b[0m\u001b[0m\n\u001b[1;32m     20\u001b[0m     \u001b[0mfeed_dict\u001b[0m \u001b[0;34m=\u001b[0m \u001b[0mmodel\u001b[0m\u001b[0;34m.\u001b[0m\u001b[0mget_feed_dict\u001b[0m\u001b[0;34m(\u001b[0m\u001b[0mbatch\u001b[0m\u001b[0;34m,\u001b[0m \u001b[0mmode\u001b[0m\u001b[0;34m=\u001b[0m\u001b[0;34m'test'\u001b[0m\u001b[0;34m)\u001b[0m\u001b[0;34m\u001b[0m\u001b[0m\n\u001b[0;32m---> 21\u001b[0;31m     \u001b[0mstr_scores\u001b[0m\u001b[0;34m,\u001b[0m \u001b[0meig_scores\u001b[0m \u001b[0;34m=\u001b[0m \u001b[0msess\u001b[0m\u001b[0;34m.\u001b[0m\u001b[0mrun\u001b[0m\u001b[0;34m(\u001b[0m\u001b[0;34m[\u001b[0m\u001b[0mmodel\u001b[0m\u001b[0;34m.\u001b[0m\u001b[0mstr_scores\u001b[0m\u001b[0;34m,\u001b[0m \u001b[0mmodel\u001b[0m\u001b[0;34m.\u001b[0m\u001b[0meig_scores\u001b[0m\u001b[0;34m]\u001b[0m\u001b[0;34m,\u001b[0m \u001b[0mfeed_dict\u001b[0m \u001b[0;34m=\u001b[0m \u001b[0mfeed_dict\u001b[0m\u001b[0;34m)\u001b[0m\u001b[0;34m\u001b[0m\u001b[0m\n\u001b[0m\u001b[1;32m     22\u001b[0m \u001b[0;34m\u001b[0m\u001b[0m\n\u001b[1;32m     23\u001b[0m     \u001b[0;32mif\u001b[0m \u001b[0mdoc_idx\u001b[0m \u001b[0;32mis\u001b[0m \u001b[0;32mnot\u001b[0m \u001b[0mNone\u001b[0m\u001b[0;34m:\u001b[0m\u001b[0;34m\u001b[0m\u001b[0m\n",
      "\u001b[0;31mAttributeError\u001b[0m: StrSumModel instance has no attribute 'eig_scores'"
     ]
    }
   ],
   "source": [
    "_, eig_score = get_eig_str_scores(sess, model, sample_batch_movies, doc_idx)"
   ]
  },
  {
   "cell_type": "code",
   "execution_count": 4588,
   "metadata": {
    "hidden": true
   },
   "outputs": [
    {
     "data": {
      "text/plain": [
       "array([0.14258444, 0.11940979, 0.10749628, 0.10879963, 0.11612241,\n",
       "       0.12201919, 0.1328612 , 0.15070705], dtype=float32)"
      ]
     },
     "execution_count": 4588,
     "metadata": {},
     "output_type": "execute_result"
    }
   ],
   "source": [
    "eig_score /sum(eig_score)"
   ]
  },
  {
   "cell_type": "code",
   "execution_count": 4589,
   "metadata": {
    "hidden": true
   },
   "outputs": [
    {
     "data": {
      "text/plain": [
       "array([0.09549374, 0.12465514, 0.18772264, 0.11367825, 0.07795455,\n",
       "       0.18952566, 0.08736529, 0.1236047 ], dtype=float32)"
      ]
     },
     "execution_count": 4589,
     "metadata": {},
     "output_type": "execute_result"
    }
   ],
   "source": [
    "str_score[0] * eig_score / sum(str_score[0] * eig_score)"
   ]
  },
  {
   "cell_type": "code",
   "execution_count": 4590,
   "metadata": {
    "hidden": true,
    "scrolled": true
   },
   "outputs": [
    {
     "name": "stdout",
     "output_type": "stream",
     "text": [
      "0.14 0.21 0.35 0.21 0.14 0.31 0.13 0.17 \n",
      "0.00 0.05 0.04 0.06 0.20 0.21 0.19 0.18 \n",
      "0.05 0.00 0.18 0.40 0.05 0.05 0.04 0.04 \n",
      "0.05 0.35 0.00 0.07 0.05 0.05 0.05 0.05 \n",
      "0.05 0.05 0.04 0.00 0.22 0.05 0.19 0.04 \n",
      "0.09 0.05 0.04 0.08 0.00 0.05 0.21 0.11 \n",
      "0.22 0.12 0.17 0.06 0.04 0.00 0.04 0.21 \n",
      "0.19 0.05 0.04 0.06 0.23 0.05 0.00 0.20 \n",
      "0.22 0.11 0.15 0.06 0.07 0.23 0.16 0.00 \n"
     ]
    }
   ],
   "source": [
    "for row_score in str_score:\n",
    "    for score in row_score:\n",
    "        print '%.2f' % score,\n",
    "    print ''"
   ]
  },
  {
   "cell_type": "markdown",
   "metadata": {},
   "source": [
    "# Eigen Effect"
   ]
  },
  {
   "cell_type": "code",
   "execution_count": 1956,
   "metadata": {},
   "outputs": [],
   "source": [
    "%autoreload\n",
    "from run import get_rouges_tokens"
   ]
  },
  {
   "cell_type": "code",
   "execution_count": 1957,
   "metadata": {},
   "outputs": [],
   "source": [
    "def eval_instances(config, test_batches, model_path):\n",
    "    model = StrSumModel(config)\n",
    "    model.build()\n",
    "    with tf.Session() as sess:\n",
    "        saver = tf.train.Saver()\n",
    "        saver.restore(sess, model_path)\n",
    "        rouges, tokens = get_rouges_tokens(sess, model, test_batches)\n",
    "        \n",
    "    return rouges, tokens"
   ]
  },
  {
   "cell_type": "code",
   "execution_count": 2270,
   "metadata": {},
   "outputs": [],
   "source": [
    "def eval_str_eigen_scores(config, batches, model_path):\n",
    "    eigen_score_list, str_score_list = [], []\n",
    "    model = StrSumModel(config)\n",
    "    model.build()\n",
    "    with tf.Session() as sess:\n",
    "        saver = tf.train.Saver()\n",
    "        saver.restore(sess, model_path)\n",
    "        \n",
    "        for i, batch in batches:\n",
    "            str_scores, eigen_scores = get_eig_str_scores(sess, model, batch)\n",
    "            str_score_list.extend(str_scores)\n",
    "            eigen_score_list.extend(eigen_scores)\n",
    "\n",
    "    return  str_score_list, eigen_score_list"
   ]
  },
  {
   "cell_type": "code",
   "execution_count": 2440,
   "metadata": {},
   "outputs": [],
   "source": [
    "def get_eigen_examples(config_eigen, config_str, model_path_eigen, model_path_str, test_batches):\n",
    "    rouges_eigen, o_tokens_eigen = eval_instances(config_eigen, test_batches, model_path_eigen)\n",
    "    rouges_str, o_tokens_str = eval_instances(config_str, test_batches, model_path_str)\n",
    "\n",
    "    str_scores, eigen_scores = eval_str_eigen_scores(config_eigen, test_batches, model_path_eigen)\n",
    "    \n",
    "    r_tokens = []\n",
    "    body_tokens = []\n",
    "    ratings = []\n",
    "    for i, batch in test_batches:\n",
    "        for instance in batch:\n",
    "            r_token = instance.summary_tokens\n",
    "            r_tokens.append(' '.join(r_token))\n",
    "            body_token = [[config_eigen.vocab[idx] for idx in line_idxs] for line_idxs in instance.token_idxs]\n",
    "            body_tokens.append(body_token)\n",
    "            rating = instance.goldLabel\n",
    "            ratings.append(rating)\n",
    "            \n",
    "    \n",
    "    return rouges_eigen, o_tokens_eigen, rouges_str, o_tokens_str, r_tokens, body_tokens, ratings, str_scores, eigen_scores"
   ]
  },
  {
   "cell_type": "code",
   "execution_count": 4167,
   "metadata": {},
   "outputs": [],
   "source": [
    "def print_eigen_examples(rouges_eigen, o_tokens_eigen, rouges_str, o_tokens_str, r_tokens, body_tokens, ratings, str_scores, eigen_scores, eigen_ind, doc_idx=None):\n",
    "    if doc_idx is None:\n",
    "    #     eigen_doc_idxs = [idx for idx, (eigen, rating) in enumerate(zip(np.array(rouges_eigen)[:, 2] != np.array(rouges_str)[:, 2], ratings)) if eigen and (rating <= 3)]\n",
    "#         eigen_doc_idxs = [idx for idx, (eigen, rating) in enumerate(zip(np.array(rouges_eigen)[:, 0] != np.array(rouges_str)[:, 0], ratings)) if eigen and (rating <= 3)]\n",
    "        eigen_doc_idxs = [idx for idx, (eigen, rating) in enumerate(zip(np.array(rouges_eigen)[:, 0] != np.array(rouges_str)[:, 0], ratings)) if eigen]\n",
    "        eigen_ind +=1\n",
    "        doc_idx = eigen_doc_idxs[eigen_ind]\n",
    "\n",
    "    print 'INDEX: %i / %i' % (eigen_ind, len(eigen_doc_idxs))\n",
    "    print 'DOC IDX: %i' % (doc_idx)\n",
    "    rouge_eigen, rouge_str = rouges_eigen[doc_idx], rouges_str[doc_idx]\n",
    "    o_token_eigen, o_token_str, r_token, body_token, rating = o_tokens_eigen[doc_idx], o_tokens_str[doc_idx], r_tokens[doc_idx], body_tokens[doc_idx], ratings[doc_idx]\n",
    "    str_score, eigen_score = str_scores[doc_idx], eigen_scores[doc_idx]\n",
    "\n",
    "    mst = calc_mst(np.transpose(str_score))\n",
    "    print 'Rating: %i' % rating\n",
    "    print 'Eigen: ', o_token_eigen[0]\n",
    "    print 'Str    : ', o_token_str[0]\n",
    "\n",
    "    print ''\n",
    "    print 'Ref   : ', r_token\n",
    "    for i, line_token in enumerate(body_token):\n",
    "        print i+1, ' '.join(line_token)\n",
    "\n",
    "    print eigen_score\n",
    "    print_mst(mst)\n",
    "    \n",
    "    return eigen_ind, doc_idx"
   ]
  },
  {
   "cell_type": "markdown",
   "metadata": {},
   "source": [
    "## toys"
   ]
  },
  {
   "cell_type": "code",
   "execution_count": 2268,
   "metadata": {},
   "outputs": [],
   "source": [
    "tmp_model_path_eigen_toys = ckpt_eigen_toys.all_model_checkpoint_paths[-1]"
   ]
  },
  {
   "cell_type": "code",
   "execution_count": 3448,
   "metadata": {},
   "outputs": [
    {
     "name": "stdout",
     "output_type": "stream",
     "text": [
      "INFO:tensorflow:Restoring parameters from NAS/model/toys/toys-eigen-train_l10_60-test_l5_60/model-43000\n",
      "INFO:tensorflow:Restoring parameters from NAS/model/toys/toys-train_l10_60-test_l5_60/model-54500\n",
      "INFO:tensorflow:Restoring parameters from NAS/model/toys/toys-eigen-train_l10_60-test_l5_60/model-43000\n"
     ]
    }
   ],
   "source": [
    "rouges_eigen, o_tokens_eigen, rouges_str, o_tokens_str, r_tokens, body_tokens, ratings, str_scores, eigen_scores = get_eigen_examples(config_eigen_toys, config_str_toys, model_path_eigen_toys, model_path_str_toys, test_batches_toys)"
   ]
  },
  {
   "cell_type": "code",
   "execution_count": 3435,
   "metadata": {},
   "outputs": [],
   "source": [
    "eigen_ind=100"
   ]
  },
  {
   "cell_type": "code",
   "execution_count": 3447,
   "metadata": {
    "scrolled": false
   },
   "outputs": [
    {
     "name": "stdout",
     "output_type": "stream",
     "text": [
      "INDEX: 112 / 222\n",
      "DOC IDX: 256\n",
      "Rating: 5\n",
      "Eigen:  i think this is a great game\n",
      "Str    :  this is a great game\n",
      "\n",
      "Ref   :  best game i 've played in a long while\n",
      "1 everyone gets star wars\n",
      "2 if you are getting this as a gift for the star wars fans in your life you are not doing them wrong\n",
      "3 this game is a load of fun even out of the box with only 3 ships\n",
      "4 the expansion packs means that the owner can expand the game as they please\n",
      "5 there will be many expansions for this game so it will have a long life\n",
      "6 i expect this will be one of the top games i play in 2013\n",
      "7 if you are geting this for yourself consider also getting plano 5232 it will hold all the bits and pieces a lot better than the box the game came in\n",
      "8 i have two base games and a dozen expansions in mine and i am only using one half of it so far\n",
      "9 enjoy and may the force be with you or rule the galaxy as you desire\n",
      "[0.05959604 0.08028236 0.10397555 0.10284954 0.10470321 0.10367604\n",
      " 0.11012576 0.07861832 0.10470801]\n"
     ]
    },
    {
     "data": {
      "image/png": "[encoded data removed]",
      "text/plain": [
       "<Figure size 576x576 with 1 Axes>"
      ]
     },
     "metadata": {},
     "output_type": "display_data"
    }
   ],
   "source": [
    "eigen_ind = print_eigen_examples(rouges_eigen, o_tokens_eigen, rouges_str, o_tokens_str, r_tokens, body_tokens, ratings, str_scores, eigen_scores, eigen_ind)\n"
   ]
  },
  {
   "cell_type": "code",
   "execution_count": 3386,
   "metadata": {},
   "outputs": [],
   "source": [
    "instances = []\n",
    "for i, batch in dev_batches_toys:\n",
    "    instances.extend(batch)"
   ]
  },
  {
   "cell_type": "code",
   "execution_count": 3423,
   "metadata": {},
   "outputs": [],
   "source": [
    "doc_idx = 159\n",
    "sample_batch = (instances[doc_idx],)"
   ]
  },
  {
   "cell_type": "code",
   "execution_count": 3431,
   "metadata": {},
   "outputs": [
    {
     "name": "stdout",
     "output_type": "stream",
     "text": [
      "INFO:tensorflow:Restoring parameters from NAS/model/toys/toys-eigen-train_l10_60-test_l5_60/model-43000\n",
      "Doc: 0, GoldLabel: 3.0, ASIN: 158994206X\n",
      "ROUGE -1: 0.222, -2: 0.000, -L: 0.222\n",
      "ROOT\n",
      "ref:  ['a good game but extremely time consuming and tedious']\n",
      "out:  ['i do not think it is a great game']\n",
      "1\n",
      "ref:  ['twilight has a lot going for it but i personally think it is just too top heavy for play']\n",
      "out: ['this is a great addition to the game of the game']\n",
      "2\n",
      "ref:  ['you have to be a true fan and dedicate an entire day to play this game']\n",
      "out: ['i think this is a great addition to the game']\n",
      "3\n",
      "ref:  ['the box states a few hours but it takes an entire hour to set up the game alone']\n",
      "out: ['i do not think it is a great game for kids']\n",
      "4\n",
      "ref:  ['and the concept is flawed as well though it has a very nice idea behind it']\n",
      "out: ['i do not think it is a great game']\n",
      "5\n",
      "ref:  ['my personal bone to pick would be the artwork']\n",
      "out: ['this is a great toy']\n",
      "6\n",
      "ref:  ['i happen to think it is silly']\n",
      "out: ['this is a great game']\n",
      "7\n",
      "ref:  ['but that is me and not a fair thing to say other than i am the customer']\n",
      "out: ['this is a great addition to the game of the game']\n"
     ]
    }
   ],
   "source": [
    "sess, model = print_instance(config_eigen_toys, sample_batch, model_path_eigen_toys)"
   ]
  },
  {
   "cell_type": "code",
   "execution_count": 3432,
   "metadata": {},
   "outputs": [
    {
     "data": {
      "image/png": "[encoded data removed]",
      "text/plain": [
       "<Figure size 576x576 with 1 Axes>"
      ]
     },
     "metadata": {},
     "output_type": "display_data"
    }
   ],
   "source": [
    "mst = get_mst(sess, model, sample_batch, doc_idx=0)\n",
    "print_mst(mst)"
   ]
  },
  {
   "cell_type": "markdown",
   "metadata": {},
   "source": [
    "## sports"
   ]
  },
  {
   "cell_type": "code",
   "execution_count": 4041,
   "metadata": {},
   "outputs": [
    {
     "name": "stdout",
     "output_type": "stream",
     "text": [
      "INFO:tensorflow:Restoring parameters from NAS/model/sports/sports-eigen-train_l10_60-test_l5_60-keep_prob0.95-TMP/model-43000\n",
      "INFO:tensorflow:Restoring parameters from NAS/model/sports/sports-train_l10_60-test_l5_60-keep_prob0.95-TMP/model-43500\n",
      "INFO:tensorflow:Restoring parameters from NAS/model/sports/sports-eigen-train_l10_60-test_l5_60-keep_prob0.95-TMP/model-43000\n"
     ]
    }
   ],
   "source": [
    "rouges_eigen, o_tokens_eigen, rouges_str, o_tokens_str, r_tokens, body_tokens, ratings, str_scores, eigen_scores = get_eigen_examples(config_eigen_sports, config_str_sports, model_path_eigen_sports, model_path_str_sports, dev_batches_sports)\n"
   ]
  },
  {
   "cell_type": "code",
   "execution_count": 4168,
   "metadata": {},
   "outputs": [],
   "source": [
    "eigen_ind=65"
   ]
  },
  {
   "cell_type": "code",
   "execution_count": 4169,
   "metadata": {},
   "outputs": [
    {
     "name": "stdout",
     "output_type": "stream",
     "text": [
      "INDEX: 66 / 162\n",
      "DOC IDX: 224\n",
      "Rating: 4\n",
      "Eigen:  if you do not want to use it for a long time you will not be able to use it for the money\n",
      "Str    :  this is a great product for the money and i am very happy with it\n",
      "\n",
      "Ref   :  nice grip on this ball but overpriced\n",
      "1 this is an excellent basketball for both outdoor and indoor use although it will keep its grip much longer if used only indoors\n",
      "2 the super grip gives the ball handler excellent control when making cuts and crossovers plus it is much easier to palm\n",
      "3 this goes for pretty much every basketball but remember to bring your ball in to your garage or a shaded area after playing\n",
      "4 otherwise the ball will start to split at the seams if left out in the sun\n",
      "5 this ball would have gotten the coveted 5 star rating but the price is a little high compared to similar balls out there\n",
      "6 they need to knock 5 off the price\n",
      "7 otherwise it does the job and the grip is awesome\n",
      "[0.14798306 0.14222811 0.1509486  0.06574509 0.1489868  0.09106847\n",
      " 0.08580068]\n"
     ]
    },
    {
     "data": {
      "image/png": "[encoded data removed]",
      "text/plain": [
       "<Figure size 576x576 with 1 Axes>"
      ]
     },
     "metadata": {},
     "output_type": "display_data"
    }
   ],
   "source": [
    "eigen_ind, doc_idx = print_eigen_examples(rouges_eigen, o_tokens_eigen, rouges_str, o_tokens_str, r_tokens, body_tokens, ratings, str_scores, eigen_scores, eigen_ind)"
   ]
  },
  {
   "cell_type": "code",
   "execution_count": 4170,
   "metadata": {},
   "outputs": [],
   "source": [
    "instances = []\n",
    "for i, batch in dev_batches_sports:\n",
    "    instances.extend(batch)"
   ]
  },
  {
   "cell_type": "code",
   "execution_count": 4160,
   "metadata": {},
   "outputs": [],
   "source": [
    "doc_idx = 222\n",
    "sample_batch = (instances[doc_idx],)"
   ]
  },
  {
   "cell_type": "code",
   "execution_count": 4171,
   "metadata": {
    "scrolled": false
   },
   "outputs": [
    {
     "name": "stdout",
     "output_type": "stream",
     "text": [
      "INFO:tensorflow:Restoring parameters from NAS/model/sports/sports-eigen-train_l10_60-test_l5_60-keep_prob0.95-TMP/model-43000\n",
      "Doc: 0, GoldLabel: 3.0, ASIN: B00005U2P3\n",
      "ROUGE -1: 0.316, -2: 0.118, -L: 0.301\n",
      "ROOT\n",
      "ref:  ['a good buy for the price - use indoors only though']\n",
      "out:  ['this is a great product for the money']\n",
      "1\n",
      "ref:  ['if you are looking for a decent ball to use indoors this is a good affordable choice']\n",
      "out: ['i have not had any problems with this product but it is a great product']\n",
      "2\n",
      "ref:  ['it feels great out of the package the tack on the ball responds well for shooters']\n",
      "out: ['i have not had any problems with this product but it is a great product']\n",
      "3\n",
      "ref:  ['i found that the ball rotation was better with this than a well worn basketball']\n",
      "out: ['if you are looking for a good product for the price this is a great product']\n",
      "4\n",
      "ref:  ['here are the grades weight c could definitely have been <unk> quality b holds air <unk> b more tacky than other basketballs but feels <unk> b <unk> b durability c i would not use this ball outdoors']\n",
      "out: ['if you are looking for a great product for the money']\n",
      "5\n",
      "ref:  ['it does not have the right feel and i think it would fall apart after a few uses']\n",
      "out: ['if you are looking for a good product for the price this is a great product']\n",
      "6\n",
      "ref:  ['stick with indoor ball and its a good choice']\n",
      "out: ['this is a great product']\n",
      "7\n",
      "ref:  ['good quality ball for the indoors recommended']\n",
      "out: ['this is a great product']\n"
     ]
    }
   ],
   "source": [
    "sess, model = print_instance(config_eigen_sports, sample_batch, model_path_eigen_sports)"
   ]
  },
  {
   "cell_type": "code",
   "execution_count": 4164,
   "metadata": {},
   "outputs": [
    {
     "name": "stdout",
     "output_type": "stream",
     "text": [
      "INFO:tensorflow:Restoring parameters from NAS/model/sports/sports-train_l10_60-test_l5_60-keep_prob0.95-TMP/model-43500\n",
      "Doc: 0, GoldLabel: 3.0, ASIN: B00005U2P3\n",
      "ROUGE -1: 0.421, -2: 0.235, -L: 0.402\n",
      "ROOT\n",
      "ref:  ['a good buy for the price - use indoors only though']\n",
      "out:  ['this is a great product for the price']\n",
      "1\n",
      "ref:  ['if you are looking for a decent ball to use indoors this is a good affordable choice']\n",
      "out: ['i have not had any problems with it but i do not have to use it']\n",
      "2\n",
      "ref:  ['it feels great out of the package the tack on the ball responds well for shooters']\n",
      "out: ['i have not had any problems with this product but i am not sure']\n",
      "3\n",
      "ref:  ['i found that the ball rotation was better with this than a well worn basketball']\n",
      "out: ['this is a great product for the money and i am very happy with it']\n",
      "4\n",
      "ref:  ['here are the grades weight c could definitely have been <unk> quality b holds air <unk> b more tacky than other basketballs but feels <unk> b <unk> b durability c i would not use this ball outdoors']\n",
      "out: ['this is a great product for the price']\n",
      "5\n",
      "ref:  ['it does not have the right feel and i think it would fall apart after a few uses']\n",
      "out: ['i have not had any problems with it but i do not have to use it']\n",
      "6\n",
      "ref:  ['stick with indoor ball and its a good choice']\n",
      "out: ['this is a great product']\n",
      "7\n",
      "ref:  ['good quality ball for the indoors recommended']\n",
      "out: ['this is a great product']\n"
     ]
    }
   ],
   "source": [
    "sess, model = print_instance(config_eigen_sports, sample_batch, model_path_str_sports)"
   ]
  },
  {
   "cell_type": "code",
   "execution_count": 4165,
   "metadata": {},
   "outputs": [
    {
     "data": {
      "image/png": "[encoded data removed]",
      "text/plain": [
       "<Figure size 576x576 with 1 Axes>"
      ]
     },
     "metadata": {},
     "output_type": "display_data"
    }
   ],
   "source": [
    "mst = get_mst(sess, model, sample_batch, doc_idx=0)\n",
    "print_mst(mst)"
   ]
  },
  {
   "cell_type": "markdown",
   "metadata": {},
   "source": [
    "## movies"
   ]
  },
  {
   "cell_type": "code",
   "execution_count": 4379,
   "metadata": {},
   "outputs": [
    {
     "name": "stdout",
     "output_type": "stream",
     "text": [
      "INFO:tensorflow:Restoring parameters from NAS/model/movies/movies-eigen-train_l10_60-test_l5_60-save10000/model-100000\n",
      "INFO:tensorflow:Restoring parameters from NAS/model/movies/movies-train_l10_60-test_l5_60-save10000/model-78500\n",
      "INFO:tensorflow:Restoring parameters from NAS/model/movies/movies-eigen-train_l10_60-test_l5_60-save10000/model-100000\n"
     ]
    }
   ],
   "source": [
    "rouges_eigen, o_tokens_eigen, rouges_str, o_tokens_str, r_tokens, body_tokens, ratings, str_scores, eigen_scores = get_eigen_examples(config_eigen_movies, config_str_movies, model_path_eigen_movies, model_path_str_movies, dev_batches_movies)"
   ]
  },
  {
   "cell_type": "code",
   "execution_count": 4098,
   "metadata": {},
   "outputs": [],
   "source": [
    "eigen_ind=20"
   ]
  }
 ],
 "metadata": {
  "kernelspec": {
   "display_name": "py2",
   "language": "python",
   "name": "py2"
  },
  "language_info": {
   "codemirror_mode": {
    "name": "ipython",
    "version": 2
   },
   "file_extension": ".py",
   "mimetype": "text/x-python",
   "name": "python",
   "nbconvert_exporter": "python",
   "pygments_lexer": "ipython2",
   "version": "2.7.15"
  },
  "toc": {
   "base_numbering": 1,
   "nav_menu": {},
   "number_sections": true,
   "sideBar": true,
   "skip_h1_title": false,
   "title_cell": "Table of Contents",
   "title_sidebar": "Contents",
   "toc_cell": false,
   "toc_position": {},
   "toc_section_display": true,
   "toc_window_display": false
  }
 },
 "nbformat": 4,
 "nbformat_minor": 2
}
