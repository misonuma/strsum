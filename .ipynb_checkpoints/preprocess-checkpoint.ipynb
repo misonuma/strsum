{
 "cells": [
  {
   "cell_type": "code",
   "execution_count": 1,
   "metadata": {},
   "outputs": [],
   "source": [
    "import cPickle"
   ]
  },
  {
   "cell_type": "code",
   "execution_count": 11,
   "metadata": {},
   "outputs": [],
   "source": [
    "train_all, dev_all, test_all, embeddings, word_to_id = cPickle.load(open('data/sports_all.pkl'))"
   ]
  },
  {
   "cell_type": "code",
   "execution_count": 17,
   "metadata": {},
   "outputs": [],
   "source": [
    "def filter_instances(instances, min_doc_l, max_doc_l, max_sent_l):\n",
    "    new_instances = []\n",
    "    for d in instances:\n",
    "        doc_l = d.doc_l\n",
    "        sent_l = d.max_sent_l\n",
    "        \n",
    "        if doc_l < min_doc_l or doc_l >= max_doc_l: continue\n",
    "        if sent_l > max_sent_l: continue\n",
    "        \n",
    "        new_instances.append(d)\n",
    "        \n",
    "    return new_instances"
   ]
  },
  {
   "cell_type": "code",
   "execution_count": 22,
   "metadata": {},
   "outputs": [],
   "source": [
    "train = filter_instances(train_all, min_doc_l=10, max_doc_l=60, max_sent_l=50)\n",
    "dev = filter_instances(dev_all, min_doc_l=5, max_doc_l=60, max_sent_l=50)\n",
    "test = filter_instances(test_all, min_doc_l=5, max_doc_l=60, max_sent_l=50)"
   ]
  },
  {
   "cell_type": "code",
   "execution_count": 23,
   "metadata": {},
   "outputs": [
    {
     "data": {
      "text/plain": [
       "(37445, 511, 466)"
      ]
     },
     "execution_count": 23,
     "metadata": {},
     "output_type": "execute_result"
    }
   ],
   "source": [
    "len(train), len(dev), len(test)"
   ]
  },
  {
   "cell_type": "code",
   "execution_count": 25,
   "metadata": {},
   "outputs": [],
   "source": [
    "cPickle.dump((train, dev, test, embeddings, word_to_id), open('data/sports.pkl', 'w'))"
   ]
  },
  {
   "cell_type": "code",
   "execution_count": null,
   "metadata": {},
   "outputs": [],
   "source": []
  }
 ],
 "metadata": {
  "kernelspec": {
   "display_name": "py2",
   "language": "python",
   "name": "py2"
  },
  "language_info": {
   "codemirror_mode": {
    "name": "ipython",
    "version": 2
   },
   "file_extension": ".py",
   "mimetype": "text/x-python",
   "name": "python",
   "nbconvert_exporter": "python",
   "pygments_lexer": "ipython2",
   "version": "2.7.15"
  },
  "toc": {
   "base_numbering": 1,
   "nav_menu": {},
   "number_sections": true,
   "sideBar": true,
   "skip_h1_title": false,
   "title_cell": "Table of Contents",
   "title_sidebar": "Contents",
   "toc_cell": false,
   "toc_position": {},
   "toc_section_display": true,
   "toc_window_display": false
  }
 },
 "nbformat": 4,
 "nbformat_minor": 2
}
