{
 "cells": [
  {
   "cell_type": "code",
   "execution_count": 151,
   "metadata": {},
   "outputs": [
    {
     "name": "stdout",
     "output_type": "stream",
     "text": [
      "The autoreload extension is already loaded. To reload it, use:\n",
      "  %reload_ext autoreload\n"
     ]
    }
   ],
   "source": [
    "%load_ext autoreload\n",
    "\n",
    "from IPython.display import clear_output"
   ]
  },
  {
   "cell_type": "code",
   "execution_count": 228,
   "metadata": {},
   "outputs": [],
   "source": [
    "%autoreload\n",
    "\n",
    "import os\n",
    "import sys\n",
    "import pdb\n",
    "\n",
    "import numpy as np\n",
    "import cPickle\n",
    "import codecs\n",
    "import itertools\n",
    "\n",
    "import tensorflow as tf\n",
    "\n",
    "from data_structure import load_data\n",
    "from model import StrSumModel\n",
    "from run import run"
   ]
  },
  {
   "cell_type": "code",
   "execution_count": 218,
   "metadata": {},
   "outputs": [],
   "source": [
    "def del_all_flags(FLAGS):\n",
    "    flags_dict = FLAGS._flags()    \n",
    "    keys_list = [keys for keys in flags_dict]    \n",
    "    for keys in keys_list:\n",
    "        FLAGS.__delattr__(keys)\n",
    "\n",
    "del_all_flags(tf.flags.FLAGS)"
   ]
  },
  {
   "cell_type": "markdown",
   "metadata": {},
   "source": [
    "# cli.py"
   ]
  },
  {
   "cell_type": "code",
   "execution_count": 219,
   "metadata": {},
   "outputs": [],
   "source": [
    "flags = tf.app.flags\n",
    "config = flags.FLAGS\n",
    "\n",
    "flags.DEFINE_string('gpu', '0', 'visible gpu')\n",
    "\n",
    "flags.DEFINE_string('mode', 'train', 'set train or eval')\n",
    "\n",
    "flags.DEFINE_string('datadir', 'data', 'datadir')\n",
    "flags.DEFINE_string('dataname', 'sports.pkl', 'dataname')\n",
    "flags.DEFINE_string('modeldir', 'model', 'modeldir')\n",
    "flags.DEFINE_string('modelname', 'sports', 'modelname')\n",
    "\n",
    "flags.DEFINE_bool('discourserank', True, 'discourserank')\n",
    "flags.DEFINE_float('damp', 0.9, 'damping factor of discourserank')\n",
    "\n",
    "flags.DEFINE_integer('epochs', 1000, 'epochs')\n",
    "flags.DEFINE_integer('batch_size', 8, 'batch_size')\n",
    "flags.DEFINE_integer('log_period', 500, 'log_period')\n",
    "\n",
    "flags.DEFINE_string('opt', 'Adagrad', 'optimizer')\n",
    "flags.DEFINE_float('lr', 0.1, 'lr')\n",
    "flags.DEFINE_float('norm', 1e-4, 'norm')\n",
    "flags.DEFINE_float('grad_clip', 10.0, 'grad_clip')\n",
    "flags.DEFINE_float('keep_prob', 0.95, 'keep_prob')\n",
    "flags.DEFINE_integer('beam_width', 10, 'beam_width')\n",
    "flags.DEFINE_float('length_penalty_weight', 0.0, 'length_penalty_weight')\n",
    "\n",
    "flags.DEFINE_integer('dim_hidden', 256, 'dim_output')\n",
    "flags.DEFINE_integer('dim_str', 128, 'dim_output')\n",
    "flags.DEFINE_integer('dim_sent', 384, 'dim_sent')\n",
    "\n",
    "# for evaluation\n",
    "flags.DEFINE_string('refdir', 'ref', 'refdir')\n",
    "flags.DEFINE_string('outdir', 'out', 'outdir')\n",
    "\n",
    "\n",
    "flags.DEFINE_string('f', '', 'kernel')\n",
    "flags.DEFINE_string('__flags', '', 'kernel')"
   ]
  },
  {
   "cell_type": "code",
   "execution_count": 220,
   "metadata": {},
   "outputs": [],
   "source": [
    "os.environ['CUDA_VISIBLE_DEVICES'] = config.gpu"
   ]
  },
  {
   "cell_type": "code",
   "execution_count": null,
   "metadata": {},
   "outputs": [],
   "source": [
    "# num_examples,  train_batches, dev_batches, test_batches, embedding_matrix, vocab, word_to_id  = load_data(config)"
   ]
  },
  {
   "cell_type": "code",
   "execution_count": null,
   "metadata": {},
   "outputs": [],
   "source": [
    "n_embed, d_embed = embedding_matrix.shape\n",
    "flags.DEFINE_integer('n_embed', n_embed, 'n_embed')\n",
    "flags.DEFINE_integer('d_embed', d_embed, 'd_embed')\n",
    "\n",
    "maximum_iterations = max([max([d._max_sent_len(None) for d in batch]) for ct, batch in dev_batches])\n",
    "flags.DEFINE_integer('maximum_iterations', maximum_iterations, 'maximum_iterations')\n",
    "flags.DEFINE_integer('PAD_IDX', word_to_id[PAD], 'PAD_IDX')\n",
    "flags.DEFINE_integer('UNK_IDX', word_to_id[UNK], 'UNK_IDX')\n",
    "flags.DEFINE_integer('BOS_IDX', word_to_id[BOS], 'BOS_IDX')\n",
    "flags.DEFINE_integer('EOS_IDX', word_to_id[EOS], 'EOS_IDX')"
   ]
  },
  {
   "cell_type": "markdown",
   "metadata": {},
   "source": [
    "# train.py "
   ]
  },
  {
   "cell_type": "code",
   "execution_count": 221,
   "metadata": {},
   "outputs": [],
   "source": [
    "PAD = '<pad>' # This has a vocab id, which is used to pad the encoder input, decoder input and target sequence\n",
    "UNK = '<unk>' # This has a vocab id, which is used to represent out-of-vocabulary words\n",
    "BOS = '<p>' # This has a vocab id, which is used at the beginning of every decoder input sequence\n",
    "EOS = '</p>' # This has a vocab id, which is used at the end of untruncated target sequences"
   ]
  },
  {
   "cell_type": "code",
   "execution_count": 133,
   "metadata": {},
   "outputs": [],
   "source": [
    "%autoreload\n",
    "\n",
    "from model import StrSumModel\n",
    "\n",
    "model = StrSumModel(config)\n",
    "model.build()"
   ]
  },
  {
   "cell_type": "code",
   "execution_count": 134,
   "metadata": {},
   "outputs": [
    {
     "data": {
      "text/plain": [
       "array([[ 0.    ,  0.    ,  0.    , ...,  0.    ,  0.    ,  0.    ],\n",
       "       [ 0.    ,  0.    ,  0.    , ...,  0.    ,  0.    ,  0.    ],\n",
       "       [-0.201 ,  0.3212, -0.027 , ...,  0.1667, -0.0982, -0.0186],\n",
       "       ...,\n",
       "       [ 0.1341,  0.2113,  0.0598, ..., -0.357 , -0.3354,  0.0216],\n",
       "       [-0.1398,  0.2545,  0.0747, ..., -0.1979,  0.4504, -0.2602],\n",
       "       [-0.0969,  0.5253,  0.3182, ...,  0.1625,  0.0848, -0.0248]],\n",
       "      dtype=float32)"
      ]
     },
     "execution_count": 134,
     "metadata": {},
     "output_type": "execute_result"
    }
   ],
   "source": [
    "if 'sess' in globals(): sess.close()\n",
    "sess = tf.Session()\n",
    "gvi = tf.global_variables_initializer()\n",
    "sess.run(gvi)\n",
    "sess.run(model.embeddings.assign(embedding_matrix.astype(np.float32)))"
   ]
  },
  {
   "cell_type": "code",
   "execution_count": 235,
   "metadata": {},
   "outputs": [],
   "source": [
    "def get_txt_from_idx(idxs, model, vocab):\n",
    "    return [' '.join([vocab[idx] for idx in idxs if (idx != model.config.EOS_IDX and idx != model.config.PAD_IDX)])]\n",
    "\n",
    "def get_txt_from_tokens(tokens):\n",
    "    return [' '.join([token for token in l]) for l in tokens]\n",
    "\n",
    "def get_rouge(o_tokens, r_tokens, mode):\n",
    "    if o_tokens == '': return (0.0, 0.0, 0.0)\n",
    "    rouge = rouge_l_sentence_level(o_tokens, r_tokens) if mode == 'l' else rouge_n(o_tokens, r_tokens, mode)\n",
    "    return rouge[0]\n",
    "\n",
    "def get_rouges(sess, model, batch, vocab, modes=[1, 2, 'l']):\n",
    "    feed_dict = model.get_feed_dict(batch, mode='test')\n",
    "    _output_token_idxs = sess.run(model.beam_output_token_idxs, feed_dict = feed_dict)\n",
    "    rouges = []\n",
    "    for r_d, o_d in zip(batch, _output_token_idxs):\n",
    "        o_idxs = o_d[0] if len(o_d.shape) == 2 else o_d\n",
    "        o_tokens = get_txt_from_idx(o_idxs, model, vocab)\n",
    "        r_tokens = get_txt_from_tokens([r_d.summary_tokens])\n",
    "        \n",
    "        rouge_batch = tuple([get_rouge(o_tokens, r_tokens, mode) for mode in modes])\n",
    "        rouges.append(rouge_batch)\n",
    "    return rouges"
   ]
  },
  {
   "cell_type": "code",
   "execution_count": 158,
   "metadata": {},
   "outputs": [],
   "source": [
    "def evaluate(sess, batches, model, vocab):\n",
    "    losses, rouges = [], []\n",
    "    for ct, batch in batches:\n",
    "        feed_dict = model.get_feed_dict(batch, mode='test')\n",
    "        loss_batch = sess.run(model.loss, feed_dict = feed_dict)\n",
    "        rouge_batch = get_rouges(sess, model, batch, vocab)\n",
    "        losses += [loss_batch]\n",
    "        rouges += rouge_batch\n",
    "        \n",
    "    loss_mean = np.mean(losses)\n",
    "    rouge_mean = tuple(np.mean(rouges, 0))\n",
    "    return loss_mean, rouge_mean"
   ]
  },
  {
   "cell_type": "code",
   "execution_count": 169,
   "metadata": {
    "scrolled": false
   },
   "outputs": [
    {
     "name": "stdout",
     "output_type": "stream",
     "text": [
      "Step: 500 | LOSS TRAIN: 6.832, DEV: 6.638, TEST: 6.657  | DEV ROUGE-1: 0.034, -2: 0.000, -L: 0.003 | TEST ROUGE: -1: 0.043, -2: 0.000, -L: 0.003\n",
      "Step: 1000 | LOSS TRAIN: 6.442, DEV: 6.203, TEST: 6.657  | DEV ROUGE-1: 0.025, -2: 0.000, -L: 0.006 | TEST ROUGE: -1: 0.043, -2: 0.000, -L: 0.003\n",
      "Step: 1500 | LOSS TRAIN: 6.150, DEV: 6.019, TEST: 6.046  | DEV ROUGE-1: 0.047, -2: 0.000, -L: 0.034 | TEST ROUGE: -1: 0.054, -2: 0.002, -L: 0.039\n",
      "Step: 2000 | LOSS TRAIN: 5.990, DEV: 5.904, TEST: 5.932  | DEV ROUGE-1: 0.053, -2: 0.001, -L: 0.040 | TEST ROUGE: -1: 0.053, -2: 0.002, -L: 0.038\n",
      "Step: 2500 | LOSS TRAIN: 5.871, DEV: 5.823, TEST: 5.865  | DEV ROUGE-1: 0.057, -2: 0.002, -L: 0.041 | TEST ROUGE: -1: 0.066, -2: 0.004, -L: 0.046\n",
      "Step: 3000 | LOSS TRAIN: 5.811, DEV: 5.750, TEST: 5.796  | DEV ROUGE-1: 0.066, -2: 0.003, -L: 0.048 | TEST ROUGE: -1: 0.063, -2: 0.003, -L: 0.045\n",
      "Step: 3500 | LOSS TRAIN: 5.750, DEV: 5.695, TEST: 5.737  | DEV ROUGE-1: 0.064, -2: 0.005, -L: 0.047 | TEST ROUGE: -1: 0.068, -2: 0.007, -L: 0.050\n",
      "Step: 4000 | LOSS TRAIN: 5.701, DEV: 5.681, TEST: 5.737  | DEV ROUGE-1: 0.054, -2: 0.002, -L: 0.043 | TEST ROUGE: -1: 0.068, -2: 0.007, -L: 0.050\n",
      "Step: 4500 | LOSS TRAIN: 5.650, DEV: 5.603, TEST: 5.737  | DEV ROUGE-1: 0.057, -2: 0.002, -L: 0.042 | TEST ROUGE: -1: 0.068, -2: 0.007, -L: 0.050\n",
      "Step: 5000 | LOSS TRAIN: 5.615, DEV: 5.569, TEST: 5.737  | DEV ROUGE-1: 0.066, -2: 0.003, -L: 0.046 | TEST ROUGE: -1: 0.068, -2: 0.007, -L: 0.050\n",
      "Step: 5500 | LOSS TRAIN: 5.585, DEV: 5.523, TEST: 5.737  | DEV ROUGE-1: 0.063, -2: 0.004, -L: 0.045 | TEST ROUGE: -1: 0.068, -2: 0.007, -L: 0.050\n",
      "Step: 6000 | LOSS TRAIN: 5.565, DEV: 5.502, TEST: 5.557  | DEV ROUGE-1: 0.073, -2: 0.005, -L: 0.050 | TEST ROUGE: -1: 0.073, -2: 0.004, -L: 0.051\n",
      "Step: 6500 | LOSS TRAIN: 5.525, DEV: 5.494, TEST: 5.557  | DEV ROUGE-1: 0.069, -2: 0.003, -L: 0.053 | TEST ROUGE: -1: 0.073, -2: 0.004, -L: 0.051\n",
      "Step: 7000 | LOSS TRAIN: 5.494, DEV: 5.454, TEST: 5.511  | DEV ROUGE-1: 0.077, -2: 0.006, -L: 0.056 | TEST ROUGE: -1: 0.075, -2: 0.004, -L: 0.055\n",
      "Step: 7500 | LOSS TRAIN: 5.479, DEV: 5.432, TEST: 5.511  | DEV ROUGE-1: 0.048, -2: 0.002, -L: 0.032 | TEST ROUGE: -1: 0.075, -2: 0.004, -L: 0.055\n",
      "Step: 8000 | LOSS TRAIN: 5.459, DEV: 5.422, TEST: 5.511  | DEV ROUGE-1: 0.074, -2: 0.004, -L: 0.053 | TEST ROUGE: -1: 0.075, -2: 0.004, -L: 0.055\n",
      "Step: 8500 | LOSS TRAIN: 5.435, DEV: 5.400, TEST: 5.511  | DEV ROUGE-1: 0.052, -2: 0.004, -L: 0.036 | TEST ROUGE: -1: 0.075, -2: 0.004, -L: 0.055\n",
      "Step: 9000 | LOSS TRAIN: 5.406, DEV: 5.366, TEST: 5.511  | DEV ROUGE-1: 0.049, -2: 0.002, -L: 0.032 | TEST ROUGE: -1: 0.075, -2: 0.004, -L: 0.055\n",
      "Step: 9500 | LOSS TRAIN: 5.403, DEV: 5.352, TEST: 5.511  | DEV ROUGE-1: 0.039, -2: 0.003, -L: 0.027 | TEST ROUGE: -1: 0.075, -2: 0.004, -L: 0.055\n",
      "Step: 10000 | LOSS TRAIN: 5.380, DEV: 5.339, TEST: 5.511  | DEV ROUGE-1: 0.053, -2: 0.005, -L: 0.037 | TEST ROUGE: -1: 0.075, -2: 0.004, -L: 0.055\n",
      "Step: 10500 | LOSS TRAIN: 5.371, DEV: 5.318, TEST: 5.511  | DEV ROUGE-1: 0.046, -2: 0.004, -L: 0.032 | TEST ROUGE: -1: 0.075, -2: 0.004, -L: 0.055\n",
      "Step: 11000 | LOSS TRAIN: 5.361, DEV: 5.299, TEST: 5.511  | DEV ROUGE-1: 0.056, -2: 0.004, -L: 0.040 | TEST ROUGE: -1: 0.075, -2: 0.004, -L: 0.055\n",
      "Step: 11500 | LOSS TRAIN: 5.334, DEV: 5.307, TEST: 5.366  | DEV ROUGE-1: 0.058, -2: 0.009, -L: 0.043 | TEST ROUGE: -1: 0.065, -2: 0.008, -L: 0.050\n",
      "Step: 12000 | LOSS TRAIN: 5.314, DEV: 5.270, TEST: 5.337  | DEV ROUGE-1: 0.075, -2: 0.009, -L: 0.055 | TEST ROUGE: -1: 0.075, -2: 0.006, -L: 0.053\n",
      "Step: 12500 | LOSS TRAIN: 5.315, DEV: 5.263, TEST: 5.337  | DEV ROUGE-1: 0.062, -2: 0.007, -L: 0.043 | TEST ROUGE: -1: 0.075, -2: 0.006, -L: 0.053\n",
      "Step: 13000 | LOSS TRAIN: 5.294, DEV: 5.257, TEST: 5.337  | DEV ROUGE-1: 0.053, -2: 0.007, -L: 0.039 | TEST ROUGE: -1: 0.075, -2: 0.006, -L: 0.053\n",
      "Step: 13500 | LOSS TRAIN: 5.276, DEV: 5.241, TEST: 5.337  | DEV ROUGE-1: 0.057, -2: 0.005, -L: 0.038 | TEST ROUGE: -1: 0.075, -2: 0.006, -L: 0.053\n",
      "Step: 14000 | LOSS TRAIN: 5.274, DEV: 5.245, TEST: 5.337  | DEV ROUGE-1: 0.067, -2: 0.007, -L: 0.051 | TEST ROUGE: -1: 0.075, -2: 0.006, -L: 0.053\n",
      "Step: 14500 | LOSS TRAIN: 5.256, DEV: 5.226, TEST: 5.337  | DEV ROUGE-1: 0.050, -2: 0.005, -L: 0.036 | TEST ROUGE: -1: 0.075, -2: 0.006, -L: 0.053\n",
      "Step: 15000 | LOSS TRAIN: 5.253, DEV: 5.201, TEST: 5.337  | DEV ROUGE-1: 0.055, -2: 0.007, -L: 0.039 | TEST ROUGE: -1: 0.075, -2: 0.006, -L: 0.053\n",
      "Step: 15500 | LOSS TRAIN: 5.250, DEV: 5.189, TEST: 5.337  | DEV ROUGE-1: 0.060, -2: 0.009, -L: 0.045 | TEST ROUGE: -1: 0.075, -2: 0.006, -L: 0.053\n",
      "Step: 16000 | LOSS TRAIN: 5.236, DEV: 5.197, TEST: 5.337  | DEV ROUGE-1: 0.056, -2: 0.008, -L: 0.041 | TEST ROUGE: -1: 0.075, -2: 0.006, -L: 0.053\n",
      "Step: 16500 | LOSS TRAIN: 5.207, DEV: 5.177, TEST: 5.337  | DEV ROUGE-1: 0.068, -2: 0.009, -L: 0.051 | TEST ROUGE: -1: 0.075, -2: 0.006, -L: 0.053\n",
      "Step: 17000 | LOSS TRAIN: 5.216, DEV: 5.168, TEST: 5.337  | DEV ROUGE-1: 0.058, -2: 0.008, -L: 0.043 | TEST ROUGE: -1: 0.075, -2: 0.006, -L: 0.053\n",
      "Step: 17500 | LOSS TRAIN: 5.198, DEV: 5.156, TEST: 5.221  | DEV ROUGE-1: 0.066, -2: 0.012, -L: 0.049 | TEST ROUGE: -1: 0.076, -2: 0.008, -L: 0.059\n",
      "Step: 18000 | LOSS TRAIN: 5.195, DEV: 5.154, TEST: 5.221  | DEV ROUGE-1: 0.062, -2: 0.010, -L: 0.048 | TEST ROUGE: -1: 0.076, -2: 0.008, -L: 0.059\n",
      "Step: 18500 | LOSS TRAIN: 5.169, DEV: 5.139, TEST: 5.221  | DEV ROUGE-1: 0.072, -2: 0.007, -L: 0.055 | TEST ROUGE: -1: 0.076, -2: 0.008, -L: 0.059\n",
      "Step: 19000 | LOSS TRAIN: 5.184, DEV: 5.145, TEST: 5.221  | DEV ROUGE-1: 0.067, -2: 0.008, -L: 0.052 | TEST ROUGE: -1: 0.076, -2: 0.008, -L: 0.059\n",
      "Step: 19500 | LOSS TRAIN: 5.164, DEV: 5.114, TEST: 5.221  | DEV ROUGE-1: 0.072, -2: 0.007, -L: 0.055 | TEST ROUGE: -1: 0.076, -2: 0.008, -L: 0.059\n",
      "Step: 20000 | LOSS TRAIN: 5.172, DEV: 5.119, TEST: 5.221  | DEV ROUGE-1: 0.054, -2: 0.008, -L: 0.039 | TEST ROUGE: -1: 0.076, -2: 0.008, -L: 0.059\n",
      "Step: 20500 | LOSS TRAIN: 5.154, DEV: 5.111, TEST: 5.221  | DEV ROUGE-1: 0.069, -2: 0.006, -L: 0.051 | TEST ROUGE: -1: 0.076, -2: 0.008, -L: 0.059\n",
      "Step: 21000 | LOSS TRAIN: 5.146, DEV: 5.103, TEST: 5.221  | DEV ROUGE-1: 0.071, -2: 0.007, -L: 0.056 | TEST ROUGE: -1: 0.076, -2: 0.008, -L: 0.059\n",
      "Step: 21500 | LOSS TRAIN: 5.131, DEV: 5.088, TEST: 5.221  | DEV ROUGE-1: 0.068, -2: 0.006, -L: 0.052 | TEST ROUGE: -1: 0.076, -2: 0.008, -L: 0.059\n",
      "Step: 22000 | LOSS TRAIN: 5.138, DEV: 5.087, TEST: 5.221  | DEV ROUGE-1: 0.062, -2: 0.009, -L: 0.046 | TEST ROUGE: -1: 0.076, -2: 0.008, -L: 0.059\n",
      "Step: 22500 | LOSS TRAIN: 5.124, DEV: 5.080, TEST: 5.221  | DEV ROUGE-1: 0.065, -2: 0.008, -L: 0.048 | TEST ROUGE: -1: 0.076, -2: 0.008, -L: 0.059\n",
      "Step: 23000 | LOSS TRAIN: 5.107, DEV: 5.081, TEST: 5.221  | DEV ROUGE-1: 0.069, -2: 0.008, -L: 0.054 | TEST ROUGE: -1: 0.076, -2: 0.008, -L: 0.059\n",
      "Step: 23500 | LOSS TRAIN: 5.117, DEV: 5.066, TEST: 5.221  | DEV ROUGE-1: 0.064, -2: 0.008, -L: 0.050 | TEST ROUGE: -1: 0.076, -2: 0.008, -L: 0.059\n",
      "Step: 24000 | LOSS TRAIN: 5.096, DEV: 5.057, TEST: 5.221  | DEV ROUGE-1: 0.072, -2: 0.010, -L: 0.057 | TEST ROUGE: -1: 0.076, -2: 0.008, -L: 0.059\n",
      "Step: 24500 | LOSS TRAIN: 5.108, DEV: 5.049, TEST: 5.221  | DEV ROUGE-1: 0.068, -2: 0.010, -L: 0.052 | TEST ROUGE: -1: 0.076, -2: 0.008, -L: 0.059\n",
      "Step: 25000 | LOSS TRAIN: 5.100, DEV: 5.050, TEST: 5.221  | DEV ROUGE-1: 0.049, -2: 0.004, -L: 0.035 | TEST ROUGE: -1: 0.076, -2: 0.008, -L: 0.059\n",
      "Step: 25500 | LOSS TRAIN: 5.094, DEV: 5.042, TEST: 5.221  | DEV ROUGE-1: 0.060, -2: 0.007, -L: 0.046 | TEST ROUGE: -1: 0.076, -2: 0.008, -L: 0.059\n",
      "Step: 26000 | LOSS TRAIN: 5.068, DEV: 5.041, TEST: 5.221  | DEV ROUGE-1: 0.058, -2: 0.008, -L: 0.042 | TEST ROUGE: -1: 0.076, -2: 0.008, -L: 0.059\n",
      "Step: 26500 | LOSS TRAIN: 5.083, DEV: 5.036, TEST: 5.221  | DEV ROUGE-1: 0.061, -2: 0.009, -L: 0.046 | TEST ROUGE: -1: 0.076, -2: 0.008, -L: 0.059\n",
      "Step: 27000 | LOSS TRAIN: 5.069, DEV: 5.036, TEST: 5.221  | DEV ROUGE-1: 0.069, -2: 0.010, -L: 0.054 | TEST ROUGE: -1: 0.076, -2: 0.008, -L: 0.059\n",
      "Step: 27500 | LOSS TRAIN: 5.065, DEV: 5.020, TEST: 5.221  | DEV ROUGE-1: 0.071, -2: 0.010, -L: 0.054 | TEST ROUGE: -1: 0.076, -2: 0.008, -L: 0.059\n",
      "Step: 28000 | LOSS TRAIN: 5.056, DEV: 5.027, TEST: 5.221  | DEV ROUGE-1: 0.063, -2: 0.006, -L: 0.050 | TEST ROUGE: -1: 0.076, -2: 0.008, -L: 0.059\n",
      "Step: 28500 | LOSS TRAIN: 5.053, DEV: 5.013, TEST: 5.221  | DEV ROUGE-1: 0.061, -2: 0.007, -L: 0.046 | TEST ROUGE: -1: 0.076, -2: 0.008, -L: 0.059\n",
      "Step: 29000 | LOSS TRAIN: 5.050, DEV: 5.010, TEST: 5.221  | DEV ROUGE-1: 0.067, -2: 0.008, -L: 0.052 | TEST ROUGE: -1: 0.076, -2: 0.008, -L: 0.059\n",
      "Step: 29500 | LOSS TRAIN: 5.059, DEV: 5.000, TEST: 5.221  | DEV ROUGE-1: 0.059, -2: 0.007, -L: 0.043 | TEST ROUGE: -1: 0.076, -2: 0.008, -L: 0.059\n",
      "Step: 30000 | LOSS TRAIN: 5.043, DEV: 5.009, TEST: 5.221  | DEV ROUGE-1: 0.077, -2: 0.009, -L: 0.058 | TEST ROUGE: -1: 0.076, -2: 0.008, -L: 0.059\n",
      "Step: 30500 | LOSS TRAIN: 5.026, DEV: 5.004, TEST: 5.221  | DEV ROUGE-1: 0.066, -2: 0.006, -L: 0.049 | TEST ROUGE: -1: 0.076, -2: 0.008, -L: 0.059\n",
      "Step: 31000 | LOSS TRAIN: 5.036, DEV: 4.992, TEST: 5.221  | DEV ROUGE-1: 0.058, -2: 0.005, -L: 0.042 | TEST ROUGE: -1: 0.076, -2: 0.008, -L: 0.059\n",
      "Step: 31500 | LOSS TRAIN: 5.031, DEV: 4.987, TEST: 5.067  | DEV ROUGE-1: 0.077, -2: 0.012, -L: 0.059 | TEST ROUGE: -1: 0.090, -2: 0.009, -L: 0.070\n",
      "Step: 32000 | LOSS TRAIN: 5.025, DEV: 4.983, TEST: 5.067  | DEV ROUGE-1: 0.065, -2: 0.007, -L: 0.047 | TEST ROUGE: -1: 0.090, -2: 0.009, -L: 0.070\n",
      "Step: 32500 | LOSS TRAIN: 5.008, DEV: 4.974, TEST: 5.067  | DEV ROUGE-1: 0.071, -2: 0.011, -L: 0.052 | TEST ROUGE: -1: 0.090, -2: 0.009, -L: 0.070\n",
      "Step: 33000 | LOSS TRAIN: 5.019, DEV: 4.969, TEST: 5.067  | DEV ROUGE-1: 0.060, -2: 0.006, -L: 0.045 | TEST ROUGE: -1: 0.090, -2: 0.009, -L: 0.070\n",
      "Step: 33500 | LOSS TRAIN: 5.009, DEV: 4.965, TEST: 5.067  | DEV ROUGE-1: 0.068, -2: 0.009, -L: 0.051 | TEST ROUGE: -1: 0.090, -2: 0.009, -L: 0.070\n",
      "Step: 34000 | LOSS TRAIN: 5.012, DEV: 4.975, TEST: 5.067  | DEV ROUGE-1: 0.060, -2: 0.008, -L: 0.047 | TEST ROUGE: -1: 0.090, -2: 0.009, -L: 0.070\n",
      "Step: 34500 | LOSS TRAIN: 5.015, DEV: 4.959, TEST: 5.067  | DEV ROUGE-1: 0.065, -2: 0.007, -L: 0.049 | TEST ROUGE: -1: 0.090, -2: 0.009, -L: 0.070\n",
      "Step: 35000 | LOSS TRAIN: 4.996, DEV: 4.962, TEST: 5.067  | DEV ROUGE-1: 0.066, -2: 0.009, -L: 0.050 | TEST ROUGE: -1: 0.090, -2: 0.009, -L: 0.070\n",
      "Step: 35500 | LOSS TRAIN: 4.985, DEV: 4.950, TEST: 5.067  | DEV ROUGE-1: 0.069, -2: 0.007, -L: 0.052 | TEST ROUGE: -1: 0.090, -2: 0.009, -L: 0.070\n",
      "Step: 36000 | LOSS TRAIN: 4.998, DEV: 4.949, TEST: 5.067  | DEV ROUGE-1: 0.059, -2: 0.005, -L: 0.044 | TEST ROUGE: -1: 0.090, -2: 0.009, -L: 0.070\n",
      "Step: 36500 | LOSS TRAIN: 4.983, DEV: 4.943, TEST: 5.067  | DEV ROUGE-1: 0.072, -2: 0.011, -L: 0.055 | TEST ROUGE: -1: 0.090, -2: 0.009, -L: 0.070\n",
      "Step: 37000 | LOSS TRAIN: 4.971, DEV: 4.933, TEST: 5.021  | DEV ROUGE-1: 0.085, -2: 0.011, -L: 0.061 | TEST ROUGE: -1: 0.094, -2: 0.013, -L: 0.072\n",
      "Step: 37500 | LOSS TRAIN: 4.978, DEV: 4.936, TEST: 5.021  | DEV ROUGE-1: 0.074, -2: 0.010, -L: 0.056 | TEST ROUGE: -1: 0.094, -2: 0.013, -L: 0.072\n",
      "Step: 38000 | LOSS TRAIN: 4.967, DEV: 4.931, TEST: 5.021  | DEV ROUGE-1: 0.074, -2: 0.010, -L: 0.056 | TEST ROUGE: -1: 0.094, -2: 0.013, -L: 0.072\n",
      "Step: 38500 | LOSS TRAIN: 4.969, DEV: 4.925, TEST: 5.021  | DEV ROUGE-1: 0.066, -2: 0.007, -L: 0.052 | TEST ROUGE: -1: 0.094, -2: 0.013, -L: 0.072\n",
      "Step: 39000 | LOSS TRAIN: 4.976, DEV: 4.927, TEST: 5.021  | DEV ROUGE-1: 0.071, -2: 0.008, -L: 0.054 | TEST ROUGE: -1: 0.094, -2: 0.013, -L: 0.072\n",
      "Step: 39500 | LOSS TRAIN: 4.967, DEV: 4.924, TEST: 5.021  | DEV ROUGE-1: 0.070, -2: 0.008, -L: 0.053 | TEST ROUGE: -1: 0.094, -2: 0.013, -L: 0.072\n",
      "Step: 40000 | LOSS TRAIN: 4.942, DEV: 4.929, TEST: 5.014  | DEV ROUGE-1: 0.083, -2: 0.012, -L: 0.065 | TEST ROUGE: -1: 0.104, -2: 0.015, -L: 0.081\n",
      "Step: 40500 | LOSS TRAIN: 4.960, DEV: 4.941, TEST: 5.014  | DEV ROUGE-1: 0.076, -2: 0.009, -L: 0.059 | TEST ROUGE: -1: 0.104, -2: 0.015, -L: 0.081\n",
      "Step: 41000 | LOSS TRAIN: 4.948, DEV: 4.913, TEST: 5.014  | DEV ROUGE-1: 0.075, -2: 0.011, -L: 0.056 | TEST ROUGE: -1: 0.104, -2: 0.015, -L: 0.081\n",
      "Step: 41500 | LOSS TRAIN: 4.946, DEV: 4.904, TEST: 5.014  | DEV ROUGE-1: 0.076, -2: 0.009, -L: 0.061 | TEST ROUGE: -1: 0.104, -2: 0.015, -L: 0.081\n",
      "Step: 42000 | LOSS TRAIN: 4.929, DEV: 4.905, TEST: 5.014  | DEV ROUGE-1: 0.074, -2: 0.007, -L: 0.057 | TEST ROUGE: -1: 0.104, -2: 0.015, -L: 0.081\n",
      "Step: 42500 | LOSS TRAIN: 4.948, DEV: 4.904, TEST: 5.014  | DEV ROUGE-1: 0.071, -2: 0.011, -L: 0.055 | TEST ROUGE: -1: 0.104, -2: 0.015, -L: 0.081\n",
      "Step: 43000 | LOSS TRAIN: 4.933, DEV: 4.900, TEST: 5.014  | DEV ROUGE-1: 0.077, -2: 0.008, -L: 0.058 | TEST ROUGE: -1: 0.104, -2: 0.015, -L: 0.081\n",
      "Step: 43500 | LOSS TRAIN: 4.945, DEV: 4.895, TEST: 4.979  | DEV ROUGE-1: 0.084, -2: 0.012, -L: 0.062 | TEST ROUGE: -1: 0.099, -2: 0.015, -L: 0.077\n"
     ]
    },
    {
     "ename": "KeyboardInterrupt",
     "evalue": "",
     "output_type": "error",
     "traceback": [
      "\u001b[0;31m---------------------------------------------------------------------------\u001b[0m",
      "\u001b[0;31mKeyboardInterrupt\u001b[0m                         Traceback (most recent call last)",
      "\u001b[0;32m<ipython-input-169-0ecbc85fd908>\u001b[0m in \u001b[0;36m<module>\u001b[0;34m()\u001b[0m\n\u001b[1;32m     19\u001b[0m     \u001b[0;32mif\u001b[0m \u001b[0mct\u001b[0m\u001b[0;34m%\u001b[0m\u001b[0mconfig\u001b[0m\u001b[0;34m.\u001b[0m\u001b[0mlog_period\u001b[0m\u001b[0;34m==\u001b[0m\u001b[0;36m0\u001b[0m\u001b[0;34m:\u001b[0m\u001b[0;34m\u001b[0m\u001b[0m\n\u001b[1;32m     20\u001b[0m         \u001b[0mloss_train\u001b[0m \u001b[0;34m=\u001b[0m \u001b[0mnp\u001b[0m\u001b[0;34m.\u001b[0m\u001b[0mmean\u001b[0m\u001b[0;34m(\u001b[0m\u001b[0mlosses_train\u001b[0m\u001b[0;34m)\u001b[0m\u001b[0;34m\u001b[0m\u001b[0m\n\u001b[0;32m---> 21\u001b[0;31m         \u001b[0mloss_dev\u001b[0m\u001b[0;34m,\u001b[0m \u001b[0mrouge_dev\u001b[0m \u001b[0;34m=\u001b[0m \u001b[0mevaluate\u001b[0m\u001b[0;34m(\u001b[0m\u001b[0msess\u001b[0m\u001b[0;34m,\u001b[0m \u001b[0mdev_batches\u001b[0m\u001b[0;34m,\u001b[0m \u001b[0mmodel\u001b[0m\u001b[0;34m,\u001b[0m \u001b[0mvocab\u001b[0m\u001b[0;34m)\u001b[0m\u001b[0;34m\u001b[0m\u001b[0m\n\u001b[0m\u001b[1;32m     22\u001b[0m \u001b[0;34m\u001b[0m\u001b[0m\n\u001b[1;32m     23\u001b[0m         \u001b[0;32mif\u001b[0m \u001b[0mlen\u001b[0m\u001b[0;34m(\u001b[0m\u001b[0mrouge_log\u001b[0m\u001b[0;34m)\u001b[0m \u001b[0;34m==\u001b[0m \u001b[0;36m0\u001b[0m\u001b[0;34m:\u001b[0m\u001b[0;34m\u001b[0m\u001b[0m\n",
      "\u001b[0;32m<ipython-input-158-cd88b87df1b3>\u001b[0m in \u001b[0;36mevaluate\u001b[0;34m(sess, batches, model, vocab)\u001b[0m\n\u001b[1;32m      4\u001b[0m         \u001b[0mfeed_dict\u001b[0m \u001b[0;34m=\u001b[0m \u001b[0mmodel\u001b[0m\u001b[0;34m.\u001b[0m\u001b[0mget_feed_dict\u001b[0m\u001b[0;34m(\u001b[0m\u001b[0mbatch\u001b[0m\u001b[0;34m,\u001b[0m \u001b[0mmode\u001b[0m\u001b[0;34m=\u001b[0m\u001b[0;34m'test'\u001b[0m\u001b[0;34m)\u001b[0m\u001b[0;34m\u001b[0m\u001b[0m\n\u001b[1;32m      5\u001b[0m         \u001b[0mloss_batch\u001b[0m \u001b[0;34m=\u001b[0m \u001b[0msess\u001b[0m\u001b[0;34m.\u001b[0m\u001b[0mrun\u001b[0m\u001b[0;34m(\u001b[0m\u001b[0mmodel\u001b[0m\u001b[0;34m.\u001b[0m\u001b[0mloss\u001b[0m\u001b[0;34m,\u001b[0m \u001b[0mfeed_dict\u001b[0m \u001b[0;34m=\u001b[0m \u001b[0mfeed_dict\u001b[0m\u001b[0;34m)\u001b[0m\u001b[0;34m\u001b[0m\u001b[0m\n\u001b[0;32m----> 6\u001b[0;31m         \u001b[0mrouge_batch\u001b[0m \u001b[0;34m=\u001b[0m \u001b[0mget_rouges\u001b[0m\u001b[0;34m(\u001b[0m\u001b[0msess\u001b[0m\u001b[0;34m,\u001b[0m \u001b[0mmodel\u001b[0m\u001b[0;34m,\u001b[0m \u001b[0mbatch\u001b[0m\u001b[0;34m,\u001b[0m \u001b[0mvocab\u001b[0m\u001b[0;34m)\u001b[0m\u001b[0;34m\u001b[0m\u001b[0m\n\u001b[0m\u001b[1;32m      7\u001b[0m         \u001b[0mlosses\u001b[0m \u001b[0;34m+=\u001b[0m \u001b[0;34m[\u001b[0m\u001b[0mloss_batch\u001b[0m\u001b[0;34m]\u001b[0m\u001b[0;34m\u001b[0m\u001b[0m\n\u001b[1;32m      8\u001b[0m         \u001b[0mrouges\u001b[0m \u001b[0;34m+=\u001b[0m \u001b[0mrouge_batch\u001b[0m\u001b[0;34m\u001b[0m\u001b[0m\n",
      "\u001b[0;32m<ipython-input-157-34215868f881>\u001b[0m in \u001b[0;36mget_rouges\u001b[0;34m(sess, model, batch, vocab, modes)\u001b[0m\n\u001b[1;32m      6\u001b[0m \u001b[0;32mdef\u001b[0m \u001b[0mget_rouges\u001b[0m\u001b[0;34m(\u001b[0m\u001b[0msess\u001b[0m\u001b[0;34m,\u001b[0m \u001b[0mmodel\u001b[0m\u001b[0;34m,\u001b[0m \u001b[0mbatch\u001b[0m\u001b[0;34m,\u001b[0m \u001b[0mvocab\u001b[0m\u001b[0;34m,\u001b[0m \u001b[0mmodes\u001b[0m\u001b[0;34m=\u001b[0m\u001b[0;34m[\u001b[0m\u001b[0;36m1\u001b[0m\u001b[0;34m,\u001b[0m \u001b[0;36m2\u001b[0m\u001b[0;34m,\u001b[0m \u001b[0;34m'l'\u001b[0m\u001b[0;34m]\u001b[0m\u001b[0;34m)\u001b[0m\u001b[0;34m:\u001b[0m\u001b[0;34m\u001b[0m\u001b[0m\n\u001b[1;32m      7\u001b[0m     \u001b[0mfeed_dict\u001b[0m \u001b[0;34m=\u001b[0m \u001b[0mmodel\u001b[0m\u001b[0;34m.\u001b[0m\u001b[0mget_feed_dict\u001b[0m\u001b[0;34m(\u001b[0m\u001b[0mbatch\u001b[0m\u001b[0;34m,\u001b[0m \u001b[0mmode\u001b[0m\u001b[0;34m=\u001b[0m\u001b[0;34m'test'\u001b[0m\u001b[0;34m)\u001b[0m\u001b[0;34m\u001b[0m\u001b[0m\n\u001b[0;32m----> 8\u001b[0;31m     \u001b[0m_output_token_idxs\u001b[0m \u001b[0;34m=\u001b[0m \u001b[0msess\u001b[0m\u001b[0;34m.\u001b[0m\u001b[0mrun\u001b[0m\u001b[0;34m(\u001b[0m\u001b[0mmodel\u001b[0m\u001b[0;34m.\u001b[0m\u001b[0mbeam_output_token_idxs\u001b[0m\u001b[0;34m,\u001b[0m \u001b[0mfeed_dict\u001b[0m \u001b[0;34m=\u001b[0m \u001b[0mfeed_dict\u001b[0m\u001b[0;34m)\u001b[0m\u001b[0;34m\u001b[0m\u001b[0m\n\u001b[0m\u001b[1;32m      9\u001b[0m     \u001b[0mrouges\u001b[0m \u001b[0;34m=\u001b[0m \u001b[0;34m[\u001b[0m\u001b[0;34m]\u001b[0m\u001b[0;34m\u001b[0m\u001b[0m\n\u001b[1;32m     10\u001b[0m     \u001b[0;32mfor\u001b[0m \u001b[0mr_d\u001b[0m\u001b[0;34m,\u001b[0m \u001b[0mo_d\u001b[0m \u001b[0;32min\u001b[0m \u001b[0mzip\u001b[0m\u001b[0;34m(\u001b[0m\u001b[0mbatch\u001b[0m\u001b[0;34m,\u001b[0m \u001b[0m_output_token_idxs\u001b[0m\u001b[0;34m)\u001b[0m\u001b[0;34m:\u001b[0m\u001b[0;34m\u001b[0m\u001b[0m\n",
      "\u001b[0;32m/home/m-isonuma/.pyenv/versions/anaconda2-5.3.0/envs/py2/lib/python2.7/site-packages/tensorflow/python/client/session.pyc\u001b[0m in \u001b[0;36mrun\u001b[0;34m(self, fetches, feed_dict, options, run_metadata)\u001b[0m\n\u001b[1;32m    885\u001b[0m     \u001b[0;32mtry\u001b[0m\u001b[0;34m:\u001b[0m\u001b[0;34m\u001b[0m\u001b[0m\n\u001b[1;32m    886\u001b[0m       result = self._run(None, fetches, feed_dict, options_ptr,\n\u001b[0;32m--> 887\u001b[0;31m                          run_metadata_ptr)\n\u001b[0m\u001b[1;32m    888\u001b[0m       \u001b[0;32mif\u001b[0m \u001b[0mrun_metadata\u001b[0m\u001b[0;34m:\u001b[0m\u001b[0;34m\u001b[0m\u001b[0m\n\u001b[1;32m    889\u001b[0m         \u001b[0mproto_data\u001b[0m \u001b[0;34m=\u001b[0m \u001b[0mtf_session\u001b[0m\u001b[0;34m.\u001b[0m\u001b[0mTF_GetBuffer\u001b[0m\u001b[0;34m(\u001b[0m\u001b[0mrun_metadata_ptr\u001b[0m\u001b[0;34m)\u001b[0m\u001b[0;34m\u001b[0m\u001b[0m\n",
      "\u001b[0;32m/home/m-isonuma/.pyenv/versions/anaconda2-5.3.0/envs/py2/lib/python2.7/site-packages/tensorflow/python/client/session.pyc\u001b[0m in \u001b[0;36m_run\u001b[0;34m(self, handle, fetches, feed_dict, options, run_metadata)\u001b[0m\n\u001b[1;32m   1108\u001b[0m     \u001b[0;32mif\u001b[0m \u001b[0mfinal_fetches\u001b[0m \u001b[0;32mor\u001b[0m \u001b[0mfinal_targets\u001b[0m \u001b[0;32mor\u001b[0m \u001b[0;34m(\u001b[0m\u001b[0mhandle\u001b[0m \u001b[0;32mand\u001b[0m \u001b[0mfeed_dict_tensor\u001b[0m\u001b[0;34m)\u001b[0m\u001b[0;34m:\u001b[0m\u001b[0;34m\u001b[0m\u001b[0m\n\u001b[1;32m   1109\u001b[0m       results = self._do_run(handle, final_targets, final_fetches,\n\u001b[0;32m-> 1110\u001b[0;31m                              feed_dict_tensor, options, run_metadata)\n\u001b[0m\u001b[1;32m   1111\u001b[0m     \u001b[0;32melse\u001b[0m\u001b[0;34m:\u001b[0m\u001b[0;34m\u001b[0m\u001b[0m\n\u001b[1;32m   1112\u001b[0m       \u001b[0mresults\u001b[0m \u001b[0;34m=\u001b[0m \u001b[0;34m[\u001b[0m\u001b[0;34m]\u001b[0m\u001b[0;34m\u001b[0m\u001b[0m\n",
      "\u001b[0;32m/home/m-isonuma/.pyenv/versions/anaconda2-5.3.0/envs/py2/lib/python2.7/site-packages/tensorflow/python/client/session.pyc\u001b[0m in \u001b[0;36m_do_run\u001b[0;34m(self, handle, target_list, fetch_list, feed_dict, options, run_metadata)\u001b[0m\n\u001b[1;32m   1284\u001b[0m     \u001b[0;32mif\u001b[0m \u001b[0mhandle\u001b[0m \u001b[0;32mis\u001b[0m \u001b[0mNone\u001b[0m\u001b[0;34m:\u001b[0m\u001b[0;34m\u001b[0m\u001b[0m\n\u001b[1;32m   1285\u001b[0m       return self._do_call(_run_fn, feeds, fetches, targets, options,\n\u001b[0;32m-> 1286\u001b[0;31m                            run_metadata)\n\u001b[0m\u001b[1;32m   1287\u001b[0m     \u001b[0;32melse\u001b[0m\u001b[0;34m:\u001b[0m\u001b[0;34m\u001b[0m\u001b[0m\n\u001b[1;32m   1288\u001b[0m       \u001b[0;32mreturn\u001b[0m \u001b[0mself\u001b[0m\u001b[0;34m.\u001b[0m\u001b[0m_do_call\u001b[0m\u001b[0;34m(\u001b[0m\u001b[0m_prun_fn\u001b[0m\u001b[0;34m,\u001b[0m \u001b[0mhandle\u001b[0m\u001b[0;34m,\u001b[0m \u001b[0mfeeds\u001b[0m\u001b[0;34m,\u001b[0m \u001b[0mfetches\u001b[0m\u001b[0;34m)\u001b[0m\u001b[0;34m\u001b[0m\u001b[0m\n",
      "\u001b[0;32m/home/m-isonuma/.pyenv/versions/anaconda2-5.3.0/envs/py2/lib/python2.7/site-packages/tensorflow/python/client/session.pyc\u001b[0m in \u001b[0;36m_do_call\u001b[0;34m(self, fn, *args)\u001b[0m\n\u001b[1;32m   1290\u001b[0m   \u001b[0;32mdef\u001b[0m \u001b[0m_do_call\u001b[0m\u001b[0;34m(\u001b[0m\u001b[0mself\u001b[0m\u001b[0;34m,\u001b[0m \u001b[0mfn\u001b[0m\u001b[0;34m,\u001b[0m \u001b[0;34m*\u001b[0m\u001b[0margs\u001b[0m\u001b[0;34m)\u001b[0m\u001b[0;34m:\u001b[0m\u001b[0;34m\u001b[0m\u001b[0m\n\u001b[1;32m   1291\u001b[0m     \u001b[0;32mtry\u001b[0m\u001b[0;34m:\u001b[0m\u001b[0;34m\u001b[0m\u001b[0m\n\u001b[0;32m-> 1292\u001b[0;31m       \u001b[0;32mreturn\u001b[0m \u001b[0mfn\u001b[0m\u001b[0;34m(\u001b[0m\u001b[0;34m*\u001b[0m\u001b[0margs\u001b[0m\u001b[0;34m)\u001b[0m\u001b[0;34m\u001b[0m\u001b[0m\n\u001b[0m\u001b[1;32m   1293\u001b[0m     \u001b[0;32mexcept\u001b[0m \u001b[0merrors\u001b[0m\u001b[0;34m.\u001b[0m\u001b[0mOpError\u001b[0m \u001b[0;32mas\u001b[0m \u001b[0me\u001b[0m\u001b[0;34m:\u001b[0m\u001b[0;34m\u001b[0m\u001b[0m\n\u001b[1;32m   1294\u001b[0m       \u001b[0mmessage\u001b[0m \u001b[0;34m=\u001b[0m \u001b[0mcompat\u001b[0m\u001b[0;34m.\u001b[0m\u001b[0mas_text\u001b[0m\u001b[0;34m(\u001b[0m\u001b[0me\u001b[0m\u001b[0;34m.\u001b[0m\u001b[0mmessage\u001b[0m\u001b[0;34m)\u001b[0m\u001b[0;34m\u001b[0m\u001b[0m\n",
      "\u001b[0;32m/home/m-isonuma/.pyenv/versions/anaconda2-5.3.0/envs/py2/lib/python2.7/site-packages/tensorflow/python/client/session.pyc\u001b[0m in \u001b[0;36m_run_fn\u001b[0;34m(feed_dict, fetch_list, target_list, options, run_metadata)\u001b[0m\n\u001b[1;32m   1275\u001b[0m       \u001b[0mself\u001b[0m\u001b[0;34m.\u001b[0m\u001b[0m_extend_graph\u001b[0m\u001b[0;34m(\u001b[0m\u001b[0;34m)\u001b[0m\u001b[0;34m\u001b[0m\u001b[0m\n\u001b[1;32m   1276\u001b[0m       return self._call_tf_sessionrun(\n\u001b[0;32m-> 1277\u001b[0;31m           options, feed_dict, fetch_list, target_list, run_metadata)\n\u001b[0m\u001b[1;32m   1278\u001b[0m \u001b[0;34m\u001b[0m\u001b[0m\n\u001b[1;32m   1279\u001b[0m     \u001b[0;32mdef\u001b[0m \u001b[0m_prun_fn\u001b[0m\u001b[0;34m(\u001b[0m\u001b[0mhandle\u001b[0m\u001b[0;34m,\u001b[0m \u001b[0mfeed_dict\u001b[0m\u001b[0;34m,\u001b[0m \u001b[0mfetch_list\u001b[0m\u001b[0;34m)\u001b[0m\u001b[0;34m:\u001b[0m\u001b[0;34m\u001b[0m\u001b[0m\n",
      "\u001b[0;32m/home/m-isonuma/.pyenv/versions/anaconda2-5.3.0/envs/py2/lib/python2.7/site-packages/tensorflow/python/client/session.pyc\u001b[0m in \u001b[0;36m_call_tf_sessionrun\u001b[0;34m(self, options, feed_dict, fetch_list, target_list, run_metadata)\u001b[0m\n\u001b[1;32m   1365\u001b[0m     return tf_session.TF_SessionRun_wrapper(\n\u001b[1;32m   1366\u001b[0m         \u001b[0mself\u001b[0m\u001b[0;34m.\u001b[0m\u001b[0m_session\u001b[0m\u001b[0;34m,\u001b[0m \u001b[0moptions\u001b[0m\u001b[0;34m,\u001b[0m \u001b[0mfeed_dict\u001b[0m\u001b[0;34m,\u001b[0m \u001b[0mfetch_list\u001b[0m\u001b[0;34m,\u001b[0m \u001b[0mtarget_list\u001b[0m\u001b[0;34m,\u001b[0m\u001b[0;34m\u001b[0m\u001b[0m\n\u001b[0;32m-> 1367\u001b[0;31m         run_metadata)\n\u001b[0m\u001b[1;32m   1368\u001b[0m \u001b[0;34m\u001b[0m\u001b[0m\n\u001b[1;32m   1369\u001b[0m   \u001b[0;32mdef\u001b[0m \u001b[0m_call_tf_sessionprun\u001b[0m\u001b[0;34m(\u001b[0m\u001b[0mself\u001b[0m\u001b[0;34m,\u001b[0m \u001b[0mhandle\u001b[0m\u001b[0;34m,\u001b[0m \u001b[0mfeed_dict\u001b[0m\u001b[0;34m,\u001b[0m \u001b[0mfetch_list\u001b[0m\u001b[0;34m)\u001b[0m\u001b[0;34m:\u001b[0m\u001b[0;34m\u001b[0m\u001b[0m\n",
      "\u001b[0;31mKeyboardInterrupt\u001b[0m: "
     ]
    }
   ],
   "source": [
    "losses_train = []\n",
    "loss_log = []\n",
    "rouge_log = []\n",
    "\n",
    "saver = tf.train.Saver(max_to_keep=20)\n",
    "if len(loss_log) == 0:\n",
    "    import subprocess\n",
    "    \n",
    "    cmd_rm = 'rm -r %s' % config.modeldir\n",
    "    res = subprocess.call(cmd_rm.split())\n",
    "\n",
    "    cmd_mk = 'mkdir %s' % config.modeldir\n",
    "    res = subprocess.call(cmd_mk.split())\n",
    "\n",
    "for ct, batch in train_batches:\n",
    "    feed_dict = model.get_feed_dict(batch)\n",
    "    _, loss_train = sess.run([model.opt, model.loss], feed_dict = feed_dict)\n",
    "    losses_train += [loss_train]\n",
    "    if ct%config.log_period==0:\n",
    "        loss_train = np.mean(losses_train)\n",
    "        loss_dev, rouge_dev = evaluate(sess, dev_batches, model, vocab)\n",
    "\n",
    "        if len(rouge_log) == 0:\n",
    "            do_test = True\n",
    "        else:\n",
    "            norm = np.mean(np.array(zip(*rouge_log))[:3], 1)\n",
    "            if 0.0 in norm: norm = np.array([1, 1, 1], dtype=np.float32)\n",
    "            rouge_judge = np.sum(np.array(rouge_dev)/norm)\n",
    "            rouge_max = np.max(np.sum(np.array(zip(*rouge_log))[:3]/norm[:, np.newaxis], 0))\n",
    "            do_test = (rouge_max <= rouge_judge)\n",
    "\n",
    "        if do_test:\n",
    "            loss_test, rouge_test = evaluate(sess, test_batches, model, vocab)\n",
    "            modelpath = os.path.join(config.modeldir, config.modelname)\n",
    "            saver.save(sess, modelpath, global_step=ct)\n",
    "        else:\n",
    "            loss_test = zip(*loss_log)[3][-1]\n",
    "            rouge_test = tuple(np.array(zip(*rouge_log))[3:, -1])\n",
    "\n",
    "        loss_log += [(ct, loss_train, loss_dev, loss_test)]\n",
    "        rouge_log += [rouge_dev + rouge_test]\n",
    "        losses_train = []\n",
    "\n",
    "        clear_output()\n",
    "        for i in range(len(loss_log)): \n",
    "            print 'Step: %i | LOSS TRAIN: %.3f, DEV: %.3f, TEST: %.3f ' %  loss_log[i], \n",
    "            print '| DEV ROUGE-1: %.3f, -2: %.3f, -L: %.3f | TEST ROUGE: -1: %.3f, -2: %.3f, -L: %.3f' % rouge_log[i]\n",
    "#         print_sample(sess, sample_batch, model)\n",
    "\n",
    "def print_log(sess, model, sample_batch, loss_log, rouge_log):\n",
    "    for i in range(len(loss_log)): \n",
    "        print 'Step: %i | LOSS TRAIN: %.3f, DEV: %.3f, TEST: %.3f ' %  loss_log[i], \n",
    "        print '| DEV ROUGE-1: %.3f, -2: %.3f, -L: %.3f | TEST ROUGE: -1: %.3f, -2: %.3f, -L: %.3f' % rouge_log[i]\n",
    "    print_sample(sess, sample_batch, model)"
   ]
  },
  {
   "cell_type": "markdown",
   "metadata": {},
   "source": [
    "# eval.py"
   ]
  },
  {
   "cell_type": "code",
   "execution_count": null,
   "metadata": {},
   "outputs": [],
   "source": [
    "# num_examples,  train_batches, dev_batches, test_batches, embedding_matrix, vocab, word_to_id = load_data(config)"
   ]
  },
  {
   "cell_type": "code",
   "execution_count": 229,
   "metadata": {},
   "outputs": [],
   "source": [
    "def write_files(write_dir, sents_dict):\n",
    "    for idx, sents in sents_dict.items():\n",
    "        file_path = os.path.join(write_dir, \"%04d.txt\" % idx)\n",
    "\n",
    "        f = codecs.open(file_path, mode=\"w\", encoding=\"utf-8\")\n",
    "        for i, sent in enumerate(sents):\n",
    "            f.write(sent) if i==len(sents)-1 else f.write(sent+\"\\n\")\n",
    "\n",
    "        f.close()"
   ]
  },
  {
   "cell_type": "code",
   "execution_count": 230,
   "metadata": {},
   "outputs": [],
   "source": [
    "def write_ref(batches, config):\n",
    "    instances = list(itertools.chain.from_iterable([batch for _, batch in batches]))\n",
    "    ref_sents_dict = {}\n",
    "    for ct, batch in batches:\n",
    "        for instance in batch:\n",
    "            ref_sents = [' '.join(instance.summary_tokens)]\n",
    "            ref_sents_dict[instance.idx] = ref_sents\n",
    "\n",
    "    write_files(config.refdir, ref_sents_dict)"
   ]
  },
  {
   "cell_type": "code",
   "execution_count": 236,
   "metadata": {},
   "outputs": [],
   "source": [
    "def write_out(batches, config, vocab):\n",
    "    with tf.Session() as sess:\n",
    "        ckpt = tf.train.get_checkpoint_state(config.modeldir)\n",
    "        model_path = ckpt.all_model_checkpoint_paths[-1]\n",
    "\n",
    "        saver = tf.train.import_meta_graph(model_path + '.meta')\n",
    "        saver.restore(sess, model_path)\n",
    "\n",
    "        instances = list(itertools.chain.from_iterable([batch for _, batch in batches]))\n",
    "        out_sents_dict = {}\n",
    "        for ct, batch in batches:\n",
    "            feed_dict = model.get_feed_dict(batch, mode='test')\n",
    "            output_token_idxs_batch = sess.run(model.summary_output_token_idxs, feed_dict = feed_dict)\n",
    "            for output_token_idxs, instance in zip(output_token_idxs_batch, batch):\n",
    "                idx = instance.idx\n",
    "                out_sents = get_txt_from_idx(output_token_idxs, model, vocab)\n",
    "                out_sents_dict[idx] = out_sents\n",
    "\n",
    "        write_files(config.outdir, out_sents_dict)"
   ]
  },
  {
   "cell_type": "code",
   "execution_count": 237,
   "metadata": {},
   "outputs": [],
   "source": [
    "write_ref(test_batches, config)"
   ]
  },
  {
   "cell_type": "code",
   "execution_count": 238,
   "metadata": {},
   "outputs": [
    {
     "name": "stdout",
     "output_type": "stream",
     "text": [
      "INFO:tensorflow:Restoring parameters from model/sports-43500\n"
     ]
    }
   ],
   "source": [
    "write_out(test_batches, config, vocab)"
   ]
  }
 ],
 "metadata": {
  "kernelspec": {
   "display_name": "py2",
   "language": "python",
   "name": "py2"
  },
  "language_info": {
   "codemirror_mode": {
    "name": "ipython",
    "version": 2
   },
   "file_extension": ".py",
   "mimetype": "text/x-python",
   "name": "python",
   "nbconvert_exporter": "python",
   "pygments_lexer": "ipython2",
   "version": "2.7.15"
  },
  "toc": {
   "base_numbering": 1,
   "nav_menu": {},
   "number_sections": true,
   "sideBar": true,
   "skip_h1_title": false,
   "title_cell": "Table of Contents",
   "title_sidebar": "Contents",
   "toc_cell": false,
   "toc_position": {},
   "toc_section_display": true,
   "toc_window_display": false
  }
 },
 "nbformat": 4,
 "nbformat_minor": 2
}
